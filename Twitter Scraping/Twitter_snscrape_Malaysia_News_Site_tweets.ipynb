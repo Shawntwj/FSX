{
 "cells": [
  {
   "cell_type": "markdown",
   "id": "11ea7be1",
   "metadata": {},
   "source": [
    "snscrape\n",
    "\n",
    "Ref: https://github.com/JustAnotherArchivist/snscrape"
   ]
  },
  {
   "cell_type": "code",
   "execution_count": 1,
   "id": "b5a5c8df",
   "metadata": {},
   "outputs": [],
   "source": [
    "import snscrape.modules.twitter as sntwitter\n",
    "import pandas as pd"
   ]
  },
  {
   "cell_type": "markdown",
   "id": "0fcc978c",
   "metadata": {},
   "source": [
    "Scraping a specific Twitter user’s tweets\n",
    "\n",
    "Let's use this handle: @KimKardashian\n",
    "\n",
    "Using the code, we can scrape 100 tweets from Twitter user @KimKardashian.\n",
    "We then pulled the DateTime, tweet id, text, and username attributes from the tweet objects."
   ]
  },
  {
   "cell_type": "code",
   "execution_count": 2,
   "id": "9ab6fbee",
   "metadata": {},
   "outputs": [],
   "source": [
    "# Creating list to append tweet data \n",
    "tweets_list1 = []\n",
    "\n",
    "# Using TwitterSearchScraper to scrape data and append tweets to list\n",
    "handle = 'hmetromy'\n",
    "\n",
    "# declare a username \n",
    "for i, tweet in enumerate(sntwitter.TwitterSearchScraper('from:' + handle).get_items()): \n",
    "    if i > 10: #number of tweets you want to scrape\n",
    "        break\n",
    "        \n",
    "    #declare the attributes to be returned\n",
    "    tweets_list1.append([tweet.date, tweet.id, tweet.content, tweet.user.username])\n",
    "    \n",
    "# Creating a dataframe from the tweets list above \n",
    "tweets_df1 = pd.DataFrame(tweets_list1, columns=['Datetime', 'Tweet Id', 'Text', 'Username'])"
   ]
  },
  {
   "cell_type": "code",
   "execution_count": 3,
   "id": "fa55da47",
   "metadata": {},
   "outputs": [
    {
     "data": {
      "text/plain": [
       "(11, 4)"
      ]
     },
     "execution_count": 3,
     "metadata": {},
     "output_type": "execute_result"
    }
   ],
   "source": [
    "tweets_df1.shape"
   ]
  },
  {
   "cell_type": "code",
   "execution_count": 4,
   "id": "ba80190c",
   "metadata": {},
   "outputs": [
    {
     "data": {
      "text/html": [
       "<div>\n",
       "<style scoped>\n",
       "    .dataframe tbody tr th:only-of-type {\n",
       "        vertical-align: middle;\n",
       "    }\n",
       "\n",
       "    .dataframe tbody tr th {\n",
       "        vertical-align: top;\n",
       "    }\n",
       "\n",
       "    .dataframe thead th {\n",
       "        text-align: right;\n",
       "    }\n",
       "</style>\n",
       "<table border=\"1\" class=\"dataframe\">\n",
       "  <thead>\n",
       "    <tr style=\"text-align: right;\">\n",
       "      <th></th>\n",
       "      <th>Datetime</th>\n",
       "      <th>Tweet Id</th>\n",
       "      <th>Text</th>\n",
       "      <th>Username</th>\n",
       "    </tr>\n",
       "  </thead>\n",
       "  <tbody>\n",
       "    <tr>\n",
       "      <th>0</th>\n",
       "      <td>2022-02-17 08:35:55+00:00</td>\n",
       "      <td>1494229109538447362</td>\n",
       "      <td>#petalingjaya Itu helah digunakan seorang wani...</td>\n",
       "      <td>hmetromy</td>\n",
       "    </tr>\n",
       "    <tr>\n",
       "      <th>1</th>\n",
       "      <td>2022-02-17 08:28:30+00:00</td>\n",
       "      <td>1494227242733424642</td>\n",
       "      <td>#ampang Biarpun dirinya menghidap penyakit kro...</td>\n",
       "      <td>hmetromy</td>\n",
       "    </tr>\n",
       "    <tr>\n",
       "      <th>2</th>\n",
       "      <td>2022-02-17 08:25:35+00:00</td>\n",
       "      <td>1494226506591125506</td>\n",
       "      <td>#KualaLumpur Pelawak dan pelakon popular Zizan...</td>\n",
       "      <td>hmetromy</td>\n",
       "    </tr>\n",
       "    <tr>\n",
       "      <th>3</th>\n",
       "      <td>2022-02-17 08:20:56+00:00</td>\n",
       "      <td>1494225338544570368</td>\n",
       "      <td>#kualaterengganu Seorang lelaki terlepas hukum...</td>\n",
       "      <td>hmetromy</td>\n",
       "    </tr>\n",
       "    <tr>\n",
       "      <th>4</th>\n",
       "      <td>2022-02-17 08:13:59+00:00</td>\n",
       "      <td>1494223588748152833</td>\n",
       "      <td>#alorsetar Polis mengesahkan mangsa kes tetak ...</td>\n",
       "      <td>hmetromy</td>\n",
       "    </tr>\n",
       "  </tbody>\n",
       "</table>\n",
       "</div>"
      ],
      "text/plain": [
       "                   Datetime             Tweet Id  \\\n",
       "0 2022-02-17 08:35:55+00:00  1494229109538447362   \n",
       "1 2022-02-17 08:28:30+00:00  1494227242733424642   \n",
       "2 2022-02-17 08:25:35+00:00  1494226506591125506   \n",
       "3 2022-02-17 08:20:56+00:00  1494225338544570368   \n",
       "4 2022-02-17 08:13:59+00:00  1494223588748152833   \n",
       "\n",
       "                                                Text  Username  \n",
       "0  #petalingjaya Itu helah digunakan seorang wani...  hmetromy  \n",
       "1  #ampang Biarpun dirinya menghidap penyakit kro...  hmetromy  \n",
       "2  #KualaLumpur Pelawak dan pelakon popular Zizan...  hmetromy  \n",
       "3  #kualaterengganu Seorang lelaki terlepas hukum...  hmetromy  \n",
       "4  #alorsetar Polis mengesahkan mangsa kes tetak ...  hmetromy  "
      ]
     },
     "execution_count": 4,
     "metadata": {},
     "output_type": "execute_result"
    }
   ],
   "source": [
    "tweets_df1.head()"
   ]
  },
  {
   "cell_type": "markdown",
   "id": "de9d2368",
   "metadata": {},
   "source": [
    "# Translating Malay Tweets to English"
   ]
  },
  {
   "cell_type": "code",
   "execution_count": 5,
   "id": "0ffe5e2c",
   "metadata": {},
   "outputs": [
    {
     "data": {
      "text/html": [
       "<div>\n",
       "<style scoped>\n",
       "    .dataframe tbody tr th:only-of-type {\n",
       "        vertical-align: middle;\n",
       "    }\n",
       "\n",
       "    .dataframe tbody tr th {\n",
       "        vertical-align: top;\n",
       "    }\n",
       "\n",
       "    .dataframe thead th {\n",
       "        text-align: right;\n",
       "    }\n",
       "</style>\n",
       "<table border=\"1\" class=\"dataframe\">\n",
       "  <thead>\n",
       "    <tr style=\"text-align: right;\">\n",
       "      <th></th>\n",
       "      <th>Datetime</th>\n",
       "      <th>Tweet Id</th>\n",
       "      <th>Text</th>\n",
       "      <th>Username</th>\n",
       "      <th>Translated Text</th>\n",
       "    </tr>\n",
       "  </thead>\n",
       "  <tbody>\n",
       "    <tr>\n",
       "      <th>0</th>\n",
       "      <td>2022-02-17 08:35:55+00:00</td>\n",
       "      <td>1494229109538447362</td>\n",
       "      <td>#petalingjaya Itu helah digunakan seorang wani...</td>\n",
       "      <td>hmetromy</td>\n",
       "      <td>#petalingjaya Itu helah digunakan seorang wani...</td>\n",
       "    </tr>\n",
       "    <tr>\n",
       "      <th>1</th>\n",
       "      <td>2022-02-17 08:28:30+00:00</td>\n",
       "      <td>1494227242733424642</td>\n",
       "      <td>#ampang Biarpun dirinya menghidap penyakit kro...</td>\n",
       "      <td>hmetromy</td>\n",
       "      <td>#ampang Biarpun dirinya menghidap penyakit kro...</td>\n",
       "    </tr>\n",
       "    <tr>\n",
       "      <th>2</th>\n",
       "      <td>2022-02-17 08:25:35+00:00</td>\n",
       "      <td>1494226506591125506</td>\n",
       "      <td>#KualaLumpur Pelawak dan pelakon popular Zizan...</td>\n",
       "      <td>hmetromy</td>\n",
       "      <td>#KualaLumpur Pelawak dan pelakon popular Zizan...</td>\n",
       "    </tr>\n",
       "    <tr>\n",
       "      <th>3</th>\n",
       "      <td>2022-02-17 08:20:56+00:00</td>\n",
       "      <td>1494225338544570368</td>\n",
       "      <td>#kualaterengganu Seorang lelaki terlepas hukum...</td>\n",
       "      <td>hmetromy</td>\n",
       "      <td>#kualaterengganu Seorang lelaki terlepas hukum...</td>\n",
       "    </tr>\n",
       "    <tr>\n",
       "      <th>4</th>\n",
       "      <td>2022-02-17 08:13:59+00:00</td>\n",
       "      <td>1494223588748152833</td>\n",
       "      <td>#alorsetar Polis mengesahkan mangsa kes tetak ...</td>\n",
       "      <td>hmetromy</td>\n",
       "      <td>#alorsetar Polis mengesahkan mangsa kes tetak ...</td>\n",
       "    </tr>\n",
       "  </tbody>\n",
       "</table>\n",
       "</div>"
      ],
      "text/plain": [
       "                   Datetime             Tweet Id  \\\n",
       "0 2022-02-17 08:35:55+00:00  1494229109538447362   \n",
       "1 2022-02-17 08:28:30+00:00  1494227242733424642   \n",
       "2 2022-02-17 08:25:35+00:00  1494226506591125506   \n",
       "3 2022-02-17 08:20:56+00:00  1494225338544570368   \n",
       "4 2022-02-17 08:13:59+00:00  1494223588748152833   \n",
       "\n",
       "                                                Text  Username  \\\n",
       "0  #petalingjaya Itu helah digunakan seorang wani...  hmetromy   \n",
       "1  #ampang Biarpun dirinya menghidap penyakit kro...  hmetromy   \n",
       "2  #KualaLumpur Pelawak dan pelakon popular Zizan...  hmetromy   \n",
       "3  #kualaterengganu Seorang lelaki terlepas hukum...  hmetromy   \n",
       "4  #alorsetar Polis mengesahkan mangsa kes tetak ...  hmetromy   \n",
       "\n",
       "                                     Translated Text  \n",
       "0  #petalingjaya Itu helah digunakan seorang wani...  \n",
       "1  #ampang Biarpun dirinya menghidap penyakit kro...  \n",
       "2  #KualaLumpur Pelawak dan pelakon popular Zizan...  \n",
       "3  #kualaterengganu Seorang lelaki terlepas hukum...  \n",
       "4  #alorsetar Polis mengesahkan mangsa kes tetak ...  "
      ]
     },
     "execution_count": 5,
     "metadata": {},
     "output_type": "execute_result"
    }
   ],
   "source": [
    "from googletrans import Translator\n",
    "import pandas as pd\n",
    "translator = Translator()\n",
    "\n",
    "\n",
    "\n",
    "tweets_df1['Translated Text'] = tweets_df1['Text'].apply(translator.translate,src='ms',dest='en').apply(getattr,args=('text',))\n",
    "\n",
    "tweets_df1.head()"
   ]
  },
  {
   "cell_type": "code",
   "execution_count": 7,
   "id": "5551e561",
   "metadata": {},
   "outputs": [
    {
     "name": "stdout",
     "output_type": "stream",
     "text": [
      "Translated(src=en, dest=en, text=Mitä sinä teet, pronunciation=Mitä sinä teet, extra_data=\"{'translat...\")\n"
     ]
    }
   ],
   "source": [
    "result = translator.translate('Mitä sinä teet' , dest='en')\n",
    "\n",
    "print(result)"
   ]
  },
  {
   "cell_type": "code",
   "execution_count": 6,
   "id": "ea16fe32",
   "metadata": {},
   "outputs": [
    {
     "name": "stdout",
     "output_type": "stream",
     "text": [
      "Wie gehts ? (en) --> Wie gehts ? (en)\n"
     ]
    }
   ],
   "source": [
    "translation = translator.translate(\"Wie gehts ?\", src=\"de\")\n",
    "print(f\"{translation.origin} ({translation.src}) --> {translation.text} ({translation.dest})\")\n"
   ]
  },
  {
   "cell_type": "code",
   "execution_count": 9,
   "id": "a350e178",
   "metadata": {},
   "outputs": [
    {
     "name": "stdout",
     "output_type": "stream",
     "text": [
      "Hola Mundo (en) --> Hola Mundo (en)\n"
     ]
    }
   ],
   "source": [
    "translation = translator.translate(\"Hola Mundo\", src=\"es\")\n",
    "print(f\"{translation.origin} ({translation.src}) --> {translation.text} ({translation.dest})\")"
   ]
  },
  {
   "cell_type": "markdown",
   "id": "a65fea90",
   "metadata": {},
   "source": [
    "# Saving Tweet Dataframe to a CSV file"
   ]
  },
  {
   "cell_type": "code",
   "execution_count": null,
   "id": "55ce38cd",
   "metadata": {},
   "outputs": [],
   "source": [
    "tweets_df1.to_csv(\"hmetromy_tweets.csv\", index = False)"
   ]
  },
  {
   "cell_type": "markdown",
   "id": "b2e433b8",
   "metadata": {},
   "source": [
    "# Twint "
   ]
  },
  {
   "cell_type": "code",
   "execution_count": null,
   "id": "c97228f7",
   "metadata": {},
   "outputs": [],
   "source": [
    "import pandas as pd\n",
    "import twint\n",
    "import nest_asyncio\n",
    "nest_asyncio.apply()\n",
    "  \n",
    "t = twint.Config()\n",
    "\n",
    "# t.Username = 'POTUS'\n",
    "# t.Search = 'Potato'\n",
    "# t.Geo = \"1.290270,103.851959,15km\"\n",
    "t.Username = \"hmetromy\"\n",
    "\n",
    "t.Since=\"2022-01-01\"\n",
    "# t.Until=\"2021-09-11\"\n",
    "\n",
    "# t.Limit = 10 \n",
    "\n",
    "t.Lang = \"en\"\n",
    "    \n",
    "t.Filter_retweets = True \n",
    "\n",
    "t.Store_csv = True\n",
    "t.Output = \"hmetromy_tweets.csv\"\n",
    "\n",
    "t.Pandas = True\n",
    "\n",
    "t.Custom[\"tweet\"] = [\"tweet\", \"username\", \"date\", \"time\", \"likes_count\"]\n",
    "\n",
    "twint.run.Search(t)"
   ]
  },
  {
   "cell_type": "markdown",
   "id": "4b3e2d34",
   "metadata": {},
   "source": [
    "# Tweepy"
   ]
  },
  {
   "cell_type": "code",
   "execution_count": null,
   "id": "31c51102",
   "metadata": {},
   "outputs": [],
   "source": []
  },
  {
   "cell_type": "code",
   "execution_count": null,
   "id": "874f864b",
   "metadata": {},
   "outputs": [],
   "source": []
  },
  {
   "cell_type": "code",
   "execution_count": null,
   "id": "0dabf94c",
   "metadata": {},
   "outputs": [],
   "source": []
  },
  {
   "cell_type": "code",
   "execution_count": null,
   "id": "d7467174",
   "metadata": {},
   "outputs": [],
   "source": []
  }
 ],
 "metadata": {
  "kernelspec": {
   "display_name": "Python 3",
   "language": "python",
   "name": "python3"
  },
  "language_info": {
   "codemirror_mode": {
    "name": "ipython",
    "version": 3
   },
   "file_extension": ".py",
   "mimetype": "text/x-python",
   "name": "python",
   "nbconvert_exporter": "python",
   "pygments_lexer": "ipython3",
   "version": "3.8.8"
  }
 },
 "nbformat": 4,
 "nbformat_minor": 5
}
