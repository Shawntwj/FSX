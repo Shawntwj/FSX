{
 "cells": [
  {
   "cell_type": "markdown",
   "id": "11ea7be1",
   "metadata": {},
   "source": [
    "snscrape\n",
    "\n",
    "Ref: https://github.com/JustAnotherArchivist/snscrape"
   ]
  },
  {
   "cell_type": "code",
   "execution_count": 1,
   "id": "b5a5c8df",
   "metadata": {},
   "outputs": [],
   "source": [
    "import snscrape.modules.twitter as sntwitter\n",
    "import pandas as pd"
   ]
  },
  {
   "cell_type": "code",
   "execution_count": 8,
   "id": "9ab6fbee",
   "metadata": {},
   "outputs": [],
   "source": [
    "# Creating list to append tweet data \n",
    "tweets_list1 = []\n",
    "\n",
    "# Using TwitterSearchScraper to scrape data and append tweets to list\n",
    "handle = 'hmetromy'\n",
    "\n",
    "# declare a username \n",
    "for i, tweet in enumerate(sntwitter.TwitterSearchScraper('from:' + handle).get_items()): \n",
    "    if i > 2000: #number of tweets you want to scrape\n",
    "        break\n",
    "        \n",
    "    #declare the attributes to be returned\n",
    "    tweets_list1.append([tweet.date, tweet.id, tweet.content, tweet.user.username])\n",
    "    \n",
    "# Creating a dataframe from the tweets list above \n",
    "tweets_df1 = pd.DataFrame(tweets_list1, columns=['Datetime', 'Tweet Id', 'Text', 'Username'])"
   ]
  },
  {
   "cell_type": "code",
   "execution_count": 9,
   "id": "fa55da47",
   "metadata": {},
   "outputs": [
    {
     "data": {
      "text/plain": [
       "(2001, 4)"
      ]
     },
     "execution_count": 9,
     "metadata": {},
     "output_type": "execute_result"
    }
   ],
   "source": [
    "tweets_df1.shape"
   ]
  },
  {
   "cell_type": "code",
   "execution_count": 10,
   "id": "ba80190c",
   "metadata": {},
   "outputs": [
    {
     "data": {
      "text/html": [
       "<div>\n",
       "<style scoped>\n",
       "    .dataframe tbody tr th:only-of-type {\n",
       "        vertical-align: middle;\n",
       "    }\n",
       "\n",
       "    .dataframe tbody tr th {\n",
       "        vertical-align: top;\n",
       "    }\n",
       "\n",
       "    .dataframe thead th {\n",
       "        text-align: right;\n",
       "    }\n",
       "</style>\n",
       "<table border=\"1\" class=\"dataframe\">\n",
       "  <thead>\n",
       "    <tr style=\"text-align: right;\">\n",
       "      <th></th>\n",
       "      <th>Datetime</th>\n",
       "      <th>Tweet Id</th>\n",
       "      <th>Text</th>\n",
       "      <th>Username</th>\n",
       "    </tr>\n",
       "  </thead>\n",
       "  <tbody>\n",
       "    <tr>\n",
       "      <th>0</th>\n",
       "      <td>2022-02-18 06:00:20+00:00</td>\n",
       "      <td>1494552340694814728</td>\n",
       "      <td>#KotaBharu Kehilangan wanita berusia 26 tahun ...</td>\n",
       "      <td>hmetromy</td>\n",
       "    </tr>\n",
       "    <tr>\n",
       "      <th>1</th>\n",
       "      <td>2022-02-18 05:59:17+00:00</td>\n",
       "      <td>1494552077481267203</td>\n",
       "      <td>#Baling Kisah Ismaniza Fahida, 40, tular baru-...</td>\n",
       "      <td>hmetromy</td>\n",
       "    </tr>\n",
       "    <tr>\n",
       "      <th>2</th>\n",
       "      <td>2022-02-18 05:31:03+00:00</td>\n",
       "      <td>1494544971566915585</td>\n",
       "      <td>#JohorBahru Presiden AMANAH, Mohamad Sabu berk...</td>\n",
       "      <td>hmetromy</td>\n",
       "    </tr>\n",
       "    <tr>\n",
       "      <th>3</th>\n",
       "      <td>2022-02-18 05:05:18+00:00</td>\n",
       "      <td>1494538494508687402</td>\n",
       "      <td>#KualaLumpur Mahkamah memerintahkan tertuduh d...</td>\n",
       "      <td>hmetromy</td>\n",
       "    </tr>\n",
       "    <tr>\n",
       "      <th>4</th>\n",
       "      <td>2022-02-18 05:04:22+00:00</td>\n",
       "      <td>1494538257333379087</td>\n",
       "      <td>#Pitas Eddword berkata, jambatan gantung itu j...</td>\n",
       "      <td>hmetromy</td>\n",
       "    </tr>\n",
       "  </tbody>\n",
       "</table>\n",
       "</div>"
      ],
      "text/plain": [
       "                   Datetime             Tweet Id  \\\n",
       "0 2022-02-18 06:00:20+00:00  1494552340694814728   \n",
       "1 2022-02-18 05:59:17+00:00  1494552077481267203   \n",
       "2 2022-02-18 05:31:03+00:00  1494544971566915585   \n",
       "3 2022-02-18 05:05:18+00:00  1494538494508687402   \n",
       "4 2022-02-18 05:04:22+00:00  1494538257333379087   \n",
       "\n",
       "                                                Text  Username  \n",
       "0  #KotaBharu Kehilangan wanita berusia 26 tahun ...  hmetromy  \n",
       "1  #Baling Kisah Ismaniza Fahida, 40, tular baru-...  hmetromy  \n",
       "2  #JohorBahru Presiden AMANAH, Mohamad Sabu berk...  hmetromy  \n",
       "3  #KualaLumpur Mahkamah memerintahkan tertuduh d...  hmetromy  \n",
       "4  #Pitas Eddword berkata, jambatan gantung itu j...  hmetromy  "
      ]
     },
     "execution_count": 10,
     "metadata": {},
     "output_type": "execute_result"
    }
   ],
   "source": [
    "tweets_df1.head()"
   ]
  },
  {
   "cell_type": "markdown",
   "id": "de9d2368",
   "metadata": {},
   "source": [
    "# Translating Malay Tweets to English"
   ]
  },
  {
   "cell_type": "code",
   "execution_count": 5,
   "id": "9f71dca7",
   "metadata": {},
   "outputs": [
    {
     "name": "stdout",
     "output_type": "stream",
     "text": [
      "Requirement already satisfied: googletrans==3.1.0a0 in c:\\users\\darren\\anaconda3\\lib\\site-packages (3.1.0a0)\n",
      "Requirement already satisfied: httpx==0.13.3 in c:\\users\\darren\\anaconda3\\lib\\site-packages (from googletrans==3.1.0a0) (0.13.3)\n",
      "Requirement already satisfied: chardet==3.* in c:\\users\\darren\\anaconda3\\lib\\site-packages (from httpx==0.13.3->googletrans==3.1.0a0) (3.0.4)\n",
      "Requirement already satisfied: hstspreload in c:\\users\\darren\\anaconda3\\lib\\site-packages (from httpx==0.13.3->googletrans==3.1.0a0) (2021.12.1)\n",
      "Requirement already satisfied: sniffio in c:\\users\\darren\\anaconda3\\lib\\site-packages (from httpx==0.13.3->googletrans==3.1.0a0) (1.2.0)\n",
      "Requirement already satisfied: httpcore==0.9.* in c:\\users\\darren\\anaconda3\\lib\\site-packages (from httpx==0.13.3->googletrans==3.1.0a0) (0.9.1)\n",
      "Requirement already satisfied: certifi in c:\\users\\darren\\anaconda3\\lib\\site-packages (from httpx==0.13.3->googletrans==3.1.0a0) (2020.12.5)\n",
      "Requirement already satisfied: rfc3986<2,>=1.3 in c:\\users\\darren\\anaconda3\\lib\\site-packages (from httpx==0.13.3->googletrans==3.1.0a0) (1.5.0)\n",
      "Requirement already satisfied: idna==2.* in c:\\users\\darren\\anaconda3\\lib\\site-packages (from httpx==0.13.3->googletrans==3.1.0a0) (2.10)\n",
      "Requirement already satisfied: h2==3.* in c:\\users\\darren\\anaconda3\\lib\\site-packages (from httpcore==0.9.*->httpx==0.13.3->googletrans==3.1.0a0) (3.2.0)\n",
      "Requirement already satisfied: h11<0.10,>=0.8 in c:\\users\\darren\\anaconda3\\lib\\site-packages (from httpcore==0.9.*->httpx==0.13.3->googletrans==3.1.0a0) (0.9.0)\n",
      "Requirement already satisfied: hyperframe<6,>=5.2.0 in c:\\users\\darren\\anaconda3\\lib\\site-packages (from h2==3.*->httpcore==0.9.*->httpx==0.13.3->googletrans==3.1.0a0) (5.2.0)\n",
      "Requirement already satisfied: hpack<4,>=3.0 in c:\\users\\darren\\anaconda3\\lib\\site-packages (from h2==3.*->httpcore==0.9.*->httpx==0.13.3->googletrans==3.1.0a0) (3.0.0)\n"
     ]
    }
   ],
   "source": [
    "!pip install googletrans==3.1.0a0"
   ]
  },
  {
   "cell_type": "code",
   "execution_count": 11,
   "id": "0ffe5e2c",
   "metadata": {},
   "outputs": [
    {
     "data": {
      "text/html": [
       "<div>\n",
       "<style scoped>\n",
       "    .dataframe tbody tr th:only-of-type {\n",
       "        vertical-align: middle;\n",
       "    }\n",
       "\n",
       "    .dataframe tbody tr th {\n",
       "        vertical-align: top;\n",
       "    }\n",
       "\n",
       "    .dataframe thead th {\n",
       "        text-align: right;\n",
       "    }\n",
       "</style>\n",
       "<table border=\"1\" class=\"dataframe\">\n",
       "  <thead>\n",
       "    <tr style=\"text-align: right;\">\n",
       "      <th></th>\n",
       "      <th>Datetime</th>\n",
       "      <th>Tweet Id</th>\n",
       "      <th>Text</th>\n",
       "      <th>Username</th>\n",
       "      <th>Translated Text</th>\n",
       "    </tr>\n",
       "  </thead>\n",
       "  <tbody>\n",
       "    <tr>\n",
       "      <th>0</th>\n",
       "      <td>2022-02-18 06:00:20+00:00</td>\n",
       "      <td>1494552340694814728</td>\n",
       "      <td>#KotaBharu Kehilangan wanita berusia 26 tahun ...</td>\n",
       "      <td>hmetromy</td>\n",
       "      <td>#KotaBharu The 26 -year -old woman's disappear...</td>\n",
       "    </tr>\n",
       "    <tr>\n",
       "      <th>1</th>\n",
       "      <td>2022-02-18 05:59:17+00:00</td>\n",
       "      <td>1494552077481267203</td>\n",
       "      <td>#Baling Kisah Ismaniza Fahida, 40, tular baru-...</td>\n",
       "      <td>hmetromy</td>\n",
       "      <td>#Baling Kisah Ismaniza Fahida, 40, became infe...</td>\n",
       "    </tr>\n",
       "    <tr>\n",
       "      <th>2</th>\n",
       "      <td>2022-02-18 05:31:03+00:00</td>\n",
       "      <td>1494544971566915585</td>\n",
       "      <td>#JohorBahru Presiden AMANAH, Mohamad Sabu berk...</td>\n",
       "      <td>hmetromy</td>\n",
       "      <td>#JohorBahru AMANAH President, Mohamad Sabu sai...</td>\n",
       "    </tr>\n",
       "    <tr>\n",
       "      <th>3</th>\n",
       "      <td>2022-02-18 05:05:18+00:00</td>\n",
       "      <td>1494538494508687402</td>\n",
       "      <td>#KualaLumpur Mahkamah memerintahkan tertuduh d...</td>\n",
       "      <td>hmetromy</td>\n",
       "      <td>#KualaLumpur The court ordered the accused to ...</td>\n",
       "    </tr>\n",
       "    <tr>\n",
       "      <th>4</th>\n",
       "      <td>2022-02-18 05:04:22+00:00</td>\n",
       "      <td>1494538257333379087</td>\n",
       "      <td>#Pitas Eddword berkata, jambatan gantung itu j...</td>\n",
       "      <td>hmetromy</td>\n",
       "      <td>#Pitas Eddword said, the suspension bridge is ...</td>\n",
       "    </tr>\n",
       "  </tbody>\n",
       "</table>\n",
       "</div>"
      ],
      "text/plain": [
       "                   Datetime             Tweet Id  \\\n",
       "0 2022-02-18 06:00:20+00:00  1494552340694814728   \n",
       "1 2022-02-18 05:59:17+00:00  1494552077481267203   \n",
       "2 2022-02-18 05:31:03+00:00  1494544971566915585   \n",
       "3 2022-02-18 05:05:18+00:00  1494538494508687402   \n",
       "4 2022-02-18 05:04:22+00:00  1494538257333379087   \n",
       "\n",
       "                                                Text  Username  \\\n",
       "0  #KotaBharu Kehilangan wanita berusia 26 tahun ...  hmetromy   \n",
       "1  #Baling Kisah Ismaniza Fahida, 40, tular baru-...  hmetromy   \n",
       "2  #JohorBahru Presiden AMANAH, Mohamad Sabu berk...  hmetromy   \n",
       "3  #KualaLumpur Mahkamah memerintahkan tertuduh d...  hmetromy   \n",
       "4  #Pitas Eddword berkata, jambatan gantung itu j...  hmetromy   \n",
       "\n",
       "                                     Translated Text  \n",
       "0  #KotaBharu The 26 -year -old woman's disappear...  \n",
       "1  #Baling Kisah Ismaniza Fahida, 40, became infe...  \n",
       "2  #JohorBahru AMANAH President, Mohamad Sabu sai...  \n",
       "3  #KualaLumpur The court ordered the accused to ...  \n",
       "4  #Pitas Eddword said, the suspension bridge is ...  "
      ]
     },
     "execution_count": 11,
     "metadata": {},
     "output_type": "execute_result"
    }
   ],
   "source": [
    "from googletrans import Translator\n",
    "import pandas as pd\n",
    "translator = Translator()\n",
    "\n",
    "\n",
    "\n",
    "tweets_df1['Translated Text'] = tweets_df1['Text'].apply(translator.translate,src='ms',dest='en').apply(getattr,args=('text',))\n",
    "\n",
    "tweets_df1.head()"
   ]
  },
  {
   "cell_type": "code",
   "execution_count": null,
   "id": "5551e561",
   "metadata": {},
   "outputs": [],
   "source": [
    "result = translator.translate('Mitä sinä teet' , dest='en')\n",
    "\n",
    "print(result)"
   ]
  },
  {
   "cell_type": "code",
   "execution_count": null,
   "id": "ea16fe32",
   "metadata": {},
   "outputs": [],
   "source": [
    "translation = translator.translate(\"Wie gehts ?\", src=\"de\")\n",
    "print(f\"{translation.origin} ({translation.src}) --> {translation.text} ({translation.dest})\")\n"
   ]
  },
  {
   "cell_type": "code",
   "execution_count": null,
   "id": "a350e178",
   "metadata": {},
   "outputs": [],
   "source": [
    "translation = translator.translate(\"Hola Mundo\", src=\"es\")\n",
    "print(f\"{translation.origin} ({translation.src}) --> {translation.text} ({translation.dest})\")"
   ]
  },
  {
   "cell_type": "markdown",
   "id": "a65fea90",
   "metadata": {},
   "source": [
    "# Saving Tweet Dataframe to a CSV file"
   ]
  },
  {
   "cell_type": "code",
   "execution_count": 12,
   "id": "55ce38cd",
   "metadata": {},
   "outputs": [],
   "source": [
    "tweets_df1.to_csv(\"hmetromy_tweets.csv\", index = False)"
   ]
  },
  {
   "cell_type": "markdown",
   "id": "b2e433b8",
   "metadata": {},
   "source": [
    "# Twint "
   ]
  },
  {
   "cell_type": "code",
   "execution_count": null,
   "id": "c97228f7",
   "metadata": {},
   "outputs": [],
   "source": [
    "import pandas as pd\n",
    "import twint\n",
    "import nest_asyncio\n",
    "nest_asyncio.apply()\n",
    "  \n",
    "t = twint.Config()\n",
    "\n",
    "# t.Username = 'POTUS'\n",
    "# t.Search = 'Potato'\n",
    "# t.Geo = \"1.290270,103.851959,15km\"\n",
    "t.Username = \"hmetromy\"\n",
    "\n",
    "t.Since=\"2022-01-01\"\n",
    "# t.Until=\"2021-09-11\"\n",
    "\n",
    "# t.Limit = 10 \n",
    "\n",
    "t.Lang = \"en\"\n",
    "    \n",
    "t.Filter_retweets = True \n",
    "\n",
    "t.Store_csv = True\n",
    "t.Output = \"hmetromy_tweets.csv\"\n",
    "\n",
    "t.Pandas = True\n",
    "\n",
    "t.Custom[\"tweet\"] = [\"tweet\", \"username\", \"date\", \"time\", \"likes_count\"]\n",
    "\n",
    "twint.run.Search(t)"
   ]
  },
  {
   "cell_type": "markdown",
   "id": "4b3e2d34",
   "metadata": {},
   "source": [
    "# Tweepy"
   ]
  },
  {
   "cell_type": "code",
   "execution_count": null,
   "id": "31c51102",
   "metadata": {},
   "outputs": [],
   "source": []
  },
  {
   "cell_type": "code",
   "execution_count": null,
   "id": "874f864b",
   "metadata": {},
   "outputs": [],
   "source": []
  },
  {
   "cell_type": "code",
   "execution_count": null,
   "id": "0dabf94c",
   "metadata": {},
   "outputs": [],
   "source": []
  },
  {
   "cell_type": "code",
   "execution_count": null,
   "id": "d7467174",
   "metadata": {},
   "outputs": [],
   "source": []
  }
 ],
 "metadata": {
  "kernelspec": {
   "display_name": "Python 3 (ipykernel)",
   "language": "python",
   "name": "python3"
  },
  "language_info": {
   "codemirror_mode": {
    "name": "ipython",
    "version": 3
   },
   "file_extension": ".py",
   "mimetype": "text/x-python",
   "name": "python",
   "nbconvert_exporter": "python",
   "pygments_lexer": "ipython3",
   "version": "3.8.8"
  }
 },
 "nbformat": 4,
 "nbformat_minor": 5
}
