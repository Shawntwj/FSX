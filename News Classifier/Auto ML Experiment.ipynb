{
 "cells": [
  {
   "cell_type": "code",
   "execution_count": 1,
   "metadata": {},
   "outputs": [
    {
     "name": "stdout",
     "output_type": "stream",
     "text": [
      "test\n"
     ]
    }
   ],
   "source": [
    "print('test')"
   ]
  },
  {
   "cell_type": "code",
   "execution_count": 11,
   "metadata": {},
   "outputs": [
    {
     "name": "stderr",
     "output_type": "stream",
     "text": [
      "WARNING: Ignoring invalid distribution -umpy (c:\\users\\jonat\\anaconda3\\lib\\site-packages)\n",
      "WARNING: Ignoring invalid distribution -ffi (c:\\users\\jonat\\anaconda3\\lib\\site-packages)\n",
      "WARNING: Ignoring invalid distribution -umpy (c:\\users\\jonat\\anaconda3\\lib\\site-packages)\n",
      "WARNING: Ignoring invalid distribution -ffi (c:\\users\\jonat\\anaconda3\\lib\\site-packages)\n",
      "ERROR: Could not find a version that satisfies the requirement autosklearn (from versions: none)\n",
      "ERROR: No matching distribution found for autosklearn\n",
      "WARNING: Ignoring invalid distribution -umpy (c:\\users\\jonat\\anaconda3\\lib\\site-packages)\n",
      "WARNING: Ignoring invalid distribution -ffi (c:\\users\\jonat\\anaconda3\\lib\\site-packages)\n",
      "WARNING: Ignoring invalid distribution -umpy (c:\\users\\jonat\\anaconda3\\lib\\site-packages)\n",
      "WARNING: Ignoring invalid distribution -ffi (c:\\users\\jonat\\anaconda3\\lib\\site-packages)\n",
      "WARNING: Ignoring invalid distribution -umpy (c:\\users\\jonat\\anaconda3\\lib\\site-packages)\n",
      "WARNING: Ignoring invalid distribution -ffi (c:\\users\\jonat\\anaconda3\\lib\\site-packages)\n",
      "WARNING: You are using pip version 21.3.1; however, version 22.0.3 is available.\n",
      "You should consider upgrading via the 'c:\\users\\jonat\\anaconda3\\python.exe -m pip install --upgrade pip' command.\n"
     ]
    }
   ],
   "source": [
    "#!pip3 install auto-sklearn\n",
    "#!pip install autosklearn\n",
    "#!pip install hyperopt"
   ]
  },
  {
   "cell_type": "code",
   "execution_count": 14,
   "metadata": {},
   "outputs": [
    {
     "name": "stdout",
     "output_type": "stream",
     "text": [
      "Collecting TPOT\n",
      "  Downloading TPOT-0.11.7-py3-none-any.whl (87 kB)\n",
      "Collecting deap>=1.2\n",
      "  Downloading deap-1.3.1-cp37-cp37m-win_amd64.whl (108 kB)\n",
      "Requirement already satisfied: scipy>=1.3.1 in c:\\users\\jonat\\anaconda3\\lib\\site-packages (from TPOT) (1.3.2)\n",
      "Requirement already satisfied: numpy>=1.16.3 in c:\\users\\jonat\\anaconda3\\lib\\site-packages (from TPOT) (1.21.2)\n",
      "Collecting xgboost>=1.1.0\n",
      "  Downloading xgboost-1.5.2-py3-none-win_amd64.whl (106.6 MB)\n",
      "Requirement already satisfied: tqdm>=4.36.1 in c:\\users\\jonat\\anaconda3\\lib\\site-packages (from TPOT) (4.42.0)\n",
      "Collecting update-checker>=0.16\n",
      "  Downloading update_checker-0.18.0-py3-none-any.whl (7.0 kB)\n",
      "Requirement already satisfied: joblib>=0.13.2 in c:\\users\\jonat\\anaconda3\\lib\\site-packages (from TPOT) (0.14.1)\n",
      "Requirement already satisfied: pandas>=0.24.2 in c:\\users\\jonat\\anaconda3\\lib\\site-packages (from TPOT) (1.2.0)\n",
      "Collecting stopit>=1.1.1\n",
      "  Downloading stopit-1.1.2.tar.gz (18 kB)\n",
      "  Preparing metadata (setup.py): started\n",
      "  Preparing metadata (setup.py): finished with status 'done'\n",
      "Requirement already satisfied: scikit-learn>=0.22.0 in c:\\users\\jonat\\anaconda3\\lib\\site-packages (from TPOT) (0.22.1)\n",
      "Requirement already satisfied: pytz>=2017.3 in c:\\users\\jonat\\anaconda3\\lib\\site-packages (from pandas>=0.24.2->TPOT) (2019.3)\n",
      "Requirement already satisfied: python-dateutil>=2.7.3 in c:\\users\\jonat\\anaconda3\\lib\\site-packages (from pandas>=0.24.2->TPOT) (2.8.1)\n",
      "Requirement already satisfied: requests>=2.3.0 in c:\\users\\jonat\\anaconda3\\lib\\site-packages (from update-checker>=0.16->TPOT) (2.22.0)\n",
      "Requirement already satisfied: six>=1.5 in c:\\users\\jonat\\anaconda3\\lib\\site-packages (from python-dateutil>=2.7.3->pandas>=0.24.2->TPOT) (1.14.0)\n",
      "Requirement already satisfied: certifi>=2017.4.17 in c:\\users\\jonat\\anaconda3\\lib\\site-packages (from requests>=2.3.0->update-checker>=0.16->TPOT) (2020.12.5)\n",
      "Requirement already satisfied: idna<2.9,>=2.5 in c:\\users\\jonat\\anaconda3\\lib\\site-packages (from requests>=2.3.0->update-checker>=0.16->TPOT) (2.8)\n",
      "Requirement already satisfied: chardet<3.1.0,>=3.0.2 in c:\\users\\jonat\\anaconda3\\lib\\site-packages (from requests>=2.3.0->update-checker>=0.16->TPOT) (3.0.4)\n",
      "Requirement already satisfied: urllib3!=1.25.0,!=1.25.1,<1.26,>=1.21.1 in c:\\users\\jonat\\anaconda3\\lib\\site-packages (from requests>=2.3.0->update-checker>=0.16->TPOT) (1.25.11)\n",
      "Building wheels for collected packages: stopit\n",
      "  Building wheel for stopit (setup.py): started\n",
      "  Building wheel for stopit (setup.py): finished with status 'done'\n",
      "  Created wheel for stopit: filename=stopit-1.1.2-py3-none-any.whl size=11959 sha256=488635ea9f2280564439a59a7ec5c7871de2c42b2c34cb33113021f620b3f087\n",
      "  Stored in directory: c:\\users\\jonat\\appdata\\local\\pip\\cache\\wheels\\e2\\d2\\79\\eaf81edb391e27c87f51b8ef901ecc85a5363dc96b8b8d71e3\n",
      "Successfully built stopit\n",
      "Installing collected packages: xgboost, update-checker, stopit, deap, TPOT\n",
      "Successfully installed TPOT-0.11.7 deap-1.3.1 stopit-1.1.2 update-checker-0.18.0 xgboost-1.5.2\n"
     ]
    },
    {
     "name": "stderr",
     "output_type": "stream",
     "text": [
      "WARNING: Ignoring invalid distribution -umpy (c:\\users\\jonat\\anaconda3\\lib\\site-packages)\n",
      "WARNING: Ignoring invalid distribution -ffi (c:\\users\\jonat\\anaconda3\\lib\\site-packages)\n",
      "WARNING: Ignoring invalid distribution -umpy (c:\\users\\jonat\\anaconda3\\lib\\site-packages)\n",
      "WARNING: Ignoring invalid distribution -ffi (c:\\users\\jonat\\anaconda3\\lib\\site-packages)\n",
      "WARNING: Ignoring invalid distribution -umpy (c:\\users\\jonat\\anaconda3\\lib\\site-packages)\n",
      "WARNING: Ignoring invalid distribution -ffi (c:\\users\\jonat\\anaconda3\\lib\\site-packages)\n",
      "WARNING: Ignoring invalid distribution -umpy (c:\\users\\jonat\\anaconda3\\lib\\site-packages)\n",
      "WARNING: Ignoring invalid distribution -ffi (c:\\users\\jonat\\anaconda3\\lib\\site-packages)\n",
      "WARNING: Ignoring invalid distribution -umpy (c:\\users\\jonat\\anaconda3\\lib\\site-packages)\n",
      "WARNING: Ignoring invalid distribution -ffi (c:\\users\\jonat\\anaconda3\\lib\\site-packages)\n",
      "WARNING: Ignoring invalid distribution -umpy (c:\\users\\jonat\\anaconda3\\lib\\site-packages)\n",
      "WARNING: Ignoring invalid distribution -ffi (c:\\users\\jonat\\anaconda3\\lib\\site-packages)\n",
      "WARNING: Ignoring invalid distribution -umpy (c:\\users\\jonat\\anaconda3\\lib\\site-packages)\n",
      "WARNING: Ignoring invalid distribution -ffi (c:\\users\\jonat\\anaconda3\\lib\\site-packages)\n",
      "WARNING: Ignoring invalid distribution -umpy (c:\\users\\jonat\\anaconda3\\lib\\site-packages)\n",
      "WARNING: Ignoring invalid distribution -ffi (c:\\users\\jonat\\anaconda3\\lib\\site-packages)\n",
      "WARNING: Ignoring invalid distribution -umpy (c:\\users\\jonat\\anaconda3\\lib\\site-packages)\n",
      "WARNING: Ignoring invalid distribution -ffi (c:\\users\\jonat\\anaconda3\\lib\\site-packages)\n",
      "WARNING: Ignoring invalid distribution -umpy (c:\\users\\jonat\\anaconda3\\lib\\site-packages)\n",
      "WARNING: Ignoring invalid distribution -ffi (c:\\users\\jonat\\anaconda3\\lib\\site-packages)\n",
      "WARNING: Ignoring invalid distribution -umpy (c:\\users\\jonat\\anaconda3\\lib\\site-packages)\n",
      "WARNING: Ignoring invalid distribution -ffi (c:\\users\\jonat\\anaconda3\\lib\\site-packages)\n",
      "WARNING: You are using pip version 21.3.1; however, version 22.0.3 is available.\n",
      "You should consider upgrading via the 'c:\\users\\jonat\\anaconda3\\python.exe -m pip install --upgrade pip' command.\n"
     ]
    }
   ],
   "source": [
    "!pip install TPOT"
   ]
  },
  {
   "cell_type": "code",
   "execution_count": 15,
   "metadata": {},
   "outputs": [
    {
     "name": "stdout",
     "output_type": "stream",
     "text": [
      "tpot: 0.11.7\n"
     ]
    },
    {
     "name": "stderr",
     "output_type": "stream",
     "text": [
      "C:\\Users\\jonat\\Anaconda3\\lib\\site-packages\\tpot\\builtins\\__init__.py:36: UserWarning: Warning: optional dependency `torch` is not available. - skipping import of NN models.\n",
      "  warnings.warn(\"Warning: optional dependency `torch` is not available. - skipping import of NN models.\")\n"
     ]
    }
   ],
   "source": [
    "#import pandas as pd\n",
    "\n",
    "#from pandas_profiling import ProfileReport\n",
    "\n",
    "\n",
    "#df = pd.read_csv(\"FSX/News Classifier/consolidated.csv\")\n",
    "\n",
    "#profile = ProfileReport(df, title=\"Pandas Profiling Titanic Report\")\n",
    "\n",
    "#profile.to_file(\"eda_titanic.html\")\n",
    "\n",
    "#profile.to_file(\"eda_titanic.json\")\n",
    "\n",
    "import tpot\n",
    "print('tpot: %s' % tpot.__version__)"
   ]
  },
  {
   "cell_type": "code",
   "execution_count": 16,
   "metadata": {},
   "outputs": [],
   "source": [
    "# example of tpot for a classification dataset\n",
    "from sklearn.datasets import make_classification\n",
    "from sklearn.model_selection import RepeatedStratifiedKFold\n",
    "from tpot import TPOTClassifier"
   ]
  },
  {
   "cell_type": "code",
   "execution_count": 17,
   "metadata": {},
   "outputs": [
    {
     "data": {
      "application/vnd.jupyter.widget-view+json": {
       "model_id": "",
       "version_major": 2,
       "version_minor": 0
      },
      "text/plain": [
       "HBox(children=(FloatProgress(value=0.0, description='Optimization Progress', max=300.0, style=ProgressStyle(de…"
      ]
     },
     "metadata": {},
     "output_type": "display_data"
    },
    {
     "name": "stdout",
     "output_type": "stream",
     "text": [
      "\n",
      "Generation 1 - Current best internal CV score: 0.9399999999999998\n",
      "\n",
      "Generation 2 - Current best internal CV score: 0.9399999999999998\n",
      "\n",
      "Generation 3 - Current best internal CV score: 0.9399999999999998\n",
      "\n",
      "Generation 4 - Current best internal CV score: 0.9399999999999998\n",
      "\n",
      "Generation 5 - Current best internal CV score: 0.9466666666666667\n",
      "\n",
      "Best pipeline: MLPClassifier(GaussianNB(input_matrix), alpha=0.0001, learning_rate_init=0.1)\n"
     ]
    }
   ],
   "source": [
    "# define dataset\n",
    "X, y = make_classification(n_samples=100, n_features=10, n_informative=5, n_redundant=5, random_state=1)\n",
    "# define model evaluation\n",
    "cv = RepeatedStratifiedKFold(n_splits=10, n_repeats=3, random_state=1)\n",
    "# define search\n",
    "model = TPOTClassifier(generations=5, population_size=50, cv=cv, scoring='accuracy', verbosity=2, random_state=1, n_jobs=-1)\n",
    "# perform the search\n",
    "model.fit(X, y)\n",
    "# export the best model\n",
    "model.export('tpot_best_model.py')\n",
    "\n",
    "\n",
    "#https://machinelearningmastery.com/automl-libraries-for-python/"
   ]
  },
  {
   "cell_type": "code",
   "execution_count": 3,
   "metadata": {},
   "outputs": [],
   "source": [
    "import pandas as pd\n",
    "import numpy as np \n",
    "import matplotlib.pyplot as plt\n",
    "import re\n",
    "import seaborn as sns\n",
    "from sklearn.model_selection import train_test_split"
   ]
  },
  {
   "cell_type": "code",
   "execution_count": 5,
   "metadata": {},
   "outputs": [
    {
     "data": {
      "text/html": [
       "<div>\n",
       "<style scoped>\n",
       "    .dataframe tbody tr th:only-of-type {\n",
       "        vertical-align: middle;\n",
       "    }\n",
       "\n",
       "    .dataframe tbody tr th {\n",
       "        vertical-align: top;\n",
       "    }\n",
       "\n",
       "    .dataframe thead th {\n",
       "        text-align: right;\n",
       "    }\n",
       "</style>\n",
       "<table border=\"1\" class=\"dataframe\">\n",
       "  <thead>\n",
       "    <tr style=\"text-align: right;\">\n",
       "      <th></th>\n",
       "      <th>Unnamed: 0</th>\n",
       "      <th>Unnamed: 0.1</th>\n",
       "      <th>date</th>\n",
       "      <th>location</th>\n",
       "      <th>news title</th>\n",
       "      <th>news source(url)</th>\n",
       "      <th>content summary</th>\n",
       "      <th>keywords</th>\n",
       "      <th>class_name</th>\n",
       "      <th>new_class_name</th>\n",
       "    </tr>\n",
       "  </thead>\n",
       "  <tbody>\n",
       "    <tr>\n",
       "      <th>0</th>\n",
       "      <td>0</td>\n",
       "      <td>0</td>\n",
       "      <td>Feb-22</td>\n",
       "      <td>MUMBAI (REUTERS)</td>\n",
       "      <td>Himalayan avalanche kills seven Indian soldier...</td>\n",
       "      <td>https://www.straitstimes.com/asia/himalayan-av...</td>\n",
       "      <td>MUMBAI (REUTERS) - A Himalayan avalanche kille...</td>\n",
       "      <td>kills, avalanche, defence, kameng, china, sold...</td>\n",
       "      <td>natural calamities</td>\n",
       "      <td>geophysical event</td>\n",
       "    </tr>\n",
       "    <tr>\n",
       "      <th>1</th>\n",
       "      <td>1</td>\n",
       "      <td>1</td>\n",
       "      <td>Feb-22</td>\n",
       "      <td>ZURICH (REUTERS)</td>\n",
       "      <td>Eight killed in two days after third deadly av...</td>\n",
       "      <td>https://www.straitstimes.com/world/europe/eigh...</td>\n",
       "      <td>ZURICH (REUTERS) - One person was killed and f...</td>\n",
       "      <td>person, avalanche, tyrol, killed, days, skiers...</td>\n",
       "      <td>natural calamities</td>\n",
       "      <td>geophysical event</td>\n",
       "    </tr>\n",
       "    <tr>\n",
       "      <th>2</th>\n",
       "      <td>2</td>\n",
       "      <td>2</td>\n",
       "      <td>Feb-22</td>\n",
       "      <td>VIENNA (REUTERS)</td>\n",
       "      <td>Avalanche in Austria near Swiss border kills five</td>\n",
       "      <td>https://www.straitstimes.com/world/europe/aval...</td>\n",
       "      <td>VIENNA (REUTERS) - An avalanche in an area of ...</td>\n",
       "      <td>kills, avalanche, person, services, supervisor...</td>\n",
       "      <td>natural calamities</td>\n",
       "      <td>geophysical event</td>\n",
       "    </tr>\n",
       "    <tr>\n",
       "      <th>3</th>\n",
       "      <td>3</td>\n",
       "      <td>3</td>\n",
       "      <td>Feb-22</td>\n",
       "      <td>NEW DELHI (REUTERS)</td>\n",
       "      <td>Himalayan avalanche traps Indian Army patrol t...</td>\n",
       "      <td>https://www.straitstimes.com/asia/south-asia/h...</td>\n",
       "      <td>NEW DELHI (REUTERS) - A Himalayan avalanche tr...</td>\n",
       "      <td>arunachal, avalanche, army, defence, team, chi...</td>\n",
       "      <td>natural calamities</td>\n",
       "      <td>geophysical event</td>\n",
       "    </tr>\n",
       "    <tr>\n",
       "      <th>4</th>\n",
       "      <td>4</td>\n",
       "      <td>4</td>\n",
       "      <td>Feb-21</td>\n",
       "      <td>SALT LAKE CITY (NYTIMES)</td>\n",
       "      <td>4 skiers killed in avalanche in Utah, official...</td>\n",
       "      <td>https://www.straitstimes.com/world/united-stat...</td>\n",
       "      <td>SALT LAKE CITY (NYTIMES) - Four back-country s...</td>\n",
       "      <td>avalanche, states, killed, skiers, saidthe, sa...</td>\n",
       "      <td>natural calamities</td>\n",
       "      <td>geophysical event</td>\n",
       "    </tr>\n",
       "  </tbody>\n",
       "</table>\n",
       "</div>"
      ],
      "text/plain": [
       "   Unnamed: 0  Unnamed: 0.1    date                   location  \\\n",
       "0           0             0  Feb-22          MUMBAI (REUTERS)    \n",
       "1           1             1  Feb-22          ZURICH (REUTERS)    \n",
       "2           2             2  Feb-22          VIENNA (REUTERS)    \n",
       "3           3             3  Feb-22       NEW DELHI (REUTERS)    \n",
       "4           4             4  Feb-21  SALT LAKE CITY (NYTIMES)    \n",
       "\n",
       "                                          news title  \\\n",
       "0  Himalayan avalanche kills seven Indian soldier...   \n",
       "1  Eight killed in two days after third deadly av...   \n",
       "2  Avalanche in Austria near Swiss border kills five   \n",
       "3  Himalayan avalanche traps Indian Army patrol t...   \n",
       "4  4 skiers killed in avalanche in Utah, official...   \n",
       "\n",
       "                                    news source(url)  \\\n",
       "0  https://www.straitstimes.com/asia/himalayan-av...   \n",
       "1  https://www.straitstimes.com/world/europe/eigh...   \n",
       "2  https://www.straitstimes.com/world/europe/aval...   \n",
       "3  https://www.straitstimes.com/asia/south-asia/h...   \n",
       "4  https://www.straitstimes.com/world/united-stat...   \n",
       "\n",
       "                                     content summary  \\\n",
       "0  MUMBAI (REUTERS) - A Himalayan avalanche kille...   \n",
       "1  ZURICH (REUTERS) - One person was killed and f...   \n",
       "2  VIENNA (REUTERS) - An avalanche in an area of ...   \n",
       "3  NEW DELHI (REUTERS) - A Himalayan avalanche tr...   \n",
       "4  SALT LAKE CITY (NYTIMES) - Four back-country s...   \n",
       "\n",
       "                                            keywords          class_name  \\\n",
       "0  kills, avalanche, defence, kameng, china, sold...  natural calamities   \n",
       "1  person, avalanche, tyrol, killed, days, skiers...  natural calamities   \n",
       "2  kills, avalanche, person, services, supervisor...  natural calamities   \n",
       "3  arunachal, avalanche, army, defence, team, chi...  natural calamities   \n",
       "4  avalanche, states, killed, skiers, saidthe, sa...  natural calamities   \n",
       "\n",
       "      new_class_name  \n",
       "0  geophysical event  \n",
       "1  geophysical event  \n",
       "2  geophysical event  \n",
       "3  geophysical event  \n",
       "4  geophysical event  "
      ]
     },
     "execution_count": 5,
     "metadata": {},
     "output_type": "execute_result"
    }
   ],
   "source": [
    "initial_data = \"consolidated.csv\"\n",
    "data = pd.read_csv(initial_data)\n",
    "data.head()"
   ]
  },
  {
   "cell_type": "code",
   "execution_count": 13,
   "metadata": {},
   "outputs": [
    {
     "ename": "ModuleNotFoundError",
     "evalue": "No module named 'autosklearn'",
     "output_type": "error",
     "traceback": [
      "\u001b[1;31m---------------------------------------------------------------------------\u001b[0m",
      "\u001b[1;31mModuleNotFoundError\u001b[0m                       Traceback (most recent call last)",
      "\u001b[1;32m<ipython-input-13-6826cedab114>\u001b[0m in \u001b[0;36m<module>\u001b[1;34m\u001b[0m\n\u001b[1;32m----> 1\u001b[1;33m \u001b[1;32mfrom\u001b[0m \u001b[0mautosklearn\u001b[0m\u001b[1;33m.\u001b[0m\u001b[0mclassification\u001b[0m \u001b[1;32mimport\u001b[0m \u001b[0mAutoSklearnClassifier\u001b[0m\u001b[1;33m\u001b[0m\u001b[1;33m\u001b[0m\u001b[0m\n\u001b[0m",
      "\u001b[1;31mModuleNotFoundError\u001b[0m: No module named 'autosklearn'"
     ]
    }
   ],
   "source": [
    "from autosklearn.classification import AutoSklearnClassifier"
   ]
  },
  {
   "cell_type": "code",
   "execution_count": 7,
   "metadata": {},
   "outputs": [
    {
     "ename": "NameError",
     "evalue": "name 'AutoSklearnClassifier' is not defined",
     "output_type": "error",
     "traceback": [
      "\u001b[1;31m---------------------------------------------------------------------------\u001b[0m",
      "\u001b[1;31mNameError\u001b[0m                                 Traceback (most recent call last)",
      "\u001b[1;32m<ipython-input-7-f5b7ee2f6a26>\u001b[0m in \u001b[0;36m<module>\u001b[1;34m\u001b[0m\n\u001b[1;32m----> 1\u001b[1;33m clf = AutoSklearnClassifier(time_left_for_this_task=300, \n\u001b[0m\u001b[0;32m      2\u001b[0m                               \u001b[0mper_run_time_limit\u001b[0m\u001b[1;33m=\u001b[0m\u001b[1;36m9\u001b[0m\u001b[1;33m,\u001b[0m\u001b[1;33m\u001b[0m\u001b[1;33m\u001b[0m\u001b[0m\n\u001b[0;32m      3\u001b[0m                               \u001b[0mensemble_size\u001b[0m\u001b[1;33m=\u001b[0m\u001b[1;36m1\u001b[0m\u001b[1;33m,\u001b[0m\u001b[1;33m\u001b[0m\u001b[1;33m\u001b[0m\u001b[0m\n\u001b[0;32m      4\u001b[0m                               initial_configurations_via_metalearning=0)\n\u001b[0;32m      5\u001b[0m \u001b[1;31m# Init training\u001b[0m\u001b[1;33m\u001b[0m\u001b[1;33m\u001b[0m\u001b[1;33m\u001b[0m\u001b[0m\n",
      "\u001b[1;31mNameError\u001b[0m: name 'AutoSklearnClassifier' is not defined"
     ]
    }
   ],
   "source": [
    "clf = AutoSklearnClassifier(time_left_for_this_task=300, \n",
    "                              per_run_time_limit=9, \n",
    "                              ensemble_size=1, \n",
    "                              initial_configurations_via_metalearning=0)\n",
    "# Init training\n",
    "clf.fit(X_train, y_train)"
   ]
  },
  {
   "cell_type": "code",
   "execution_count": null,
   "metadata": {},
   "outputs": [],
   "source": [
    "clf.score(X_train, y_train)"
   ]
  },
  {
   "cell_type": "code",
   "execution_count": null,
   "metadata": {},
   "outputs": [],
   "source": [
    "clf.score(X_test, y_test)"
   ]
  },
  {
   "cell_type": "code",
   "execution_count": null,
   "metadata": {},
   "outputs": [],
   "source": [
    "from sklearn.metrics import confusion_matrix, accuracy_score\n",
    "y_pred = clf.predict(X_test)"
   ]
  },
  {
   "cell_type": "code",
   "execution_count": null,
   "metadata": {},
   "outputs": [],
   "source": [
    "#"
   ]
  },
  {
   "cell_type": "code",
   "execution_count": null,
   "metadata": {},
   "outputs": [],
   "source": [
    "conf_matrix = confusion_matrix(y_pred, y_test)\n",
    "sns.heatmap(conf_matrix, annot=True)"
   ]
  },
  {
   "cell_type": "code",
   "execution_count": null,
   "metadata": {},
   "outputs": [],
   "source": [
    "#Performance Measures\n",
    "tn = conf_matrix[0,0]\n",
    "fp = conf_matrix[0,1]\n",
    "tp = conf_matrix[1,1]\n",
    "fn = conf_matrix[1,0]\n",
    "\n",
    "total = tn + fp + tp + fn\n",
    "real_positive = tp + fn\n",
    "real_negative = tn + fp"
   ]
  },
  {
   "cell_type": "code",
   "execution_count": null,
   "metadata": {},
   "outputs": [],
   "source": [
    "#Performance Measures\n",
    "tn = conf_matrix[0,0]\n",
    "fp = conf_matrix[0,1]\n",
    "tp = conf_matrix[1,1]\n",
    "fn = conf_matrix[1,0]\n",
    "\n",
    "total = tn + fp + tp + fn\n",
    "real_positive = tp + fn\n",
    "real_negative = tn + fp\n",
    "accuracy  = (tp + tn) / total # Accuracy Rate\n",
    "precision = tp / (tp + fp) # Positive Predictive Value\n",
    "recall    = tp / (tp + fn) # True Positive Rate\n",
    "f1score  = 2 * precision * recall / (precision + recall)"
   ]
  },
  {
   "cell_type": "code",
   "execution_count": null,
   "metadata": {},
   "outputs": [],
   "source": [
    "print(f'Accuracy    : {accuracy}')\n",
    "print(f'Precision   : {precision}')\n",
    "print(f'Recall      : {recall}')\n",
    "print(f'F1 score    : {f1score}')"
   ]
  }
 ],
 "metadata": {
  "kernelspec": {
   "display_name": "Python 3",
   "language": "python",
   "name": "python3"
  },
  "language_info": {
   "codemirror_mode": {
    "name": "ipython",
    "version": 3
   },
   "file_extension": ".py",
   "mimetype": "text/x-python",
   "name": "python",
   "nbconvert_exporter": "python",
   "pygments_lexer": "ipython3",
   "version": "3.7.4"
  }
 },
 "nbformat": 4,
 "nbformat_minor": 4
}
