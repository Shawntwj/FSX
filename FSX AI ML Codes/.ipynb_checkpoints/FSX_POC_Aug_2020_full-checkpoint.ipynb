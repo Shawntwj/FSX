{
 "cells": [
  {
   "cell_type": "markdown",
   "metadata": {},
   "source": [
    "# FSX Proof of Concept \n",
    "*by Graham Lim, Data Science Consultant for FSX*"
   ]
  },
  {
   "cell_type": "markdown",
   "metadata": {},
   "source": [
    "In this notebook, we will be demonstrating our **preliminary Proof of Concept (\"POC\")** for our **FSX Risk Decisioning Platform (the \"Platform\")**.\n",
    "This will be written in `python`, with explanatory notes given to explain each step of our proprietary process."
   ]
  },
  {
   "cell_type": "markdown",
   "metadata": {},
   "source": [
    "## Concept Summary\n",
    "Conceptually, the Platform is a supervised machine learning (ML) media sentiment classifier that mines news articles automatically that deal with the subject of food supply risk, and predictively classifies them according to their risk labelling. This will utilize statistical ML models like those from `scikit-learn`, as well as Deep Learning/ Neural Networks, such as Google's open-source `BERT` Transformers.\n",
    "\n",
    "Based on that risk labelling, an automated text report with visualizations is generated with insights. Initially, this will employ standard template-based code. Future versions will incorporate unsupervised text generation algorithms (e.g. `GPT2`) and/or commercial text-generation software (e.g. `Arria NLG`).\n",
    "\n",
    "**Disclaimer**: Our POC has been designed for the sake of demonstrating capability and conceptual proof only, and is not strictly optimized for typical Machine Learning performance metrics (e.g. `accuracy`, `precision`, `recall`, `f1 score` etc.) due to the small sample dataset used here.\n",
    "\n",
    "## POC Contents:\n",
    "1. **Webscraping**: prototype code that scrapes a sample of articles from the web for news about food supply risk using `Selenium` and `BeautifulSoup`, which are open-source libraries that help us scrape. Future versions will scrape the web as comprehensively as possible, beyond the sample. Future versions will have a far larger and statistically significant dataset that is scraped.\n",
    "\n",
    "\n",
    "2. **Cleaning and Labelling**: prototype code that transforms sample scraped news data into a Dataframe in .csv format, that is machine readable. We use the popular `Pandas` library for this. \n",
    "\n",
    "    We initially manually label the risk profiles of each news article in our sample data, for the sake of being able to train our prototype model. Note again that future versions will have a far larger and statistically significant dataset.\n",
    "\n",
    "\n",
    "3. **Preprocessing and Modelling**: The text that we scraped has to be pre-processed into a machine-readable format e.g. tokenization, stop-words removal, and lemmatization. We then run models from `scikit-learn` or a custom Neural Network e.g. BERT on this machine-readable data in order to predictively classify news text as falling into a particular risk category e.g. `high`, `medium`, `low`, or `neutral`. \n",
    "\n",
    "    For the sake of simplicity in this PoC we will use `risky`, `neutral` and `stable` as our preliminary labels.\n",
    "    \n",
    "\n",
    "4. **Report Generator**: our report-generation algorithm is intended to provide actionable insights based on that risk assessment. In our prototype here, the report-generator will provide the following information:\n",
    "\n",
    "    * Reiterate the risk label\n",
    "    \n",
    "    * Describe which keywords in the article triggered our label to be e.g. risky\n",
    "    \n",
    "    * Describe which entities are being discussed in the article\n",
    "    \n",
    "    * Based on the risk label, the algorithm **recommends** via text that other suppliers of the food item in question be reviewed.\n",
    "    "
   ]
  },
  {
   "cell_type": "markdown",
   "metadata": {},
   "source": [
    "## 1. Webscraping"
   ]
  },
  {
   "cell_type": "markdown",
   "metadata": {},
   "source": [
    "You will need to run the following pip install commands in terminal or cmd line:\n",
    "\n",
    "* `pip install bs4` (for BeautifulSoup)\n",
    "* `pip install selenium` (for Selenium)\n",
    "* `pip install webdriver-manager` (for the automated Selenium web driver to work)"
   ]
  },
  {
   "cell_type": "code",
   "execution_count": 2,
   "metadata": {},
   "outputs": [],
   "source": [
    "#Standard Python DS imports:\n",
    "\n",
    "import pandas as pd\n",
    "import numpy as np\n",
    "import matplotlib.pyplot as plt\n",
    "import seaborn as sns"
   ]
  },
  {
   "cell_type": "code",
   "execution_count": 3,
   "metadata": {},
   "outputs": [],
   "source": [
    "#set column size to be larger\n",
    "pd.set_option(\"display.max_colwidth\", 1000)"
   ]
  },
  {
   "cell_type": "markdown",
   "metadata": {},
   "source": [
    "We have to use `Selenium` because of the fact that all the articles won't show up on one webpage and it's easier to scrape them this way./\n",
    "\n",
    "Hence, we will import `Selenium` and the related `WebDriver Manager` tool to run a Chrome instance within Selenium that will scrape our sample food supply news data."
   ]
  },
  {
   "cell_type": "code",
   "execution_count": 2,
   "metadata": {},
   "outputs": [],
   "source": [
    "#Selenium and WebDriver Manager imports:\n",
    "\n",
    "from selenium import webdriver\n",
    "from webdriver_manager.chrome import ChromeDriverManager\n",
    "from bs4 import BeautifulSoup\n",
    "\n",
    "import time\n",
    "from selenium.webdriver.common.keys import Keys"
   ]
  },
  {
   "cell_type": "markdown",
   "metadata": {},
   "source": [
    "For our sample news feed, we are taking all articles tagged with the keyword `Rice` from `www.foodnavigator-asia.com`."
   ]
  },
  {
   "cell_type": "code",
   "execution_count": 1,
   "metadata": {},
   "outputs": [],
   "source": [
    "url = \"https://www.foodnavigator-asia.com/tag/keyword/Food/Rice\""
   ]
  },
  {
   "cell_type": "markdown",
   "metadata": {},
   "source": [
    "Here is the scraping code for this particular website. Future versions of this code will utilize a larger dataset aggregated from other news sites.\n",
    "For the initial phase of development, this would essentially involve a large-scale media analysis undertaking to manually label data first in order to train our supervised labelling model."
   ]
  },
  {
   "cell_type": "code",
   "execution_count": 58,
   "metadata": {},
   "outputs": [
    {
     "name": "stderr",
     "output_type": "stream",
     "text": [
      "[WDM] - Current google-chrome version is 84.0.4147\n",
      "[WDM] - Get LATEST driver version for 84.0.4147\n",
      "[WDM] - Driver [/Users/grahamlim/.wdm/drivers/chromedriver/mac64/84.0.4147.30/chromedriver] found in cache\n"
     ]
    },
    {
     "name": "stdout",
     "output_type": "stream",
     "text": [
      " \n"
     ]
    }
   ],
   "source": [
    "#This code will scrape data from the URL in question\n",
    "driver = webdriver.Chrome(ChromeDriverManager().install())\n",
    "driver.get(url)\n",
    "\n",
    "driver.get(url)\n",
    "time.sleep(5)\n",
    "driver_body = driver.find_element_by_tag_name('body')\n",
    "driver_pages = driver_body.find_elements_by_class_name('Pagination-item')\n",
    "\n",
    "i = 0\n",
    "\n",
    "intro_list = []\n",
    "title_list = []\n",
    "date_list = []\n",
    "post_url_list = []\n",
    "\n",
    "for i in range(1, len(driver_pages)):\n",
    "    html = \"\"\n",
    "    html = driver.page_source\n",
    "    soup = BeautifulSoup(html, 'lxml')\n",
    "    \n",
    "    intro_elems = driver.find_elements_by_class_name(\"Teaser-intro\")\n",
    "\n",
    "    for intro in intro_elems:\n",
    "        intro_list.append(intro.text)\n",
    "\n",
    "    title_elems = driver.find_elements_by_class_name(\"Teaser-title\")\n",
    "    \n",
    "    for title in title_elems:\n",
    "        title_list.append(title.text)\n",
    "    \n",
    "    date_elems = driver.find_elements_by_class_name(\"Teaser-date\")\n",
    "    for date in date_elems:\n",
    "        date_list.append(date.text)\n",
    "    \n",
    "    linksdiv = soup.find_all('h3', {'class': 'Teaser-title'})\n",
    "    for linkdiv in linksdiv:\n",
    "        post_url_list.append('www.foodnavigator-asia.com'+(linkdiv.find('a')['href']))\n",
    "    \n",
    "#   div = soup.find('div', {'class': 'gsc-wrapper'})\n",
    "#   linksdiv = div.find_all('div', {'class': 'gsc-webResult gsc-result'})\n",
    "#   for linkdiv in linksdiv:\n",
    "#       links.append(linkdiv.find('a')['href'])\n",
    "\n",
    "    try:\n",
    "        driver.execute_script(\"arguments[0].click();\", driver_pages[i])\n",
    "        time.sleep(2)\n",
    "\n",
    "        driver_body = driver.find_element_by_tag_name('body')\n",
    "        driver_pages = driver_body.find_elements_by_class_name('Pagination-item')\n",
    "        i+1\n",
    "        \n",
    "    except exceptions.StaleElementReferenceException as e:\n",
    "        pass\n",
    "\n",
    "driver.close()"
   ]
  },
  {
   "cell_type": "code",
   "execution_count": 36,
   "metadata": {},
   "outputs": [
    {
     "data": {
      "text/plain": [
       "75"
      ]
     },
     "execution_count": 36,
     "metadata": {},
     "output_type": "execute_result"
    }
   ],
   "source": [
    "len(post_url_list)"
   ]
  },
  {
   "cell_type": "code",
   "execution_count": 38,
   "metadata": {},
   "outputs": [
    {
     "name": "stdout",
     "output_type": "stream",
     "text": [
      "75\n",
      "75\n",
      "75\n",
      "75\n"
     ]
    }
   ],
   "source": [
    "#checking scraped length\n",
    "print (len(intro_list))\n",
    "print (len(title_list))\n",
    "print (len(date_list))\n",
    "print (len(post_url_list))"
   ]
  },
  {
   "cell_type": "code",
   "execution_count": 39,
   "metadata": {},
   "outputs": [
    {
     "data": {
      "text/plain": [
       "(75, 4)"
      ]
     },
     "execution_count": 39,
     "metadata": {},
     "output_type": "execute_result"
    }
   ],
   "source": [
    "#We then write a simple function to convert and label these lists as DataFrames in pandas, and tells us what the `shape` of the dataframe is:\n",
    "\n",
    "df = pd.DataFrame({'date': date_list,\n",
    "                   'title': title_list,\n",
    "                   'intro': intro_list,\n",
    "                   'url': post_url_list\n",
    "                  })\n",
    "\n",
    "df.shape"
   ]
  },
  {
   "cell_type": "markdown",
   "metadata": {},
   "source": [
    "This is what the result of our initially scraped news data looks like that our algorithm uses. In future, we will not only use the `title` and `intro` text of news articles, but the full text of the actual news article for better information capturing."
   ]
  },
  {
   "cell_type": "code",
   "execution_count": 40,
   "metadata": {},
   "outputs": [
    {
     "data": {
      "text/html": [
       "<div>\n",
       "<style scoped>\n",
       "    .dataframe tbody tr th:only-of-type {\n",
       "        vertical-align: middle;\n",
       "    }\n",
       "\n",
       "    .dataframe tbody tr th {\n",
       "        vertical-align: top;\n",
       "    }\n",
       "\n",
       "    .dataframe thead th {\n",
       "        text-align: right;\n",
       "    }\n",
       "</style>\n",
       "<table border=\"1\" class=\"dataframe\">\n",
       "  <thead>\n",
       "    <tr style=\"text-align: right;\">\n",
       "      <th></th>\n",
       "      <th>date</th>\n",
       "      <th>title</th>\n",
       "      <th>intro</th>\n",
       "      <th>url</th>\n",
       "    </tr>\n",
       "  </thead>\n",
       "  <tbody>\n",
       "    <tr>\n",
       "      <th>0</th>\n",
       "      <td>20-Jul-2020</td>\n",
       "      <td>Legacy vs price: Rice exports from Vietnam and India vie for ASEAN trade post-COVID-19</td>\n",
       "      <td>Vietnam and India are competing for ASEAN rice trade post-COVID-19, with the former having gained advantage due to support from traditional partner Philippines, and the latter having come out ahead with Malaysia in terms of price.</td>\n",
       "      <td>www.foodnavigator-asia.com/Article/2020/07/20/Legacy-vs-price-Rice-exports-from-Vietnam-and-India-vie-for-ASEAN-trade-post-COVID-19</td>\n",
       "    </tr>\n",
       "    <tr>\n",
       "      <th>1</th>\n",
       "      <td>25-Jun-2020</td>\n",
       "      <td>Trade-off: Rice and seafood the big winners for Vietnam under EU free trade deal</td>\n",
       "      <td>The recently-ratified EU-Vietnam Free Trade Agreement (EVFTA) has seen major gains in food trade for both sides, particularly in rice and seafood for Vietnam as well as alcohol and meat for the EU.</td>\n",
       "      <td>www.foodnavigator-asia.com/Article/2020/06/25/Trade-off-Rice-and-seafood-the-big-winners-for-Vietnam-under-EU-free-trade-deal</td>\n",
       "    </tr>\n",
       "    <tr>\n",
       "      <th>2</th>\n",
       "      <td>22-Apr-2020</td>\n",
       "      <td>Rice-ing concern: COVID-19 creates supply and price volatility for Asia’s most ‘cost-sensitive’ crop</td>\n",
       "      <td>Lockdowns and trade barriers across Asia due to the COVID-19 pandemic have thrust rice - one of the region’s largest agricultural commodities – firmly into the spotlight potential volatility in both supply and cost.</td>\n",
       "      <td>www.foodnavigator-asia.com/Article/2020/04/22/Rice-ing-concern-COVID-19-creates-supply-and-price-volatility-for-Asia-s-most-cost-sensitive-crop</td>\n",
       "    </tr>\n",
       "    <tr>\n",
       "      <th>3</th>\n",
       "      <td>17-Mar-2020</td>\n",
       "      <td>The rice and fall: Vietnam eyes more global opportunities as Thai supply totters</td>\n",
       "      <td>Thailand’s position as the largest exporter of rice from the South East Asian region is at risk as the country struggles to handle weather, economical and quality changes, whereas Vietnam looks to be going from strength to strength.</td>\n",
       "      <td>www.foodnavigator-asia.com/Article/2020/03/17/The-rice-and-fall-Vietnam-eyes-more-global-opportunities-as-Thai-supply-totters</td>\n",
       "    </tr>\n",
       "    <tr>\n",
       "      <th>4</th>\n",
       "      <td>25-Feb-2020</td>\n",
       "      <td>Beyond rice: Indian government urged to boost cereal production in security drive</td>\n",
       "      <td>Researchers are pushing for India to focus on enhancing its production of crops other than rice, the country’s traditional staple, if it wishes to effectively address its triple threats of food security, climate change effects and malnutrition.</td>\n",
       "      <td>www.foodnavigator-asia.com/Article/2020/02/25/Beyond-rice-Indian-government-urged-to-boost-cereal-production-in-security-drive</td>\n",
       "    </tr>\n",
       "  </tbody>\n",
       "</table>\n",
       "</div>"
      ],
      "text/plain": [
       "          date  \\\n",
       "0  20-Jul-2020   \n",
       "1  25-Jun-2020   \n",
       "2  22-Apr-2020   \n",
       "3  17-Mar-2020   \n",
       "4  25-Feb-2020   \n",
       "\n",
       "                                                                                                  title  \\\n",
       "0                Legacy vs price: Rice exports from Vietnam and India vie for ASEAN trade post-COVID-19   \n",
       "1                      Trade-off: Rice and seafood the big winners for Vietnam under EU free trade deal   \n",
       "2  Rice-ing concern: COVID-19 creates supply and price volatility for Asia’s most ‘cost-sensitive’ crop   \n",
       "3                      The rice and fall: Vietnam eyes more global opportunities as Thai supply totters   \n",
       "4                     Beyond rice: Indian government urged to boost cereal production in security drive   \n",
       "\n",
       "                                                                                                                                                                                                                                                  intro  \\\n",
       "0                Vietnam and India are competing for ASEAN rice trade post-COVID-19, with the former having gained advantage due to support from traditional partner Philippines, and the latter having come out ahead with Malaysia in terms of price.   \n",
       "1                                                 The recently-ratified EU-Vietnam Free Trade Agreement (EVFTA) has seen major gains in food trade for both sides, particularly in rice and seafood for Vietnam as well as alcohol and meat for the EU.   \n",
       "2                               Lockdowns and trade barriers across Asia due to the COVID-19 pandemic have thrust rice - one of the region’s largest agricultural commodities – firmly into the spotlight potential volatility in both supply and cost.   \n",
       "3              Thailand’s position as the largest exporter of rice from the South East Asian region is at risk as the country struggles to handle weather, economical and quality changes, whereas Vietnam looks to be going from strength to strength.   \n",
       "4  Researchers are pushing for India to focus on enhancing its production of crops other than rice, the country’s traditional staple, if it wishes to effectively address its triple threats of food security, climate change effects and malnutrition.   \n",
       "\n",
       "                                                                                                                                               url  \n",
       "0              www.foodnavigator-asia.com/Article/2020/07/20/Legacy-vs-price-Rice-exports-from-Vietnam-and-India-vie-for-ASEAN-trade-post-COVID-19  \n",
       "1                    www.foodnavigator-asia.com/Article/2020/06/25/Trade-off-Rice-and-seafood-the-big-winners-for-Vietnam-under-EU-free-trade-deal  \n",
       "2  www.foodnavigator-asia.com/Article/2020/04/22/Rice-ing-concern-COVID-19-creates-supply-and-price-volatility-for-Asia-s-most-cost-sensitive-crop  \n",
       "3                    www.foodnavigator-asia.com/Article/2020/03/17/The-rice-and-fall-Vietnam-eyes-more-global-opportunities-as-Thai-supply-totters  \n",
       "4                   www.foodnavigator-asia.com/Article/2020/02/25/Beyond-rice-Indian-government-urged-to-boost-cereal-production-in-security-drive  "
      ]
     },
     "execution_count": 40,
     "metadata": {},
     "output_type": "execute_result"
    }
   ],
   "source": [
    "df.head()"
   ]
  },
  {
   "cell_type": "code",
   "execution_count": 43,
   "metadata": {},
   "outputs": [
    {
     "name": "stdout",
     "output_type": "stream",
     "text": [
      "/Users/grahamlim/Documents/FSX_and_Trainer_Stuff/scrape_risk_app/data\n"
     ]
    }
   ],
   "source": [
    "cd /Users/grahamlim/Documents/FSX_and_Trainer_Stuff/scrape_risk_app/data/"
   ]
  },
  {
   "cell_type": "code",
   "execution_count": 44,
   "metadata": {},
   "outputs": [
    {
     "data": {
      "text/plain": [
       "'/Users/grahamlim/Documents/FSX_and_Trainer_Stuff/scrape_risk_app/data'"
      ]
     },
     "execution_count": 44,
     "metadata": {},
     "output_type": "execute_result"
    }
   ],
   "source": [
    "pwd"
   ]
  },
  {
   "cell_type": "code",
   "execution_count": 45,
   "metadata": {},
   "outputs": [],
   "source": [
    "df.to_csv(\"../data/df_raw.csv\")"
   ]
  },
  {
   "cell_type": "markdown",
   "metadata": {},
   "source": [
    "## 2. Cleaning and Labelling"
   ]
  },
  {
   "cell_type": "markdown",
   "metadata": {},
   "source": [
    "Now that our data has been scraped, we have to re-format it and label the risk ratings of each our sample news feed articles in a way that our machine learning models will understand. For example, we'll initially have to combine the `title text` and `intro text` of each news article:"
   ]
  },
  {
   "cell_type": "code",
   "execution_count": 21,
   "metadata": {},
   "outputs": [],
   "source": [
    "df = pd.read_csv(\"../data/df_raw.csv\", index_col = 0)"
   ]
  },
  {
   "cell_type": "code",
   "execution_count": 22,
   "metadata": {
    "collapsed": true,
    "jupyter": {
     "outputs_hidden": true
    }
   },
   "outputs": [
    {
     "data": {
      "text/plain": [
       "date     0\n",
       "title    0\n",
       "intro    0\n",
       "url      0\n",
       "dtype: int64"
      ]
     },
     "execution_count": 22,
     "metadata": {},
     "output_type": "execute_result"
    }
   ],
   "source": [
    "#checking for null values\n",
    "\n",
    "df.isnull().sum()"
   ]
  },
  {
   "cell_type": "code",
   "execution_count": 23,
   "metadata": {},
   "outputs": [
    {
     "data": {
      "text/plain": [
       "0              Legacy vs price: Rice exports from Vietnam and India vie for ASEAN trade post-COVID-19. Vietnam and India are competing for ASEAN rice trade post-COVID-19, with the former having gained advantage due to support from traditional partner Philippines, and the latter having come out ahead with Malaysia in terms of price.\n",
       "1                                                     Trade-off: Rice and seafood the big winners for Vietnam under EU free trade deal. The recently-ratified EU-Vietnam Free Trade Agreement (EVFTA) has seen major gains in food trade for both sides, particularly in rice and seafood for Vietnam as well as alcohol and meat for the EU.\n",
       "2               Rice-ing concern: COVID-19 creates supply and price volatility for Asia’s most ‘cost-sensitive’ crop. Lockdowns and trade barriers across Asia due to the COVID-19 pandemic have thrust rice - one of the region’s largest agricultural commodities – firmly into the spotlight potential volatility in both supply and cost.\n",
       "3                  The rice and fall: Vietnam eyes more global opportunities as Thai supply totters. Thailand’s position as the largest exporter of rice from the South East Asian region is at risk as the country struggles to handle weather, economical and quality changes, whereas Vietnam looks to be going from strength to strength.\n",
       "4     Beyond rice: Indian government urged to boost cereal production in security drive. Researchers are pushing for India to focus on enhancing its production of crops other than rice, the country’s traditional staple, if it wishes to effectively address its triple threats of food security, climate change effects and malnutrition.\n",
       "                                                                                                                                                                       ...                                                                                                                                                                   \n",
       "70                                                                                                                                           Global sustainable rice scheme launched. An international system has been launched that will establish environmental standards for sustainable rice production in a bid to increase rice yields.\n",
       "71                                                                                                                        Thai floods will have minimal impact on global rice market, according to industry expert. The severe flooding in Thailand is merely a second blow to its already unsteady rice market, an industry expert has said.\n",
       "72                                                                                           New joint venture between McCormick and Kohinoor Foods: India. Global spice and flavour giant McCormick has signed a joint venture contract with India’s leading basmati rice production company Kohinoor Foods, forming a new company in India.\n",
       "73                                                                          Singapore pledges $8.2m to Asia rice science for the next five years. Singapore’s National Research Foundation (NRF) has said it will invest $8.2m in a joint research program that aims to ensure food security and future rice demands are met throughout Asia.\n",
       "74                Japanese scientists to breed rice resilient to radioactive cesium. In the wake of the Fukushima nuclear disaster, Japanese scientists from the Fukushima Agricultural Technology Centre are working towards a potential solution for the future of Japanese rice farmers – a strain of rice resilient to cesium absorption.\n",
       "Name: combined, Length: 75, dtype: object"
      ]
     },
     "execution_count": 23,
     "metadata": {},
     "output_type": "execute_result"
    }
   ],
   "source": [
    "#combine title and intro text in one\n",
    "\n",
    "df[\"combined\"] = df[\"title\"] + \". \" + df[\"intro\"]\n",
    "\n",
    "df[\"combined\"]"
   ]
  },
  {
   "cell_type": "code",
   "execution_count": 61,
   "metadata": {},
   "outputs": [],
   "source": [
    "#we create a default risk rating of neutral first for all news articles\n",
    "df[\"risk_rating\"]=\"neutral\""
   ]
  },
  {
   "cell_type": "code",
   "execution_count": 62,
   "metadata": {},
   "outputs": [
    {
     "data": {
      "text/html": [
       "<div>\n",
       "<style scoped>\n",
       "    .dataframe tbody tr th:only-of-type {\n",
       "        vertical-align: middle;\n",
       "    }\n",
       "\n",
       "    .dataframe tbody tr th {\n",
       "        vertical-align: top;\n",
       "    }\n",
       "\n",
       "    .dataframe thead th {\n",
       "        text-align: right;\n",
       "    }\n",
       "</style>\n",
       "<table border=\"1\" class=\"dataframe\">\n",
       "  <thead>\n",
       "    <tr style=\"text-align: right;\">\n",
       "      <th></th>\n",
       "      <th>date</th>\n",
       "      <th>title</th>\n",
       "      <th>intro</th>\n",
       "      <th>url</th>\n",
       "      <th>combined</th>\n",
       "      <th>risk_rating</th>\n",
       "    </tr>\n",
       "  </thead>\n",
       "  <tbody>\n",
       "    <tr>\n",
       "      <th>0</th>\n",
       "      <td>20-Jul-2020</td>\n",
       "      <td>Legacy vs price: Rice exports from Vietnam and India vie for ASEAN trade post-COVID-19</td>\n",
       "      <td>Vietnam and India are competing for ASEAN rice trade post-COVID-19, with the former having gained advantage due to support from traditional partner Philippines, and the latter having come out ahead with Malaysia in terms of price.</td>\n",
       "      <td>www.foodnavigator-asia.com/Article/2020/07/20/Legacy-vs-price-Rice-exports-from-Vietnam-and-India-vie-for-ASEAN-trade-post-COVID-19</td>\n",
       "      <td>Legacy vs price: Rice exports from Vietnam and India vie for ASEAN trade post-COVID-19. Vietnam and India are competing for ASEAN rice trade post-COVID-19, with the former having gained advantage due to support from traditional partner Philippines, and the latter having come out ahead with Malaysia in terms of price.</td>\n",
       "      <td>neutral</td>\n",
       "    </tr>\n",
       "    <tr>\n",
       "      <th>1</th>\n",
       "      <td>25-Jun-2020</td>\n",
       "      <td>Trade-off: Rice and seafood the big winners for Vietnam under EU free trade deal</td>\n",
       "      <td>The recently-ratified EU-Vietnam Free Trade Agreement (EVFTA) has seen major gains in food trade for both sides, particularly in rice and seafood for Vietnam as well as alcohol and meat for the EU.</td>\n",
       "      <td>www.foodnavigator-asia.com/Article/2020/06/25/Trade-off-Rice-and-seafood-the-big-winners-for-Vietnam-under-EU-free-trade-deal</td>\n",
       "      <td>Trade-off: Rice and seafood the big winners for Vietnam under EU free trade deal. The recently-ratified EU-Vietnam Free Trade Agreement (EVFTA) has seen major gains in food trade for both sides, particularly in rice and seafood for Vietnam as well as alcohol and meat for the EU.</td>\n",
       "      <td>neutral</td>\n",
       "    </tr>\n",
       "    <tr>\n",
       "      <th>2</th>\n",
       "      <td>22-Apr-2020</td>\n",
       "      <td>Rice-ing concern: COVID-19 creates supply and price volatility for Asia’s most ‘cost-sensitive’ crop</td>\n",
       "      <td>Lockdowns and trade barriers across Asia due to the COVID-19 pandemic have thrust rice - one of the region’s largest agricultural commodities – firmly into the spotlight potential volatility in both supply and cost.</td>\n",
       "      <td>www.foodnavigator-asia.com/Article/2020/04/22/Rice-ing-concern-COVID-19-creates-supply-and-price-volatility-for-Asia-s-most-cost-sensitive-crop</td>\n",
       "      <td>Rice-ing concern: COVID-19 creates supply and price volatility for Asia’s most ‘cost-sensitive’ crop. Lockdowns and trade barriers across Asia due to the COVID-19 pandemic have thrust rice - one of the region’s largest agricultural commodities – firmly into the spotlight potential volatility in both supply and cost.</td>\n",
       "      <td>neutral</td>\n",
       "    </tr>\n",
       "    <tr>\n",
       "      <th>3</th>\n",
       "      <td>17-Mar-2020</td>\n",
       "      <td>The rice and fall: Vietnam eyes more global opportunities as Thai supply totters</td>\n",
       "      <td>Thailand’s position as the largest exporter of rice from the South East Asian region is at risk as the country struggles to handle weather, economical and quality changes, whereas Vietnam looks to be going from strength to strength.</td>\n",
       "      <td>www.foodnavigator-asia.com/Article/2020/03/17/The-rice-and-fall-Vietnam-eyes-more-global-opportunities-as-Thai-supply-totters</td>\n",
       "      <td>The rice and fall: Vietnam eyes more global opportunities as Thai supply totters. Thailand’s position as the largest exporter of rice from the South East Asian region is at risk as the country struggles to handle weather, economical and quality changes, whereas Vietnam looks to be going from strength to strength.</td>\n",
       "      <td>neutral</td>\n",
       "    </tr>\n",
       "    <tr>\n",
       "      <th>4</th>\n",
       "      <td>25-Feb-2020</td>\n",
       "      <td>Beyond rice: Indian government urged to boost cereal production in security drive</td>\n",
       "      <td>Researchers are pushing for India to focus on enhancing its production of crops other than rice, the country’s traditional staple, if it wishes to effectively address its triple threats of food security, climate change effects and malnutrition.</td>\n",
       "      <td>www.foodnavigator-asia.com/Article/2020/02/25/Beyond-rice-Indian-government-urged-to-boost-cereal-production-in-security-drive</td>\n",
       "      <td>Beyond rice: Indian government urged to boost cereal production in security drive. Researchers are pushing for India to focus on enhancing its production of crops other than rice, the country’s traditional staple, if it wishes to effectively address its triple threats of food security, climate change effects and malnutrition.</td>\n",
       "      <td>neutral</td>\n",
       "    </tr>\n",
       "  </tbody>\n",
       "</table>\n",
       "</div>"
      ],
      "text/plain": [
       "          date  \\\n",
       "0  20-Jul-2020   \n",
       "1  25-Jun-2020   \n",
       "2  22-Apr-2020   \n",
       "3  17-Mar-2020   \n",
       "4  25-Feb-2020   \n",
       "\n",
       "                                                                                                  title  \\\n",
       "0                Legacy vs price: Rice exports from Vietnam and India vie for ASEAN trade post-COVID-19   \n",
       "1                      Trade-off: Rice and seafood the big winners for Vietnam under EU free trade deal   \n",
       "2  Rice-ing concern: COVID-19 creates supply and price volatility for Asia’s most ‘cost-sensitive’ crop   \n",
       "3                      The rice and fall: Vietnam eyes more global opportunities as Thai supply totters   \n",
       "4                     Beyond rice: Indian government urged to boost cereal production in security drive   \n",
       "\n",
       "                                                                                                                                                                                                                                                  intro  \\\n",
       "0                Vietnam and India are competing for ASEAN rice trade post-COVID-19, with the former having gained advantage due to support from traditional partner Philippines, and the latter having come out ahead with Malaysia in terms of price.   \n",
       "1                                                 The recently-ratified EU-Vietnam Free Trade Agreement (EVFTA) has seen major gains in food trade for both sides, particularly in rice and seafood for Vietnam as well as alcohol and meat for the EU.   \n",
       "2                               Lockdowns and trade barriers across Asia due to the COVID-19 pandemic have thrust rice - one of the region’s largest agricultural commodities – firmly into the spotlight potential volatility in both supply and cost.   \n",
       "3              Thailand’s position as the largest exporter of rice from the South East Asian region is at risk as the country struggles to handle weather, economical and quality changes, whereas Vietnam looks to be going from strength to strength.   \n",
       "4  Researchers are pushing for India to focus on enhancing its production of crops other than rice, the country’s traditional staple, if it wishes to effectively address its triple threats of food security, climate change effects and malnutrition.   \n",
       "\n",
       "                                                                                                                                               url  \\\n",
       "0              www.foodnavigator-asia.com/Article/2020/07/20/Legacy-vs-price-Rice-exports-from-Vietnam-and-India-vie-for-ASEAN-trade-post-COVID-19   \n",
       "1                    www.foodnavigator-asia.com/Article/2020/06/25/Trade-off-Rice-and-seafood-the-big-winners-for-Vietnam-under-EU-free-trade-deal   \n",
       "2  www.foodnavigator-asia.com/Article/2020/04/22/Rice-ing-concern-COVID-19-creates-supply-and-price-volatility-for-Asia-s-most-cost-sensitive-crop   \n",
       "3                    www.foodnavigator-asia.com/Article/2020/03/17/The-rice-and-fall-Vietnam-eyes-more-global-opportunities-as-Thai-supply-totters   \n",
       "4                   www.foodnavigator-asia.com/Article/2020/02/25/Beyond-rice-Indian-government-urged-to-boost-cereal-production-in-security-drive   \n",
       "\n",
       "                                                                                                                                                                                                                                                                                                                                  combined  \\\n",
       "0           Legacy vs price: Rice exports from Vietnam and India vie for ASEAN trade post-COVID-19. Vietnam and India are competing for ASEAN rice trade post-COVID-19, with the former having gained advantage due to support from traditional partner Philippines, and the latter having come out ahead with Malaysia in terms of price.   \n",
       "1                                                  Trade-off: Rice and seafood the big winners for Vietnam under EU free trade deal. The recently-ratified EU-Vietnam Free Trade Agreement (EVFTA) has seen major gains in food trade for both sides, particularly in rice and seafood for Vietnam as well as alcohol and meat for the EU.   \n",
       "2            Rice-ing concern: COVID-19 creates supply and price volatility for Asia’s most ‘cost-sensitive’ crop. Lockdowns and trade barriers across Asia due to the COVID-19 pandemic have thrust rice - one of the region’s largest agricultural commodities – firmly into the spotlight potential volatility in both supply and cost.   \n",
       "3               The rice and fall: Vietnam eyes more global opportunities as Thai supply totters. Thailand’s position as the largest exporter of rice from the South East Asian region is at risk as the country struggles to handle weather, economical and quality changes, whereas Vietnam looks to be going from strength to strength.   \n",
       "4  Beyond rice: Indian government urged to boost cereal production in security drive. Researchers are pushing for India to focus on enhancing its production of crops other than rice, the country’s traditional staple, if it wishes to effectively address its triple threats of food security, climate change effects and malnutrition.   \n",
       "\n",
       "  risk_rating  \n",
       "0     neutral  \n",
       "1     neutral  \n",
       "2     neutral  \n",
       "3     neutral  \n",
       "4     neutral  "
      ]
     },
     "execution_count": 62,
     "metadata": {},
     "output_type": "execute_result"
    }
   ],
   "source": [
    "df.head()"
   ]
  },
  {
   "cell_type": "code",
   "execution_count": 58,
   "metadata": {},
   "outputs": [],
   "source": [
    "#manually annotate as risky, neutral or stabilizing to Asia rice food supply\n",
    "\n",
    "#going through 10 rows at a time to annotate\n",
    "\n",
    "#all news is neutral unless otherwise annotated as risky or stabilizing\n",
    "\n",
    "\n",
    "risky_rows = [2, 3, 7, 13, 17, 18, 20, 37, 43, 49, 53, 54, 58, 68, 71]\n",
    "stabilizing_rows = [6, 8, 9, 10, 11, 12, 14, 21, 24, 25, 27, 29, 30, 32, 42, \n",
    "                    46, 47, 48, 51, 55, 57, 61, 64, 65, 70, 73, 74]"
   ]
  },
  {
   "cell_type": "code",
   "execution_count": 88,
   "metadata": {},
   "outputs": [
    {
     "data": {
      "text/plain": [
       "15"
      ]
     },
     "execution_count": 88,
     "metadata": {},
     "output_type": "execute_result"
    }
   ],
   "source": [
    "len(risky_rows)"
   ]
  },
  {
   "cell_type": "code",
   "execution_count": 59,
   "metadata": {},
   "outputs": [
    {
     "data": {
      "text/plain": [
       "27"
      ]
     },
     "execution_count": 59,
     "metadata": {},
     "output_type": "execute_result"
    }
   ],
   "source": [
    "len(stabilizing_rows)"
   ]
  },
  {
   "cell_type": "code",
   "execution_count": 57,
   "metadata": {},
   "outputs": [
    {
     "data": {
      "text/html": [
       "<div>\n",
       "<style scoped>\n",
       "    .dataframe tbody tr th:only-of-type {\n",
       "        vertical-align: middle;\n",
       "    }\n",
       "\n",
       "    .dataframe tbody tr th {\n",
       "        vertical-align: top;\n",
       "    }\n",
       "\n",
       "    .dataframe thead th {\n",
       "        text-align: right;\n",
       "    }\n",
       "</style>\n",
       "<table border=\"1\" class=\"dataframe\">\n",
       "  <thead>\n",
       "    <tr style=\"text-align: right;\">\n",
       "      <th></th>\n",
       "      <th>combined</th>\n",
       "    </tr>\n",
       "  </thead>\n",
       "  <tbody>\n",
       "    <tr>\n",
       "      <th>60</th>\n",
       "      <td>Vietnamese researchers find efficient way to extract Gamma Oryzanol. Researchers in Vietnam claim to have invented technology that can be used to mass-produce Gamma Oryzanol from rice bran at a far lower cost than by current techniques.</td>\n",
       "    </tr>\n",
       "    <tr>\n",
       "      <th>61</th>\n",
       "      <td>China to explore increased rice imports from India. India’s newfound position as the world’s leading rice exporter has not escaped the attention of China, which may look to its western neighbour for increasingly greater rice supplies over the coming years.</td>\n",
       "    </tr>\n",
       "    <tr>\n",
       "      <th>62</th>\n",
       "      <td>Greenpeace gone too far with GM Golden Rice scandal. “Human guinea pigs”, “gambling with health” and “shadowy research project”—the terms came thick and fast in Greenpeace’s revelation about Golden Rice earlier this year.</td>\n",
       "    </tr>\n",
       "    <tr>\n",
       "      <th>63</th>\n",
       "      <td>Why does everyone hate the Thai rice mortgage scheme?. The Thai rice mortgage scheme continues to receive a fair amount of media bashing even after completing its first anniversary last month.</td>\n",
       "    </tr>\n",
       "    <tr>\n",
       "      <th>64</th>\n",
       "      <td>'Fuel-injected' rice closing in on reality. A project to develop a cutting-edge variety rice has received a significant funding boost, and is now about to roll into its second phase.</td>\n",
       "    </tr>\n",
       "    <tr>\n",
       "      <th>65</th>\n",
       "      <td>Future Group inks deal with agri-processor. Food major Future Group has announced that it has inked a deal with rice processor LT Foods that includes the setting up of the latter’s new facility at the group’s new food park.</td>\n",
       "    </tr>\n",
       "    <tr>\n",
       "      <th>66</th>\n",
       "      <td>The GM rice problem: Food fraud from China?. Genetic modification is an on-going problem in Asia’s basmati rice network and it is a problem that importers need to be vigilant in curbing, according to an industry expert.</td>\n",
       "    </tr>\n",
       "    <tr>\n",
       "      <th>67</th>\n",
       "      <td>Half of Hong Kong foods contain arsenic (but aren’t dangerous). A new report from the Center for Food Safety in Hong Kong has revealed almost half of food samples contain inorganic arsenic – but not in amounts sufficient to pose serious threats to health.</td>\n",
       "    </tr>\n",
       "    <tr>\n",
       "      <th>68</th>\n",
       "      <td>Pest plagues drive Asian insecticide marketing crackdown. Unregulated insecticide marketing in Asia is driving overuse and misuse by farmers leading to widespread pest infestations and damaging millions of tonnes of rice each year, according to industry experts.</td>\n",
       "    </tr>\n",
       "    <tr>\n",
       "      <th>69</th>\n",
       "      <td>Stalled Indian rice exports to US now being cleared. Indian consignments of basmati rice held up at US ports because of the presence of a banned pesticide are now being cleared, according to ministerial sources.</td>\n",
       "    </tr>\n",
       "    <tr>\n",
       "      <th>70</th>\n",
       "      <td>Global sustainable rice scheme launched. An international system has been launched that will establish environmental standards for sustainable rice production in a bid to increase rice yields.</td>\n",
       "    </tr>\n",
       "    <tr>\n",
       "      <th>71</th>\n",
       "      <td>Thai floods will have minimal impact on global rice market, according to industry expert. The severe flooding in Thailand is merely a second blow to its already unsteady rice market, an industry expert has said.</td>\n",
       "    </tr>\n",
       "    <tr>\n",
       "      <th>72</th>\n",
       "      <td>New joint venture between McCormick and Kohinoor Foods: India. Global spice and flavour giant McCormick has signed a joint venture contract with India’s leading basmati rice production company Kohinoor Foods, forming a new company in India.</td>\n",
       "    </tr>\n",
       "    <tr>\n",
       "      <th>73</th>\n",
       "      <td>Singapore pledges $8.2m to Asia rice science for the next five years. Singapore’s National Research Foundation (NRF) has said it will invest $8.2m in a joint research program that aims to ensure food security and future rice demands are met throughout Asia.</td>\n",
       "    </tr>\n",
       "    <tr>\n",
       "      <th>74</th>\n",
       "      <td>Japanese scientists to breed rice resilient to radioactive cesium. In the wake of the Fukushima nuclear disaster, Japanese scientists from the Fukushima Agricultural Technology Centre are working towards a potential solution for the future of Japanese rice farmers – a strain of rice resilient to cesium absorption.</td>\n",
       "    </tr>\n",
       "  </tbody>\n",
       "</table>\n",
       "</div>"
      ],
      "text/plain": [
       "                                                                                                                                                                                                                                                                                                                       combined\n",
       "60                                                                                 Vietnamese researchers find efficient way to extract Gamma Oryzanol. Researchers in Vietnam claim to have invented technology that can be used to mass-produce Gamma Oryzanol from rice bran at a far lower cost than by current techniques.\n",
       "61                                                             China to explore increased rice imports from India. India’s newfound position as the world’s leading rice exporter has not escaped the attention of China, which may look to its western neighbour for increasingly greater rice supplies over the coming years.\n",
       "62                                                                                                Greenpeace gone too far with GM Golden Rice scandal. “Human guinea pigs”, “gambling with health” and “shadowy research project”—the terms came thick and fast in Greenpeace’s revelation about Golden Rice earlier this year.\n",
       "63                                                                                                                            Why does everyone hate the Thai rice mortgage scheme?. The Thai rice mortgage scheme continues to receive a fair amount of media bashing even after completing its first anniversary last month. \n",
       "64                                                                                                                                       'Fuel-injected' rice closing in on reality. A project to develop a cutting-edge variety rice has received a significant funding boost, and is now about to roll into its second phase.\n",
       "65                                                                                              Future Group inks deal with agri-processor. Food major Future Group has announced that it has inked a deal with rice processor LT Foods that includes the setting up of the latter’s new facility at the group’s new food park.\n",
       "66                                                                                                  The GM rice problem: Food fraud from China?. Genetic modification is an on-going problem in Asia’s basmati rice network and it is a problem that importers need to be vigilant in curbing, according to an industry expert.\n",
       "67                                                              Half of Hong Kong foods contain arsenic (but aren’t dangerous). A new report from the Center for Food Safety in Hong Kong has revealed almost half of food samples contain inorganic arsenic – but not in amounts sufficient to pose serious threats to health.\n",
       "68                                                       Pest plagues drive Asian insecticide marketing crackdown. Unregulated insecticide marketing in Asia is driving overuse and misuse by farmers leading to widespread pest infestations and damaging millions of tonnes of rice each year, according to industry experts.\n",
       "69                                                                                                          Stalled Indian rice exports to US now being cleared. Indian consignments of basmati rice held up at US ports because of the presence of a banned pesticide are now being cleared, according to ministerial sources.\n",
       "70                                                                                                                             Global sustainable rice scheme launched. An international system has been launched that will establish environmental standards for sustainable rice production in a bid to increase rice yields.\n",
       "71                                                                                                          Thai floods will have minimal impact on global rice market, according to industry expert. The severe flooding in Thailand is merely a second blow to its already unsteady rice market, an industry expert has said.\n",
       "72                                                                             New joint venture between McCormick and Kohinoor Foods: India. Global spice and flavour giant McCormick has signed a joint venture contract with India’s leading basmati rice production company Kohinoor Foods, forming a new company in India.\n",
       "73                                                            Singapore pledges $8.2m to Asia rice science for the next five years. Singapore’s National Research Foundation (NRF) has said it will invest $8.2m in a joint research program that aims to ensure food security and future rice demands are met throughout Asia.\n",
       "74  Japanese scientists to breed rice resilient to radioactive cesium. In the wake of the Fukushima nuclear disaster, Japanese scientists from the Fukushima Agricultural Technology Centre are working towards a potential solution for the future of Japanese rice farmers – a strain of rice resilient to cesium absorption."
      ]
     },
     "execution_count": 57,
     "metadata": {},
     "output_type": "execute_result"
    }
   ],
   "source": [
    "df[[\"combined\"]][60:75]"
   ]
  },
  {
   "cell_type": "code",
   "execution_count": 82,
   "metadata": {},
   "outputs": [],
   "source": [
    "#we replace our placeholder \"neutral\" rating in our manual annotations of risky rows \n",
    "for i in risky_rows:\n",
    "    df.at[i, \"risk_rating\"] = \"risky\""
   ]
  },
  {
   "cell_type": "code",
   "execution_count": 84,
   "metadata": {},
   "outputs": [],
   "source": [
    "for i in stabilizing_rows:\n",
    "    df.at[i, \"risk_rating\"] = \"stable\""
   ]
  },
  {
   "cell_type": "code",
   "execution_count": 85,
   "metadata": {
    "jupyter": {
     "outputs_hidden": true
    },
    "scrolled": true
   },
   "outputs": [
    {
     "data": {
      "text/html": [
       "<div>\n",
       "<style scoped>\n",
       "    .dataframe tbody tr th:only-of-type {\n",
       "        vertical-align: middle;\n",
       "    }\n",
       "\n",
       "    .dataframe tbody tr th {\n",
       "        vertical-align: top;\n",
       "    }\n",
       "\n",
       "    .dataframe thead th {\n",
       "        text-align: right;\n",
       "    }\n",
       "</style>\n",
       "<table border=\"1\" class=\"dataframe\">\n",
       "  <thead>\n",
       "    <tr style=\"text-align: right;\">\n",
       "      <th></th>\n",
       "      <th>date</th>\n",
       "      <th>title</th>\n",
       "      <th>intro</th>\n",
       "      <th>url</th>\n",
       "      <th>combined</th>\n",
       "      <th>risk_rating</th>\n",
       "    </tr>\n",
       "  </thead>\n",
       "  <tbody>\n",
       "    <tr>\n",
       "      <th>0</th>\n",
       "      <td>20-Jul-2020</td>\n",
       "      <td>Legacy vs price: Rice exports from Vietnam and India vie for ASEAN trade post-COVID-19</td>\n",
       "      <td>Vietnam and India are competing for ASEAN rice trade post-COVID-19, with the former having gained advantage due to support from traditional partner Philippines, and the latter having come out ahead with Malaysia in terms of price.</td>\n",
       "      <td>www.foodnavigator-asia.com/Article/2020/07/20/Legacy-vs-price-Rice-exports-from-Vietnam-and-India-vie-for-ASEAN-trade-post-COVID-19</td>\n",
       "      <td>Legacy vs price: Rice exports from Vietnam and India vie for ASEAN trade post-COVID-19. Vietnam and India are competing for ASEAN rice trade post-COVID-19, with the former having gained advantage due to support from traditional partner Philippines, and the latter having come out ahead with Malaysia in terms of price.</td>\n",
       "      <td>neutral</td>\n",
       "    </tr>\n",
       "    <tr>\n",
       "      <th>1</th>\n",
       "      <td>25-Jun-2020</td>\n",
       "      <td>Trade-off: Rice and seafood the big winners for Vietnam under EU free trade deal</td>\n",
       "      <td>The recently-ratified EU-Vietnam Free Trade Agreement (EVFTA) has seen major gains in food trade for both sides, particularly in rice and seafood for Vietnam as well as alcohol and meat for the EU.</td>\n",
       "      <td>www.foodnavigator-asia.com/Article/2020/06/25/Trade-off-Rice-and-seafood-the-big-winners-for-Vietnam-under-EU-free-trade-deal</td>\n",
       "      <td>Trade-off: Rice and seafood the big winners for Vietnam under EU free trade deal. The recently-ratified EU-Vietnam Free Trade Agreement (EVFTA) has seen major gains in food trade for both sides, particularly in rice and seafood for Vietnam as well as alcohol and meat for the EU.</td>\n",
       "      <td>neutral</td>\n",
       "    </tr>\n",
       "    <tr>\n",
       "      <th>2</th>\n",
       "      <td>22-Apr-2020</td>\n",
       "      <td>Rice-ing concern: COVID-19 creates supply and price volatility for Asia’s most ‘cost-sensitive’ crop</td>\n",
       "      <td>Lockdowns and trade barriers across Asia due to the COVID-19 pandemic have thrust rice - one of the region’s largest agricultural commodities – firmly into the spotlight potential volatility in both supply and cost.</td>\n",
       "      <td>www.foodnavigator-asia.com/Article/2020/04/22/Rice-ing-concern-COVID-19-creates-supply-and-price-volatility-for-Asia-s-most-cost-sensitive-crop</td>\n",
       "      <td>Rice-ing concern: COVID-19 creates supply and price volatility for Asia’s most ‘cost-sensitive’ crop. Lockdowns and trade barriers across Asia due to the COVID-19 pandemic have thrust rice - one of the region’s largest agricultural commodities – firmly into the spotlight potential volatility in both supply and cost.</td>\n",
       "      <td>risky</td>\n",
       "    </tr>\n",
       "    <tr>\n",
       "      <th>3</th>\n",
       "      <td>17-Mar-2020</td>\n",
       "      <td>The rice and fall: Vietnam eyes more global opportunities as Thai supply totters</td>\n",
       "      <td>Thailand’s position as the largest exporter of rice from the South East Asian region is at risk as the country struggles to handle weather, economical and quality changes, whereas Vietnam looks to be going from strength to strength.</td>\n",
       "      <td>www.foodnavigator-asia.com/Article/2020/03/17/The-rice-and-fall-Vietnam-eyes-more-global-opportunities-as-Thai-supply-totters</td>\n",
       "      <td>The rice and fall: Vietnam eyes more global opportunities as Thai supply totters. Thailand’s position as the largest exporter of rice from the South East Asian region is at risk as the country struggles to handle weather, economical and quality changes, whereas Vietnam looks to be going from strength to strength.</td>\n",
       "      <td>risky</td>\n",
       "    </tr>\n",
       "    <tr>\n",
       "      <th>4</th>\n",
       "      <td>25-Feb-2020</td>\n",
       "      <td>Beyond rice: Indian government urged to boost cereal production in security drive</td>\n",
       "      <td>Researchers are pushing for India to focus on enhancing its production of crops other than rice, the country’s traditional staple, if it wishes to effectively address its triple threats of food security, climate change effects and malnutrition.</td>\n",
       "      <td>www.foodnavigator-asia.com/Article/2020/02/25/Beyond-rice-Indian-government-urged-to-boost-cereal-production-in-security-drive</td>\n",
       "      <td>Beyond rice: Indian government urged to boost cereal production in security drive. Researchers are pushing for India to focus on enhancing its production of crops other than rice, the country’s traditional staple, if it wishes to effectively address its triple threats of food security, climate change effects and malnutrition.</td>\n",
       "      <td>neutral</td>\n",
       "    </tr>\n",
       "    <tr>\n",
       "      <th>5</th>\n",
       "      <td>17-Feb-2020</td>\n",
       "      <td>Arsenic snack shock: RMIT study finds almost 75% of children rice snacks exceed EU recommendations</td>\n",
       "      <td>Nearly 75% of infant and children rice snack samples in Australia have been found to exceed the European Union (EU) maximum levels of inorganic arsenic levels.</td>\n",
       "      <td>www.foodnavigator-asia.com/Article/2020/02/17/Arsenic-snack-shock-RMIT-study-finds-almost-75-of-children-rice-snacks-exceed-EU-recommendations</td>\n",
       "      <td>Arsenic snack shock: RMIT study finds almost 75% of children rice snacks exceed EU recommendations. Nearly 75% of infant and children rice snack samples in Australia have been found to exceed the European Union (EU) maximum levels of inorganic arsenic levels.</td>\n",
       "      <td>neutral</td>\n",
       "    </tr>\n",
       "    <tr>\n",
       "      <th>6</th>\n",
       "      <td>14-Jan-2020</td>\n",
       "      <td>Rice and shine: Expansion plans in the pipelines for Japan’s low carbohydrate rice</td>\n",
       "      <td>Japanese health food company KBS Corporation is rapidly expanding its sales channels for its low carbohydrate rice, Trice.</td>\n",
       "      <td>www.foodnavigator-asia.com/Article/2020/01/14/Rice-and-shine-Expansion-plans-in-the-pipelines-for-Japan-s-low-carbohydrate-rice</td>\n",
       "      <td>Rice and shine: Expansion plans in the pipelines for Japan’s low carbohydrate rice. Japanese health food company KBS Corporation is rapidly expanding its sales channels for its low carbohydrate rice, Trice.</td>\n",
       "      <td>neutral</td>\n",
       "    </tr>\n",
       "    <tr>\n",
       "      <th>7</th>\n",
       "      <td>10-Dec-2019</td>\n",
       "      <td>Philippines rice saga: Government confirms stricter import controls despite President’s pledge to ban them</td>\n",
       "      <td>The Philippines Department of Agriculture (DA) has opted to control rice imports and prices, even though President Rodrigo Duterte previously said all imports would be halted.</td>\n",
       "      <td>www.foodnavigator-asia.com/Article/2019/12/10/Philippines-rice-saga-Government-confirms-stricter-import-controls-despite-President-s-pledge-to-ban-them</td>\n",
       "      <td>Philippines rice saga: Government confirms stricter import controls despite President’s pledge to ban them. The Philippines Department of Agriculture (DA) has opted to control rice imports and prices, even though President Rodrigo Duterte previously said all imports would be halted.</td>\n",
       "      <td>risky</td>\n",
       "    </tr>\n",
       "    <tr>\n",
       "      <th>8</th>\n",
       "      <td>15-Oct-2019</td>\n",
       "      <td>Thai rice specialist firm MediFoods looks to expand local market after overseas success</td>\n",
       "      <td>Thailand rice specialist company MediFoods has its eye on local market expansion after a successful run overseas with its rice-based products and ingredients portfolio.</td>\n",
       "      <td>www.foodnavigator-asia.com/Article/2019/10/15/Thai-rice-specialist-firm-MediFoods-looks-to-expand-local-market-after-overseas-success</td>\n",
       "      <td>Thai rice specialist firm MediFoods looks to expand local market after overseas success. Thailand rice specialist company MediFoods has its eye on local market expansion after a successful run overseas with its rice-based products and ingredients portfolio.</td>\n",
       "      <td>neutral</td>\n",
       "    </tr>\n",
       "    <tr>\n",
       "      <th>9</th>\n",
       "      <td>08-May-2019</td>\n",
       "      <td>Rice crisis over? Philippines looks at removal of suggested retail prices as market stabilises</td>\n",
       "      <td>The Philippines Department of Trade and Industry (DTI) is considering the removal of suggested retail prices (SRPs) for rice in the wake of the rice tariffication law being signed earlier this year.</td>\n",
       "      <td>www.foodnavigator-asia.com/Article/2019/05/08/Rice-crisis-over-Philippines-looks-at-removal-of-suggested-retail-prices-as-market-stabilises</td>\n",
       "      <td>Rice crisis over? Philippines looks at removal of suggested retail prices as market stabilises. The Philippines Department of Trade and Industry (DTI) is considering the removal of suggested retail prices (SRPs) for rice in the wake of the rice tariffication law being signed earlier this year.</td>\n",
       "      <td>neutral</td>\n",
       "    </tr>\n",
       "  </tbody>\n",
       "</table>\n",
       "</div>"
      ],
      "text/plain": [
       "          date  \\\n",
       "0  20-Jul-2020   \n",
       "1  25-Jun-2020   \n",
       "2  22-Apr-2020   \n",
       "3  17-Mar-2020   \n",
       "4  25-Feb-2020   \n",
       "5  17-Feb-2020   \n",
       "6  14-Jan-2020   \n",
       "7  10-Dec-2019   \n",
       "8  15-Oct-2019   \n",
       "9  08-May-2019   \n",
       "\n",
       "                                                                                                        title  \\\n",
       "0                      Legacy vs price: Rice exports from Vietnam and India vie for ASEAN trade post-COVID-19   \n",
       "1                            Trade-off: Rice and seafood the big winners for Vietnam under EU free trade deal   \n",
       "2        Rice-ing concern: COVID-19 creates supply and price volatility for Asia’s most ‘cost-sensitive’ crop   \n",
       "3                            The rice and fall: Vietnam eyes more global opportunities as Thai supply totters   \n",
       "4                           Beyond rice: Indian government urged to boost cereal production in security drive   \n",
       "5          Arsenic snack shock: RMIT study finds almost 75% of children rice snacks exceed EU recommendations   \n",
       "6                          Rice and shine: Expansion plans in the pipelines for Japan’s low carbohydrate rice   \n",
       "7  Philippines rice saga: Government confirms stricter import controls despite President’s pledge to ban them   \n",
       "8                     Thai rice specialist firm MediFoods looks to expand local market after overseas success   \n",
       "9              Rice crisis over? Philippines looks at removal of suggested retail prices as market stabilises   \n",
       "\n",
       "                                                                                                                                                                                                                                                  intro  \\\n",
       "0                Vietnam and India are competing for ASEAN rice trade post-COVID-19, with the former having gained advantage due to support from traditional partner Philippines, and the latter having come out ahead with Malaysia in terms of price.   \n",
       "1                                                 The recently-ratified EU-Vietnam Free Trade Agreement (EVFTA) has seen major gains in food trade for both sides, particularly in rice and seafood for Vietnam as well as alcohol and meat for the EU.   \n",
       "2                               Lockdowns and trade barriers across Asia due to the COVID-19 pandemic have thrust rice - one of the region’s largest agricultural commodities – firmly into the spotlight potential volatility in both supply and cost.   \n",
       "3              Thailand’s position as the largest exporter of rice from the South East Asian region is at risk as the country struggles to handle weather, economical and quality changes, whereas Vietnam looks to be going from strength to strength.   \n",
       "4  Researchers are pushing for India to focus on enhancing its production of crops other than rice, the country’s traditional staple, if it wishes to effectively address its triple threats of food security, climate change effects and malnutrition.   \n",
       "5                                                                                       Nearly 75% of infant and children rice snack samples in Australia have been found to exceed the European Union (EU) maximum levels of inorganic arsenic levels.   \n",
       "6                                                                                                                            Japanese health food company KBS Corporation is rapidly expanding its sales channels for its low carbohydrate rice, Trice.   \n",
       "7                                                                       The Philippines Department of Agriculture (DA) has opted to control rice imports and prices, even though President Rodrigo Duterte previously said all imports would be halted.   \n",
       "8                                                                              Thailand rice specialist company MediFoods has its eye on local market expansion after a successful run overseas with its rice-based products and ingredients portfolio.   \n",
       "9                                                The Philippines Department of Trade and Industry (DTI) is considering the removal of suggested retail prices (SRPs) for rice in the wake of the rice tariffication law being signed earlier this year.   \n",
       "\n",
       "                                                                                                                                                       url  \\\n",
       "0                      www.foodnavigator-asia.com/Article/2020/07/20/Legacy-vs-price-Rice-exports-from-Vietnam-and-India-vie-for-ASEAN-trade-post-COVID-19   \n",
       "1                            www.foodnavigator-asia.com/Article/2020/06/25/Trade-off-Rice-and-seafood-the-big-winners-for-Vietnam-under-EU-free-trade-deal   \n",
       "2          www.foodnavigator-asia.com/Article/2020/04/22/Rice-ing-concern-COVID-19-creates-supply-and-price-volatility-for-Asia-s-most-cost-sensitive-crop   \n",
       "3                            www.foodnavigator-asia.com/Article/2020/03/17/The-rice-and-fall-Vietnam-eyes-more-global-opportunities-as-Thai-supply-totters   \n",
       "4                           www.foodnavigator-asia.com/Article/2020/02/25/Beyond-rice-Indian-government-urged-to-boost-cereal-production-in-security-drive   \n",
       "5           www.foodnavigator-asia.com/Article/2020/02/17/Arsenic-snack-shock-RMIT-study-finds-almost-75-of-children-rice-snacks-exceed-EU-recommendations   \n",
       "6                          www.foodnavigator-asia.com/Article/2020/01/14/Rice-and-shine-Expansion-plans-in-the-pipelines-for-Japan-s-low-carbohydrate-rice   \n",
       "7  www.foodnavigator-asia.com/Article/2019/12/10/Philippines-rice-saga-Government-confirms-stricter-import-controls-despite-President-s-pledge-to-ban-them   \n",
       "8                    www.foodnavigator-asia.com/Article/2019/10/15/Thai-rice-specialist-firm-MediFoods-looks-to-expand-local-market-after-overseas-success   \n",
       "9              www.foodnavigator-asia.com/Article/2019/05/08/Rice-crisis-over-Philippines-looks-at-removal-of-suggested-retail-prices-as-market-stabilises   \n",
       "\n",
       "                                                                                                                                                                                                                                                                                                                                  combined  \\\n",
       "0           Legacy vs price: Rice exports from Vietnam and India vie for ASEAN trade post-COVID-19. Vietnam and India are competing for ASEAN rice trade post-COVID-19, with the former having gained advantage due to support from traditional partner Philippines, and the latter having come out ahead with Malaysia in terms of price.   \n",
       "1                                                  Trade-off: Rice and seafood the big winners for Vietnam under EU free trade deal. The recently-ratified EU-Vietnam Free Trade Agreement (EVFTA) has seen major gains in food trade for both sides, particularly in rice and seafood for Vietnam as well as alcohol and meat for the EU.   \n",
       "2            Rice-ing concern: COVID-19 creates supply and price volatility for Asia’s most ‘cost-sensitive’ crop. Lockdowns and trade barriers across Asia due to the COVID-19 pandemic have thrust rice - one of the region’s largest agricultural commodities – firmly into the spotlight potential volatility in both supply and cost.   \n",
       "3               The rice and fall: Vietnam eyes more global opportunities as Thai supply totters. Thailand’s position as the largest exporter of rice from the South East Asian region is at risk as the country struggles to handle weather, economical and quality changes, whereas Vietnam looks to be going from strength to strength.   \n",
       "4  Beyond rice: Indian government urged to boost cereal production in security drive. Researchers are pushing for India to focus on enhancing its production of crops other than rice, the country’s traditional staple, if it wishes to effectively address its triple threats of food security, climate change effects and malnutrition.   \n",
       "5                                                                      Arsenic snack shock: RMIT study finds almost 75% of children rice snacks exceed EU recommendations. Nearly 75% of infant and children rice snack samples in Australia have been found to exceed the European Union (EU) maximum levels of inorganic arsenic levels.   \n",
       "6                                                                                                                           Rice and shine: Expansion plans in the pipelines for Japan’s low carbohydrate rice. Japanese health food company KBS Corporation is rapidly expanding its sales channels for its low carbohydrate rice, Trice.   \n",
       "7                                              Philippines rice saga: Government confirms stricter import controls despite President’s pledge to ban them. The Philippines Department of Agriculture (DA) has opted to control rice imports and prices, even though President Rodrigo Duterte previously said all imports would be halted.   \n",
       "8                                                                        Thai rice specialist firm MediFoods looks to expand local market after overseas success. Thailand rice specialist company MediFoods has its eye on local market expansion after a successful run overseas with its rice-based products and ingredients portfolio.   \n",
       "9                                   Rice crisis over? Philippines looks at removal of suggested retail prices as market stabilises. The Philippines Department of Trade and Industry (DTI) is considering the removal of suggested retail prices (SRPs) for rice in the wake of the rice tariffication law being signed earlier this year.   \n",
       "\n",
       "  risk_rating  \n",
       "0     neutral  \n",
       "1     neutral  \n",
       "2       risky  \n",
       "3       risky  \n",
       "4     neutral  \n",
       "5     neutral  \n",
       "6     neutral  \n",
       "7       risky  \n",
       "8     neutral  \n",
       "9     neutral  "
      ]
     },
     "execution_count": 85,
     "metadata": {},
     "output_type": "execute_result"
    }
   ],
   "source": [
    "#risky ratings are in, looks ok\n",
    "df.head(10)"
   ]
  },
  {
   "cell_type": "code",
   "execution_count": 89,
   "metadata": {},
   "outputs": [
    {
     "data": {
      "text/plain": [
       "neutral    33\n",
       "stable     27\n",
       "risky      15\n",
       "Name: risk_rating, dtype: int64"
      ]
     },
     "execution_count": 89,
     "metadata": {},
     "output_type": "execute_result"
    }
   ],
   "source": [
    "df[\"risk_rating\"].value_counts()"
   ]
  },
  {
   "cell_type": "code",
   "execution_count": 90,
   "metadata": {},
   "outputs": [],
   "source": [
    "stable_ratings = df[\"combined\"][df[\"risk_rating\"]==\"stable\"]"
   ]
  },
  {
   "cell_type": "code",
   "execution_count": 95,
   "metadata": {},
   "outputs": [
    {
     "data": {
      "text/html": [
       "<div>\n",
       "<style scoped>\n",
       "    .dataframe tbody tr th:only-of-type {\n",
       "        vertical-align: middle;\n",
       "    }\n",
       "\n",
       "    .dataframe tbody tr th {\n",
       "        vertical-align: top;\n",
       "    }\n",
       "\n",
       "    .dataframe thead th {\n",
       "        text-align: right;\n",
       "    }\n",
       "</style>\n",
       "<table border=\"1\" class=\"dataframe\">\n",
       "  <thead>\n",
       "    <tr style=\"text-align: right;\">\n",
       "      <th></th>\n",
       "      <th>date</th>\n",
       "      <th>title</th>\n",
       "      <th>intro</th>\n",
       "      <th>url</th>\n",
       "      <th>combined</th>\n",
       "      <th>risk_rating</th>\n",
       "    </tr>\n",
       "  </thead>\n",
       "  <tbody>\n",
       "    <tr>\n",
       "      <th>6</th>\n",
       "      <td>14-Jan-2020</td>\n",
       "      <td>Rice and shine: Expansion plans in the pipelines for Japan’s low carbohydrate rice</td>\n",
       "      <td>Japanese health food company KBS Corporation is rapidly expanding its sales channels for its low carbohydrate rice, Trice.</td>\n",
       "      <td>www.foodnavigator-asia.com/Article/2020/01/14/Rice-and-shine-Expansion-plans-in-the-pipelines-for-Japan-s-low-carbohydrate-rice</td>\n",
       "      <td>Rice and shine: Expansion plans in the pipelines for Japan’s low carbohydrate rice. Japanese health food company KBS Corporation is rapidly expanding its sales channels for its low carbohydrate rice, Trice.</td>\n",
       "      <td>neutral</td>\n",
       "    </tr>\n",
       "    <tr>\n",
       "      <th>8</th>\n",
       "      <td>15-Oct-2019</td>\n",
       "      <td>Thai rice specialist firm MediFoods looks to expand local market after overseas success</td>\n",
       "      <td>Thailand rice specialist company MediFoods has its eye on local market expansion after a successful run overseas with its rice-based products and ingredients portfolio.</td>\n",
       "      <td>www.foodnavigator-asia.com/Article/2019/10/15/Thai-rice-specialist-firm-MediFoods-looks-to-expand-local-market-after-overseas-success</td>\n",
       "      <td>Thai rice specialist firm MediFoods looks to expand local market after overseas success. Thailand rice specialist company MediFoods has its eye on local market expansion after a successful run overseas with its rice-based products and ingredients portfolio.</td>\n",
       "      <td>neutral</td>\n",
       "    </tr>\n",
       "    <tr>\n",
       "      <th>9</th>\n",
       "      <td>08-May-2019</td>\n",
       "      <td>Rice crisis over? Philippines looks at removal of suggested retail prices as market stabilises</td>\n",
       "      <td>The Philippines Department of Trade and Industry (DTI) is considering the removal of suggested retail prices (SRPs) for rice in the wake of the rice tariffication law being signed earlier this year.</td>\n",
       "      <td>www.foodnavigator-asia.com/Article/2019/05/08/Rice-crisis-over-Philippines-looks-at-removal-of-suggested-retail-prices-as-market-stabilises</td>\n",
       "      <td>Rice crisis over? Philippines looks at removal of suggested retail prices as market stabilises. The Philippines Department of Trade and Industry (DTI) is considering the removal of suggested retail prices (SRPs) for rice in the wake of the rice tariffication law being signed earlier this year.</td>\n",
       "      <td>neutral</td>\n",
       "    </tr>\n",
       "    <tr>\n",
       "      <th>10</th>\n",
       "      <td>07-May-2019</td>\n",
       "      <td>'Affordable fortification': Indian supplier gets government contract to produce fortified rice for Kerala</td>\n",
       "      <td>India's SupplyCo has received a government contract to produce and provide fortified rice in Kerala, after figures revealed that 19.7% of children below the age of five are stunted and 15.7% are underweight.</td>\n",
       "      <td>www.foodnavigator-asia.com/Article/2019/05/07/Affordable-fortification-Indian-supplier-gets-government-contract-to-produce-fortified-rice-for-Kerala</td>\n",
       "      <td>'Affordable fortification': Indian supplier gets government contract to produce fortified rice for Kerala. India's SupplyCo has received a government contract to produce and provide fortified rice in Kerala, after figures revealed that 19.7% of children below the age of five are stunted and 15.7% are underweight.</td>\n",
       "      <td>neutral</td>\n",
       "    </tr>\n",
       "    <tr>\n",
       "      <th>11</th>\n",
       "      <td>06-Feb-2019</td>\n",
       "      <td>‘No more limit’: Philippines import cap removal could see 1.2m MT of rice entering the country</td>\n",
       "      <td>The Philippines’ lifting of a 20-year old rice import cap is likely to result in some 1.2 million metric tons of rice being imported into the country in the wake of ongoing shortages and price hikes, the National Food Agency (NFA) has said.</td>\n",
       "      <td>www.foodnavigator-asia.com/Article/2019/02/06/No-more-limit-Philippines-import-cap-removal-could-see-1.2m-MT-of-rice-entering-the-country</td>\n",
       "      <td>‘No more limit’: Philippines import cap removal could see 1.2m MT of rice entering the country. The Philippines’ lifting of a 20-year old rice import cap is likely to result in some 1.2 million metric tons of rice being imported into the country in the wake of ongoing shortages and price hikes, the National Food Agency (NFA) has said.</td>\n",
       "      <td>neutral</td>\n",
       "    </tr>\n",
       "    <tr>\n",
       "      <th>12</th>\n",
       "      <td>19-Dec-2018</td>\n",
       "      <td>Mandatory rice fortification for public programmes in India by December 2019</td>\n",
       "      <td>The use of fortified rice will be mandatory in all midday meal schemes, and public nutrition programmes under the Integrated Child Development Services (ICDS) in India by December 2019.</td>\n",
       "      <td>www.foodnavigator-asia.com/Article/2018/12/19/Mandatory-rice-fortification-for-public-programmes-in-India-by-December-2019</td>\n",
       "      <td>Mandatory rice fortification for public programmes in India by December 2019. The use of fortified rice will be mandatory in all midday meal schemes, and public nutrition programmes under the Integrated Child Development Services (ICDS) in India by December 2019.</td>\n",
       "      <td>neutral</td>\n",
       "    </tr>\n",
       "    <tr>\n",
       "      <th>14</th>\n",
       "      <td>29-Oct-2018</td>\n",
       "      <td>‘No more fancy brand names’: Rice labelling and pricing rules introduced in Philippines amid supply crisis</td>\n",
       "      <td>Food companies have been warned to avoid fancy ‘nicknames’ for rice as suggested retail prices (SRPs) are implemented in the Philippines, in a move that the government hopes will alleviate the country’s rising food troubles.</td>\n",
       "      <td>www.foodnavigator-asia.com/Article/2018/10/29/No-more-fancy-brand-names-Rice-labelling-and-pricing-rules-introduced-in-Philippines-amid-supply-crisis</td>\n",
       "      <td>‘No more fancy brand names’: Rice labelling and pricing rules introduced in Philippines amid supply crisis. Food companies have been warned to avoid fancy ‘nicknames’ for rice as suggested retail prices (SRPs) are implemented in the Philippines, in a move that the government hopes will alleviate the country’s rising food troubles.</td>\n",
       "      <td>neutral</td>\n",
       "    </tr>\n",
       "    <tr>\n",
       "      <th>21</th>\n",
       "      <td>28-Jun-2018</td>\n",
       "      <td>Low-GI outfit SunRice reveals business growth plans with proposed capital raise</td>\n",
       "      <td>Australian low-GI rice firm SunRice is seeking to raise up to AU$30m to accelerate new product development and expansion across Asia Pacific.</td>\n",
       "      <td>www.foodnavigator-asia.com/Article/2018/06/28/Low-GI-outfit-SunRice-reveals-business-growth-plans-with-proposed-capital-raise</td>\n",
       "      <td>Low-GI outfit SunRice reveals business growth plans with proposed capital raise. Australian low-GI rice firm SunRice is seeking to raise up to AU$30m to accelerate new product development and expansion across Asia Pacific.</td>\n",
       "      <td>neutral</td>\n",
       "    </tr>\n",
       "    <tr>\n",
       "      <th>24</th>\n",
       "      <td>18-Jan-2018</td>\n",
       "      <td>China rice bran oil debuts in Japan to take on domestic brands</td>\n",
       "      <td>China rice bran oil brand Arawana has made its first move into the ultra-competitive Japan market with its first supermarket launch.</td>\n",
       "      <td>www.foodnavigator-asia.com/Article/2018/01/18/China-rice-bran-oil-debuts-in-Japan-to-take-on-domestic-brands</td>\n",
       "      <td>China rice bran oil debuts in Japan to take on domestic brands. China rice bran oil brand Arawana has made its first move into the ultra-competitive Japan market with its first supermarket launch.</td>\n",
       "      <td>neutral</td>\n",
       "    </tr>\n",
       "    <tr>\n",
       "      <th>25</th>\n",
       "      <td>03-Jan-2018</td>\n",
       "      <td>Foods containing GM golden rice can be sold in Australia and New Zealand</td>\n",
       "      <td>Products containing traces of golden rice, which is genetically modified to produce beta-carotene, should be able to be sold in Australia and New Zealand, regulators have ruled.</td>\n",
       "      <td>www.foodnavigator-asia.com/Article/2018/01/03/Foods-containing-GM-golden-rice-can-be-sold-in-Australia-and-New-Zealand</td>\n",
       "      <td>Foods containing GM golden rice can be sold in Australia and New Zealand. Products containing traces of golden rice, which is genetically modified to produce beta-carotene, should be able to be sold in Australia and New Zealand, regulators have ruled.</td>\n",
       "      <td>neutral</td>\n",
       "    </tr>\n",
       "    <tr>\n",
       "      <th>27</th>\n",
       "      <td>06-Apr-2017</td>\n",
       "      <td>FAO and Irri collaborate for Apac rice sustainability programme</td>\n",
       "      <td>The International Rice Research Institute will work more closely with the UN’s agriculture agency to support sustainable rice production in developing countries in a bid to improve food security.</td>\n",
       "      <td>www.foodnavigator-asia.com/Article/2017/04/06/FAO-and-Irri-collaborate-for-Apac-rice-sustainability-programme</td>\n",
       "      <td>FAO and Irri collaborate for Apac rice sustainability programme. The International Rice Research Institute will work more closely with the UN’s agriculture agency to support sustainable rice production in developing countries in a bid to improve food security.</td>\n",
       "      <td>neutral</td>\n",
       "    </tr>\n",
       "    <tr>\n",
       "      <th>29</th>\n",
       "      <td>16-Feb-2017</td>\n",
       "      <td>Rice diversity could be central to more productive crops</td>\n",
       "      <td>Scientists have found that they can improve rice productivity by selecting varieties that are better at capturing sunlight to produce grains, instead of reflecting it as heat.</td>\n",
       "      <td>www.foodnavigator-asia.com/Article/2017/02/16/Rice-diversity-could-be-central-to-more-productive-crops</td>\n",
       "      <td>Rice diversity could be central to more productive crops. Scientists have found that they can improve rice productivity by selecting varieties that are better at capturing sunlight to produce grains, instead of reflecting it as heat.</td>\n",
       "      <td>neutral</td>\n",
       "    </tr>\n",
       "    <tr>\n",
       "      <th>30</th>\n",
       "      <td>06-Dec-2016</td>\n",
       "      <td>Amira joins select few firms with permission to ship rice to China</td>\n",
       "      <td>Dubai-based Amira Nature Foods, which manufactures packaged Indian specialty rice, is now one of only a select few Indian companies allowed to export rice to China after they were granted approval for basmati shipments.</td>\n",
       "      <td>www.foodnavigator-asia.com/Article/2016/12/06/Amira-joins-select-few-firms-with-permission-to-ship-rice-to-China</td>\n",
       "      <td>Amira joins select few firms with permission to ship rice to China. Dubai-based Amira Nature Foods, which manufactures packaged Indian specialty rice, is now one of only a select few Indian companies allowed to export rice to China after they were granted approval for basmati shipments.</td>\n",
       "      <td>neutral</td>\n",
       "    </tr>\n",
       "    <tr>\n",
       "      <th>32</th>\n",
       "      <td>12-Sep-2016</td>\n",
       "      <td>Korean TV and Asian demand drive freekah sales from Australia</td>\n",
       "      <td>Korean television and a partnership in Singapore have been helping an Australian super grain producer reach new markets.</td>\n",
       "      <td>www.foodnavigator-asia.com/Article/2016/09/12/Korean-TV-and-Asian-demand-drive-freekah-sales-from-Australia</td>\n",
       "      <td>Korean TV and Asian demand drive freekah sales from Australia. Korean television and a partnership in Singapore have been helping an Australian super grain producer reach new markets.</td>\n",
       "      <td>neutral</td>\n",
       "    </tr>\n",
       "    <tr>\n",
       "      <th>42</th>\n",
       "      <td>25-Sep-2014</td>\n",
       "      <td>White gold: How the EU has been central to the rise of Cambodian rice</td>\n",
       "      <td>With its rice industry going through salad days, Cambodia is nevertheless at a crossroads. While on the international front, it is shipping more rice overseas than ever before; domestically, there is still a number issues for producers and exporters to...</td>\n",
       "      <td>www.foodnavigator-asia.com/Article/2014/09/25/White-gold-How-the-EU-has-been-central-to-the-rise-of-Cambodian-rice</td>\n",
       "      <td>White gold: How the EU has been central to the rise of Cambodian rice. With its rice industry going through salad days, Cambodia is nevertheless at a crossroads. While on the international front, it is shipping more rice overseas than ever before; domestically, there is still a number issues for producers and exporters to...</td>\n",
       "      <td>neutral</td>\n",
       "    </tr>\n",
       "    <tr>\n",
       "      <th>46</th>\n",
       "      <td>27-Feb-2014</td>\n",
       "      <td>Rice institute developed 44 new or improved rice varieties in 2013</td>\n",
       "      <td>Last year, the International Rice Research Institute (IRRI) and its partners released 44 new and improved rice varieties, taking the number to around a thousand since it was launched in 1960.</td>\n",
       "      <td>www.foodnavigator-asia.com/Article/2014/02/27/Rice-institute-developed-44-new-or-improved-rice-varieties-in-2013</td>\n",
       "      <td>Rice institute developed 44 new or improved rice varieties in 2013. Last year, the International Rice Research Institute (IRRI) and its partners released 44 new and improved rice varieties, taking the number to around a thousand since it was launched in 1960.</td>\n",
       "      <td>neutral</td>\n",
       "    </tr>\n",
       "    <tr>\n",
       "      <th>47</th>\n",
       "      <td>10-Feb-2014</td>\n",
       "      <td>Al Dahra plans $150m rice mill for Abu Dhabi</td>\n",
       "      <td>Al Dahra Agriculture will build a US$150m basmati rice processing facility it announced this week, as regional firms work to secure basmati imports.</td>\n",
       "      <td>www.foodnavigator-asia.com/Article/2014/02/10/Al-Dahra-plans-150m-rice-mill-for-Abu-Dhabi</td>\n",
       "      <td>Al Dahra plans $150m rice mill for Abu Dhabi. Al Dahra Agriculture will build a US$150m basmati rice processing facility it announced this week, as regional firms work to secure basmati imports.</td>\n",
       "      <td>neutral</td>\n",
       "    </tr>\n",
       "    <tr>\n",
       "      <th>48</th>\n",
       "      <td>04-Dec-2013</td>\n",
       "      <td>Rice gene discovery can increase crop productivity by up to one-third</td>\n",
       "      <td>Scientists in the Far East have discovered a rice gene that in preliminary testing increased production by 13-36% in modern long-grain indica rice varieties—the world’s most widely grown types of rice.</td>\n",
       "      <td>www.foodnavigator-asia.com/Article/2013/12/04/Rice-gene-discovery-can-increase-crop-productivity-by-up-to-one-third</td>\n",
       "      <td>Rice gene discovery can increase crop productivity by up to one-third. Scientists in the Far East have discovered a rice gene that in preliminary testing increased production by 13-36% in modern long-grain indica rice varieties—the world’s most widely grown types of rice.</td>\n",
       "      <td>neutral</td>\n",
       "    </tr>\n",
       "    <tr>\n",
       "      <th>51</th>\n",
       "      <td>24-Sep-2013</td>\n",
       "      <td>Near record crops likely to make dent in India's record food inflation</td>\n",
       "      <td>Consumers are hoping for a respite from the crippling food inflation India has been witnessing after the government revealed a bumper harvest.</td>\n",
       "      <td>www.foodnavigator-asia.com/Article/2013/09/24/Near-record-crops-likely-to-make-dent-in-India-s-record-food-inflation</td>\n",
       "      <td>Near record crops likely to make dent in India's record food inflation. Consumers are hoping for a respite from the crippling food inflation India has been witnessing after the government revealed a bumper harvest.</td>\n",
       "      <td>neutral</td>\n",
       "    </tr>\n",
       "    <tr>\n",
       "      <th>55</th>\n",
       "      <td>27-May-2013</td>\n",
       "      <td>Contest might realise Pinoy dream of half-cost rice production</td>\n",
       "      <td>Competition for improving Filipino rice yields is heating up quite literally with a major challenge issued to farmers there.</td>\n",
       "      <td>www.foodnavigator-asia.com/Article/2013/05/27/Contest-might-realise-Pinoy-dream-of-half-cost-rice-production</td>\n",
       "      <td>Contest might realise Pinoy dream of half-cost rice production. Competition for improving Filipino rice yields is heating up quite literally with a major challenge issued to farmers there.</td>\n",
       "      <td>neutral</td>\n",
       "    </tr>\n",
       "    <tr>\n",
       "      <th>57</th>\n",
       "      <td>16-Apr-2013</td>\n",
       "      <td>New salt-tolerant rice strain could help in fight for food security</td>\n",
       "      <td>A newly developed strain of rice tolerant to levels of salt found in seawater might become available to farmers in the next four to five years, and its impact on food security could be massive.</td>\n",
       "      <td>www.foodnavigator-asia.com/Article/2013/04/16/New-salt-tolerant-rice-strain-could-help-in-fight-for-food-security</td>\n",
       "      <td>New salt-tolerant rice strain could help in fight for food security. A newly developed strain of rice tolerant to levels of salt found in seawater might become available to farmers in the next four to five years, and its impact on food security could be massive.</td>\n",
       "      <td>neutral</td>\n",
       "    </tr>\n",
       "    <tr>\n",
       "      <th>61</th>\n",
       "      <td>14-Jan-2013</td>\n",
       "      <td>China to explore increased rice imports from India</td>\n",
       "      <td>India’s newfound position as the world’s leading rice exporter has not escaped the attention of China, which may look to its western neighbour for increasingly greater rice supplies over the coming years.</td>\n",
       "      <td>www.foodnavigator-asia.com/Article/2013/01/14/China-to-explore-increased-rice-imports-from-India</td>\n",
       "      <td>China to explore increased rice imports from India. India’s newfound position as the world’s leading rice exporter has not escaped the attention of China, which may look to its western neighbour for increasingly greater rice supplies over the coming years.</td>\n",
       "      <td>neutral</td>\n",
       "    </tr>\n",
       "    <tr>\n",
       "      <th>64</th>\n",
       "      <td>08-Nov-2012</td>\n",
       "      <td>'Fuel-injected' rice closing in on reality</td>\n",
       "      <td>A project to develop a cutting-edge variety rice has received a significant funding boost, and is now about to roll into its second phase.</td>\n",
       "      <td>www.foodnavigator-asia.com/Article/2012/11/08/Fuel-injected-rice-getting-closer-to-becoming-a-reality</td>\n",
       "      <td>'Fuel-injected' rice closing in on reality. A project to develop a cutting-edge variety rice has received a significant funding boost, and is now about to roll into its second phase.</td>\n",
       "      <td>neutral</td>\n",
       "    </tr>\n",
       "    <tr>\n",
       "      <th>65</th>\n",
       "      <td>04-Jun-2012</td>\n",
       "      <td>Future Group inks deal with agri-processor</td>\n",
       "      <td>Food major Future Group has announced that it has inked a deal with rice processor LT Foods that includes the setting up of the latter’s new facility at the group’s new food park.</td>\n",
       "      <td>www.foodnavigator-asia.com/Article/2012/06/04/Future-Group-inks-deal-with-agri-processor</td>\n",
       "      <td>Future Group inks deal with agri-processor. Food major Future Group has announced that it has inked a deal with rice processor LT Foods that includes the setting up of the latter’s new facility at the group’s new food park.</td>\n",
       "      <td>neutral</td>\n",
       "    </tr>\n",
       "    <tr>\n",
       "      <th>70</th>\n",
       "      <td>05-Dec-2011</td>\n",
       "      <td>Global sustainable rice scheme launched</td>\n",
       "      <td>An international system has been launched that will establish environmental standards for sustainable rice production in a bid to increase rice yields.</td>\n",
       "      <td>www.foodnavigator-asia.com/Article/2011/12/05/Global-sustainable-rice-scheme-launched</td>\n",
       "      <td>Global sustainable rice scheme launched. An international system has been launched that will establish environmental standards for sustainable rice production in a bid to increase rice yields.</td>\n",
       "      <td>neutral</td>\n",
       "    </tr>\n",
       "    <tr>\n",
       "      <th>73</th>\n",
       "      <td>22-Sep-2011</td>\n",
       "      <td>Singapore pledges $8.2m to Asia rice science for the next five years</td>\n",
       "      <td>Singapore’s National Research Foundation (NRF) has said it will invest $8.2m in a joint research program that aims to ensure food security and future rice demands are met throughout Asia.</td>\n",
       "      <td>www.foodnavigator-asia.com/Article/2011/09/22/Singapore-pledges-8.2m-to-Asia-rice-science-for-the-next-five-years</td>\n",
       "      <td>Singapore pledges $8.2m to Asia rice science for the next five years. Singapore’s National Research Foundation (NRF) has said it will invest $8.2m in a joint research program that aims to ensure food security and future rice demands are met throughout Asia.</td>\n",
       "      <td>neutral</td>\n",
       "    </tr>\n",
       "    <tr>\n",
       "      <th>74</th>\n",
       "      <td>05-Sep-2011</td>\n",
       "      <td>Japanese scientists to breed rice resilient to radioactive cesium</td>\n",
       "      <td>In the wake of the Fukushima nuclear disaster, Japanese scientists from the Fukushima Agricultural Technology Centre are working towards a potential solution for the future of Japanese rice farmers – a strain of rice resilient to cesium absorption.</td>\n",
       "      <td>www.foodnavigator-asia.com/Article/2011/09/05/Japanese-scientists-to-breed-rice-resilient-to-radioactive-cesium</td>\n",
       "      <td>Japanese scientists to breed rice resilient to radioactive cesium. In the wake of the Fukushima nuclear disaster, Japanese scientists from the Fukushima Agricultural Technology Centre are working towards a potential solution for the future of Japanese rice farmers – a strain of rice resilient to cesium absorption.</td>\n",
       "      <td>neutral</td>\n",
       "    </tr>\n",
       "  </tbody>\n",
       "</table>\n",
       "</div>"
      ],
      "text/plain": [
       "           date  \\\n",
       "6   14-Jan-2020   \n",
       "8   15-Oct-2019   \n",
       "9   08-May-2019   \n",
       "10  07-May-2019   \n",
       "11  06-Feb-2019   \n",
       "12  19-Dec-2018   \n",
       "14  29-Oct-2018   \n",
       "21  28-Jun-2018   \n",
       "24  18-Jan-2018   \n",
       "25  03-Jan-2018   \n",
       "27  06-Apr-2017   \n",
       "29  16-Feb-2017   \n",
       "30  06-Dec-2016   \n",
       "32  12-Sep-2016   \n",
       "42  25-Sep-2014   \n",
       "46  27-Feb-2014   \n",
       "47  10-Feb-2014   \n",
       "48  04-Dec-2013   \n",
       "51  24-Sep-2013   \n",
       "55  27-May-2013   \n",
       "57  16-Apr-2013   \n",
       "61  14-Jan-2013   \n",
       "64  08-Nov-2012   \n",
       "65  04-Jun-2012   \n",
       "70  05-Dec-2011   \n",
       "73  22-Sep-2011   \n",
       "74  05-Sep-2011   \n",
       "\n",
       "                                                                                                         title  \\\n",
       "6                           Rice and shine: Expansion plans in the pipelines for Japan’s low carbohydrate rice   \n",
       "8                      Thai rice specialist firm MediFoods looks to expand local market after overseas success   \n",
       "9               Rice crisis over? Philippines looks at removal of suggested retail prices as market stabilises   \n",
       "10   'Affordable fortification': Indian supplier gets government contract to produce fortified rice for Kerala   \n",
       "11              ‘No more limit’: Philippines import cap removal could see 1.2m MT of rice entering the country   \n",
       "12                                Mandatory rice fortification for public programmes in India by December 2019   \n",
       "14  ‘No more fancy brand names’: Rice labelling and pricing rules introduced in Philippines amid supply crisis   \n",
       "21                             Low-GI outfit SunRice reveals business growth plans with proposed capital raise   \n",
       "24                                              China rice bran oil debuts in Japan to take on domestic brands   \n",
       "25                                    Foods containing GM golden rice can be sold in Australia and New Zealand   \n",
       "27                                             FAO and Irri collaborate for Apac rice sustainability programme   \n",
       "29                                                    Rice diversity could be central to more productive crops   \n",
       "30                                          Amira joins select few firms with permission to ship rice to China   \n",
       "32                                               Korean TV and Asian demand drive freekah sales from Australia   \n",
       "42                                       White gold: How the EU has been central to the rise of Cambodian rice   \n",
       "46                                          Rice institute developed 44 new or improved rice varieties in 2013   \n",
       "47                                                                Al Dahra plans $150m rice mill for Abu Dhabi   \n",
       "48                                       Rice gene discovery can increase crop productivity by up to one-third   \n",
       "51                                      Near record crops likely to make dent in India's record food inflation   \n",
       "55                                              Contest might realise Pinoy dream of half-cost rice production   \n",
       "57                                         New salt-tolerant rice strain could help in fight for food security   \n",
       "61                                                          China to explore increased rice imports from India   \n",
       "64                                                                  'Fuel-injected' rice closing in on reality   \n",
       "65                                                                  Future Group inks deal with agri-processor   \n",
       "70                                                                     Global sustainable rice scheme launched   \n",
       "73                                        Singapore pledges $8.2m to Asia rice science for the next five years   \n",
       "74                                           Japanese scientists to breed rice resilient to radioactive cesium   \n",
       "\n",
       "                                                                                                                                                                                                                                                              intro  \\\n",
       "6                                                                                                                                        Japanese health food company KBS Corporation is rapidly expanding its sales channels for its low carbohydrate rice, Trice.   \n",
       "8                                                                                          Thailand rice specialist company MediFoods has its eye on local market expansion after a successful run overseas with its rice-based products and ingredients portfolio.   \n",
       "9                                                            The Philippines Department of Trade and Industry (DTI) is considering the removal of suggested retail prices (SRPs) for rice in the wake of the rice tariffication law being signed earlier this year.   \n",
       "10                                                  India's SupplyCo has received a government contract to produce and provide fortified rice in Kerala, after figures revealed that 19.7% of children below the age of five are stunted and 15.7% are underweight.   \n",
       "11                 The Philippines’ lifting of a 20-year old rice import cap is likely to result in some 1.2 million metric tons of rice being imported into the country in the wake of ongoing shortages and price hikes, the National Food Agency (NFA) has said.   \n",
       "12                                                                        The use of fortified rice will be mandatory in all midday meal schemes, and public nutrition programmes under the Integrated Child Development Services (ICDS) in India by December 2019.   \n",
       "14                                 Food companies have been warned to avoid fancy ‘nicknames’ for rice as suggested retail prices (SRPs) are implemented in the Philippines, in a move that the government hopes will alleviate the country’s rising food troubles.   \n",
       "21                                                                                                                    Australian low-GI rice firm SunRice is seeking to raise up to AU$30m to accelerate new product development and expansion across Asia Pacific.   \n",
       "24                                                                                                                             China rice bran oil brand Arawana has made its first move into the ultra-competitive Japan market with its first supermarket launch.   \n",
       "25                                                                                Products containing traces of golden rice, which is genetically modified to produce beta-carotene, should be able to be sold in Australia and New Zealand, regulators have ruled.   \n",
       "27                                                              The International Rice Research Institute will work more closely with the UN’s agriculture agency to support sustainable rice production in developing countries in a bid to improve food security.   \n",
       "29                                                                                 Scientists have found that they can improve rice productivity by selecting varieties that are better at capturing sunlight to produce grains, instead of reflecting it as heat.    \n",
       "30                                     Dubai-based Amira Nature Foods, which manufactures packaged Indian specialty rice, is now one of only a select few Indian companies allowed to export rice to China after they were granted approval for basmati shipments.    \n",
       "32                                                                                                                                         Korean television and a partnership in Singapore have been helping an Australian super grain producer reach new markets.   \n",
       "42  With its rice industry going through salad days, Cambodia is nevertheless at a crossroads. While on the international front, it is shipping more rice overseas than ever before; domestically, there is still a number issues for producers and exporters to...   \n",
       "46                                                                  Last year, the International Rice Research Institute (IRRI) and its partners released 44 new and improved rice varieties, taking the number to around a thousand since it was launched in 1960.   \n",
       "47                                                                                                             Al Dahra Agriculture will build a US$150m basmati rice processing facility it announced this week, as regional firms work to secure basmati imports.   \n",
       "48                                                        Scientists in the Far East have discovered a rice gene that in preliminary testing increased production by 13-36% in modern long-grain indica rice varieties—the world’s most widely grown types of rice.   \n",
       "51                                                                                                                   Consumers are hoping for a respite from the crippling food inflation India has been witnessing after the government revealed a bumper harvest.   \n",
       "55                                                                                                                                     Competition for improving Filipino rice yields is heating up quite literally with a major challenge issued to farmers there.   \n",
       "57                                                                A newly developed strain of rice tolerant to levels of salt found in seawater might become available to farmers in the next four to five years, and its impact on food security could be massive.   \n",
       "61                                                     India’s newfound position as the world’s leading rice exporter has not escaped the attention of China, which may look to its western neighbour for increasingly greater rice supplies over the coming years.   \n",
       "64                                                                                                                       A project to develop a cutting-edge variety rice has received a significant funding boost, and is now about to roll into its second phase.   \n",
       "65                                                                              Food major Future Group has announced that it has inked a deal with rice processor LT Foods that includes the setting up of the latter’s new facility at the group’s new food park.   \n",
       "70                                                                                                          An international system has been launched that will establish environmental standards for sustainable rice production in a bid to increase rice yields.   \n",
       "73                                                                      Singapore’s National Research Foundation (NRF) has said it will invest $8.2m in a joint research program that aims to ensure food security and future rice demands are met throughout Asia.   \n",
       "74         In the wake of the Fukushima nuclear disaster, Japanese scientists from the Fukushima Agricultural Technology Centre are working towards a potential solution for the future of Japanese rice farmers – a strain of rice resilient to cesium absorption.   \n",
       "\n",
       "                                                                                                                                                      url  \\\n",
       "6                         www.foodnavigator-asia.com/Article/2020/01/14/Rice-and-shine-Expansion-plans-in-the-pipelines-for-Japan-s-low-carbohydrate-rice   \n",
       "8                   www.foodnavigator-asia.com/Article/2019/10/15/Thai-rice-specialist-firm-MediFoods-looks-to-expand-local-market-after-overseas-success   \n",
       "9             www.foodnavigator-asia.com/Article/2019/05/08/Rice-crisis-over-Philippines-looks-at-removal-of-suggested-retail-prices-as-market-stabilises   \n",
       "10   www.foodnavigator-asia.com/Article/2019/05/07/Affordable-fortification-Indian-supplier-gets-government-contract-to-produce-fortified-rice-for-Kerala   \n",
       "11              www.foodnavigator-asia.com/Article/2019/02/06/No-more-limit-Philippines-import-cap-removal-could-see-1.2m-MT-of-rice-entering-the-country   \n",
       "12                             www.foodnavigator-asia.com/Article/2018/12/19/Mandatory-rice-fortification-for-public-programmes-in-India-by-December-2019   \n",
       "14  www.foodnavigator-asia.com/Article/2018/10/29/No-more-fancy-brand-names-Rice-labelling-and-pricing-rules-introduced-in-Philippines-amid-supply-crisis   \n",
       "21                          www.foodnavigator-asia.com/Article/2018/06/28/Low-GI-outfit-SunRice-reveals-business-growth-plans-with-proposed-capital-raise   \n",
       "24                                           www.foodnavigator-asia.com/Article/2018/01/18/China-rice-bran-oil-debuts-in-Japan-to-take-on-domestic-brands   \n",
       "25                                 www.foodnavigator-asia.com/Article/2018/01/03/Foods-containing-GM-golden-rice-can-be-sold-in-Australia-and-New-Zealand   \n",
       "27                                          www.foodnavigator-asia.com/Article/2017/04/06/FAO-and-Irri-collaborate-for-Apac-rice-sustainability-programme   \n",
       "29                                                 www.foodnavigator-asia.com/Article/2017/02/16/Rice-diversity-could-be-central-to-more-productive-crops   \n",
       "30                                       www.foodnavigator-asia.com/Article/2016/12/06/Amira-joins-select-few-firms-with-permission-to-ship-rice-to-China   \n",
       "32                                            www.foodnavigator-asia.com/Article/2016/09/12/Korean-TV-and-Asian-demand-drive-freekah-sales-from-Australia   \n",
       "42                                     www.foodnavigator-asia.com/Article/2014/09/25/White-gold-How-the-EU-has-been-central-to-the-rise-of-Cambodian-rice   \n",
       "46                                       www.foodnavigator-asia.com/Article/2014/02/27/Rice-institute-developed-44-new-or-improved-rice-varieties-in-2013   \n",
       "47                                                              www.foodnavigator-asia.com/Article/2014/02/10/Al-Dahra-plans-150m-rice-mill-for-Abu-Dhabi   \n",
       "48                                    www.foodnavigator-asia.com/Article/2013/12/04/Rice-gene-discovery-can-increase-crop-productivity-by-up-to-one-third   \n",
       "51                                   www.foodnavigator-asia.com/Article/2013/09/24/Near-record-crops-likely-to-make-dent-in-India-s-record-food-inflation   \n",
       "55                                           www.foodnavigator-asia.com/Article/2013/05/27/Contest-might-realise-Pinoy-dream-of-half-cost-rice-production   \n",
       "57                                      www.foodnavigator-asia.com/Article/2013/04/16/New-salt-tolerant-rice-strain-could-help-in-fight-for-food-security   \n",
       "61                                                       www.foodnavigator-asia.com/Article/2013/01/14/China-to-explore-increased-rice-imports-from-India   \n",
       "64                                                  www.foodnavigator-asia.com/Article/2012/11/08/Fuel-injected-rice-getting-closer-to-becoming-a-reality   \n",
       "65                                                               www.foodnavigator-asia.com/Article/2012/06/04/Future-Group-inks-deal-with-agri-processor   \n",
       "70                                                                  www.foodnavigator-asia.com/Article/2011/12/05/Global-sustainable-rice-scheme-launched   \n",
       "73                                      www.foodnavigator-asia.com/Article/2011/09/22/Singapore-pledges-8.2m-to-Asia-rice-science-for-the-next-five-years   \n",
       "74                                        www.foodnavigator-asia.com/Article/2011/09/05/Japanese-scientists-to-breed-rice-resilient-to-radioactive-cesium   \n",
       "\n",
       "                                                                                                                                                                                                                                                                                                                                            combined  \\\n",
       "6                                                                                                                                     Rice and shine: Expansion plans in the pipelines for Japan’s low carbohydrate rice. Japanese health food company KBS Corporation is rapidly expanding its sales channels for its low carbohydrate rice, Trice.   \n",
       "8                                                                                  Thai rice specialist firm MediFoods looks to expand local market after overseas success. Thailand rice specialist company MediFoods has its eye on local market expansion after a successful run overseas with its rice-based products and ingredients portfolio.   \n",
       "9                                             Rice crisis over? Philippines looks at removal of suggested retail prices as market stabilises. The Philippines Department of Trade and Industry (DTI) is considering the removal of suggested retail prices (SRPs) for rice in the wake of the rice tariffication law being signed earlier this year.   \n",
       "10                        'Affordable fortification': Indian supplier gets government contract to produce fortified rice for Kerala. India's SupplyCo has received a government contract to produce and provide fortified rice in Kerala, after figures revealed that 19.7% of children below the age of five are stunted and 15.7% are underweight.   \n",
       "11  ‘No more limit’: Philippines import cap removal could see 1.2m MT of rice entering the country. The Philippines’ lifting of a 20-year old rice import cap is likely to result in some 1.2 million metric tons of rice being imported into the country in the wake of ongoing shortages and price hikes, the National Food Agency (NFA) has said.   \n",
       "12                                                                           Mandatory rice fortification for public programmes in India by December 2019. The use of fortified rice will be mandatory in all midday meal schemes, and public nutrition programmes under the Integrated Child Development Services (ICDS) in India by December 2019.   \n",
       "14      ‘No more fancy brand names’: Rice labelling and pricing rules introduced in Philippines amid supply crisis. Food companies have been warned to avoid fancy ‘nicknames’ for rice as suggested retail prices (SRPs) are implemented in the Philippines, in a move that the government hopes will alleviate the country’s rising food troubles.   \n",
       "21                                                                                                                    Low-GI outfit SunRice reveals business growth plans with proposed capital raise. Australian low-GI rice firm SunRice is seeking to raise up to AU$30m to accelerate new product development and expansion across Asia Pacific.   \n",
       "24                                                                                                                                              China rice bran oil debuts in Japan to take on domestic brands. China rice bran oil brand Arawana has made its first move into the ultra-competitive Japan market with its first supermarket launch.   \n",
       "25                                                                                       Foods containing GM golden rice can be sold in Australia and New Zealand. Products containing traces of golden rice, which is genetically modified to produce beta-carotene, should be able to be sold in Australia and New Zealand, regulators have ruled.   \n",
       "27                                                                              FAO and Irri collaborate for Apac rice sustainability programme. The International Rice Research Institute will work more closely with the UN’s agriculture agency to support sustainable rice production in developing countries in a bid to improve food security.   \n",
       "29                                                                                                        Rice diversity could be central to more productive crops. Scientists have found that they can improve rice productivity by selecting varieties that are better at capturing sunlight to produce grains, instead of reflecting it as heat.    \n",
       "30                                                  Amira joins select few firms with permission to ship rice to China. Dubai-based Amira Nature Foods, which manufactures packaged Indian specialty rice, is now one of only a select few Indian companies allowed to export rice to China after they were granted approval for basmati shipments.    \n",
       "32                                                                                                                                                           Korean TV and Asian demand drive freekah sales from Australia. Korean television and a partnership in Singapore have been helping an Australian super grain producer reach new markets.   \n",
       "42            White gold: How the EU has been central to the rise of Cambodian rice. With its rice industry going through salad days, Cambodia is nevertheless at a crossroads. While on the international front, it is shipping more rice overseas than ever before; domestically, there is still a number issues for producers and exporters to...   \n",
       "46                                                                               Rice institute developed 44 new or improved rice varieties in 2013. Last year, the International Rice Research Institute (IRRI) and its partners released 44 new and improved rice varieties, taking the number to around a thousand since it was launched in 1960.   \n",
       "47                                                                                                                                                Al Dahra plans $150m rice mill for Abu Dhabi. Al Dahra Agriculture will build a US$150m basmati rice processing facility it announced this week, as regional firms work to secure basmati imports.   \n",
       "48                                                                  Rice gene discovery can increase crop productivity by up to one-third. Scientists in the Far East have discovered a rice gene that in preliminary testing increased production by 13-36% in modern long-grain indica rice varieties—the world’s most widely grown types of rice.   \n",
       "51                                                                                                                            Near record crops likely to make dent in India's record food inflation. Consumers are hoping for a respite from the crippling food inflation India has been witnessing after the government revealed a bumper harvest.   \n",
       "55                                                                                                                                                      Contest might realise Pinoy dream of half-cost rice production. Competition for improving Filipino rice yields is heating up quite literally with a major challenge issued to farmers there.   \n",
       "57                                                                            New salt-tolerant rice strain could help in fight for food security. A newly developed strain of rice tolerant to levels of salt found in seawater might become available to farmers in the next four to five years, and its impact on food security could be massive.   \n",
       "61                                                                                  China to explore increased rice imports from India. India’s newfound position as the world’s leading rice exporter has not escaped the attention of China, which may look to its western neighbour for increasingly greater rice supplies over the coming years.   \n",
       "64                                                                                                                                                            'Fuel-injected' rice closing in on reality. A project to develop a cutting-edge variety rice has received a significant funding boost, and is now about to roll into its second phase.   \n",
       "65                                                                                                                   Future Group inks deal with agri-processor. Food major Future Group has announced that it has inked a deal with rice processor LT Foods that includes the setting up of the latter’s new facility at the group’s new food park.   \n",
       "70                                                                                                                                                  Global sustainable rice scheme launched. An international system has been launched that will establish environmental standards for sustainable rice production in a bid to increase rice yields.   \n",
       "73                                                                                 Singapore pledges $8.2m to Asia rice science for the next five years. Singapore’s National Research Foundation (NRF) has said it will invest $8.2m in a joint research program that aims to ensure food security and future rice demands are met throughout Asia.   \n",
       "74                       Japanese scientists to breed rice resilient to radioactive cesium. In the wake of the Fukushima nuclear disaster, Japanese scientists from the Fukushima Agricultural Technology Centre are working towards a potential solution for the future of Japanese rice farmers – a strain of rice resilient to cesium absorption.   \n",
       "\n",
       "   risk_rating  \n",
       "6      neutral  \n",
       "8      neutral  \n",
       "9      neutral  \n",
       "10     neutral  \n",
       "11     neutral  \n",
       "12     neutral  \n",
       "14     neutral  \n",
       "21     neutral  \n",
       "24     neutral  \n",
       "25     neutral  \n",
       "27     neutral  \n",
       "29     neutral  \n",
       "30     neutral  \n",
       "32     neutral  \n",
       "42     neutral  \n",
       "46     neutral  \n",
       "47     neutral  \n",
       "48     neutral  \n",
       "51     neutral  \n",
       "55     neutral  \n",
       "57     neutral  \n",
       "61     neutral  \n",
       "64     neutral  \n",
       "65     neutral  \n",
       "70     neutral  \n",
       "73     neutral  \n",
       "74     neutral  "
      ]
     },
     "execution_count": 95,
     "metadata": {},
     "output_type": "execute_result"
    }
   ],
   "source": [
    "df[df[\"risk_rating\"]==\"stable\"]"
   ]
  },
  {
   "cell_type": "code",
   "execution_count": 97,
   "metadata": {},
   "outputs": [],
   "source": [
    "df.loc[stabilizing_rows, \"risk_rating\"] = \"stable\""
   ]
  },
  {
   "cell_type": "markdown",
   "metadata": {},
   "source": [
    "We now label the risk rating in this intial `training dataset` so that our machine learning models will be able to learn what text ought to be classified as what rating in the future automatically. \n",
    "\n",
    "Again, for simplicity's sake, we use simpler labels like `risky`, `neutral`, and `stable`; future version swill have more nuanced risk labelling."
   ]
  },
  {
   "cell_type": "code",
   "execution_count": 98,
   "metadata": {},
   "outputs": [
    {
     "data": {
      "text/html": [
       "<div>\n",
       "<style scoped>\n",
       "    .dataframe tbody tr th:only-of-type {\n",
       "        vertical-align: middle;\n",
       "    }\n",
       "\n",
       "    .dataframe tbody tr th {\n",
       "        vertical-align: top;\n",
       "    }\n",
       "\n",
       "    .dataframe thead th {\n",
       "        text-align: right;\n",
       "    }\n",
       "</style>\n",
       "<table border=\"1\" class=\"dataframe\">\n",
       "  <thead>\n",
       "    <tr style=\"text-align: right;\">\n",
       "      <th></th>\n",
       "      <th>date</th>\n",
       "      <th>title</th>\n",
       "      <th>intro</th>\n",
       "      <th>url</th>\n",
       "      <th>combined</th>\n",
       "      <th>risk_rating</th>\n",
       "    </tr>\n",
       "  </thead>\n",
       "  <tbody>\n",
       "    <tr>\n",
       "      <th>0</th>\n",
       "      <td>20-Jul-2020</td>\n",
       "      <td>Legacy vs price: Rice exports from Vietnam and India vie for ASEAN trade post-COVID-19</td>\n",
       "      <td>Vietnam and India are competing for ASEAN rice trade post-COVID-19, with the former having gained advantage due to support from traditional partner Philippines, and the latter having come out ahead with Malaysia in terms of price.</td>\n",
       "      <td>www.foodnavigator-asia.com/Article/2020/07/20/Legacy-vs-price-Rice-exports-from-Vietnam-and-India-vie-for-ASEAN-trade-post-COVID-19</td>\n",
       "      <td>Legacy vs price: Rice exports from Vietnam and India vie for ASEAN trade post-COVID-19. Vietnam and India are competing for ASEAN rice trade post-COVID-19, with the former having gained advantage due to support from traditional partner Philippines, and the latter having come out ahead with Malaysia in terms of price.</td>\n",
       "      <td>neutral</td>\n",
       "    </tr>\n",
       "    <tr>\n",
       "      <th>1</th>\n",
       "      <td>25-Jun-2020</td>\n",
       "      <td>Trade-off: Rice and seafood the big winners for Vietnam under EU free trade deal</td>\n",
       "      <td>The recently-ratified EU-Vietnam Free Trade Agreement (EVFTA) has seen major gains in food trade for both sides, particularly in rice and seafood for Vietnam as well as alcohol and meat for the EU.</td>\n",
       "      <td>www.foodnavigator-asia.com/Article/2020/06/25/Trade-off-Rice-and-seafood-the-big-winners-for-Vietnam-under-EU-free-trade-deal</td>\n",
       "      <td>Trade-off: Rice and seafood the big winners for Vietnam under EU free trade deal. The recently-ratified EU-Vietnam Free Trade Agreement (EVFTA) has seen major gains in food trade for both sides, particularly in rice and seafood for Vietnam as well as alcohol and meat for the EU.</td>\n",
       "      <td>neutral</td>\n",
       "    </tr>\n",
       "    <tr>\n",
       "      <th>2</th>\n",
       "      <td>22-Apr-2020</td>\n",
       "      <td>Rice-ing concern: COVID-19 creates supply and price volatility for Asia’s most ‘cost-sensitive’ crop</td>\n",
       "      <td>Lockdowns and trade barriers across Asia due to the COVID-19 pandemic have thrust rice - one of the region’s largest agricultural commodities – firmly into the spotlight potential volatility in both supply and cost.</td>\n",
       "      <td>www.foodnavigator-asia.com/Article/2020/04/22/Rice-ing-concern-COVID-19-creates-supply-and-price-volatility-for-Asia-s-most-cost-sensitive-crop</td>\n",
       "      <td>Rice-ing concern: COVID-19 creates supply and price volatility for Asia’s most ‘cost-sensitive’ crop. Lockdowns and trade barriers across Asia due to the COVID-19 pandemic have thrust rice - one of the region’s largest agricultural commodities – firmly into the spotlight potential volatility in both supply and cost.</td>\n",
       "      <td>risky</td>\n",
       "    </tr>\n",
       "    <tr>\n",
       "      <th>3</th>\n",
       "      <td>17-Mar-2020</td>\n",
       "      <td>The rice and fall: Vietnam eyes more global opportunities as Thai supply totters</td>\n",
       "      <td>Thailand’s position as the largest exporter of rice from the South East Asian region is at risk as the country struggles to handle weather, economical and quality changes, whereas Vietnam looks to be going from strength to strength.</td>\n",
       "      <td>www.foodnavigator-asia.com/Article/2020/03/17/The-rice-and-fall-Vietnam-eyes-more-global-opportunities-as-Thai-supply-totters</td>\n",
       "      <td>The rice and fall: Vietnam eyes more global opportunities as Thai supply totters. Thailand’s position as the largest exporter of rice from the South East Asian region is at risk as the country struggles to handle weather, economical and quality changes, whereas Vietnam looks to be going from strength to strength.</td>\n",
       "      <td>risky</td>\n",
       "    </tr>\n",
       "    <tr>\n",
       "      <th>4</th>\n",
       "      <td>25-Feb-2020</td>\n",
       "      <td>Beyond rice: Indian government urged to boost cereal production in security drive</td>\n",
       "      <td>Researchers are pushing for India to focus on enhancing its production of crops other than rice, the country’s traditional staple, if it wishes to effectively address its triple threats of food security, climate change effects and malnutrition.</td>\n",
       "      <td>www.foodnavigator-asia.com/Article/2020/02/25/Beyond-rice-Indian-government-urged-to-boost-cereal-production-in-security-drive</td>\n",
       "      <td>Beyond rice: Indian government urged to boost cereal production in security drive. Researchers are pushing for India to focus on enhancing its production of crops other than rice, the country’s traditional staple, if it wishes to effectively address its triple threats of food security, climate change effects and malnutrition.</td>\n",
       "      <td>neutral</td>\n",
       "    </tr>\n",
       "    <tr>\n",
       "      <th>5</th>\n",
       "      <td>17-Feb-2020</td>\n",
       "      <td>Arsenic snack shock: RMIT study finds almost 75% of children rice snacks exceed EU recommendations</td>\n",
       "      <td>Nearly 75% of infant and children rice snack samples in Australia have been found to exceed the European Union (EU) maximum levels of inorganic arsenic levels.</td>\n",
       "      <td>www.foodnavigator-asia.com/Article/2020/02/17/Arsenic-snack-shock-RMIT-study-finds-almost-75-of-children-rice-snacks-exceed-EU-recommendations</td>\n",
       "      <td>Arsenic snack shock: RMIT study finds almost 75% of children rice snacks exceed EU recommendations. Nearly 75% of infant and children rice snack samples in Australia have been found to exceed the European Union (EU) maximum levels of inorganic arsenic levels.</td>\n",
       "      <td>neutral</td>\n",
       "    </tr>\n",
       "    <tr>\n",
       "      <th>6</th>\n",
       "      <td>14-Jan-2020</td>\n",
       "      <td>Rice and shine: Expansion plans in the pipelines for Japan’s low carbohydrate rice</td>\n",
       "      <td>Japanese health food company KBS Corporation is rapidly expanding its sales channels for its low carbohydrate rice, Trice.</td>\n",
       "      <td>www.foodnavigator-asia.com/Article/2020/01/14/Rice-and-shine-Expansion-plans-in-the-pipelines-for-Japan-s-low-carbohydrate-rice</td>\n",
       "      <td>Rice and shine: Expansion plans in the pipelines for Japan’s low carbohydrate rice. Japanese health food company KBS Corporation is rapidly expanding its sales channels for its low carbohydrate rice, Trice.</td>\n",
       "      <td>stable</td>\n",
       "    </tr>\n",
       "    <tr>\n",
       "      <th>7</th>\n",
       "      <td>10-Dec-2019</td>\n",
       "      <td>Philippines rice saga: Government confirms stricter import controls despite President’s pledge to ban them</td>\n",
       "      <td>The Philippines Department of Agriculture (DA) has opted to control rice imports and prices, even though President Rodrigo Duterte previously said all imports would be halted.</td>\n",
       "      <td>www.foodnavigator-asia.com/Article/2019/12/10/Philippines-rice-saga-Government-confirms-stricter-import-controls-despite-President-s-pledge-to-ban-them</td>\n",
       "      <td>Philippines rice saga: Government confirms stricter import controls despite President’s pledge to ban them. The Philippines Department of Agriculture (DA) has opted to control rice imports and prices, even though President Rodrigo Duterte previously said all imports would be halted.</td>\n",
       "      <td>risky</td>\n",
       "    </tr>\n",
       "    <tr>\n",
       "      <th>8</th>\n",
       "      <td>15-Oct-2019</td>\n",
       "      <td>Thai rice specialist firm MediFoods looks to expand local market after overseas success</td>\n",
       "      <td>Thailand rice specialist company MediFoods has its eye on local market expansion after a successful run overseas with its rice-based products and ingredients portfolio.</td>\n",
       "      <td>www.foodnavigator-asia.com/Article/2019/10/15/Thai-rice-specialist-firm-MediFoods-looks-to-expand-local-market-after-overseas-success</td>\n",
       "      <td>Thai rice specialist firm MediFoods looks to expand local market after overseas success. Thailand rice specialist company MediFoods has its eye on local market expansion after a successful run overseas with its rice-based products and ingredients portfolio.</td>\n",
       "      <td>stable</td>\n",
       "    </tr>\n",
       "    <tr>\n",
       "      <th>9</th>\n",
       "      <td>08-May-2019</td>\n",
       "      <td>Rice crisis over? Philippines looks at removal of suggested retail prices as market stabilises</td>\n",
       "      <td>The Philippines Department of Trade and Industry (DTI) is considering the removal of suggested retail prices (SRPs) for rice in the wake of the rice tariffication law being signed earlier this year.</td>\n",
       "      <td>www.foodnavigator-asia.com/Article/2019/05/08/Rice-crisis-over-Philippines-looks-at-removal-of-suggested-retail-prices-as-market-stabilises</td>\n",
       "      <td>Rice crisis over? Philippines looks at removal of suggested retail prices as market stabilises. The Philippines Department of Trade and Industry (DTI) is considering the removal of suggested retail prices (SRPs) for rice in the wake of the rice tariffication law being signed earlier this year.</td>\n",
       "      <td>stable</td>\n",
       "    </tr>\n",
       "  </tbody>\n",
       "</table>\n",
       "</div>"
      ],
      "text/plain": [
       "          date  \\\n",
       "0  20-Jul-2020   \n",
       "1  25-Jun-2020   \n",
       "2  22-Apr-2020   \n",
       "3  17-Mar-2020   \n",
       "4  25-Feb-2020   \n",
       "5  17-Feb-2020   \n",
       "6  14-Jan-2020   \n",
       "7  10-Dec-2019   \n",
       "8  15-Oct-2019   \n",
       "9  08-May-2019   \n",
       "\n",
       "                                                                                                        title  \\\n",
       "0                      Legacy vs price: Rice exports from Vietnam and India vie for ASEAN trade post-COVID-19   \n",
       "1                            Trade-off: Rice and seafood the big winners for Vietnam under EU free trade deal   \n",
       "2        Rice-ing concern: COVID-19 creates supply and price volatility for Asia’s most ‘cost-sensitive’ crop   \n",
       "3                            The rice and fall: Vietnam eyes more global opportunities as Thai supply totters   \n",
       "4                           Beyond rice: Indian government urged to boost cereal production in security drive   \n",
       "5          Arsenic snack shock: RMIT study finds almost 75% of children rice snacks exceed EU recommendations   \n",
       "6                          Rice and shine: Expansion plans in the pipelines for Japan’s low carbohydrate rice   \n",
       "7  Philippines rice saga: Government confirms stricter import controls despite President’s pledge to ban them   \n",
       "8                     Thai rice specialist firm MediFoods looks to expand local market after overseas success   \n",
       "9              Rice crisis over? Philippines looks at removal of suggested retail prices as market stabilises   \n",
       "\n",
       "                                                                                                                                                                                                                                                  intro  \\\n",
       "0                Vietnam and India are competing for ASEAN rice trade post-COVID-19, with the former having gained advantage due to support from traditional partner Philippines, and the latter having come out ahead with Malaysia in terms of price.   \n",
       "1                                                 The recently-ratified EU-Vietnam Free Trade Agreement (EVFTA) has seen major gains in food trade for both sides, particularly in rice and seafood for Vietnam as well as alcohol and meat for the EU.   \n",
       "2                               Lockdowns and trade barriers across Asia due to the COVID-19 pandemic have thrust rice - one of the region’s largest agricultural commodities – firmly into the spotlight potential volatility in both supply and cost.   \n",
       "3              Thailand’s position as the largest exporter of rice from the South East Asian region is at risk as the country struggles to handle weather, economical and quality changes, whereas Vietnam looks to be going from strength to strength.   \n",
       "4  Researchers are pushing for India to focus on enhancing its production of crops other than rice, the country’s traditional staple, if it wishes to effectively address its triple threats of food security, climate change effects and malnutrition.   \n",
       "5                                                                                       Nearly 75% of infant and children rice snack samples in Australia have been found to exceed the European Union (EU) maximum levels of inorganic arsenic levels.   \n",
       "6                                                                                                                            Japanese health food company KBS Corporation is rapidly expanding its sales channels for its low carbohydrate rice, Trice.   \n",
       "7                                                                       The Philippines Department of Agriculture (DA) has opted to control rice imports and prices, even though President Rodrigo Duterte previously said all imports would be halted.   \n",
       "8                                                                              Thailand rice specialist company MediFoods has its eye on local market expansion after a successful run overseas with its rice-based products and ingredients portfolio.   \n",
       "9                                                The Philippines Department of Trade and Industry (DTI) is considering the removal of suggested retail prices (SRPs) for rice in the wake of the rice tariffication law being signed earlier this year.   \n",
       "\n",
       "                                                                                                                                                       url  \\\n",
       "0                      www.foodnavigator-asia.com/Article/2020/07/20/Legacy-vs-price-Rice-exports-from-Vietnam-and-India-vie-for-ASEAN-trade-post-COVID-19   \n",
       "1                            www.foodnavigator-asia.com/Article/2020/06/25/Trade-off-Rice-and-seafood-the-big-winners-for-Vietnam-under-EU-free-trade-deal   \n",
       "2          www.foodnavigator-asia.com/Article/2020/04/22/Rice-ing-concern-COVID-19-creates-supply-and-price-volatility-for-Asia-s-most-cost-sensitive-crop   \n",
       "3                            www.foodnavigator-asia.com/Article/2020/03/17/The-rice-and-fall-Vietnam-eyes-more-global-opportunities-as-Thai-supply-totters   \n",
       "4                           www.foodnavigator-asia.com/Article/2020/02/25/Beyond-rice-Indian-government-urged-to-boost-cereal-production-in-security-drive   \n",
       "5           www.foodnavigator-asia.com/Article/2020/02/17/Arsenic-snack-shock-RMIT-study-finds-almost-75-of-children-rice-snacks-exceed-EU-recommendations   \n",
       "6                          www.foodnavigator-asia.com/Article/2020/01/14/Rice-and-shine-Expansion-plans-in-the-pipelines-for-Japan-s-low-carbohydrate-rice   \n",
       "7  www.foodnavigator-asia.com/Article/2019/12/10/Philippines-rice-saga-Government-confirms-stricter-import-controls-despite-President-s-pledge-to-ban-them   \n",
       "8                    www.foodnavigator-asia.com/Article/2019/10/15/Thai-rice-specialist-firm-MediFoods-looks-to-expand-local-market-after-overseas-success   \n",
       "9              www.foodnavigator-asia.com/Article/2019/05/08/Rice-crisis-over-Philippines-looks-at-removal-of-suggested-retail-prices-as-market-stabilises   \n",
       "\n",
       "                                                                                                                                                                                                                                                                                                                                  combined  \\\n",
       "0           Legacy vs price: Rice exports from Vietnam and India vie for ASEAN trade post-COVID-19. Vietnam and India are competing for ASEAN rice trade post-COVID-19, with the former having gained advantage due to support from traditional partner Philippines, and the latter having come out ahead with Malaysia in terms of price.   \n",
       "1                                                  Trade-off: Rice and seafood the big winners for Vietnam under EU free trade deal. The recently-ratified EU-Vietnam Free Trade Agreement (EVFTA) has seen major gains in food trade for both sides, particularly in rice and seafood for Vietnam as well as alcohol and meat for the EU.   \n",
       "2            Rice-ing concern: COVID-19 creates supply and price volatility for Asia’s most ‘cost-sensitive’ crop. Lockdowns and trade barriers across Asia due to the COVID-19 pandemic have thrust rice - one of the region’s largest agricultural commodities – firmly into the spotlight potential volatility in both supply and cost.   \n",
       "3               The rice and fall: Vietnam eyes more global opportunities as Thai supply totters. Thailand’s position as the largest exporter of rice from the South East Asian region is at risk as the country struggles to handle weather, economical and quality changes, whereas Vietnam looks to be going from strength to strength.   \n",
       "4  Beyond rice: Indian government urged to boost cereal production in security drive. Researchers are pushing for India to focus on enhancing its production of crops other than rice, the country’s traditional staple, if it wishes to effectively address its triple threats of food security, climate change effects and malnutrition.   \n",
       "5                                                                      Arsenic snack shock: RMIT study finds almost 75% of children rice snacks exceed EU recommendations. Nearly 75% of infant and children rice snack samples in Australia have been found to exceed the European Union (EU) maximum levels of inorganic arsenic levels.   \n",
       "6                                                                                                                           Rice and shine: Expansion plans in the pipelines for Japan’s low carbohydrate rice. Japanese health food company KBS Corporation is rapidly expanding its sales channels for its low carbohydrate rice, Trice.   \n",
       "7                                              Philippines rice saga: Government confirms stricter import controls despite President’s pledge to ban them. The Philippines Department of Agriculture (DA) has opted to control rice imports and prices, even though President Rodrigo Duterte previously said all imports would be halted.   \n",
       "8                                                                        Thai rice specialist firm MediFoods looks to expand local market after overseas success. Thailand rice specialist company MediFoods has its eye on local market expansion after a successful run overseas with its rice-based products and ingredients portfolio.   \n",
       "9                                   Rice crisis over? Philippines looks at removal of suggested retail prices as market stabilises. The Philippines Department of Trade and Industry (DTI) is considering the removal of suggested retail prices (SRPs) for rice in the wake of the rice tariffication law being signed earlier this year.   \n",
       "\n",
       "  risk_rating  \n",
       "0     neutral  \n",
       "1     neutral  \n",
       "2       risky  \n",
       "3       risky  \n",
       "4     neutral  \n",
       "5     neutral  \n",
       "6      stable  \n",
       "7       risky  \n",
       "8      stable  \n",
       "9      stable  "
      ]
     },
     "execution_count": 98,
     "metadata": {},
     "output_type": "execute_result"
    }
   ],
   "source": [
    "df.head(10)"
   ]
  },
  {
   "cell_type": "code",
   "execution_count": 99,
   "metadata": {
    "collapsed": true,
    "jupyter": {
     "outputs_hidden": true
    }
   },
   "outputs": [
    {
     "data": {
      "text/plain": [
       "neutral    33\n",
       "stable     27\n",
       "risky      15\n",
       "Name: risk_rating, dtype: int64"
      ]
     },
     "execution_count": 99,
     "metadata": {},
     "output_type": "execute_result"
    }
   ],
   "source": [
    "df[\"risk_rating\"].value_counts()"
   ]
  },
  {
   "cell_type": "code",
   "execution_count": 100,
   "metadata": {
    "collapsed": true,
    "jupyter": {
     "outputs_hidden": true
    }
   },
   "outputs": [
    {
     "data": {
      "text/plain": [
       "'/Users/grahamlim/Documents/FSX_and_Trainer_Stuff/scrape_risk_app/code'"
      ]
     },
     "execution_count": 100,
     "metadata": {},
     "output_type": "execute_result"
    }
   ],
   "source": [
    "pwd"
   ]
  },
  {
   "cell_type": "code",
   "execution_count": 105,
   "metadata": {},
   "outputs": [],
   "source": [
    "df.to_csv(\"../data/df_ratings_raw.csv\")"
   ]
  },
  {
   "cell_type": "markdown",
   "metadata": {},
   "source": [
    "## 3A. Pre-processing our Data "
   ]
  },
  {
   "cell_type": "code",
   "execution_count": 5,
   "metadata": {},
   "outputs": [],
   "source": [
    "df = pd.read_csv(\"../data/df_ratings_raw.csv\", index_col = 0)"
   ]
  },
  {
   "cell_type": "markdown",
   "metadata": {},
   "source": [
    "We will require a number of pre-processing tools that we import into our python scripts. The purpose of these tools is to further convert the dataset into a machine-readable format, by splitting our data into a training, validation and test set, as well as utilizing Natural Language Processing to convert our text into ML-compatible Word Vectors.\n",
    "\n",
    "The tools we use are:\n",
    "* Preprocessing tools from `scikit-learn`, which is a commercially-used open-source Python-based machine-learning library (https://scikit-learn.org/stable/), and\n",
    "* Preprocessing tools from `spaCy`, which is an \"Industrial-Strength\"open-source Python-based Natural Language Processing library (https://spacy.io)."
   ]
  },
  {
   "cell_type": "code",
   "execution_count": 4,
   "metadata": {},
   "outputs": [],
   "source": [
    "#sklearn modelling tools\n",
    "from sklearn.model_selection import GridSearchCV\n",
    "from sklearn.model_selection import train_test_split\n",
    "from sklearn.pipeline import Pipeline\n",
    "from sklearn.preprocessing import RobustScaler\n",
    "from sklearn.model_selection import cross_val_score\n",
    "\n",
    "#for multilabel classification and oversampling\n",
    "from skmultilearn.problem_transform import BinaryRelevance\n",
    "from sklearn.multiclass import OneVsRestClassifier\n",
    "from imblearn.over_sampling import SMOTE\n",
    "from sklearn.preprocessing import label_binarize\n",
    "\n",
    "#for PCA - Dimensionality Reduction\n",
    "from sklearn.decomposition import TruncatedSVD\n",
    "\n",
    "#for word vectorization\n",
    "from sklearn.feature_extraction.text import TfidfTransformer, CountVectorizer, TfidfVectorizer\n",
    "\n",
    "#our dummy baseline\n",
    "from sklearn.dummy import DummyClassifier\n",
    "\n",
    "#advanced supervised classification models\n",
    "from sklearn.neighbors import KNeighborsClassifier\n",
    "from sklearn.ensemble import RandomForestClassifier, GradientBoostingClassifier, AdaBoostClassifier\n",
    "from sklearn.tree import DecisionTreeClassifier\n",
    "from sklearn import svm\n",
    "from sklearn.svm import SVC\n",
    "from xgboost import XGBClassifier\n",
    "\n",
    "from sklearn.dummy import DummyClassifier\n",
    "from sklearn.linear_model import SGDClassifier\n",
    "from sklearn.naive_bayes import GaussianNB\n",
    "\n",
    "#classification metrics imports \n",
    "from sklearn.metrics import accuracy_score, precision_score, recall_score, f1_score, roc_curve, auc, confusion_matrix\n",
    "from scipy import interp\n",
    "from itertools import cycle\n",
    "\n",
    "from sklearn.metrics import balanced_accuracy_score\n",
    "from sklearn.metrics import confusion_matrix, classification_report, roc_auc_score, hinge_loss\n",
    "from sklearn import metrics"
   ]
  },
  {
   "cell_type": "code",
   "execution_count": 5,
   "metadata": {},
   "outputs": [],
   "source": [
    "#pre-process text for EDA and later modelling too using spacy and string libraries\n",
    "\n",
    "import spacy\n",
    "from spacy.lang.en import English # updated\n",
    "\n",
    "import re\n",
    "import string\n",
    "from spacy.lang.en.stop_words import STOP_WORDS\n",
    "from spacy.lang.en import English\n",
    "from spacy import displacy\n",
    "import spacy.cli\n",
    "from spacy.pipeline import EntityRuler\n",
    "from spacy.matcher import Matcher\n",
    "from spacy.tokens import Doc\n",
    "from spacy import displacy\n",
    "\n",
    "from collections import Counter"
   ]
  },
  {
   "cell_type": "markdown",
   "metadata": {},
   "source": [
    "Now that we've imported our tools, we write code using `spaCy` to transform words into numerical arrays known as Word Vectors. This involves a process coded out below known as `tokenization`.\n",
    "\n",
    "We also convert all of the words in our dataset into their lemmatized form (base word-format e.g. the base format of \"disappointed\" is \"disappoint\", as well remove punctuation, stop-words, numbers. \n",
    "\n",
    "Again, all of these steps are necessary to allow our models to \"read\" the language and predict what risk scoring should be assigned to any given news article. \n",
    "\n",
    "Here is what the pre-processing code:"
   ]
  },
  {
   "cell_type": "code",
   "execution_count": 8,
   "metadata": {},
   "outputs": [],
   "source": [
    "#stopwords removal\n",
    "\n",
    "# Create our list of punctuation marks\n",
    "punctuations = string.punctuation\n",
    "\n",
    "# Create our list of stopwords\n",
    "nlp = spacy.load('en_core_web_sm')\n",
    "stop_words = spacy.lang.en.stop_words.STOP_WORDS\n",
    "\n",
    "# Load English tokenizer, tagger, parser, NER and word vectors\n",
    "parser = English()\n",
    "\n",
    "# Creating our tokenizer function\n",
    "def spacy_tokenizer(sentence):\n",
    "    \n",
    "    #remove non-words\n",
    "    tokens = re.sub(\"[^a-zA-Z]\", \" \", sentence)\n",
    "    tokens = re.sub(\"[0-9]+\", \"\", tokens)\n",
    "    \n",
    "    # Creating our token object, which is used to create documents with linguistic annotations.\n",
    "    tokens = parser(tokens)\n",
    "\n",
    "    # Lemmatizing each token and converting each token into lowercase\n",
    "    tokens = [ word.lemma_.lower().strip() if word.lemma_ != \"-PRON-\" else word.lower_ for word in tokens ]\n",
    "\n",
    "    # Removing stop words\n",
    "    tokens = [ word for word in tokens if word not in stop_words and word not in punctuations]\n",
    "    \n",
    "    # return preprocessed list of tokens\n",
    "    return(\" \".join(tokens))"
   ]
  },
  {
   "cell_type": "code",
   "execution_count": 9,
   "metadata": {},
   "outputs": [],
   "source": [
    "df[\"bag_cleaned_text\"]=df[\"combined\"].apply(spacy_tokenizer)"
   ]
  },
  {
   "cell_type": "code",
   "execution_count": 10,
   "metadata": {},
   "outputs": [
    {
     "data": {
      "text/html": [
       "<div>\n",
       "<style scoped>\n",
       "    .dataframe tbody tr th:only-of-type {\n",
       "        vertical-align: middle;\n",
       "    }\n",
       "\n",
       "    .dataframe tbody tr th {\n",
       "        vertical-align: top;\n",
       "    }\n",
       "\n",
       "    .dataframe thead th {\n",
       "        text-align: right;\n",
       "    }\n",
       "</style>\n",
       "<table border=\"1\" class=\"dataframe\">\n",
       "  <thead>\n",
       "    <tr style=\"text-align: right;\">\n",
       "      <th></th>\n",
       "      <th>date</th>\n",
       "      <th>title</th>\n",
       "      <th>intro</th>\n",
       "      <th>url</th>\n",
       "      <th>combined</th>\n",
       "      <th>risk_rating</th>\n",
       "      <th>bag_cleaned_text</th>\n",
       "    </tr>\n",
       "  </thead>\n",
       "  <tbody>\n",
       "    <tr>\n",
       "      <th>0</th>\n",
       "      <td>20-Jul-2020</td>\n",
       "      <td>Legacy vs price: Rice exports from Vietnam and India vie for ASEAN trade post-COVID-19</td>\n",
       "      <td>Vietnam and India are competing for ASEAN rice trade post-COVID-19, with the former having gained advantage due to support from traditional partner Philippines, and the latter having come out ahead with Malaysia in terms of price.</td>\n",
       "      <td>www.foodnavigator-asia.com/Article/2020/07/20/Legacy-vs-price-Rice-exports-from-Vietnam-and-India-vie-for-ASEAN-trade-post-COVID-19</td>\n",
       "      <td>Legacy vs price: Rice exports from Vietnam and India vie for ASEAN trade post-COVID-19. Vietnam and India are competing for ASEAN rice trade post-COVID-19, with the former having gained advantage due to support from traditional partner Philippines, and the latter having come out ahead with Malaysia in terms of price.</td>\n",
       "      <td>neutral</td>\n",
       "      <td>legacy vs price rice exports vietnam india vie asean trade post covid vietnam india competing asean rice trade post covid having gained advantage support traditional partner philippines having come ahead malaysia terms price</td>\n",
       "    </tr>\n",
       "    <tr>\n",
       "      <th>1</th>\n",
       "      <td>25-Jun-2020</td>\n",
       "      <td>Trade-off: Rice and seafood the big winners for Vietnam under EU free trade deal</td>\n",
       "      <td>The recently-ratified EU-Vietnam Free Trade Agreement (EVFTA) has seen major gains in food trade for both sides, particularly in rice and seafood for Vietnam as well as alcohol and meat for the EU.</td>\n",
       "      <td>www.foodnavigator-asia.com/Article/2020/06/25/Trade-off-Rice-and-seafood-the-big-winners-for-Vietnam-under-EU-free-trade-deal</td>\n",
       "      <td>Trade-off: Rice and seafood the big winners for Vietnam under EU free trade deal. The recently-ratified EU-Vietnam Free Trade Agreement (EVFTA) has seen major gains in food trade for both sides, particularly in rice and seafood for Vietnam as well as alcohol and meat for the EU.</td>\n",
       "      <td>neutral</td>\n",
       "      <td>trade rice seafood big winners vietnam eu free trade deal recently ratified eu vietnam free trade agreement evfta seen major gains food trade sides particularly rice seafood vietnam alcohol meat eu</td>\n",
       "    </tr>\n",
       "    <tr>\n",
       "      <th>2</th>\n",
       "      <td>22-Apr-2020</td>\n",
       "      <td>Rice-ing concern: COVID-19 creates supply and price volatility for Asia’s most ‘cost-sensitive’ crop</td>\n",
       "      <td>Lockdowns and trade barriers across Asia due to the COVID-19 pandemic have thrust rice - one of the region’s largest agricultural commodities – firmly into the spotlight potential volatility in both supply and cost.</td>\n",
       "      <td>www.foodnavigator-asia.com/Article/2020/04/22/Rice-ing-concern-COVID-19-creates-supply-and-price-volatility-for-Asia-s-most-cost-sensitive-crop</td>\n",
       "      <td>Rice-ing concern: COVID-19 creates supply and price volatility for Asia’s most ‘cost-sensitive’ crop. Lockdowns and trade barriers across Asia due to the COVID-19 pandemic have thrust rice - one of the region’s largest agricultural commodities – firmly into the spotlight potential volatility in both supply and cost.</td>\n",
       "      <td>risky</td>\n",
       "      <td>rice ing concern covid creates supply price volatility asia s cost sensitive crop lockdowns trade barriers asia covid pandemic thrust rice region s largest agricultural commodities firmly spotlight potential volatility supply cost</td>\n",
       "    </tr>\n",
       "    <tr>\n",
       "      <th>3</th>\n",
       "      <td>17-Mar-2020</td>\n",
       "      <td>The rice and fall: Vietnam eyes more global opportunities as Thai supply totters</td>\n",
       "      <td>Thailand’s position as the largest exporter of rice from the South East Asian region is at risk as the country struggles to handle weather, economical and quality changes, whereas Vietnam looks to be going from strength to strength.</td>\n",
       "      <td>www.foodnavigator-asia.com/Article/2020/03/17/The-rice-and-fall-Vietnam-eyes-more-global-opportunities-as-Thai-supply-totters</td>\n",
       "      <td>The rice and fall: Vietnam eyes more global opportunities as Thai supply totters. Thailand’s position as the largest exporter of rice from the South East Asian region is at risk as the country struggles to handle weather, economical and quality changes, whereas Vietnam looks to be going from strength to strength.</td>\n",
       "      <td>risky</td>\n",
       "      <td>rice fall vietnam eyes global opportunities thai supply totters thailand s position largest exporter rice south east asian region risk country struggles handle weather economical quality changes vietnam looks going strength strength</td>\n",
       "    </tr>\n",
       "    <tr>\n",
       "      <th>4</th>\n",
       "      <td>25-Feb-2020</td>\n",
       "      <td>Beyond rice: Indian government urged to boost cereal production in security drive</td>\n",
       "      <td>Researchers are pushing for India to focus on enhancing its production of crops other than rice, the country’s traditional staple, if it wishes to effectively address its triple threats of food security, climate change effects and malnutrition.</td>\n",
       "      <td>www.foodnavigator-asia.com/Article/2020/02/25/Beyond-rice-Indian-government-urged-to-boost-cereal-production-in-security-drive</td>\n",
       "      <td>Beyond rice: Indian government urged to boost cereal production in security drive. Researchers are pushing for India to focus on enhancing its production of crops other than rice, the country’s traditional staple, if it wishes to effectively address its triple threats of food security, climate change effects and malnutrition.</td>\n",
       "      <td>neutral</td>\n",
       "      <td>rice indian government urged boost cereal production security drive researchers pushing india focus enhancing production crops rice country s traditional staple wishes effectively address triple threats food security climate change effects malnutrition</td>\n",
       "    </tr>\n",
       "    <tr>\n",
       "      <th>5</th>\n",
       "      <td>17-Feb-2020</td>\n",
       "      <td>Arsenic snack shock: RMIT study finds almost 75% of children rice snacks exceed EU recommendations</td>\n",
       "      <td>Nearly 75% of infant and children rice snack samples in Australia have been found to exceed the European Union (EU) maximum levels of inorganic arsenic levels.</td>\n",
       "      <td>www.foodnavigator-asia.com/Article/2020/02/17/Arsenic-snack-shock-RMIT-study-finds-almost-75-of-children-rice-snacks-exceed-EU-recommendations</td>\n",
       "      <td>Arsenic snack shock: RMIT study finds almost 75% of children rice snacks exceed EU recommendations. Nearly 75% of infant and children rice snack samples in Australia have been found to exceed the European Union (EU) maximum levels of inorganic arsenic levels.</td>\n",
       "      <td>neutral</td>\n",
       "      <td>arsenic snack shock rmit study finds children rice snacks exceed eu recommendations nearly infant children rice snack samples australia found exceed european union eu maximum levels inorganic arsenic levels</td>\n",
       "    </tr>\n",
       "    <tr>\n",
       "      <th>6</th>\n",
       "      <td>14-Jan-2020</td>\n",
       "      <td>Rice and shine: Expansion plans in the pipelines for Japan’s low carbohydrate rice</td>\n",
       "      <td>Japanese health food company KBS Corporation is rapidly expanding its sales channels for its low carbohydrate rice, Trice.</td>\n",
       "      <td>www.foodnavigator-asia.com/Article/2020/01/14/Rice-and-shine-Expansion-plans-in-the-pipelines-for-Japan-s-low-carbohydrate-rice</td>\n",
       "      <td>Rice and shine: Expansion plans in the pipelines for Japan’s low carbohydrate rice. Japanese health food company KBS Corporation is rapidly expanding its sales channels for its low carbohydrate rice, Trice.</td>\n",
       "      <td>stable</td>\n",
       "      <td>rice shine expansion plans pipelines japan s low carbohydrate rice japanese health food company kbs corporation rapidly expanding sales channels low carbohydrate rice trice</td>\n",
       "    </tr>\n",
       "  </tbody>\n",
       "</table>\n",
       "</div>"
      ],
      "text/plain": [
       "          date  \\\n",
       "0  20-Jul-2020   \n",
       "1  25-Jun-2020   \n",
       "2  22-Apr-2020   \n",
       "3  17-Mar-2020   \n",
       "4  25-Feb-2020   \n",
       "5  17-Feb-2020   \n",
       "6  14-Jan-2020   \n",
       "\n",
       "                                                                                                  title  \\\n",
       "0                Legacy vs price: Rice exports from Vietnam and India vie for ASEAN trade post-COVID-19   \n",
       "1                      Trade-off: Rice and seafood the big winners for Vietnam under EU free trade deal   \n",
       "2  Rice-ing concern: COVID-19 creates supply and price volatility for Asia’s most ‘cost-sensitive’ crop   \n",
       "3                      The rice and fall: Vietnam eyes more global opportunities as Thai supply totters   \n",
       "4                     Beyond rice: Indian government urged to boost cereal production in security drive   \n",
       "5    Arsenic snack shock: RMIT study finds almost 75% of children rice snacks exceed EU recommendations   \n",
       "6                    Rice and shine: Expansion plans in the pipelines for Japan’s low carbohydrate rice   \n",
       "\n",
       "                                                                                                                                                                                                                                                  intro  \\\n",
       "0                Vietnam and India are competing for ASEAN rice trade post-COVID-19, with the former having gained advantage due to support from traditional partner Philippines, and the latter having come out ahead with Malaysia in terms of price.   \n",
       "1                                                 The recently-ratified EU-Vietnam Free Trade Agreement (EVFTA) has seen major gains in food trade for both sides, particularly in rice and seafood for Vietnam as well as alcohol and meat for the EU.   \n",
       "2                               Lockdowns and trade barriers across Asia due to the COVID-19 pandemic have thrust rice - one of the region’s largest agricultural commodities – firmly into the spotlight potential volatility in both supply and cost.   \n",
       "3              Thailand’s position as the largest exporter of rice from the South East Asian region is at risk as the country struggles to handle weather, economical and quality changes, whereas Vietnam looks to be going from strength to strength.   \n",
       "4  Researchers are pushing for India to focus on enhancing its production of crops other than rice, the country’s traditional staple, if it wishes to effectively address its triple threats of food security, climate change effects and malnutrition.   \n",
       "5                                                                                       Nearly 75% of infant and children rice snack samples in Australia have been found to exceed the European Union (EU) maximum levels of inorganic arsenic levels.   \n",
       "6                                                                                                                            Japanese health food company KBS Corporation is rapidly expanding its sales channels for its low carbohydrate rice, Trice.   \n",
       "\n",
       "                                                                                                                                               url  \\\n",
       "0              www.foodnavigator-asia.com/Article/2020/07/20/Legacy-vs-price-Rice-exports-from-Vietnam-and-India-vie-for-ASEAN-trade-post-COVID-19   \n",
       "1                    www.foodnavigator-asia.com/Article/2020/06/25/Trade-off-Rice-and-seafood-the-big-winners-for-Vietnam-under-EU-free-trade-deal   \n",
       "2  www.foodnavigator-asia.com/Article/2020/04/22/Rice-ing-concern-COVID-19-creates-supply-and-price-volatility-for-Asia-s-most-cost-sensitive-crop   \n",
       "3                    www.foodnavigator-asia.com/Article/2020/03/17/The-rice-and-fall-Vietnam-eyes-more-global-opportunities-as-Thai-supply-totters   \n",
       "4                   www.foodnavigator-asia.com/Article/2020/02/25/Beyond-rice-Indian-government-urged-to-boost-cereal-production-in-security-drive   \n",
       "5   www.foodnavigator-asia.com/Article/2020/02/17/Arsenic-snack-shock-RMIT-study-finds-almost-75-of-children-rice-snacks-exceed-EU-recommendations   \n",
       "6                  www.foodnavigator-asia.com/Article/2020/01/14/Rice-and-shine-Expansion-plans-in-the-pipelines-for-Japan-s-low-carbohydrate-rice   \n",
       "\n",
       "                                                                                                                                                                                                                                                                                                                                  combined  \\\n",
       "0           Legacy vs price: Rice exports from Vietnam and India vie for ASEAN trade post-COVID-19. Vietnam and India are competing for ASEAN rice trade post-COVID-19, with the former having gained advantage due to support from traditional partner Philippines, and the latter having come out ahead with Malaysia in terms of price.   \n",
       "1                                                  Trade-off: Rice and seafood the big winners for Vietnam under EU free trade deal. The recently-ratified EU-Vietnam Free Trade Agreement (EVFTA) has seen major gains in food trade for both sides, particularly in rice and seafood for Vietnam as well as alcohol and meat for the EU.   \n",
       "2            Rice-ing concern: COVID-19 creates supply and price volatility for Asia’s most ‘cost-sensitive’ crop. Lockdowns and trade barriers across Asia due to the COVID-19 pandemic have thrust rice - one of the region’s largest agricultural commodities – firmly into the spotlight potential volatility in both supply and cost.   \n",
       "3               The rice and fall: Vietnam eyes more global opportunities as Thai supply totters. Thailand’s position as the largest exporter of rice from the South East Asian region is at risk as the country struggles to handle weather, economical and quality changes, whereas Vietnam looks to be going from strength to strength.   \n",
       "4  Beyond rice: Indian government urged to boost cereal production in security drive. Researchers are pushing for India to focus on enhancing its production of crops other than rice, the country’s traditional staple, if it wishes to effectively address its triple threats of food security, climate change effects and malnutrition.   \n",
       "5                                                                      Arsenic snack shock: RMIT study finds almost 75% of children rice snacks exceed EU recommendations. Nearly 75% of infant and children rice snack samples in Australia have been found to exceed the European Union (EU) maximum levels of inorganic arsenic levels.   \n",
       "6                                                                                                                           Rice and shine: Expansion plans in the pipelines for Japan’s low carbohydrate rice. Japanese health food company KBS Corporation is rapidly expanding its sales channels for its low carbohydrate rice, Trice.   \n",
       "\n",
       "  risk_rating  \\\n",
       "0     neutral   \n",
       "1     neutral   \n",
       "2       risky   \n",
       "3       risky   \n",
       "4     neutral   \n",
       "5     neutral   \n",
       "6      stable   \n",
       "\n",
       "                                                                                                                                                                                                                                               bag_cleaned_text  \n",
       "0                              legacy vs price rice exports vietnam india vie asean trade post covid vietnam india competing asean rice trade post covid having gained advantage support traditional partner philippines having come ahead malaysia terms price  \n",
       "1                                                         trade rice seafood big winners vietnam eu free trade deal recently ratified eu vietnam free trade agreement evfta seen major gains food trade sides particularly rice seafood vietnam alcohol meat eu  \n",
       "2                        rice ing concern covid creates supply price volatility asia s cost sensitive crop lockdowns trade barriers asia covid pandemic thrust rice region s largest agricultural commodities firmly spotlight potential volatility supply cost  \n",
       "3                      rice fall vietnam eyes global opportunities thai supply totters thailand s position largest exporter rice south east asian region risk country struggles handle weather economical quality changes vietnam looks going strength strength  \n",
       "4  rice indian government urged boost cereal production security drive researchers pushing india focus enhancing production crops rice country s traditional staple wishes effectively address triple threats food security climate change effects malnutrition  \n",
       "5                                                arsenic snack shock rmit study finds children rice snacks exceed eu recommendations nearly infant children rice snack samples australia found exceed european union eu maximum levels inorganic arsenic levels  \n",
       "6                                                                                  rice shine expansion plans pipelines japan s low carbohydrate rice japanese health food company kbs corporation rapidly expanding sales channels low carbohydrate rice trice  "
      ]
     },
     "execution_count": 10,
     "metadata": {},
     "output_type": "execute_result"
    }
   ],
   "source": [
    "df.head(7)"
   ]
  },
  {
   "cell_type": "markdown",
   "metadata": {},
   "source": [
    "Our algorithm will also assign a numerical risk score based on the risk categories with this dictionary of values for multiclass classification to work in sklearn. The purpose of this is for future risk-weighted scoring for our report-writing algorithm, which is explained later:"
   ]
  },
  {
   "cell_type": "code",
   "execution_count": 11,
   "metadata": {},
   "outputs": [
    {
     "name": "stdout",
     "output_type": "stream",
     "text": [
      "0     neutral\n",
      "1     neutral\n",
      "2       risky\n",
      "3       risky\n",
      "4     neutral\n",
      "       ...   \n",
      "70     stable\n",
      "71      risky\n",
      "72    neutral\n",
      "73     stable\n",
      "74     stable\n",
      "Name: risk_rating_numerical, Length: 75, dtype: object\n"
     ]
    }
   ],
   "source": [
    "df[\"risk_rating_numerical\"] = df[\"risk_rating\"].copy()\n",
    "print(df[\"risk_rating_numerical\"])"
   ]
  },
  {
   "cell_type": "code",
   "execution_count": 12,
   "metadata": {},
   "outputs": [
    {
     "data": {
      "text/plain": [
       "0     0\n",
       "1     0\n",
       "2    -1\n",
       "3    -1\n",
       "4     0\n",
       "     ..\n",
       "70    1\n",
       "71   -1\n",
       "72    0\n",
       "73    1\n",
       "74    1\n",
       "Name: risk_rating_numerical, Length: 75, dtype: int64"
      ]
     },
     "execution_count": 12,
     "metadata": {},
     "output_type": "execute_result"
    }
   ],
   "source": [
    "#numerical risk rating score impact\n",
    "df[\"risk_rating_numerical\"].replace({'neutral':0, \n",
    "                           'stable':1, \n",
    "                           'risky':-1})"
   ]
  },
  {
   "cell_type": "markdown",
   "metadata": {},
   "source": [
    "In the final part of our pre-processing, we now write code to actually transform our text into individual word and 2-word phrase (bigram) tokens, which will attach numerical scores that are weighted tf: term frequency(count of the words present in document from its own vocabulary), idf: inverse document frequency(importance of the word to each document)."
   ]
  },
  {
   "cell_type": "code",
   "execution_count": 17,
   "metadata": {},
   "outputs": [
    {
     "name": "stdout",
     "output_type": "stream",
     "text": [
      "(75, 304)\n",
      "(75,)\n"
     ]
    }
   ],
   "source": [
    "#Creating the features (tf-idf weights) for the processed text\n",
    "\n",
    "texts = df['bag_cleaned_text'].astype('str')\n",
    "\n",
    "tfidf_vectorizer = TfidfVectorizer(ngram_range=(1, 2), \n",
    "                                   min_df = 2, \n",
    "                                   max_df = .95)\n",
    "\n",
    "X = tfidf_vectorizer.fit_transform(texts) #features\n",
    "y = df['risk_rating_numerical'].values #target\n",
    "\n",
    "print (X.shape)\n",
    "print(y.shape)"
   ]
  },
  {
   "cell_type": "markdown",
   "metadata": {},
   "source": [
    "## 3B. Modelling: Multilabel Text Classification using `scikit-learn`\n",
    "Here, we're going to train our data using the following `scikit-learn` machine learning models: \n",
    "* Random Forest, \n",
    "* XGBoost, \n",
    "* SVC, and \n",
    "* K-Nearest Neighbours.\n",
    "\n",
    "We'll split the data into a train, validation and test set. We'll only run our models on the validation set to understand generalization of each model, which we compare against sklearn's own DummyClassifier as our baseline model.\n",
    "\n",
    "The purpose of all this is to evaluate whether these conventional `sci-kit learn` machine learning models will perform better at predicting the right risk label for any given piece of news. We also compare this against an NLP-focused Deep Neural Network known as `BERT`, which is Google's own open-source Deep Learning model: (https://en.wikipedia.org/wiki/BERT_(language_model))\n",
    "\n",
    "**Once the first phase of our training data has been compiled and labelled, our risk decisioning engine will constantly be evaluated for performance. We will, at all times, be asking ourselves - are the models we are using good at predicting risk correctly?**"
   ]
  },
  {
   "cell_type": "code",
   "execution_count": 18,
   "metadata": {
    "jupyter": {
     "outputs_hidden": true
    }
   },
   "outputs": [
    {
     "name": "stdout",
     "output_type": "stream",
     "text": [
      "Multiclass Clause Classification - Validation Scores\n"
     ]
    },
    {
     "name": "stderr",
     "output_type": "stream",
     "text": [
      "/Users/grahamlim/opt/anaconda3/lib/python3.7/site-packages/sklearn/dummy.py:132: FutureWarning: The default value of strategy will change from stratified to prior in 0.24.\n",
      "  \"stratified to prior in 0.24.\", FutureWarning)\n"
     ]
    },
    {
     "data": {
      "text/html": [
       "<div>\n",
       "<style scoped>\n",
       "    .dataframe tbody tr th:only-of-type {\n",
       "        vertical-align: middle;\n",
       "    }\n",
       "\n",
       "    .dataframe tbody tr th {\n",
       "        vertical-align: top;\n",
       "    }\n",
       "\n",
       "    .dataframe thead th {\n",
       "        text-align: right;\n",
       "    }\n",
       "</style>\n",
       "<table border=\"1\" class=\"dataframe\">\n",
       "  <thead>\n",
       "    <tr style=\"text-align: right;\">\n",
       "      <th></th>\n",
       "      <th>model_name</th>\n",
       "      <th>accuracy_score</th>\n",
       "      <th>precision_score</th>\n",
       "      <th>recall_score</th>\n",
       "      <th>f1_score</th>\n",
       "    </tr>\n",
       "  </thead>\n",
       "  <tbody>\n",
       "    <tr>\n",
       "      <th>0</th>\n",
       "      <td>Random Forest</td>\n",
       "      <td>0.434783</td>\n",
       "      <td>0.434783</td>\n",
       "      <td>0.434783</td>\n",
       "      <td>0.434783</td>\n",
       "    </tr>\n",
       "    <tr>\n",
       "      <th>2</th>\n",
       "      <td>SVC</td>\n",
       "      <td>0.434783</td>\n",
       "      <td>0.434783</td>\n",
       "      <td>0.434783</td>\n",
       "      <td>0.434783</td>\n",
       "    </tr>\n",
       "    <tr>\n",
       "      <th>1</th>\n",
       "      <td>XGBoost</td>\n",
       "      <td>0.391304</td>\n",
       "      <td>0.391304</td>\n",
       "      <td>0.391304</td>\n",
       "      <td>0.391304</td>\n",
       "    </tr>\n",
       "    <tr>\n",
       "      <th>4</th>\n",
       "      <td>Dummy Baseline</td>\n",
       "      <td>0.347826</td>\n",
       "      <td>0.347826</td>\n",
       "      <td>0.347826</td>\n",
       "      <td>0.347826</td>\n",
       "    </tr>\n",
       "    <tr>\n",
       "      <th>3</th>\n",
       "      <td>K Nearest Neighbor</td>\n",
       "      <td>0.304348</td>\n",
       "      <td>0.304348</td>\n",
       "      <td>0.304348</td>\n",
       "      <td>0.304348</td>\n",
       "    </tr>\n",
       "  </tbody>\n",
       "</table>\n",
       "</div>"
      ],
      "text/plain": [
       "           model_name accuracy_score precision_score recall_score  f1_score\n",
       "0       Random Forest       0.434783        0.434783     0.434783  0.434783\n",
       "2                 SVC       0.434783        0.434783     0.434783  0.434783\n",
       "1             XGBoost       0.391304        0.391304     0.391304  0.391304\n",
       "4      Dummy Baseline       0.347826        0.347826     0.347826  0.347826\n",
       "3  K Nearest Neighbor       0.304348        0.304348     0.304348  0.304348"
      ]
     },
     "execution_count": 18,
     "metadata": {},
     "output_type": "execute_result"
    }
   ],
   "source": [
    "#General model evaluation using default parameters on Validation Set\n",
    "\n",
    "#Creating a dict of the models\n",
    "model_dict = {'Random Forest': RandomForestClassifier(random_state=3),\n",
    "              'XGBoost': XGBClassifier(random_state=3),\n",
    "              'SVC':SVC(),\n",
    "              'K Nearest Neighbor': KNeighborsClassifier(),\n",
    "              'Dummy Baseline': DummyClassifier()} \n",
    "\n",
    "\n",
    "#Train test split with stratified sampling for evaluation\n",
    "X_train, X_val, y_train, y_val = train_test_split(X, \n",
    "                                                    y, \n",
    "                                                    test_size = .3, \n",
    "                                                    shuffle = True, \n",
    "                                                    stratify = y, \n",
    "                                                    random_state = 3)\n",
    "\n",
    "\n",
    "print(\"Multiclass Clause Classification - Validation Scores\")\n",
    "\n",
    "#Function to get the scores for each model in a datframe\n",
    "def model_score_df(model_dict):   \n",
    "    \n",
    "    model_name, ac_score_list, p_score_list, r_score_list, f1_score_list, auc_list = [], [], [], [], [], []\n",
    "    \n",
    "    for k,v in model_dict.items():   \n",
    "        model_name.append(k)\n",
    "        v.fit(X_train, y_train)\n",
    "        y_pred = v.predict(X_val)\n",
    "        ac_score_list.append(accuracy_score(y_val, y_pred))\n",
    "        p_score_list.append(precision_score(y_val, y_pred, average='micro'))\n",
    "        r_score_list.append(recall_score(y_val, y_pred, average='micro'))\n",
    "        f1_score_list.append(f1_score(y_val, y_pred, average='micro'))\n",
    "\n",
    "        model_comparison_df = pd.DataFrame([model_name, ac_score_list, p_score_list, r_score_list, f1_score_list]).T\n",
    "        model_comparison_df.columns = ['model_name', 'accuracy_score', 'precision_score', 'recall_score', 'f1_score']\n",
    "        model_comparison_df = model_comparison_df.sort_values(by='f1_score', ascending=False)\n",
    "    return model_comparison_df\n",
    "\n",
    "model_score_df(model_dict)\n"
   ]
  },
  {
   "cell_type": "markdown",
   "metadata": {},
   "source": [
    "## 3C. BERT Modelling\n",
    "We also will utilize a Deep Learning Neural Network known as `BERT`, mentioned earlier. \n",
    "\n",
    "Kaushal Trivedi defines `BERT` as a \"multilingual transformer based model that has achieved state-of-the-art results on various NLP tasks. BERT is a bidirectional model that is based on the transformer architecture, it replaces the sequential nature of RNN (LSTM & GRU) with a much faster Attention-based approach. The model is also pre-trained on two unsupervised tasks, masked language modeling and next sentence prediction. This allows us to use a pre-trained BERT model by fine-tuning the same on downstream specific tasks such as sentiment classification, intent detection, question-answering and more.\" (Source: https://medium.com/huggingface/multi-label-text-classification-using-bert-the-mighty-transformer-69714fa3fb3d)\n",
    "\n",
    "For our purposes, it is another model on top of `scikit-learn`'s ML models that can help us predict the correct risk label for a given set of news. The code below allows us to use a wrapper called `ktrain` that trains a BERT model on our news risk classifier:"
   ]
  },
  {
   "cell_type": "code",
   "execution_count": 1,
   "metadata": {},
   "outputs": [],
   "source": [
    "#Please install ktrain on Google Colab: `pip install ktrain`\n",
    "\n",
    "#BERT ktrain wrapper imports\n",
    "import ktrain\n",
    "from ktrain import text"
   ]
  },
  {
   "cell_type": "code",
   "execution_count": 118,
   "metadata": {},
   "outputs": [
    {
     "data": {
      "text/html": [
       "<div>\n",
       "<style scoped>\n",
       "    .dataframe tbody tr th:only-of-type {\n",
       "        vertical-align: middle;\n",
       "    }\n",
       "\n",
       "    .dataframe tbody tr th {\n",
       "        vertical-align: top;\n",
       "    }\n",
       "\n",
       "    .dataframe thead th {\n",
       "        text-align: right;\n",
       "    }\n",
       "</style>\n",
       "<table border=\"1\" class=\"dataframe\">\n",
       "  <thead>\n",
       "    <tr style=\"text-align: right;\">\n",
       "      <th></th>\n",
       "      <th>date</th>\n",
       "      <th>title</th>\n",
       "      <th>intro</th>\n",
       "      <th>url</th>\n",
       "      <th>combined</th>\n",
       "      <th>risk_rating</th>\n",
       "      <th>bag_cleaned_text</th>\n",
       "    </tr>\n",
       "  </thead>\n",
       "  <tbody>\n",
       "    <tr>\n",
       "      <th>0</th>\n",
       "      <td>20-Jul-2020</td>\n",
       "      <td>Legacy vs price: Rice exports from Vietnam and India vie for ASEAN trade post-COVID-19</td>\n",
       "      <td>Vietnam and India are competing for ASEAN rice trade post-COVID-19, with the former having gained advantage due to support from traditional partner Philippines, and the latter having come out ahead with Malaysia in terms of price.</td>\n",
       "      <td>www.foodnavigator-asia.com/Article/2020/07/20/Legacy-vs-price-Rice-exports-from-Vietnam-and-India-vie-for-ASEAN-trade-post-COVID-19</td>\n",
       "      <td>Legacy vs price: Rice exports from Vietnam and India vie for ASEAN trade post-COVID-19. Vietnam and India are competing for ASEAN rice trade post-COVID-19, with the former having gained advantage due to support from traditional partner Philippines, and the latter having come out ahead with Malaysia in terms of price.</td>\n",
       "      <td>neutral</td>\n",
       "      <td>legacy vs price rice exports vietnam india vie asean trade post covid vietnam india competing asean rice trade post covid having gained advantage support traditional partner philippines having come ahead malaysia terms price</td>\n",
       "    </tr>\n",
       "    <tr>\n",
       "      <th>1</th>\n",
       "      <td>25-Jun-2020</td>\n",
       "      <td>Trade-off: Rice and seafood the big winners for Vietnam under EU free trade deal</td>\n",
       "      <td>The recently-ratified EU-Vietnam Free Trade Agreement (EVFTA) has seen major gains in food trade for both sides, particularly in rice and seafood for Vietnam as well as alcohol and meat for the EU.</td>\n",
       "      <td>www.foodnavigator-asia.com/Article/2020/06/25/Trade-off-Rice-and-seafood-the-big-winners-for-Vietnam-under-EU-free-trade-deal</td>\n",
       "      <td>Trade-off: Rice and seafood the big winners for Vietnam under EU free trade deal. The recently-ratified EU-Vietnam Free Trade Agreement (EVFTA) has seen major gains in food trade for both sides, particularly in rice and seafood for Vietnam as well as alcohol and meat for the EU.</td>\n",
       "      <td>neutral</td>\n",
       "      <td>trade rice seafood big winners vietnam eu free trade deal recently ratified eu vietnam free trade agreement evfta seen major gains food trade sides particularly rice seafood vietnam alcohol meat eu</td>\n",
       "    </tr>\n",
       "    <tr>\n",
       "      <th>2</th>\n",
       "      <td>22-Apr-2020</td>\n",
       "      <td>Rice-ing concern: COVID-19 creates supply and price volatility for Asia’s most ‘cost-sensitive’ crop</td>\n",
       "      <td>Lockdowns and trade barriers across Asia due to the COVID-19 pandemic have thrust rice - one of the region’s largest agricultural commodities – firmly into the spotlight potential volatility in both supply and cost.</td>\n",
       "      <td>www.foodnavigator-asia.com/Article/2020/04/22/Rice-ing-concern-COVID-19-creates-supply-and-price-volatility-for-Asia-s-most-cost-sensitive-crop</td>\n",
       "      <td>Rice-ing concern: COVID-19 creates supply and price volatility for Asia’s most ‘cost-sensitive’ crop. Lockdowns and trade barriers across Asia due to the COVID-19 pandemic have thrust rice - one of the region’s largest agricultural commodities – firmly into the spotlight potential volatility in both supply and cost.</td>\n",
       "      <td>risky</td>\n",
       "      <td>rice ing concern covid creates supply price volatility asia s cost sensitive crop lockdowns trade barriers asia covid pandemic thrust rice region s largest agricultural commodities firmly spotlight potential volatility supply cost</td>\n",
       "    </tr>\n",
       "    <tr>\n",
       "      <th>3</th>\n",
       "      <td>17-Mar-2020</td>\n",
       "      <td>The rice and fall: Vietnam eyes more global opportunities as Thai supply totters</td>\n",
       "      <td>Thailand’s position as the largest exporter of rice from the South East Asian region is at risk as the country struggles to handle weather, economical and quality changes, whereas Vietnam looks to be going from strength to strength.</td>\n",
       "      <td>www.foodnavigator-asia.com/Article/2020/03/17/The-rice-and-fall-Vietnam-eyes-more-global-opportunities-as-Thai-supply-totters</td>\n",
       "      <td>The rice and fall: Vietnam eyes more global opportunities as Thai supply totters. Thailand’s position as the largest exporter of rice from the South East Asian region is at risk as the country struggles to handle weather, economical and quality changes, whereas Vietnam looks to be going from strength to strength.</td>\n",
       "      <td>risky</td>\n",
       "      <td>rice fall vietnam eyes global opportunities thai supply totters thailand s position largest exporter rice south east asian region risk country struggles handle weather economical quality changes vietnam looks going strength strength</td>\n",
       "    </tr>\n",
       "    <tr>\n",
       "      <th>4</th>\n",
       "      <td>25-Feb-2020</td>\n",
       "      <td>Beyond rice: Indian government urged to boost cereal production in security drive</td>\n",
       "      <td>Researchers are pushing for India to focus on enhancing its production of crops other than rice, the country’s traditional staple, if it wishes to effectively address its triple threats of food security, climate change effects and malnutrition.</td>\n",
       "      <td>www.foodnavigator-asia.com/Article/2020/02/25/Beyond-rice-Indian-government-urged-to-boost-cereal-production-in-security-drive</td>\n",
       "      <td>Beyond rice: Indian government urged to boost cereal production in security drive. Researchers are pushing for India to focus on enhancing its production of crops other than rice, the country’s traditional staple, if it wishes to effectively address its triple threats of food security, climate change effects and malnutrition.</td>\n",
       "      <td>neutral</td>\n",
       "      <td>rice indian government urged boost cereal production security drive researchers pushing india focus enhancing production crops rice country s traditional staple wishes effectively address triple threats food security climate change effects malnutrition</td>\n",
       "    </tr>\n",
       "  </tbody>\n",
       "</table>\n",
       "</div>"
      ],
      "text/plain": [
       "          date  \\\n",
       "0  20-Jul-2020   \n",
       "1  25-Jun-2020   \n",
       "2  22-Apr-2020   \n",
       "3  17-Mar-2020   \n",
       "4  25-Feb-2020   \n",
       "\n",
       "                                                                                                  title  \\\n",
       "0                Legacy vs price: Rice exports from Vietnam and India vie for ASEAN trade post-COVID-19   \n",
       "1                      Trade-off: Rice and seafood the big winners for Vietnam under EU free trade deal   \n",
       "2  Rice-ing concern: COVID-19 creates supply and price volatility for Asia’s most ‘cost-sensitive’ crop   \n",
       "3                      The rice and fall: Vietnam eyes more global opportunities as Thai supply totters   \n",
       "4                     Beyond rice: Indian government urged to boost cereal production in security drive   \n",
       "\n",
       "                                                                                                                                                                                                                                                  intro  \\\n",
       "0                Vietnam and India are competing for ASEAN rice trade post-COVID-19, with the former having gained advantage due to support from traditional partner Philippines, and the latter having come out ahead with Malaysia in terms of price.   \n",
       "1                                                 The recently-ratified EU-Vietnam Free Trade Agreement (EVFTA) has seen major gains in food trade for both sides, particularly in rice and seafood for Vietnam as well as alcohol and meat for the EU.   \n",
       "2                               Lockdowns and trade barriers across Asia due to the COVID-19 pandemic have thrust rice - one of the region’s largest agricultural commodities – firmly into the spotlight potential volatility in both supply and cost.   \n",
       "3              Thailand’s position as the largest exporter of rice from the South East Asian region is at risk as the country struggles to handle weather, economical and quality changes, whereas Vietnam looks to be going from strength to strength.   \n",
       "4  Researchers are pushing for India to focus on enhancing its production of crops other than rice, the country’s traditional staple, if it wishes to effectively address its triple threats of food security, climate change effects and malnutrition.   \n",
       "\n",
       "                                                                                                                                               url  \\\n",
       "0              www.foodnavigator-asia.com/Article/2020/07/20/Legacy-vs-price-Rice-exports-from-Vietnam-and-India-vie-for-ASEAN-trade-post-COVID-19   \n",
       "1                    www.foodnavigator-asia.com/Article/2020/06/25/Trade-off-Rice-and-seafood-the-big-winners-for-Vietnam-under-EU-free-trade-deal   \n",
       "2  www.foodnavigator-asia.com/Article/2020/04/22/Rice-ing-concern-COVID-19-creates-supply-and-price-volatility-for-Asia-s-most-cost-sensitive-crop   \n",
       "3                    www.foodnavigator-asia.com/Article/2020/03/17/The-rice-and-fall-Vietnam-eyes-more-global-opportunities-as-Thai-supply-totters   \n",
       "4                   www.foodnavigator-asia.com/Article/2020/02/25/Beyond-rice-Indian-government-urged-to-boost-cereal-production-in-security-drive   \n",
       "\n",
       "                                                                                                                                                                                                                                                                                                                                  combined  \\\n",
       "0           Legacy vs price: Rice exports from Vietnam and India vie for ASEAN trade post-COVID-19. Vietnam and India are competing for ASEAN rice trade post-COVID-19, with the former having gained advantage due to support from traditional partner Philippines, and the latter having come out ahead with Malaysia in terms of price.   \n",
       "1                                                  Trade-off: Rice and seafood the big winners for Vietnam under EU free trade deal. The recently-ratified EU-Vietnam Free Trade Agreement (EVFTA) has seen major gains in food trade for both sides, particularly in rice and seafood for Vietnam as well as alcohol and meat for the EU.   \n",
       "2            Rice-ing concern: COVID-19 creates supply and price volatility for Asia’s most ‘cost-sensitive’ crop. Lockdowns and trade barriers across Asia due to the COVID-19 pandemic have thrust rice - one of the region’s largest agricultural commodities – firmly into the spotlight potential volatility in both supply and cost.   \n",
       "3               The rice and fall: Vietnam eyes more global opportunities as Thai supply totters. Thailand’s position as the largest exporter of rice from the South East Asian region is at risk as the country struggles to handle weather, economical and quality changes, whereas Vietnam looks to be going from strength to strength.   \n",
       "4  Beyond rice: Indian government urged to boost cereal production in security drive. Researchers are pushing for India to focus on enhancing its production of crops other than rice, the country’s traditional staple, if it wishes to effectively address its triple threats of food security, climate change effects and malnutrition.   \n",
       "\n",
       "  risk_rating  \\\n",
       "0     neutral   \n",
       "1     neutral   \n",
       "2       risky   \n",
       "3       risky   \n",
       "4     neutral   \n",
       "\n",
       "                                                                                                                                                                                                                                               bag_cleaned_text  \n",
       "0                              legacy vs price rice exports vietnam india vie asean trade post covid vietnam india competing asean rice trade post covid having gained advantage support traditional partner philippines having come ahead malaysia terms price  \n",
       "1                                                         trade rice seafood big winners vietnam eu free trade deal recently ratified eu vietnam free trade agreement evfta seen major gains food trade sides particularly rice seafood vietnam alcohol meat eu  \n",
       "2                        rice ing concern covid creates supply price volatility asia s cost sensitive crop lockdowns trade barriers asia covid pandemic thrust rice region s largest agricultural commodities firmly spotlight potential volatility supply cost  \n",
       "3                      rice fall vietnam eyes global opportunities thai supply totters thailand s position largest exporter rice south east asian region risk country struggles handle weather economical quality changes vietnam looks going strength strength  \n",
       "4  rice indian government urged boost cereal production security drive researchers pushing india focus enhancing production crops rice country s traditional staple wishes effectively address triple threats food security climate change effects malnutrition  "
      ]
     },
     "execution_count": 118,
     "metadata": {},
     "output_type": "execute_result"
    }
   ],
   "source": [
    "df.head()"
   ]
  },
  {
   "cell_type": "code",
   "execution_count": 119,
   "metadata": {},
   "outputs": [],
   "source": [
    "X = df[\"combined\"]\n",
    "y = df[\"risk_rating\"]"
   ]
  },
  {
   "cell_type": "code",
   "execution_count": 121,
   "metadata": {},
   "outputs": [],
   "source": [
    "X_train, X_test, y_train, y_test = train_test_split(X, y, test_size=0.33)"
   ]
  },
  {
   "cell_type": "code",
   "execution_count": 122,
   "metadata": {
    "collapsed": true,
    "jupyter": {
     "outputs_hidden": true
    }
   },
   "outputs": [
    {
     "name": "stdout",
     "output_type": "stream",
     "text": [
      "classes to predict\n",
      "neutral    33\n",
      "stable     27\n",
      "risky      15\n",
      "Name: risk_rating, dtype: int64\n"
     ]
    }
   ],
   "source": [
    "#I have to change our train test split objects into a list of strings.\n",
    "X_train = X_train.values.tolist()\n",
    "X_test = X_test.values.tolist()\n",
    "\n",
    "y_train = y_train.values.tolist()\n",
    "y_test = y_test.values.tolist()\n",
    "\n",
    "print(\"classes to predict\")\n",
    "print(y.value_counts())"
   ]
  },
  {
   "cell_type": "code",
   "execution_count": 123,
   "metadata": {},
   "outputs": [],
   "source": [
    "#recalling our Y label dictionary\n",
    "encoding = {'neutral':0, \n",
    "            'stable':1, \n",
    "            'risky':-1}\n",
    "\n",
    "# Integer values for each class\n",
    "y_train = [encoding[x] for x in y_train]\n",
    "y_test = [encoding[x] for x in y_test]"
   ]
  },
  {
   "cell_type": "code",
   "execution_count": 124,
   "metadata": {},
   "outputs": [],
   "source": [
    "#we now run BERT-specific preprocessing:\n",
    "class_names = ['neutral','stable','risky']"
   ]
  },
  {
   "cell_type": "code",
   "execution_count": 126,
   "metadata": {},
   "outputs": [
    {
     "name": "stdout",
     "output_type": "stream",
     "text": [
      "task: text classification\n",
      "preprocessing train...\n",
      "language: en\n"
     ]
    },
    {
     "data": {
      "text/html": [
       "done."
      ],
      "text/plain": [
       "<IPython.core.display.HTML object>"
      ]
     },
     "metadata": {},
     "output_type": "display_data"
    },
    {
     "name": "stdout",
     "output_type": "stream",
     "text": [
      "Is Multi-Label? False\n",
      "preprocessing test...\n",
      "language: en\n"
     ]
    },
    {
     "data": {
      "text/html": [
       "done."
      ],
      "text/plain": [
       "<IPython.core.display.HTML object>"
      ]
     },
     "metadata": {},
     "output_type": "display_data"
    }
   ],
   "source": [
    "(x_train,  y_train), (x_test, y_test), preproc = text.texts_from_array(x_train=X_train, y_train=y_train,\n",
    "                                                                       x_test=X_test, y_test=y_test,\n",
    "                                                                       class_names=class_names,\n",
    "                                                                       preprocess_mode='bert',\n",
    "                                                                       maxlen=512, \n",
    "                                                                       max_features=100000)"
   ]
  },
  {
   "cell_type": "code",
   "execution_count": 127,
   "metadata": {},
   "outputs": [
    {
     "name": "stdout",
     "output_type": "stream",
     "text": [
      "Is Multi-Label? False\n",
      "maxlen is 512\n",
      "done.\n"
     ]
    }
   ],
   "source": [
    "model = text.text_classifier('bert', train_data=(x_train, y_train), preproc=preproc)"
   ]
  },
  {
   "cell_type": "code",
   "execution_count": 128,
   "metadata": {},
   "outputs": [],
   "source": [
    "learner = ktrain.get_learner(model, train_data=(x_train, y_train), \n",
    "                             val_data=(x_test, y_test),\n",
    "                             batch_size=12)"
   ]
  },
  {
   "cell_type": "code",
   "execution_count": 130,
   "metadata": {},
   "outputs": [
    {
     "name": "stdout",
     "output_type": "stream",
     "text": [
      "\n",
      "\n",
      "begin training using onecycle policy with max lr of 2e-05...\n",
      "Train on 50 samples, validate on 25 samples\n",
      "Epoch 1/10\n",
      "50/50 [==============================] - 198s 4s/sample - loss: 1.0321 - accuracy: 0.4400 - val_loss: 1.0870 - val_accuracy: 0.3600\n",
      "Epoch 2/10\n",
      "50/50 [==============================] - 202s 4s/sample - loss: 0.9820 - accuracy: 0.4800 - val_loss: 1.0727 - val_accuracy: 0.3600\n",
      "Epoch 3/10\n",
      "50/50 [==============================] - 205s 4s/sample - loss: 0.8635 - accuracy: 0.6800 - val_loss: 1.1083 - val_accuracy: 0.2800\n",
      "Epoch 4/10\n",
      "50/50 [==============================] - 204s 4s/sample - loss: 0.8029 - accuracy: 0.7200 - val_loss: 1.0363 - val_accuracy: 0.2400\n",
      "Epoch 5/10\n",
      "50/50 [==============================] - 209s 4s/sample - loss: 0.6139 - accuracy: 0.8800 - val_loss: 0.9989 - val_accuracy: 0.2800\n",
      "Epoch 6/10\n",
      "50/50 [==============================] - 212s 4s/sample - loss: 0.5157 - accuracy: 0.8600 - val_loss: 1.2530 - val_accuracy: 0.3600\n",
      "Epoch 7/10\n",
      "50/50 [==============================] - 209s 4s/sample - loss: 0.4253 - accuracy: 0.8200 - val_loss: 1.2164 - val_accuracy: 0.3200\n",
      "Epoch 8/10\n",
      "50/50 [==============================] - 208s 4s/sample - loss: 0.2895 - accuracy: 0.9800 - val_loss: 1.0004 - val_accuracy: 0.4000\n",
      "Epoch 9/10\n",
      "50/50 [==============================] - 208s 4s/sample - loss: 0.2648 - accuracy: 0.9800 - val_loss: 1.0385 - val_accuracy: 0.2800\n",
      "Epoch 10/10\n",
      "50/50 [==============================] - 219s 4s/sample - loss: 0.2278 - accuracy: 1.0000 - val_loss: 1.0817 - val_accuracy: 0.3200\n"
     ]
    },
    {
     "data": {
      "text/plain": [
       "<tensorflow.python.keras.callbacks.History at 0x7fa99b834250>"
      ]
     },
     "execution_count": 130,
     "metadata": {},
     "output_type": "execute_result"
    }
   ],
   "source": [
    "learner.fit_onecycle(2e-5, 10)"
   ]
  },
  {
   "cell_type": "code",
   "execution_count": 131,
   "metadata": {},
   "outputs": [
    {
     "name": "stdout",
     "output_type": "stream",
     "text": [
      "              precision    recall  f1-score   support\n",
      "\n",
      "     neutral       0.44      0.29      0.35        14\n",
      "      stable       0.20      0.50      0.29         6\n",
      "       risky       1.00      0.20      0.33         5\n",
      "\n",
      "    accuracy                           0.32        25\n",
      "   macro avg       0.55      0.33      0.32        25\n",
      "weighted avg       0.50      0.32      0.33        25\n",
      "\n"
     ]
    },
    {
     "data": {
      "text/plain": [
       "array([[ 4, 10,  0],\n",
       "       [ 3,  3,  0],\n",
       "       [ 2,  2,  1]])"
      ]
     },
     "execution_count": 131,
     "metadata": {},
     "output_type": "execute_result"
    }
   ],
   "source": [
    "#print out a performance report\n",
    "learner.validate(val_data=(x_test, y_test), class_names=class_names)"
   ]
  },
  {
   "cell_type": "markdown",
   "metadata": {},
   "source": [
    "Remember that once again neither `BERT` nor the `scikit-learn` models in this POC has a large enough dataset that is optimized for ML classification metrics `accuracy/precision/recall/f1 score` in the prototype; the production model will still involve a team of media analysts supervising and correcting the initial risk labelling so as to \"teach\" our AI models what it needs to predict. The purpose of showing the programming and logic here for our POC here is a showcase of capability that we have."
   ]
  },
  {
   "cell_type": "markdown",
   "metadata": {},
   "source": [
    "### What the output of our Classification/Labelling Models looks like"
   ]
  },
  {
   "cell_type": "markdown",
   "metadata": {},
   "source": [
    "The modelling phase explained earlier will **generate a .csv file** that will look like the DataFrame below. Since we are still developing the models, we have created a preview of what 2 AI-classified/labelled news articles would look like:"
   ]
  },
  {
   "cell_type": "code",
   "execution_count": 38,
   "metadata": {},
   "outputs": [],
   "source": [
    "df_report = pd.read_csv(\"../data/df_report_demo.csv\", index_col=0)"
   ]
  },
  {
   "cell_type": "code",
   "execution_count": 39,
   "metadata": {},
   "outputs": [
    {
     "data": {
      "text/html": [
       "<div>\n",
       "<style scoped>\n",
       "    .dataframe tbody tr th:only-of-type {\n",
       "        vertical-align: middle;\n",
       "    }\n",
       "\n",
       "    .dataframe tbody tr th {\n",
       "        vertical-align: top;\n",
       "    }\n",
       "\n",
       "    .dataframe thead th {\n",
       "        text-align: right;\n",
       "    }\n",
       "</style>\n",
       "<table border=\"1\" class=\"dataframe\">\n",
       "  <thead>\n",
       "    <tr style=\"text-align: right;\">\n",
       "      <th></th>\n",
       "      <th>date</th>\n",
       "      <th>title</th>\n",
       "      <th>intro</th>\n",
       "      <th>url</th>\n",
       "      <th>combined</th>\n",
       "      <th>risk_rating</th>\n",
       "      <th>bag_cleaned_text</th>\n",
       "      <th>risk_rating_numerical</th>\n",
       "      <th>commodity</th>\n",
       "      <th>main_entities</th>\n",
       "      <th>is_supply_shock</th>\n",
       "    </tr>\n",
       "  </thead>\n",
       "  <tbody>\n",
       "    <tr>\n",
       "      <th>0</th>\n",
       "      <td>17-Mar-2020</td>\n",
       "      <td>The rice and fall: Vietnam eyes more global opportunities as Thai supply totters</td>\n",
       "      <td>Thailand’s position as the largest exporter of rice from the South East Asian region is at risk as the country struggles to handle weather, economical and quality changes, whereas Vietnam looks to be going from strength to strength.</td>\n",
       "      <td>www.foodnavigator-asia.com/Article/2020/03/17/The-rice-and-fall-Vietnam-eyes-more-global-opportunities-as-Thai-supply-totters</td>\n",
       "      <td>The rice and fall: Vietnam eyes more global opportunities as Thai supply totters. Thailand’s position as the largest exporter of rice from the South East Asian region is at risk as the country struggles to handle weather, economical and quality changes, whereas Vietnam looks to be going from strength to strength.</td>\n",
       "      <td>risky</td>\n",
       "      <td>rice fall vietnam eyes global opportunities thai supply totters thailand s position largest exporter rice south east asian region risk country struggles handle weather economical quality changes vietnam looks going strength strength</td>\n",
       "      <td>-1</td>\n",
       "      <td>rice</td>\n",
       "      <td>thailand</td>\n",
       "      <td>1</td>\n",
       "    </tr>\n",
       "    <tr>\n",
       "      <th>1</th>\n",
       "      <td>13-Sep-2018</td>\n",
       "      <td>‘Full-blown food crisis’: Philippines president denies rice shortage amidst calls for state of calamity</td>\n",
       "      <td>Philippines president Rodrigo Duterte has denied that there is any rice shortage in the country despite senators calling it a ‘full-blown food crisis’ and urging him to declare a state of calamity.</td>\n",
       "      <td>www.foodnavigator-asia.com/Article/2018/09/13/Full-blown-food-crisis-Philippines-president-denies-rice-shortage-amidst-calls-for-state-of-calamity</td>\n",
       "      <td>‘Full-blown food crisis’: Philippines president denies rice shortage amidst calls for state of calamity. Philippines president Rodrigo Duterte has denied that there is any rice shortage in the country despite senators calling it a ‘full-blown food crisis’ and urging him to declare a state of calamity.</td>\n",
       "      <td>risky</td>\n",
       "      <td>blown food crisis philippines president denies rice shortage amidst calls state calamity philippines president rodrigo duterte denied rice shortage country despite senators calling blown food crisis urging declare state calamity</td>\n",
       "      <td>-1</td>\n",
       "      <td>rice</td>\n",
       "      <td>philippines</td>\n",
       "      <td>0</td>\n",
       "    </tr>\n",
       "  </tbody>\n",
       "</table>\n",
       "</div>"
      ],
      "text/plain": [
       "          date  \\\n",
       "0  17-Mar-2020   \n",
       "1  13-Sep-2018   \n",
       "\n",
       "                                                                                                     title  \\\n",
       "0                         The rice and fall: Vietnam eyes more global opportunities as Thai supply totters   \n",
       "1  ‘Full-blown food crisis’: Philippines president denies rice shortage amidst calls for state of calamity   \n",
       "\n",
       "                                                                                                                                                                                                                                      intro  \\\n",
       "0  Thailand’s position as the largest exporter of rice from the South East Asian region is at risk as the country struggles to handle weather, economical and quality changes, whereas Vietnam looks to be going from strength to strength.   \n",
       "1                                     Philippines president Rodrigo Duterte has denied that there is any rice shortage in the country despite senators calling it a ‘full-blown food crisis’ and urging him to declare a state of calamity.   \n",
       "\n",
       "                                                                                                                                                  url  \\\n",
       "0                       www.foodnavigator-asia.com/Article/2020/03/17/The-rice-and-fall-Vietnam-eyes-more-global-opportunities-as-Thai-supply-totters   \n",
       "1  www.foodnavigator-asia.com/Article/2018/09/13/Full-blown-food-crisis-Philippines-president-denies-rice-shortage-amidst-calls-for-state-of-calamity   \n",
       "\n",
       "                                                                                                                                                                                                                                                                                                                     combined  \\\n",
       "0  The rice and fall: Vietnam eyes more global opportunities as Thai supply totters. Thailand’s position as the largest exporter of rice from the South East Asian region is at risk as the country struggles to handle weather, economical and quality changes, whereas Vietnam looks to be going from strength to strength.   \n",
       "1              ‘Full-blown food crisis’: Philippines president denies rice shortage amidst calls for state of calamity. Philippines president Rodrigo Duterte has denied that there is any rice shortage in the country despite senators calling it a ‘full-blown food crisis’ and urging him to declare a state of calamity.   \n",
       "\n",
       "  risk_rating  \\\n",
       "0       risky   \n",
       "1       risky   \n",
       "\n",
       "                                                                                                                                                                                                                           bag_cleaned_text  \\\n",
       "0  rice fall vietnam eyes global opportunities thai supply totters thailand s position largest exporter rice south east asian region risk country struggles handle weather economical quality changes vietnam looks going strength strength   \n",
       "1      blown food crisis philippines president denies rice shortage amidst calls state calamity philippines president rodrigo duterte denied rice shortage country despite senators calling blown food crisis urging declare state calamity   \n",
       "\n",
       "   risk_rating_numerical commodity main_entities  is_supply_shock  \n",
       "0                     -1      rice      thailand                1  \n",
       "1                     -1      rice   philippines                0  "
      ]
     },
     "execution_count": 39,
     "metadata": {},
     "output_type": "execute_result"
    }
   ],
   "source": [
    "df_report"
   ]
  },
  {
   "cell_type": "markdown",
   "metadata": {},
   "source": [
    "We see that the model will predict the `risk rating (both verbally and numerically)`, the `main_entities` discussed, the `commodity` at risk, and whether or not the risk concerned is on the supply-side or demand side (`is_supply_shock`).\n",
    "\n",
    "This data, as well as the risk-scoring ramifications based on this, will then be procedurally generated by our text report generator."
   ]
  },
  {
   "cell_type": "markdown",
   "metadata": {},
   "source": [
    "## 4. Report Generating Script"
   ]
  },
  {
   "cell_type": "markdown",
   "metadata": {},
   "source": [
    "Once we have our risk-labelling AI model, we can then create a separate algorithm that generates a risk report on any given news article based on the risk label predicted using our chosen AI model."
   ]
  },
  {
   "cell_type": "markdown",
   "metadata": {},
   "source": [
    "The report will contain the following key components:\n",
    "* NLP Multi-label: What is the `commodity` in question?\n",
    "* NLP Multi-label: Which `country` is mainly in question? What other `entities` are talked about here?\n",
    "* NLP Binary-class: Is the shock `demand-based` or `supply-based` shock?\n",
    "* NLP Multi-label: Based on the risk label, What is the `new risk score` of country or countries in question for that commodity? Do we apply `+1, 0 -1`?\n",
    "    * Update all countries's risk ratings accordingly\n",
    "* If the risk score of the country in question is lowered, can we recommend other countries with a better risk score for supply of this commodity?\n",
    "\n",
    "* What does the `AI-summarized text of the entire article` look like?"
   ]
  },
  {
   "cell_type": "markdown",
   "metadata": {},
   "source": [
    "The report can be generated as a table with an accompanying visualization uses spaCy's `Named Entity Recognition`, and our production model will be able to generate an individual report for each news article that relates to food supply."
   ]
  },
  {
   "cell_type": "markdown",
   "metadata": {},
   "source": [
    "### Risk Matrices\n",
    "\n",
    "For the report generator to readjust risk-weighted scores from food suppliers, we will require not only the model-generated .csv file, but we'll also have to create professionally curated `risk matrices` of commodity suppliers worldwide. \n",
    "\n",
    "Similar to credit scoring, this will be based on proprietary risk-weighting methods pioneered by FSX.ai's supply chain and risk experts. A score is assigned to individual country suppliers, with the idea being that the higher the number, the more secure that supplier's capacity to supply a particular commodity is, and vice-versa.\n",
    "\n",
    "For example, because India is now the largest supplier of rice worldwide (~32.5% of worldwide supply), their supply risk score is higher than say Spain, which only accounts for 0.9% of worldwide rice supply. \n",
    "\n",
    "This also therefore means that negative news (resulting in a risk rating of `-1`) is more impactful on the new risk score for India than it is to Spain, and it suffers a `risk penalty multiplier` of `3.25`. Therefore, negative news about India's rice supplying capacity will result in its score being subtracted by `-3.25`, whereas Spain's penalty will only be `-0.09`.\n",
    "\n",
    "For the sake of our demo, we have employed this simplistic calculation. We also assigned risk scores and penalties arbitrarily for ease of demonstration. Again, our production model will incorporate the fully articulated risk-scoring calculations based on curated weightages divined from our supply chain and risk experts. \n",
    "\n",
    "Accordingly, we create here a `sample risk score matrix of rice suppliers` worldwide for demo purposes:"
   ]
  },
  {
   "cell_type": "code",
   "execution_count": 6,
   "metadata": {},
   "outputs": [],
   "source": [
    "#example matrix based on http://www.worldstopexports.com/rice-exports-country/\n",
    "supplier_data = [['india', 32.5], ['thailand', 19.2], ['united_states', 8.6], ['vietnam', 6.6], \n",
    "                 ['pakistan', 5.6], ['china', 4.8], ['italy', 2.9], \n",
    "                 ['myanmar_burma', 2.6], ['cambodia', 2], ['uruguay', 1.7], \n",
    "                 ['brazil', 1.7], ['netherlands', 1.7], ['belgium', 1.2],\n",
    "                 ['paraguay', 1], ['spain', 0.9]]\n",
    "        \n",
    "df_rice_supplier_matrix = pd.DataFrame(supplier_data, columns = [\"supplier_country\", \"current_risk_score\"])"
   ]
  },
  {
   "cell_type": "code",
   "execution_count": 7,
   "metadata": {},
   "outputs": [],
   "source": [
    "#applying demo risk penalty multiplier as a new column in the matrix dataframe\n",
    "df_rice_supplier_matrix['risk_penalty_multiplier'] = df_rice_supplier_matrix['current_risk_score'].map(lambda x: x / 10)"
   ]
  },
  {
   "cell_type": "code",
   "execution_count": 8,
   "metadata": {},
   "outputs": [
    {
     "data": {
      "text/html": [
       "<div>\n",
       "<style scoped>\n",
       "    .dataframe tbody tr th:only-of-type {\n",
       "        vertical-align: middle;\n",
       "    }\n",
       "\n",
       "    .dataframe tbody tr th {\n",
       "        vertical-align: top;\n",
       "    }\n",
       "\n",
       "    .dataframe thead th {\n",
       "        text-align: right;\n",
       "    }\n",
       "</style>\n",
       "<table border=\"1\" class=\"dataframe\">\n",
       "  <thead>\n",
       "    <tr style=\"text-align: right;\">\n",
       "      <th></th>\n",
       "      <th>supplier_country</th>\n",
       "      <th>current_risk_score</th>\n",
       "      <th>risk_penalty_multiplier</th>\n",
       "    </tr>\n",
       "  </thead>\n",
       "  <tbody>\n",
       "    <tr>\n",
       "      <th>0</th>\n",
       "      <td>india</td>\n",
       "      <td>32.5</td>\n",
       "      <td>3.25</td>\n",
       "    </tr>\n",
       "    <tr>\n",
       "      <th>1</th>\n",
       "      <td>thailand</td>\n",
       "      <td>19.2</td>\n",
       "      <td>1.92</td>\n",
       "    </tr>\n",
       "    <tr>\n",
       "      <th>2</th>\n",
       "      <td>united_states</td>\n",
       "      <td>8.6</td>\n",
       "      <td>0.86</td>\n",
       "    </tr>\n",
       "    <tr>\n",
       "      <th>3</th>\n",
       "      <td>vietnam</td>\n",
       "      <td>6.6</td>\n",
       "      <td>0.66</td>\n",
       "    </tr>\n",
       "    <tr>\n",
       "      <th>4</th>\n",
       "      <td>pakistan</td>\n",
       "      <td>5.6</td>\n",
       "      <td>0.56</td>\n",
       "    </tr>\n",
       "    <tr>\n",
       "      <th>5</th>\n",
       "      <td>china</td>\n",
       "      <td>4.8</td>\n",
       "      <td>0.48</td>\n",
       "    </tr>\n",
       "    <tr>\n",
       "      <th>6</th>\n",
       "      <td>italy</td>\n",
       "      <td>2.9</td>\n",
       "      <td>0.29</td>\n",
       "    </tr>\n",
       "    <tr>\n",
       "      <th>7</th>\n",
       "      <td>myanmar_burma</td>\n",
       "      <td>2.6</td>\n",
       "      <td>0.26</td>\n",
       "    </tr>\n",
       "    <tr>\n",
       "      <th>8</th>\n",
       "      <td>cambodia</td>\n",
       "      <td>2.0</td>\n",
       "      <td>0.20</td>\n",
       "    </tr>\n",
       "    <tr>\n",
       "      <th>9</th>\n",
       "      <td>uruguay</td>\n",
       "      <td>1.7</td>\n",
       "      <td>0.17</td>\n",
       "    </tr>\n",
       "    <tr>\n",
       "      <th>10</th>\n",
       "      <td>brazil</td>\n",
       "      <td>1.7</td>\n",
       "      <td>0.17</td>\n",
       "    </tr>\n",
       "    <tr>\n",
       "      <th>11</th>\n",
       "      <td>netherlands</td>\n",
       "      <td>1.7</td>\n",
       "      <td>0.17</td>\n",
       "    </tr>\n",
       "    <tr>\n",
       "      <th>12</th>\n",
       "      <td>belgium</td>\n",
       "      <td>1.2</td>\n",
       "      <td>0.12</td>\n",
       "    </tr>\n",
       "    <tr>\n",
       "      <th>13</th>\n",
       "      <td>paraguay</td>\n",
       "      <td>1.0</td>\n",
       "      <td>0.10</td>\n",
       "    </tr>\n",
       "    <tr>\n",
       "      <th>14</th>\n",
       "      <td>spain</td>\n",
       "      <td>0.9</td>\n",
       "      <td>0.09</td>\n",
       "    </tr>\n",
       "  </tbody>\n",
       "</table>\n",
       "</div>"
      ],
      "text/plain": [
       "   supplier_country  current_risk_score  risk_penalty_multiplier\n",
       "0             india                32.5                     3.25\n",
       "1          thailand                19.2                     1.92\n",
       "2     united_states                 8.6                     0.86\n",
       "3           vietnam                 6.6                     0.66\n",
       "4          pakistan                 5.6                     0.56\n",
       "5             china                 4.8                     0.48\n",
       "6             italy                 2.9                     0.29\n",
       "7     myanmar_burma                 2.6                     0.26\n",
       "8          cambodia                 2.0                     0.20\n",
       "9           uruguay                 1.7                     0.17\n",
       "10           brazil                 1.7                     0.17\n",
       "11      netherlands                 1.7                     0.17\n",
       "12          belgium                 1.2                     0.12\n",
       "13         paraguay                 1.0                     0.10\n",
       "14            spain                 0.9                     0.09"
      ]
     },
     "execution_count": 8,
     "metadata": {},
     "output_type": "execute_result"
    }
   ],
   "source": [
    "df_rice_supplier_matrix"
   ]
  },
  {
   "cell_type": "code",
   "execution_count": 81,
   "metadata": {},
   "outputs": [],
   "source": [
    "other_countries = [state for state in df_rice_supplier_matrix[\"supplier_country\"] if state!=\"thailand\"]"
   ]
  },
  {
   "cell_type": "code",
   "execution_count": 85,
   "metadata": {},
   "outputs": [
    {
     "data": {
      "text/html": [
       "<div>\n",
       "<style scoped>\n",
       "    .dataframe tbody tr th:only-of-type {\n",
       "        vertical-align: middle;\n",
       "    }\n",
       "\n",
       "    .dataframe tbody tr th {\n",
       "        vertical-align: top;\n",
       "    }\n",
       "\n",
       "    .dataframe thead th {\n",
       "        text-align: right;\n",
       "    }\n",
       "</style>\n",
       "<table border=\"1\" class=\"dataframe\">\n",
       "  <thead>\n",
       "    <tr style=\"text-align: right;\">\n",
       "      <th></th>\n",
       "      <th>supplier_country</th>\n",
       "      <th>current_risk_score</th>\n",
       "      <th>risk_penalty_multiplier</th>\n",
       "    </tr>\n",
       "  </thead>\n",
       "  <tbody>\n",
       "    <tr>\n",
       "      <th>0</th>\n",
       "      <td>india</td>\n",
       "      <td>32.5</td>\n",
       "      <td>3.25</td>\n",
       "    </tr>\n",
       "    <tr>\n",
       "      <th>2</th>\n",
       "      <td>united_states</td>\n",
       "      <td>8.6</td>\n",
       "      <td>0.86</td>\n",
       "    </tr>\n",
       "    <tr>\n",
       "      <th>3</th>\n",
       "      <td>vietnam</td>\n",
       "      <td>6.6</td>\n",
       "      <td>0.66</td>\n",
       "    </tr>\n",
       "    <tr>\n",
       "      <th>4</th>\n",
       "      <td>pakistan</td>\n",
       "      <td>5.6</td>\n",
       "      <td>0.56</td>\n",
       "    </tr>\n",
       "    <tr>\n",
       "      <th>5</th>\n",
       "      <td>china</td>\n",
       "      <td>4.8</td>\n",
       "      <td>0.48</td>\n",
       "    </tr>\n",
       "    <tr>\n",
       "      <th>6</th>\n",
       "      <td>italy</td>\n",
       "      <td>2.9</td>\n",
       "      <td>0.29</td>\n",
       "    </tr>\n",
       "    <tr>\n",
       "      <th>7</th>\n",
       "      <td>myanmar_burma</td>\n",
       "      <td>2.6</td>\n",
       "      <td>0.26</td>\n",
       "    </tr>\n",
       "    <tr>\n",
       "      <th>8</th>\n",
       "      <td>cambodia</td>\n",
       "      <td>2.0</td>\n",
       "      <td>0.20</td>\n",
       "    </tr>\n",
       "    <tr>\n",
       "      <th>9</th>\n",
       "      <td>uruguay</td>\n",
       "      <td>1.7</td>\n",
       "      <td>0.17</td>\n",
       "    </tr>\n",
       "    <tr>\n",
       "      <th>10</th>\n",
       "      <td>brazil</td>\n",
       "      <td>1.7</td>\n",
       "      <td>0.17</td>\n",
       "    </tr>\n",
       "    <tr>\n",
       "      <th>11</th>\n",
       "      <td>netherlands</td>\n",
       "      <td>1.7</td>\n",
       "      <td>0.17</td>\n",
       "    </tr>\n",
       "    <tr>\n",
       "      <th>12</th>\n",
       "      <td>belgium</td>\n",
       "      <td>1.2</td>\n",
       "      <td>0.12</td>\n",
       "    </tr>\n",
       "    <tr>\n",
       "      <th>13</th>\n",
       "      <td>paraguay</td>\n",
       "      <td>1.0</td>\n",
       "      <td>0.10</td>\n",
       "    </tr>\n",
       "    <tr>\n",
       "      <th>14</th>\n",
       "      <td>spain</td>\n",
       "      <td>0.9</td>\n",
       "      <td>0.09</td>\n",
       "    </tr>\n",
       "  </tbody>\n",
       "</table>\n",
       "</div>"
      ],
      "text/plain": [
       "   supplier_country  current_risk_score  risk_penalty_multiplier\n",
       "0             india                32.5                     3.25\n",
       "2     united_states                 8.6                     0.86\n",
       "3           vietnam                 6.6                     0.66\n",
       "4          pakistan                 5.6                     0.56\n",
       "5             china                 4.8                     0.48\n",
       "6             italy                 2.9                     0.29\n",
       "7     myanmar_burma                 2.6                     0.26\n",
       "8          cambodia                 2.0                     0.20\n",
       "9           uruguay                 1.7                     0.17\n",
       "10           brazil                 1.7                     0.17\n",
       "11      netherlands                 1.7                     0.17\n",
       "12          belgium                 1.2                     0.12\n",
       "13         paraguay                 1.0                     0.10\n",
       "14            spain                 0.9                     0.09"
      ]
     },
     "execution_count": 85,
     "metadata": {},
     "output_type": "execute_result"
    }
   ],
   "source": [
    "df_rice_supplier_matrix[df_rice_supplier_matrix[\"supplier_country\"] != \"thailand\"]"
   ]
  },
  {
   "cell_type": "code",
   "execution_count": 89,
   "metadata": {},
   "outputs": [
    {
     "data": {
      "text/html": [
       "<div>\n",
       "<style scoped>\n",
       "    .dataframe tbody tr th:only-of-type {\n",
       "        vertical-align: middle;\n",
       "    }\n",
       "\n",
       "    .dataframe tbody tr th {\n",
       "        vertical-align: top;\n",
       "    }\n",
       "\n",
       "    .dataframe thead th {\n",
       "        text-align: right;\n",
       "    }\n",
       "</style>\n",
       "<table border=\"1\" class=\"dataframe\">\n",
       "  <thead>\n",
       "    <tr style=\"text-align: right;\">\n",
       "      <th></th>\n",
       "      <th>supplier_country</th>\n",
       "      <th>current_risk_score</th>\n",
       "      <th>risk_penalty_multiplier</th>\n",
       "    </tr>\n",
       "  </thead>\n",
       "  <tbody>\n",
       "    <tr>\n",
       "      <th>0</th>\n",
       "      <td>india</td>\n",
       "      <td>32.5</td>\n",
       "      <td>3.25</td>\n",
       "    </tr>\n",
       "    <tr>\n",
       "      <th>2</th>\n",
       "      <td>united_states</td>\n",
       "      <td>8.6</td>\n",
       "      <td>0.86</td>\n",
       "    </tr>\n",
       "    <tr>\n",
       "      <th>3</th>\n",
       "      <td>vietnam</td>\n",
       "      <td>6.6</td>\n",
       "      <td>0.66</td>\n",
       "    </tr>\n",
       "    <tr>\n",
       "      <th>4</th>\n",
       "      <td>pakistan</td>\n",
       "      <td>5.6</td>\n",
       "      <td>0.56</td>\n",
       "    </tr>\n",
       "    <tr>\n",
       "      <th>5</th>\n",
       "      <td>china</td>\n",
       "      <td>4.8</td>\n",
       "      <td>0.48</td>\n",
       "    </tr>\n",
       "    <tr>\n",
       "      <th>6</th>\n",
       "      <td>italy</td>\n",
       "      <td>2.9</td>\n",
       "      <td>0.29</td>\n",
       "    </tr>\n",
       "    <tr>\n",
       "      <th>7</th>\n",
       "      <td>myanmar_burma</td>\n",
       "      <td>2.6</td>\n",
       "      <td>0.26</td>\n",
       "    </tr>\n",
       "    <tr>\n",
       "      <th>8</th>\n",
       "      <td>cambodia</td>\n",
       "      <td>2.0</td>\n",
       "      <td>0.20</td>\n",
       "    </tr>\n",
       "  </tbody>\n",
       "</table>\n",
       "</div>"
      ],
      "text/plain": [
       "  supplier_country  current_risk_score  risk_penalty_multiplier\n",
       "0            india                32.5                     3.25\n",
       "2    united_states                 8.6                     0.86\n",
       "3          vietnam                 6.6                     0.66\n",
       "4         pakistan                 5.6                     0.56\n",
       "5            china                 4.8                     0.48\n",
       "6            italy                 2.9                     0.29\n",
       "7    myanmar_burma                 2.6                     0.26\n",
       "8         cambodia                 2.0                     0.20"
      ]
     },
     "execution_count": 89,
     "metadata": {},
     "output_type": "execute_result"
    }
   ],
   "source": [
    "df_rice_supplier_matrix[(df_rice_supplier_matrix[\"supplier_country\"] != \"thailand\")\n",
    "                        & (df_rice_supplier_matrix[\"current_risk_score\"] >= 2.0)]"
   ]
  },
  {
   "cell_type": "code",
   "execution_count": 9,
   "metadata": {},
   "outputs": [],
   "source": [
    "#backing up this matrix\n",
    "df_rice_supplier_matrix.to_csv(\"../data/df_supplier_matrix.csv\")"
   ]
  },
  {
   "cell_type": "code",
   "execution_count": 33,
   "metadata": {},
   "outputs": [],
   "source": [
    "state_prior_score = df_rice_supplier_matrix[\"current_risk_score\"][df_rice_supplier_matrix[\"supplier_country\"] == \"thailand\"]"
   ]
  },
  {
   "cell_type": "code",
   "execution_count": 34,
   "metadata": {},
   "outputs": [
    {
     "data": {
      "text/plain": [
       "19.2"
      ]
     },
     "execution_count": 34,
     "metadata": {},
     "output_type": "execute_result"
    }
   ],
   "source": [
    "state_prior_score.iloc[0]"
   ]
  },
  {
   "cell_type": "markdown",
   "metadata": {},
   "source": [
    "In [3]: sub_df\n",
    "Out[3]:\n",
    "          A         B\n",
    "2 -0.133653 -0.030854\n",
    "\n",
    "In [4]: sub_df.iloc[0]\n",
    "Out[4]:\n",
    "A   -0.133653\n",
    "B   -0.030854\n",
    "Name: 2, dtype: float64\n",
    "\n",
    "In [5]: sub_df.iloc[0]['A']\n",
    "Out[5]: -0.13365288513107493"
   ]
  },
  {
   "cell_type": "markdown",
   "metadata": {},
   "source": [
    "### Prototype Code for How The Report Generator Works ###"
   ]
  },
  {
   "cell_type": "markdown",
   "metadata": {},
   "source": [
    "We now write a function that transforms this data into a text report with entity visualization using `spaCy's NER`:"
   ]
  },
  {
   "cell_type": "code",
   "execution_count": 40,
   "metadata": {},
   "outputs": [],
   "source": [
    "row_0 = df_report.loc[0]"
   ]
  },
  {
   "cell_type": "code",
   "execution_count": 106,
   "metadata": {},
   "outputs": [
    {
     "data": {
      "text/plain": [
       "'The rice and fall: Vietnam eyes more global opportunities as Thai supply totters. Thailand’s position as the largest exporter of rice from the South East Asian region is at risk as the country struggles to handle weather, economical and quality changes, whereas Vietnam looks to be going from strength to strength.'"
      ]
     },
     "execution_count": 106,
     "metadata": {},
     "output_type": "execute_result"
    }
   ],
   "source": [
    "row_0[\"combined\"]"
   ]
  },
  {
   "cell_type": "code",
   "execution_count": 41,
   "metadata": {},
   "outputs": [
    {
     "data": {
      "text/plain": [
       "str"
      ]
     },
     "execution_count": 41,
     "metadata": {},
     "output_type": "execute_result"
    }
   ],
   "source": [
    "type(row_0[\"date\"])"
   ]
  },
  {
   "cell_type": "code",
   "execution_count": 151,
   "metadata": {},
   "outputs": [],
   "source": [
    "def report_writer(row):\n",
    "\n",
    "    #assign values into callable instances\n",
    "    date = row[\"date\"]\n",
    "    title = row[\"title\"]\n",
    "    url = row[\"url\"]\n",
    "    risk_rating = row[\"risk_rating\"]\n",
    "    risk_rating_numerical = row[\"risk_rating_numerical\"]\n",
    "    commodity = row[\"commodity\"]\n",
    "    main_entities = row[\"main_entities\"]\n",
    "    supply_shock = row[\"is_supply_shock\"]\n",
    "    minimum_score = 2\n",
    "    \n",
    "    nlp = spacy.load('en_core_web_sm')\n",
    "    current_text = row['combined']\n",
    "    doc = nlp(current_text)\n",
    "    \n",
    "    print (f\"***************************START OF REPORT********************************\")\n",
    "    print (\"\\n\")\n",
    "\n",
    "    print (f\"This is an automatically generated report for:\")\n",
    "    print (f\"\\n'{title}', \\ndated {date}, \\nscraped from the url \\n{url}.\")\n",
    "    print (\"\\n\")\n",
    "    print (f\"Our FSX.ai Risk Model has identified that the article concerns risk towards the supply of {commodity.title()} by {main_entities.title()}.\")\n",
    "    print(\"\\n\")\n",
    "    \n",
    "    #get previous score of this country's rice supply risk\n",
    "    state_prior_score = df_rice_supplier_matrix[\"current_risk_score\"][df_rice_supplier_matrix[\"supplier_country\"] == main_entities].iloc[0]    \n",
    "    \n",
    "    print (f\"{main_entities.title()}'s prior risk score for {commodity.title()} supply is {state_prior_score}\")\n",
    "    \n",
    "    #get previous score of this country's rice supply risk\n",
    "    state_penalty = df_rice_supplier_matrix[\"risk_penalty_multiplier\"][df_rice_supplier_matrix[\"supplier_country\"] == main_entities].iloc[0]    \n",
    "\n",
    "    print (f\"{main_entities.title()}'s risk penalty multiplier is {state_penalty}\")\n",
    "    \n",
    "    new_score = state_prior_score - (risk_rating_numerical*state_penalty)\n",
    "    \n",
    "    print (\"\\n\")\n",
    "    print (f\"{main_entities.title()}'s new risk score for {commodity.title()} supply is {new_score}\")\n",
    "        \n",
    "    print (\"\\n\")\n",
    "\n",
    "    print (f\"Currently, FSX.ai recommends choosing suppliers with a minimum risk score of {minimum_score}.\")\n",
    "    minimum_score_suppliers = df_rice_supplier_matrix[(df_rice_supplier_matrix[\"supplier_country\"] != main_entities)\n",
    "                                                      & (df_rice_supplier_matrix[\"current_risk_score\"] >= minimum_score)]\n",
    "    \n",
    "    print (f\"Accordingly, FSX.ai recommends reviewing the increase of imports from other suppliers of {commodity.title()}:\")\n",
    "    print (\"\\n\")\n",
    "    print (minimum_score_suppliers)\n",
    "    print (\"\\n\")\n",
    "\n",
    "\n",
    "    \n",
    "    print (f\"FSX.ai's spaCy NER has also highlighted the following related entities in this article that should be reviewed \\nin relation to this news article:\")\n",
    "    print (\"\\n\")\n",
    "    print (displacy.render(doc, style='ent', jupyter=True))\n",
    "\n",
    "    print (f\"***************************END OF REPORT********************************\")\n",
    "\n"
   ]
  },
  {
   "cell_type": "code",
   "execution_count": 152,
   "metadata": {},
   "outputs": [],
   "source": [
    "# # return df_rice_supplier_matrix\n",
    "#     print (f\"Accordingly, FSX.ai recommends reviewing the increase of imports from other suppliers of {commodity.title()}:\")\n",
    "#     print (\"\\n\")\n",
    "#     print (df_rice_supplier_matrix[df_rice_supplier_matrix[\"supplier_country\"] != main_entities])"
   ]
  },
  {
   "cell_type": "code",
   "execution_count": 153,
   "metadata": {},
   "outputs": [
    {
     "name": "stdout",
     "output_type": "stream",
     "text": [
      "***************************START OF REPORT********************************\n",
      "\n",
      "\n",
      "This is an automatically generated report for:\n",
      "\n",
      "'The rice and fall: Vietnam eyes more global opportunities as Thai supply totters', \n",
      "dated 17-Mar-2020, \n",
      "scraped from the url \n",
      "www.foodnavigator-asia.com/Article/2020/03/17/The-rice-and-fall-Vietnam-eyes-more-global-opportunities-as-Thai-supply-totters.\n",
      "\n",
      "\n",
      "Our FSX.ai Risk Model has identified that the article concerns risk towards the supply of Rice by Thailand.\n",
      "\n",
      "\n",
      "Thailand's prior risk score for Rice supply is 19.2\n",
      "Thailand's risk penalty multiplier is 1.92\n",
      "\n",
      "\n",
      "Thailand's new risk score for Rice supply is 21.119999999999997\n",
      "\n",
      "\n",
      "Currently, FSX.ai recommends choosing suppliers with a minimum risk score of 2.\n",
      "Accordingly, FSX.ai recommends reviewing the increase of imports from other suppliers of Rice:\n",
      "\n",
      "\n",
      "  supplier_country  current_risk_score  risk_penalty_multiplier\n",
      "0            india                32.5                     3.25\n",
      "2    united_states                 8.6                     0.86\n",
      "3          vietnam                 6.6                     0.66\n",
      "4         pakistan                 5.6                     0.56\n",
      "5            china                 4.8                     0.48\n",
      "6            italy                 2.9                     0.29\n",
      "7    myanmar_burma                 2.6                     0.26\n",
      "8         cambodia                 2.0                     0.20\n",
      "\n",
      "\n",
      "FSX.ai's spaCy NER has also highlighted the following related entities in this article that should be reviewed \n",
      "in relation to this news article:\n",
      "\n",
      "\n"
     ]
    },
    {
     "data": {
      "text/html": [
       "<span class=\"tex2jax_ignore\"><div class=\"entities\" style=\"line-height: 2.5; direction: ltr\">The rice and fall: \n",
       "<mark class=\"entity\" style=\"background: #feca74; padding: 0.45em 0.6em; margin: 0 0.25em; line-height: 1; border-radius: 0.35em;\">\n",
       "    Vietnam\n",
       "    <span style=\"font-size: 0.8em; font-weight: bold; line-height: 1; border-radius: 0.35em; text-transform: uppercase; vertical-align: middle; margin-left: 0.5rem\">GPE</span>\n",
       "</mark>\n",
       " eyes more global opportunities as \n",
       "<mark class=\"entity\" style=\"background: #c887fb; padding: 0.45em 0.6em; margin: 0 0.25em; line-height: 1; border-radius: 0.35em;\">\n",
       "    Thai\n",
       "    <span style=\"font-size: 0.8em; font-weight: bold; line-height: 1; border-radius: 0.35em; text-transform: uppercase; vertical-align: middle; margin-left: 0.5rem\">NORP</span>\n",
       "</mark>\n",
       " supply totters. \n",
       "<mark class=\"entity\" style=\"background: #feca74; padding: 0.45em 0.6em; margin: 0 0.25em; line-height: 1; border-radius: 0.35em;\">\n",
       "    Thailand\n",
       "    <span style=\"font-size: 0.8em; font-weight: bold; line-height: 1; border-radius: 0.35em; text-transform: uppercase; vertical-align: middle; margin-left: 0.5rem\">GPE</span>\n",
       "</mark>\n",
       "’s position as the largest exporter of rice from \n",
       "<mark class=\"entity\" style=\"background: #ff9561; padding: 0.45em 0.6em; margin: 0 0.25em; line-height: 1; border-radius: 0.35em;\">\n",
       "    the South East Asian region\n",
       "    <span style=\"font-size: 0.8em; font-weight: bold; line-height: 1; border-radius: 0.35em; text-transform: uppercase; vertical-align: middle; margin-left: 0.5rem\">LOC</span>\n",
       "</mark>\n",
       " is at risk as the country struggles to handle weather, economical and quality changes, whereas \n",
       "<mark class=\"entity\" style=\"background: #feca74; padding: 0.45em 0.6em; margin: 0 0.25em; line-height: 1; border-radius: 0.35em;\">\n",
       "    Vietnam\n",
       "    <span style=\"font-size: 0.8em; font-weight: bold; line-height: 1; border-radius: 0.35em; text-transform: uppercase; vertical-align: middle; margin-left: 0.5rem\">GPE</span>\n",
       "</mark>\n",
       " looks to be going from strength to strength.</div></span>"
      ],
      "text/plain": [
       "<IPython.core.display.HTML object>"
      ]
     },
     "metadata": {},
     "output_type": "display_data"
    },
    {
     "name": "stdout",
     "output_type": "stream",
     "text": [
      "None\n",
      "***************************END OF REPORT********************************\n"
     ]
    }
   ],
   "source": [
    "report_writer(df_report.loc[0])"
   ]
  },
  {
   "cell_type": "markdown",
   "metadata": {},
   "source": [
    "### Prototype Article Summarizer \n",
    "Finally, the last component of our report addresses this query:\n",
    "* NLG Text Summarization: What is the `AI-summarized` version of the entire article?\n",
    "\n",
    "We have prototype code that summarizes entire news articles using `huggingface's T5 Transformer`: https://huggingface.co/transformers/model_doc/t5.html\n",
    "\n",
    "Let's first use a new example of an entire news article taken from `Channel News Asia`:https://www.channelnewsasia.com/news/asia/thailand-wetland-conservation-boon-reuang-special-economic-zone-12886250."
   ]
  },
  {
   "cell_type": "code",
   "execution_count": 154,
   "metadata": {},
   "outputs": [],
   "source": [
    "text = \"\"\"\"\n",
    "DUTTA NAGAR, India: Until late March, Ashish Kumar was helping to make plastic boxes for \n",
    "Ferrero Rocher praline chocolates and the plastic spoons tucked inside Kinder Joy eggs to scoop out the \n",
    "milky sweet cream inside.\n",
    "\n",
    "With a diploma in plastic mould technology, the 20-year-old had a foot on his chosen career ladder. His younger brother Aditya chose law, but Ashish had his sights set on plastic.\n",
    "\n",
    "\"I want to start a business of my own,\" he said, explaining how he wants to recycle plastic to make day-to-day products at his own factory.\n",
    "\n",
    "India's coronavirus lockdown has thrown those plans into disarray. Educated but unemployed, Ashish Kumar is one of countless people across the globe whose social progress has been halted by the coronavirus that has infected more than 2 million people in India alone, and thrown the economy into reverse. With it, the aspirations of millions are fading.\n",
    "\n",
    "For years, people in rural India have been gaining prosperity and moving into what economists call a burgeoning middle class of consumers – those who earn more than US$10 a day, by some definitions. This group has been a keystone of plans for economic development in the world's second most populous country.\n",
    "\n",
    "In the COVID-19 pandemic, India's economy is forecast to shrink by 4.5 per cent this year, according to the International Monetary Fund. At least 400 million Indian workers are at risk of falling deeper into poverty, according to the International Labour Organization (ILO).\n",
    "\n",
    "Kumar is one of around 131,000 people whom local officials estimate returned from working around India to Gonda, the district in the northern state of Uttar Pradesh that he left last June.\n",
    "\n",
    "Nationwide, about 10 million people made long, hard journeys back to rural villages they had left. Some have gone back to the cities, but many of those who had been sending back funds are still stuck in the countryside.\n",
    "\n",
    "Working in a factory in Baramati in the western state of Maharashtra, Kumar was earning 13,000 rupees (US$173) every month, more than twice his father's pay from a job in a grain market near Kumar's home village in Uttar Pradesh, a sprawling agrarian state. Of that, the young man was sending home around 9,000 rupees every month, much of which was helping to fund his younger brother's studies.\n",
    "\n",
    "No longer. Once a provider for his family, now he has become a financial burden.\n",
    "\n",
    "Kumar whiles away his time back home in the village of Dutta Nagar, bantering with friends in the muddy courtyard – they jokingly call it their \"office\" – outside the ramshackle primary school where he studied. In Uttar Pradesh, around 60 million of the state's population of more than 200 million lives in poverty, according to the World Bank.\n",
    "\n",
    "He said he has applied for several jobs at plastic factories in western Gujarat state and other parts of northern India but has not found work.\n",
    "\n",
    "\"No matter what,\" he said, sitting near his parent's single-storey home, surrounded by jade green paddy fields. \"I need a job.\"\n",
    "\n",
    "PLASTIC FOR PRALINES\n",
    "\n",
    "As a schoolboy, Kumar was obsessed with plastics.\n",
    "\n",
    "A chance conversation with a cousin who had studied plastic engineering got him hooked, Kumar said, and he started researching. In Dutta Nagar, where there were no Internet connections, that often meant asking one of a handful of locals with a smartphone to Google the opportunities.\n",
    "\n",
    "Kumar's ambitions were a world removed from his father Ashok's early years. The 47-year-old, who assists with weighing and pricing grain harvests, remembers when the family had neither enough food, nor proper clothes.\n",
    "\n",
    "A slight man with a weather-beaten face, he never finished high school.\n",
    "\n",
    "\"I thought that the children shouldn't fall into our rut. They should be pushed ahead,\" he said.\n",
    "\n",
    "Kumar, who says he has never tasted a Ferrero Rocher praline, finished his diploma in Gujarat last June, and took the train to start work as a technician at an Italian-owned factory 1,500km away from home.\n",
    "\n",
    "The factory that employed him is run by Dream Plast India, a subsidiary of Gruppo Sunino, an Italian plastics maker with 10 plants around the world.\n",
    "\n",
    "\"The factory was first class,\" Kumar said. His contract included a monthly contribution from the company into a retirement fund and a bonus. Workers were served one meal every day, the supervisors were friendly, and the salary came on time, he said.\n",
    "\n",
    "Six days a week, his work typically involved overseeing two machines and a couple of contract workers. At the end of the day, he would relax with a game of badminton or watch wrestling on YouTube.\n",
    "\n",
    "His income over the past year helped his parents build a proper four-roomed brick home, after decades of living in a tumble-down mud hut where the roof let in heavy monsoon rains. It helped pay the fees for his brother to go to law school in Bahraich, an hour-and-a-half's drive away from their home village.\n",
    "\n",
    "Then COVID-19 struck.\n",
    "\n",
    "BROKE IN BARAMATI\n",
    "\n",
    "Kumar first heard of the coronavirus in early March. When India's lockdown forced Dream Plast India to temporarily shut its plant in Baramati on Mar 21, he had enough cash to wait it out in town.\n",
    "\n",
    "As the pandemic swept through India, a survey of some 5,000 workers in April and May found 66 per cent of participants had lost their jobs, and 77 per cent of households were consuming less food than before.\n",
    "\n",
    "Prime Minister Narendra Modi's government announced a 20 trillion rupee package promising free rice, wheat and pulses for millions of people and a programme to provide employment in rural areas.\n",
    "\n",
    "Even for those with work, trade unions and labour experts say conditions are deteriorating, for migrants particularly.  \n",
    "\n",
    "In May, India's state governments issued health and safety guidelines for factories as they re-opened after lockdown, which included compulsory face masks, thermal screening, social distancing and frequent sanitisation. Union leaders allege many companies did not follow all protocols and cut corners, but they have not identified Kumar's.\n",
    "\n",
    "Indian states including Uttar Pradesh and Gujarat said in May they were looking to relax workers' rights, including weakening regulations on wages and working hours, to support industry. That proposal drew criticism from workers' unions and the ILO. The amendments have only taken effect in some states.\n",
    "\n",
    "Kumar's factory, which reopened in early May, did not respond to a question on measures taken there, but Dream Plast India's managing director Nitin Gupta said in an email the \"company takes utmost precautions to adhere to the laws at all times\". He declined to elaborate further.\n",
    "\n",
    "Even so, Kumar and another worker Reuters spoke to said they did not feel safe to return.\n",
    "\n",
    "Ferrero, the Italian confectioner, said it had audited the plant where Kumar worked in March and found no irregularities, but would further review subsequent months.\n",
    "\n",
    "Reuters was unable to independently determine what safety measures the factory took.\n",
    "\n",
    "By early June, Kumar's funds had run out. Even buying food became difficult.\n",
    "\n",
    "His parents grew increasingly worried. \"Whatever little money I had here in the bank, I sent some of that so he could eat,\" said his father, Ashok. \"At that time, I was very scared. The biggest challenge was for him to come home.\"\n",
    "\n",
    "India's railway network reopened in early May. On Jun 3, Kumar borrowed money to pay for a 48-hour journey home by train, bus and shared taxi. Then he went into a 14-day quarantine.\n",
    "\n",
    "On Jun 25, Dream Plast India sent him an email, which was seen by Reuters, asking him to report to work within four days or face termination. Instead, he resigned on Jul 20.\n",
    "\n",
    "His parents are apprehensive about him leaving home again, although they said they realise that without their elder son's earnings, his younger brother will not be able to finish law school.\n",
    "\n",
    "Kumar is not ready to give up on his plastics factory.\n",
    "\n",
    "\"I will do it,\" he said. \"No matter what it takes, I will fulfil my dream.\"\n",
    "\"\"\""
   ]
  },
  {
   "cell_type": "code",
   "execution_count": 158,
   "metadata": {},
   "outputs": [
    {
     "name": "stderr",
     "output_type": "stream",
     "text": [
      "Some weights of T5ForConditionalGeneration were not initialized from the model checkpoint at t5-small and are newly initialized: ['encoder.embed_tokens.weight', 'decoder.embed_tokens.weight', 'lm_head.weight']\n",
      "You should probably TRAIN this model on a down-stream task to be able to use it for predictions and inference.\n",
      "Token indices sequence length is longer than the specified maximum sequence length for this model (1893 > 512). Running this sequence through the model will result in indexing errors\n"
     ]
    },
    {
     "name": "stdout",
     "output_type": "stream",
     "text": [
      "original text preprocessed: \n",
      " \"DUTTA NAGAR, India: Until late March, Ashish Kumar was helping to make plastic boxes for Ferrero Rocher praline chocolates and the plastic spoons tucked inside Kinder Joy eggs to scoop out the milky sweet cream inside.With a diploma in plastic mould technology, the 20-year-old had a foot on his chosen career ladder. His younger brother Aditya chose law, but Ashish had his sights set on plastic.\"I want to start a business of my own,\" he said, explaining how he wants to recycle plastic to make day-to-day products at his own factory.India's coronavirus lockdown has thrown those plans into disarray. Educated but unemployed, Ashish Kumar is one of countless people across the globe whose social progress has been halted by the coronavirus that has infected more than 2 million people in India alone, and thrown the economy into reverse. With it, the aspirations of millions are fading.For years, people in rural India have been gaining prosperity and moving into what economists call a burgeoning middle class of consumers – those who earn more than US$10 a day, by some definitions. This group has been a keystone of plans for economic development in the world's second most populous country.In the COVID-19 pandemic, India's economy is forecast to shrink by 4.5 per cent this year, according to the International Monetary Fund. At least 400 million Indian workers are at risk of falling deeper into poverty, according to the International Labour Organization (ILO).Kumar is one of around 131,000 people whom local officials estimate returned from working around India to Gonda, the district in the northern state of Uttar Pradesh that he left last June.Nationwide, about 10 million people made long, hard journeys back to rural villages they had left. Some have gone back to the cities, but many of those who had been sending back funds are still stuck in the countryside.Working in a factory in Baramati in the western state of Maharashtra, Kumar was earning 13,000 rupees (US$173) every month, more than twice his father's pay from a job in a grain market near Kumar's home village in Uttar Pradesh, a sprawling agrarian state. Of that, the young man was sending home around 9,000 rupees every month, much of which was helping to fund his younger brother's studies.No longer. Once a provider for his family, now he has become a financial burden.Kumar whiles away his time back home in the village of Dutta Nagar, bantering with friends in the muddy courtyard – they jokingly call it their \"office\" – outside the ramshackle primary school where he studied. In Uttar Pradesh, around 60 million of the state's population of more than 200 million lives in poverty, according to the World Bank.He said he has applied for several jobs at plastic factories in western Gujarat state and other parts of northern India but has not found work.\"No matter what,\" he said, sitting near his parent's single-storey home, surrounded by jade green paddy fields. \"I need a job.\"PLASTIC FOR PRALINESAs a schoolboy, Kumar was obsessed with plastics.A chance conversation with a cousin who had studied plastic engineering got him hooked, Kumar said, and he started researching. In Dutta Nagar, where there were no Internet connections, that often meant asking one of a handful of locals with a smartphone to Google the opportunities.Kumar's ambitions were a world removed from his father Ashok's early years. The 47-year-old, who assists with weighing and pricing grain harvests, remembers when the family had neither enough food, nor proper clothes.A slight man with a weather-beaten face, he never finished high school.\"I thought that the children shouldn't fall into our rut. They should be pushed ahead,\" he said.Kumar, who says he has never tasted a Ferrero Rocher praline, finished his diploma in Gujarat last June, and took the train to start work as a technician at an Italian-owned factory 1,500km away from home.The factory that employed him is run by Dream Plast India, a subsidiary of Gruppo Sunino, an Italian plastics maker with 10 plants around the world.\"The factory was first class,\" Kumar said. His contract included a monthly contribution from the company into a retirement fund and a bonus. Workers were served one meal every day, the supervisors were friendly, and the salary came on time, he said.Six days a week, his work typically involved overseeing two machines and a couple of contract workers. At the end of the day, he would relax with a game of badminton or watch wrestling on YouTube.His income over the past year helped his parents build a proper four-roomed brick home, after decades of living in a tumble-down mud hut where the roof let in heavy monsoon rains. It helped pay the fees for his brother to go to law school in Bahraich, an hour-and-a-half's drive away from their home village.Then COVID-19 struck.BROKE IN BARAMATIKumar first heard of the coronavirus in early March. When India's lockdown forced Dream Plast India to temporarily shut its plant in Baramati on Mar 21, he had enough cash to wait it out in town.As the pandemic swept through India, a survey of some 5,000 workers in April and May found 66 per cent of participants had lost their jobs, and 77 per cent of households were consuming less food than before.Prime Minister Narendra Modi's government announced a 20 trillion rupee package promising free rice, wheat and pulses for millions of people and a programme to provide employment in rural areas.Even for those with work, trade unions and labour experts say conditions are deteriorating, for migrants particularly.  In May, India's state governments issued health and safety guidelines for factories as they re-opened after lockdown, which included compulsory face masks, thermal screening, social distancing and frequent sanitisation. Union leaders allege many companies did not follow all protocols and cut corners, but they have not identified Kumar's.Indian states including Uttar Pradesh and Gujarat said in May they were looking to relax workers' rights, including weakening regulations on wages and working hours, to support industry. That proposal drew criticism from workers' unions and the ILO. The amendments have only taken effect in some states.Kumar's factory, which reopened in early May, did not respond to a question on measures taken there, but Dream Plast India's managing director Nitin Gupta said in an email the \"company takes utmost precautions to adhere to the laws at all times\". He declined to elaborate further.Even so, Kumar and another worker Reuters spoke to said they did not feel safe to return.Ferrero, the Italian confectioner, said it had audited the plant where Kumar worked in March and found no irregularities, but would further review subsequent months.Reuters was unable to independently determine what safety measures the factory took.By early June, Kumar's funds had run out. Even buying food became difficult.His parents grew increasingly worried. \"Whatever little money I had here in the bank, I sent some of that so he could eat,\" said his father, Ashok. \"At that time, I was very scared. The biggest challenge was for him to come home.\"India's railway network reopened in early May. On Jun 3, Kumar borrowed money to pay for a 48-hour journey home by train, bus and shared taxi. Then he went into a 14-day quarantine.On Jun 25, Dream Plast India sent him an email, which was seen by Reuters, asking him to report to work within four days or face termination. Instead, he resigned on Jul 20.His parents are apprehensive about him leaving home again, although they said they realise that without their elder son's earnings, his younger brother will not be able to finish law school.Kumar is not ready to give up on his plastics factory.\"I will do it,\" he said. \"No matter what it takes, I will fulfil my dream.\"\n",
      "\n",
      "\n",
      "Summarized text: \n",
      " india's coronavirus has infected more than 2 million people in India alone. a u.s.-based company has reopened its factory in baramati in early may, citing lack of food and sanitisation in rural areas. the government has issued health and safety guidelines for factories in the country.\n"
     ]
    }
   ],
   "source": [
    "#from adapting https://huggingface.co/transformers/model_doc/t5.html\n",
    "import torch\n",
    "import json \n",
    "from transformers import T5Tokenizer, T5ForConditionalGeneration, T5Config\n",
    "\n",
    "model = T5ForConditionalGeneration.from_pretrained('t5-small')\n",
    "tokenizer = T5Tokenizer.from_pretrained('t5-small')\n",
    "device = torch.device('cpu')\n",
    "\n",
    "preprocess_text = text.strip().replace(\"\\n\",\"\")\n",
    "t5_prepared_Text = \"summarize: \"+preprocess_text\n",
    "print (\"original text preprocessed: \\n\", preprocess_text)\n",
    "\n",
    "tokenized_text = tokenizer.encode(t5_prepared_Text, return_tensors=\"pt\").to(device)\n",
    "\n",
    "\n",
    "# summmarize \n",
    "summary_ids = model.generate(tokenized_text,\n",
    "                                    num_beams=4,\n",
    "                                    no_repeat_ngram_size=2,\n",
    "                                    min_length=30,\n",
    "                                    max_length=500,\n",
    "                                    early_stopping=True)\n",
    "\n",
    "output = tokenizer.decode(summary_ids[0], skip_special_tokens=True)\n",
    "\n",
    "print (\"\\n\\nSummarized text: \\n\",output)"
   ]
  },
  {
   "cell_type": "markdown",
   "metadata": {},
   "source": [
    "Other Features in Development: Macro events"
   ]
  }
 ],
 "metadata": {
  "kernelspec": {
   "display_name": "Python 3 (ipykernel)",
   "language": "python",
   "name": "python3"
  },
  "language_info": {
   "codemirror_mode": {
    "name": "ipython",
    "version": 3
   },
   "file_extension": ".py",
   "mimetype": "text/x-python",
   "name": "python",
   "nbconvert_exporter": "python",
   "pygments_lexer": "ipython3",
   "version": "3.8.8"
  }
 },
 "nbformat": 4,
 "nbformat_minor": 4
}
