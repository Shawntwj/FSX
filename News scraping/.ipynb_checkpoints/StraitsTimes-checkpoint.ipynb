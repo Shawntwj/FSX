{
 "cells": [
  {
   "cell_type": "markdown",
   "id": "e4c0154c",
   "metadata": {},
   "source": [
    "## Scraping module\n",
    "Scraping of straits times news article using selenium that are returned from the search function (keyword - 'food supply')"
   ]
  },
  {
   "cell_type": "code",
   "execution_count": 1,
   "id": "ce8b241b",
   "metadata": {},
   "outputs": [],
   "source": [
    "import pandas as pd\n",
    "import time\n",
    "\n",
    "from selenium import webdriver\n",
    "from selenium.webdriver.common.action_chains import ActionChains\n",
    "from selenium.webdriver.support.ui import WebDriverWait\n",
    "from selenium.webdriver.common.by import By\n",
    "from selenium.webdriver.support import expected_conditions as EC"
   ]
  },
  {
   "cell_type": "code",
   "execution_count": 15,
   "id": "abc37116",
   "metadata": {
    "scrolled": true
   },
   "outputs": [
    {
     "name": "stdout",
     "output_type": "stream",
     "text": [
      "[\"Global food prices hit 2-decade high, threatening world's poorest\", \"Ukraine tensions can choke supply of energy, food for S'pore and Asia\", \"Defending the Amazon: How indigenous culture protects Colombia's rainforest\", \"Colombia demands removal from 'hunger hotspots' list\", \"A year after Myanmar's coup, families of detainees search for answers\", \"'Too early to say' if world faces sustained inflation: IMF chief Georgieva\", 'Attendance bonus an unacceptable policy', \"A normal supply chain? It's 'unlikely' in 2022\", 'Australia PM Morrison admits Covid-19 missteps as polls show him losing vote']\n"
     ]
    }
   ],
   "source": [
    "driver = webdriver.Chrome('C:/Users/User/Desktop/FYP/chromedriver.exe')\n",
    "search_keyword = \"food supply\"\n",
    "base_url = \"https://www.straitstimes.com/search?searchkey=\" + search_keyword.replace(\" \", \"%20\")\n",
    "driver.get(base_url)\n",
    "\n",
    "# close ad (if any)\n",
    "try:\n",
    "    iframe=driver.find_elements_by_tag_name(\"iframe\")[3]\n",
    "    driver.switch_to.frame(iframe)\n",
    "    driver.find_elements_by_tag_name(\"iframe\")\n",
    "    ad = driver.switch_to.frame(0)\n",
    "    driver.find_element_by_id('pclose-btn').click()\n",
    "    driver.switch_to.default_content()\n",
    "except:\n",
    "    driver.switch_to.default_content()\n",
    "\n",
    "news_titles = []\n",
    "result_data = driver.find_element_by_id(\"resultdata\") \n",
    "# to filter the search result to filter by one week (just for testing purposes!)\n",
    "filter_by_date = driver.find_element_by_xpath('//*[@id=\"faceteddata\"]/div[25]/a').click()\n",
    "all_news=WebDriverWait(driver,20).until(EC.visibility_of_all_elements_located((By.CLASS_NAME,\"queryly_item_title\")))\n",
    "for elem in all_news:\n",
    "    news_titles.append(elem.text)\n",
    "print(news_titles)\n",
    "driver.close()"
   ]
  },
  {
   "cell_type": "markdown",
   "id": "f8b56bed",
   "metadata": {},
   "source": [
    "# BREAK"
   ]
  },
  {
   "cell_type": "code",
   "execution_count": null,
   "id": "805c6a35",
   "metadata": {},
   "outputs": [],
   "source": [
    "import PyPDF2  \n",
    "    \n",
    "# creating a pdf file object \n",
    "pdfFileObj = open('trade-circular-japan_live-oysters-fukuoka-hiroshima_aug2021.pdf', 'rb') \n",
    "    \n",
    "# creating a pdf reader object \n",
    "pdfReader = PyPDF2.PdfFileReader(pdfFileObj) \n",
    "    \n",
    "# printing number of pages in pdf file \n",
    "numPages = pdfReader.numPages\n",
    "# print(numPages) \n",
    "    \n",
    "# creating a page object \n",
    "# pageObj = pdfReader.getPage(2) \n",
    "    \n",
    "# extracting text from page \n",
    "# output = ''\n",
    "for i in range(numPages):\n",
    "    pageObj = pdfReader.getPage(i)\n",
    "    output += pageObj.extractText()\n",
    "#     print(pageObj.extractText()) \n",
    "    \n",
    "# closing the pdf file object \n",
    "print (output)\n",
    "pdfFileObj.close() "
   ]
  },
  {
   "cell_type": "markdown",
   "id": "334175cb",
   "metadata": {},
   "source": [
    "# Convert PDF to text files\n",
    "\n",
    "Credits: https://stackoverflow.com/questions/55220455/convert-from-pdf-to-text-lines-and-words-are-broken"
   ]
  },
  {
   "cell_type": "code",
   "execution_count": null,
   "id": "462fbf83",
   "metadata": {},
   "outputs": [],
   "source": [
    "import io\n",
    "from io import StringIO\n",
    "from pdfminer.pdfinterp import PDFResourceManager, PDFPageInterpreter\n",
    "from pdfminer.converter import TextConverter\n",
    "from pdfminer.layout import LAParams\n",
    "from pdfminer.pdfpage import PDFPage\n",
    "import os\n",
    "import sys, getopt\n",
    "\n",
    "#converts pdf, returns its text content as a string\n",
    "def convert(fname, pages=None):\n",
    "    if not pages:\n",
    "        pagenums = set()\n",
    "    else:\n",
    "        pagenums = set(pages)\n",
    "\n",
    "    output = io.StringIO()\n",
    "    manager = PDFResourceManager()\n",
    "    converter = TextConverter(manager, output, laparams=LAParams())\n",
    "    interpreter = PDFPageInterpreter(manager, converter)\n",
    "\n",
    "    infile = open(fname, 'rb')\n",
    "    for page in PDFPage.get_pages(infile, pagenums):\n",
    "        interpreter.process_page(page)\n",
    "    infile.close()\n",
    "    converter.close()\n",
    "    text = output.getvalue()\n",
    "    output.close\n",
    "    return text \n",
    "\n",
    "#converts all pdfs in directory pdfDir, saves all resulting txt files to txtdir\n",
    "def convertMultiple(pdfDir, txtDir):\n",
    "    if pdfDir == \"\": pdfDir = os.getcwd() + \"\\\\\" #if no pdfDir passed in \n",
    "    for pdf in os.listdir(pdfDir): #iterate through pdfs in pdf directory\n",
    "        fileExtension = pdf.split(\".\")[-1]\n",
    "        if fileExtension == \"pdf\":\n",
    "            pdfFilename = pdfDir + pdf \n",
    "            text = convert(pdfFilename) #get string of text content of pdf\n",
    "            textFilename = txtDir + pdf + \".txt\"\n",
    "            textFile = open(textFilename, \"w\") #make text file\n",
    "            textFile.write(text) #write text to text file\n",
    "\n",
    "# set paths accordingly:\n",
    "pdfDir = \"C:/Users/User/Desktop/FYP/Data/pdf/\"\n",
    "txtDir = \"C:/Users/User/Desktop/FYP/Data/txt/\"\n",
    "convertMultiple(pdfDir, txtDir)"
   ]
  },
  {
   "cell_type": "code",
   "execution_count": null,
   "id": "2b2aa89e",
   "metadata": {},
   "outputs": [],
   "source": [
    "import paralleldots\n",
    "\n",
    "paralleldots.set_api_key(\"hCBrBfmmyO68lO5Y30YdlSu1JDyCd5NzqLUCdYUx3B4\")\n",
    "# for single sentence\n",
    "\n",
    "myfile = open(\"Data/txt/FYPjoint-sfa-ifh-media-release.pdf.txt\", \"rt\") # open lorem.txt for reading text\n",
    "contents = myfile.read()         # read the entire file to string\n",
    "myfile.close()                   # close the file\n",
    "# print(contents)                  # print string contents\n",
    "\n",
    "\n",
    "# text=\"For the Yankees, it took a stunning comeback after being down 2-0 to the Indians in the American League Division Series. For the Astros, it took beating Chris Sale to top the Red Sox.\"\n",
    "response=paralleldots.customclassifier(contents)\n",
    "print(response)"
   ]
  },
  {
   "cell_type": "code",
   "execution_count": null,
   "id": "177072be",
   "metadata": {},
   "outputs": [],
   "source": [
    "myfile = open(\"Data/txt/FYPjoint-sfa-ifh-media-release.pdf.txt\", \"rt\") # open lorem.txt for reading text\n",
    "contents = myfile.read()         # read the entire file to string\n",
    "myfile.close()                   # close the file\n",
    "print(contents)                  # print string contents"
   ]
  },
  {
   "cell_type": "code",
   "execution_count": null,
   "id": "e84654b5",
   "metadata": {},
   "outputs": [],
   "source": []
  }
 ],
 "metadata": {
  "kernelspec": {
   "display_name": "Python 3",
   "language": "python",
   "name": "python3"
  },
  "language_info": {
   "codemirror_mode": {
    "name": "ipython",
    "version": 3
   },
   "file_extension": ".py",
   "mimetype": "text/x-python",
   "name": "python",
   "nbconvert_exporter": "python",
   "pygments_lexer": "ipython3",
   "version": "3.8.8"
  }
 },
 "nbformat": 4,
 "nbformat_minor": 5
}
