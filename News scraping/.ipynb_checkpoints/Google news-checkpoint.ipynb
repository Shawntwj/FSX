{
 "cells": [
  {
   "cell_type": "code",
   "execution_count": 1,
<<<<<<< HEAD
=======
   "id": "5588eb12",
>>>>>>> 135d4f5b0c98143c3d7dff301ad5fcccc0887556
   "metadata": {},
   "outputs": [],
   "source": [
    "# Import libraries\n",
    "import pandas as pd\n",
    "from GoogleNews import GoogleNews # pip install GoogleNews\n",
    "from bs4 import BeautifulSoup \n",
    "from newspaper import Article # pip install newspaper3k\n",
    "from newspaper import Config\n",
    "import matplotlib.pyplot as plt\n",
    "from urllib.request import urlopen, Request\n",
    "import time\n",
    "\n",
    "user_agent = 'Mozilla/5.0 (Windows NT 10.0; Win64; x64) AppleWebKit/537.36 (KHTML, like Gecko) Chrome/93.0.4577.82 Safari/537.36'\n",
    "config = Config()\n",
    "config.browser_user_agent = user_agent"
   ]
  },
  {
   "cell_type": "code",
   "execution_count": 2,
<<<<<<< HEAD
=======
   "id": "0d364e03",
>>>>>>> 135d4f5b0c98143c3d7dff301ad5fcccc0887556
   "metadata": {},
   "outputs": [],
   "source": [
    "\n",
    "def getGoogleNewsLinks(tickers, start_date, end_date):\n",
    "\n",
    "    parsed_news = []\n",
    "    \n",
    "    googlenews=GoogleNews(start = start_date, end = end_date) #month/day/year\n",
    "\n",
    "    googlenews.search(toSearch)\n",
    "    \n",
    "    for i in range(2, 3):\n",
    "        googlenews.getpage(i)\n",
    "        result=googlenews.result()\n",
    "        df=pd.DataFrame(result)\n",
    "    \n",
    "    for ind in df.index:\n",
    "        link = df['link'][ind]\n",
    "        parsed_news.append([toSearch, link])\n",
    "    \n",
    "    return(parsed_news)"
   ]
  },
  {
   "cell_type": "code",
   "execution_count": 3,
<<<<<<< HEAD
   "metadata": {},
   "outputs": [],
   "source": [
    "toSearch = 'food supply disruption'\n",
=======
   "id": "c04fd64b",
   "metadata": {},
   "outputs": [],
   "source": [
    "toSearch = 'potatoes'\n",
>>>>>>> 135d4f5b0c98143c3d7dff301ad5fcccc0887556
    "def getGoogleNews(terms, start, end):\n",
    "    parsed_news = getGoogleNewsLinks(terms, start, end)\n",
    "    news_df = getArticleSummary(parsed_news)\n",
    "    return(news_df)\n",
    "\n"
   ]
  },
  {
   "cell_type": "code",
   "execution_count": 4,
<<<<<<< HEAD
=======
   "id": "41f5f87d",
>>>>>>> 135d4f5b0c98143c3d7dff301ad5fcccc0887556
   "metadata": {},
   "outputs": [],
   "source": [
    "def getArticleSummary(parsed_news):\n",
    "\n",
    "    list=[]\n",
    "    for ind in parsed_news:\n",
    "        dicti={}\n",
    "        article = Article(ind[1],config=config)\n",
    "        try:\n",
    "             \n",
    "            article.download()\n",
    "            article.parse()\n",
    "            article.nlp()\n",
    "\n",
    "            dicti['Ticker']=ind[0]\n",
    "            dicti['Title']=article.title\n",
    "            dicti['Article']=article.text\n",
    "            dicti['Summary']=article.summary\n",
    "            dicti['Link']=ind[1]\n",
    "            if article.publish_date == None:\n",
    "                dicti['Date'] = date\n",
    "            else:\n",
    "                dicti['Date']= article.publish_date\n",
    "                date = article.publish_date\n",
    "            \n",
    "            list.append(dicti)\n",
    "        except:\n",
    "            pass\n",
    "    news_df=pd.DataFrame(list)\n",
    "    return(news_df)"
   ]
  },
  {
   "cell_type": "code",
   "execution_count": 5,
<<<<<<< HEAD
=======
   "id": "90be4f70",
>>>>>>> 135d4f5b0c98143c3d7dff301ad5fcccc0887556
   "metadata": {},
   "outputs": [],
   "source": [
    "def getArticleSummary(parsed_news):\n",
    "\n",
    "    list=[]\n",
    "    for ind in parsed_news:\n",
    "        dicti={}\n",
    "        article = Article(ind[1],config=config)\n",
    "        try:\n",
    "             \n",
    "            article.download()\n",
    "            article.parse()\n",
    "            article.nlp()\n",
    "\n",
    "            dicti['Product']=ind[0]\n",
    "            dicti['Title']=article.title\n",
    "            dicti['Article']=article.text\n",
    "            dicti['Summary']=article.summary\n",
    "            dicti['Link']=ind[1]\n",
    "            if article.publish_date == None:\n",
    "                dicti['Date'] = date\n",
    "            else:\n",
    "                dicti['Date']= article.publish_date\n",
    "                date = article.publish_date\n",
    "            \n",
    "            list.append(dicti)\n",
    "        except:\n",
    "            pass\n",
    "    news_df=pd.DataFrame(list)\n",
    "    return(news_df)"
   ]
  },
  {
   "cell_type": "code",
<<<<<<< HEAD
   "execution_count": 6,
   "metadata": {},
   "outputs": [
    {
     "name": "stderr",
     "output_type": "stream",
     "text": [
      "C:\\Users\\shawn.teo.2019\\Anaconda3\\lib\\site-packages\\dateparser\\date_parser.py:35: PytzUsageWarning: The localize method is no longer necessary, as this time zone supports the fold attribute (PEP 495). For more details on migrating to a PEP 495-compliant implementation, see https://pytz-deprecation-shim.readthedocs.io/en/latest/migration.html\n",
      "  date_obj = stz.localize(date_obj)\n",
      "C:\\Users\\shawn.teo.2019\\Anaconda3\\lib\\site-packages\\dateutil\\parser\\_parser.py:1213: UnknownTimezoneWarning: tzname MST identified but not understood.  Pass `tzinfos` argument in order to correctly return a timezone-aware datetime.  In a future version, this will raise an exception.\n",
      "  warnings.warn(\"tzname {tzname} identified but not understood.  \"\n",
      "C:\\Users\\shawn.teo.2019\\Anaconda3\\lib\\site-packages\\dateutil\\parser\\_parser.py:1213: UnknownTimezoneWarning: tzname PST identified but not understood.  Pass `tzinfos` argument in order to correctly return a timezone-aware datetime.  In a future version, this will raise an exception.\n",
      "  warnings.warn(\"tzname {tzname} identified but not understood.  \"\n"
     ]
    },
    {
     "name": "stdout",
     "output_type": "stream",
     "text": [
      "done: month 1\n"
     ]
    },
    {
     "name": "stderr",
     "output_type": "stream",
     "text": [
      "C:\\Users\\shawn.teo.2019\\Anaconda3\\lib\\site-packages\\dateparser\\date_parser.py:35: PytzUsageWarning: The localize method is no longer necessary, as this time zone supports the fold attribute (PEP 495). For more details on migrating to a PEP 495-compliant implementation, see https://pytz-deprecation-shim.readthedocs.io/en/latest/migration.html\n",
      "  date_obj = stz.localize(date_obj)\n"
     ]
    },
    {
     "name": "stdout",
     "output_type": "stream",
     "text": [
      "done: month 2\n"
     ]
    }
   ],
=======
   "execution_count": null,
   "id": "d8b51e3b",
   "metadata": {},
   "outputs": [],
>>>>>>> 135d4f5b0c98143c3d7dff301ad5fcccc0887556
   "source": [
    "# prevent error429 by working with batches (per month)\n",
    "time_period = {1: ['01/01/2021', '01/31/2021'],\n",
    "              2: ['02/01/2021', '02/28/2021'],\n",
    "              3: ['03/01/2021', '03/31/2021'],\n",
    "              4: ['04/01/2021', '04/30/2021'],\n",
    "              5: ['05/01/2021', '05/31/2021'],\n",
    "              6: ['06/01/2021', '06/30/2021'],\n",
    "              7: ['07/01/2021', '07/31/2021'],\n",
    "              8: ['08/01/2021', '08/31/2021'],\n",
    "              9: ['09/01/2021', '09/30/2021'],\n",
    "              10: ['10/01/2021', '10/30/2021'],\n",
    "              11: ['11/01/2021', '11/30/2021'],\n",
    "              12: ['12/01/2021', '12/30/2021']}\n",
    "\n",
    "\n",
    "for month_index in range(1,3): #change the range if from whenever it stopped at\n",
    "    start_date, end_date = time_period[month_index][0], time_period[month_index][1]\n",
    "    google_news = getGoogleNews(toSearch, start_date, end_date)\n",
    "    google_news\n",
    "    google_news.to_csv(f\"{toSearch}_News_google_month{month_index}.csv\")\n",
    "    print(f'done: month {month_index}')"
   ]
  },
  {
   "cell_type": "code",
   "execution_count": null,
<<<<<<< HEAD
=======
   "id": "39512ed2",
>>>>>>> 135d4f5b0c98143c3d7dff301ad5fcccc0887556
   "metadata": {},
   "outputs": [],
   "source": []
  },
  {
   "cell_type": "code",
   "execution_count": null,
<<<<<<< HEAD
=======
   "id": "2681822f",
>>>>>>> 135d4f5b0c98143c3d7dff301ad5fcccc0887556
   "metadata": {},
   "outputs": [],
   "source": []
  }
 ],
 "metadata": {
  "kernelspec": {
   "display_name": "Python 3",
   "language": "python",
   "name": "python3"
  },
  "language_info": {
   "codemirror_mode": {
    "name": "ipython",
    "version": 3
   },
   "file_extension": ".py",
   "mimetype": "text/x-python",
   "name": "python",
   "nbconvert_exporter": "python",
   "pygments_lexer": "ipython3",
<<<<<<< HEAD
   "version": "3.7.4"
=======
   "version": "3.8.8"
>>>>>>> 135d4f5b0c98143c3d7dff301ad5fcccc0887556
  }
 },
 "nbformat": 4,
 "nbformat_minor": 5
}
