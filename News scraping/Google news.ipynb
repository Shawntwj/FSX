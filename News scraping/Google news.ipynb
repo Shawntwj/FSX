{
 "cells": [
  {
   "cell_type": "code",
   "execution_count": 1,
   "metadata": {},
   "outputs": [
    {
     "name": "stdout",
     "output_type": "stream",
     "text": [
      "Collecting GoogleNews\n",
      "  Downloading GoogleNews-1.6.0-py3-none-any.whl (7.9 kB)\n",
      "Requirement already satisfied: beautifulsoup4 in c:\\users\\jonat\\anaconda3\\lib\\site-packages (from GoogleNews) (4.8.2)\n",
      "Collecting dateparser\n",
      "  Downloading dateparser-1.1.0-py2.py3-none-any.whl (288 kB)\n",
      "Requirement already satisfied: python-dateutil in c:\\users\\jonat\\anaconda3\\lib\\site-packages (from GoogleNews) (2.8.1)\n",
      "Requirement already satisfied: soupsieve>=1.2 in c:\\users\\jonat\\anaconda3\\lib\\site-packages (from beautifulsoup4->GoogleNews) (1.9.5)\n",
      "Collecting regex!=2019.02.19,!=2021.8.27\n",
      "  Downloading regex-2022.1.18-cp37-cp37m-win_amd64.whl (272 kB)\n",
      "Collecting tzlocal\n",
      "  Downloading tzlocal-4.1-py3-none-any.whl (19 kB)\n",
      "Requirement already satisfied: pytz in c:\\users\\jonat\\anaconda3\\lib\\site-packages (from dateparser->GoogleNews) (2019.3)\n",
      "Requirement already satisfied: six>=1.5 in c:\\users\\jonat\\anaconda3\\lib\\site-packages (from python-dateutil->GoogleNews) (1.14.0)\n",
      "Collecting backports.zoneinfo\n",
      "  Downloading backports.zoneinfo-0.2.1-cp37-cp37m-win_amd64.whl (38 kB)\n",
      "Collecting tzdata\n",
      "  Downloading tzdata-2021.5-py2.py3-none-any.whl (339 kB)\n",
      "Collecting pytz-deprecation-shim\n",
      "  Downloading pytz_deprecation_shim-0.1.0.post0-py2.py3-none-any.whl (15 kB)\n",
      "Installing collected packages: tzdata, backports.zoneinfo, pytz-deprecation-shim, tzlocal, regex, dateparser, GoogleNews\n",
      "Successfully installed GoogleNews-1.6.0 backports.zoneinfo-0.2.1 dateparser-1.1.0 pytz-deprecation-shim-0.1.0.post0 regex-2022.1.18 tzdata-2021.5 tzlocal-4.1\n"
     ]
    },
    {
     "name": "stderr",
     "output_type": "stream",
     "text": [
      "WARNING: Ignoring invalid distribution -umpy (c:\\users\\jonat\\anaconda3\\lib\\site-packages)\n",
      "WARNING: Ignoring invalid distribution -ffi (c:\\users\\jonat\\anaconda3\\lib\\site-packages)\n",
      "WARNING: Ignoring invalid distribution -umpy (c:\\users\\jonat\\anaconda3\\lib\\site-packages)\n",
      "WARNING: Ignoring invalid distribution -ffi (c:\\users\\jonat\\anaconda3\\lib\\site-packages)\n",
      "WARNING: Ignoring invalid distribution -umpy (c:\\users\\jonat\\anaconda3\\lib\\site-packages)\n",
      "WARNING: Ignoring invalid distribution -ffi (c:\\users\\jonat\\anaconda3\\lib\\site-packages)\n",
      "WARNING: Ignoring invalid distribution -umpy (c:\\users\\jonat\\anaconda3\\lib\\site-packages)\n",
      "WARNING: Ignoring invalid distribution -ffi (c:\\users\\jonat\\anaconda3\\lib\\site-packages)\n",
      "WARNING: Ignoring invalid distribution -umpy (c:\\users\\jonat\\anaconda3\\lib\\site-packages)\n",
      "WARNING: Ignoring invalid distribution -ffi (c:\\users\\jonat\\anaconda3\\lib\\site-packages)\n",
      "WARNING: Ignoring invalid distribution -umpy (c:\\users\\jonat\\anaconda3\\lib\\site-packages)\n",
      "WARNING: Ignoring invalid distribution -ffi (c:\\users\\jonat\\anaconda3\\lib\\site-packages)\n",
      "WARNING: Ignoring invalid distribution -umpy (c:\\users\\jonat\\anaconda3\\lib\\site-packages)\n",
      "WARNING: Ignoring invalid distribution -ffi (c:\\users\\jonat\\anaconda3\\lib\\site-packages)\n",
      "WARNING: Ignoring invalid distribution -umpy (c:\\users\\jonat\\anaconda3\\lib\\site-packages)\n",
      "WARNING: Ignoring invalid distribution -ffi (c:\\users\\jonat\\anaconda3\\lib\\site-packages)\n",
      "WARNING: Ignoring invalid distribution -umpy (c:\\users\\jonat\\anaconda3\\lib\\site-packages)\n",
      "WARNING: Ignoring invalid distribution -ffi (c:\\users\\jonat\\anaconda3\\lib\\site-packages)\n",
      "WARNING: Ignoring invalid distribution -umpy (c:\\users\\jonat\\anaconda3\\lib\\site-packages)\n",
      "WARNING: Ignoring invalid distribution -ffi (c:\\users\\jonat\\anaconda3\\lib\\site-packages)\n",
      "WARNING: Ignoring invalid distribution -umpy (c:\\users\\jonat\\anaconda3\\lib\\site-packages)\n",
      "WARNING: Ignoring invalid distribution -ffi (c:\\users\\jonat\\anaconda3\\lib\\site-packages)\n",
      "WARNING: Ignoring invalid distribution -umpy (c:\\users\\jonat\\anaconda3\\lib\\site-packages)\n",
      "WARNING: Ignoring invalid distribution -ffi (c:\\users\\jonat\\anaconda3\\lib\\site-packages)\n",
      "WARNING: Ignoring invalid distribution -umpy (c:\\users\\jonat\\anaconda3\\lib\\site-packages)\n",
      "WARNING: Ignoring invalid distribution -ffi (c:\\users\\jonat\\anaconda3\\lib\\site-packages)\n",
      "WARNING: You are using pip version 21.3.1; however, version 22.0.3 is available.\n",
      "You should consider upgrading via the 'c:\\users\\jonat\\anaconda3\\python.exe -m pip install --upgrade pip' command.\n"
     ]
    },
    {
     "name": "stdout",
     "output_type": "stream",
     "text": [
      "Requirement already satisfied: newspaper3k in c:\\users\\jonat\\anaconda3\\lib\\site-packages (0.2.8)\n",
      "Requirement already satisfied: python-dateutil>=2.5.3 in c:\\users\\jonat\\anaconda3\\lib\\site-packages (from newspaper3k) (2.8.1)\n",
      "Requirement already satisfied: beautifulsoup4>=4.4.1 in c:\\users\\jonat\\anaconda3\\lib\\site-packages (from newspaper3k) (4.8.2)\n",
      "Requirement already satisfied: PyYAML>=3.11 in c:\\users\\jonat\\anaconda3\\lib\\site-packages (from newspaper3k) (5.3)\n",
      "Requirement already satisfied: nltk>=3.2.1 in c:\\users\\jonat\\anaconda3\\lib\\site-packages (from newspaper3k) (3.4.5)\n",
      "Requirement already satisfied: lxml>=3.6.0 in c:\\users\\jonat\\anaconda3\\lib\\site-packages (from newspaper3k) (4.5.0)\n",
      "Requirement already satisfied: tinysegmenter==0.3 in c:\\users\\jonat\\anaconda3\\lib\\site-packages (from newspaper3k) (0.3)\n",
      "Requirement already satisfied: tldextract>=2.0.1 in c:\\users\\jonat\\anaconda3\\lib\\site-packages (from newspaper3k) (3.1.2)\n",
      "Requirement already satisfied: feedfinder2>=0.0.4 in c:\\users\\jonat\\anaconda3\\lib\\site-packages (from newspaper3k) (0.0.4)\n",
      "Requirement already satisfied: feedparser>=5.2.1 in c:\\users\\jonat\\anaconda3\\lib\\site-packages (from newspaper3k) (6.0.8)\n",
      "Requirement already satisfied: jieba3k>=0.35.1 in c:\\users\\jonat\\anaconda3\\lib\\site-packages (from newspaper3k) (0.35.1)\n",
      "Requirement already satisfied: requests>=2.10.0 in c:\\users\\jonat\\anaconda3\\lib\\site-packages (from newspaper3k) (2.22.0)\n",
      "Requirement already satisfied: cssselect>=0.9.2 in c:\\users\\jonat\\anaconda3\\lib\\site-packages (from newspaper3k) (1.1.0)\n",
      "Requirement already satisfied: Pillow>=3.3.0 in c:\\users\\jonat\\anaconda3\\lib\\site-packages (from newspaper3k) (7.0.0)\n",
      "Requirement already satisfied: soupsieve>=1.2 in c:\\users\\jonat\\anaconda3\\lib\\site-packages (from beautifulsoup4>=4.4.1->newspaper3k) (1.9.5)\n",
      "Requirement already satisfied: six in c:\\users\\jonat\\anaconda3\\lib\\site-packages (from feedfinder2>=0.0.4->newspaper3k) (1.14.0)\n",
      "Requirement already satisfied: sgmllib3k in c:\\users\\jonat\\anaconda3\\lib\\site-packages (from feedparser>=5.2.1->newspaper3k) (1.0.0)\n",
      "Requirement already satisfied: chardet<3.1.0,>=3.0.2 in c:\\users\\jonat\\anaconda3\\lib\\site-packages (from requests>=2.10.0->newspaper3k) (3.0.4)\n",
      "Requirement already satisfied: urllib3!=1.25.0,!=1.25.1,<1.26,>=1.21.1 in c:\\users\\jonat\\anaconda3\\lib\\site-packages (from requests>=2.10.0->newspaper3k) (1.25.11)\n",
      "Requirement already satisfied: idna<2.9,>=2.5 in c:\\users\\jonat\\anaconda3\\lib\\site-packages (from requests>=2.10.0->newspaper3k) (2.8)\n",
      "Requirement already satisfied: certifi>=2017.4.17 in c:\\users\\jonat\\anaconda3\\lib\\site-packages (from requests>=2.10.0->newspaper3k) (2020.12.5)\n",
      "Requirement already satisfied: filelock>=3.0.8 in c:\\users\\jonat\\anaconda3\\lib\\site-packages (from tldextract>=2.0.1->newspaper3k) (3.0.12)\n",
      "Requirement already satisfied: requests-file>=1.4 in c:\\users\\jonat\\anaconda3\\lib\\site-packages (from tldextract>=2.0.1->newspaper3k) (1.5.1)\n"
     ]
    },
    {
     "name": "stderr",
     "output_type": "stream",
     "text": [
      "WARNING: Ignoring invalid distribution -umpy (c:\\users\\jonat\\anaconda3\\lib\\site-packages)\n",
      "WARNING: Ignoring invalid distribution -ffi (c:\\users\\jonat\\anaconda3\\lib\\site-packages)\n",
      "WARNING: Ignoring invalid distribution -umpy (c:\\users\\jonat\\anaconda3\\lib\\site-packages)\n",
      "WARNING: Ignoring invalid distribution -ffi (c:\\users\\jonat\\anaconda3\\lib\\site-packages)\n",
      "WARNING: Ignoring invalid distribution -umpy (c:\\users\\jonat\\anaconda3\\lib\\site-packages)\n",
      "WARNING: Ignoring invalid distribution -ffi (c:\\users\\jonat\\anaconda3\\lib\\site-packages)\n",
      "WARNING: Ignoring invalid distribution -umpy (c:\\users\\jonat\\anaconda3\\lib\\site-packages)\n",
      "WARNING: Ignoring invalid distribution -ffi (c:\\users\\jonat\\anaconda3\\lib\\site-packages)\n",
      "WARNING: Ignoring invalid distribution -umpy (c:\\users\\jonat\\anaconda3\\lib\\site-packages)\n",
      "WARNING: Ignoring invalid distribution -ffi (c:\\users\\jonat\\anaconda3\\lib\\site-packages)\n",
      "WARNING: Ignoring invalid distribution -umpy (c:\\users\\jonat\\anaconda3\\lib\\site-packages)\n",
      "WARNING: Ignoring invalid distribution -ffi (c:\\users\\jonat\\anaconda3\\lib\\site-packages)\n",
      "WARNING: You are using pip version 21.3.1; however, version 22.0.3 is available.\n",
      "You should consider upgrading via the 'c:\\users\\jonat\\anaconda3\\python.exe -m pip install --upgrade pip' command.\n"
     ]
    }
   ],
   "source": []
  },
  {
   "cell_type": "code",
   "execution_count": 2,
   "metadata": {},
   "outputs": [],
   "source": [
    "# Import libraries\n",
    "import pandas as pd\n",
    "from GoogleNews import GoogleNews # pip install GoogleNews\n",
    "from bs4 import BeautifulSoup \n",
    "from newspaper import Article # pip install newspaper3k\n",
    "from newspaper import Config\n",
    "import matplotlib.pyplot as plt\n",
    "from urllib.request import urlopen, Request\n",
    "import time\n",
    "\n",
    "user_agent = 'Mozilla/5.0 (Windows NT 10.0; Win64; x64) AppleWebKit/537.36 (KHTML, like Gecko) Chrome/93.0.4577.82 Safari/537.36'\n",
    "config = Config()\n",
    "config.browser_user_agent = user_agent"
   ]
  },
  {
   "cell_type": "code",
   "execution_count": 3,
   "metadata": {},
   "outputs": [],
   "source": [
    "\n",
    "def getGoogleNewsLinks(tickers, start_date, end_date):\n",
    "\n",
    "    parsed_news = []\n",
    "    \n",
    "    googlenews=GoogleNews(start = start_date, end = end_date) #month/day/year\n",
    "\n",
    "    googlenews.search(toSearch)\n",
    "    \n",
    "    for i in range(2, 3):\n",
    "        googlenews.getpage(i)\n",
    "        result=googlenews.result()\n",
    "        df=pd.DataFrame(result)\n",
    "    \n",
    "    for ind in df.index:\n",
    "        link = df['link'][ind]\n",
    "        parsed_news.append([toSearch, link])\n",
    "    \n",
    "    return(parsed_news)"
   ]
  },
  {
   "cell_type": "code",
   "execution_count": 4,
   "metadata": {},
   "outputs": [],
   "source": [
    "toSearch = 'food supply'\n",
    "def getGoogleNews(terms, start, end):\n",
    "    parsed_news = getGoogleNewsLinks(terms, start, end)\n",
    "    news_df = getArticleSummary(parsed_news)\n",
    "    return(news_df)\n",
    "\n"
   ]
  },
  {
   "cell_type": "code",
   "execution_count": 5,
   "metadata": {},
   "outputs": [],
   "source": [
    "def getArticleSummary(parsed_news):\n",
    "\n",
    "    list=[]\n",
    "    for ind in parsed_news:\n",
    "        dicti={}\n",
    "        article = Article(ind[1],config=config)\n",
    "        try:\n",
    "             \n",
    "            article.download()\n",
    "            article.parse()\n",
    "            article.nlp()\n",
    "\n",
    "            dicti['Ticker']=ind[0]\n",
    "            dicti['Title']=article.title\n",
    "            dicti['Article']=article.text\n",
    "            dicti['Summary']=article.summary\n",
    "            dicti['Link']=ind[1]\n",
    "            if article.publish_date == None:\n",
    "                dicti['Date'] = date\n",
    "            else:\n",
    "                dicti['Date']= article.publish_date\n",
    "                date = article.publish_date\n",
    "            \n",
    "            list.append(dicti)\n",
    "        except:\n",
    "            pass\n",
    "    news_df=pd.DataFrame(list)\n",
    "    return(news_df)"
   ]
  },
  {
   "cell_type": "code",
   "execution_count": 5,
   "metadata": {},
   "outputs": [],
   "source": [
    "def getArticleSummary(parsed_news):\n",
    "\n",
    "    list=[]\n",
    "    for ind in parsed_news:\n",
    "        dicti={}\n",
    "        article = Article(ind[1],config=config)\n",
    "        try:\n",
    "             \n",
    "            article.download()\n",
    "            article.parse()\n",
    "            article.nlp()\n",
    "\n",
    "            dicti['Product']=ind[0]\n",
    "            dicti['Title']=article.title\n",
    "            dicti['Article']=article.text\n",
    "            dicti['Summary']=article.summary\n",
    "            dicti['Link']=ind[1]\n",
    "            if article.publish_date == None:\n",
    "                dicti['Date'] = date\n",
    "            else:\n",
    "                dicti['Date']= article.publish_date\n",
    "                date = article.publish_date\n",
    "            \n",
    "            list.append(dicti)\n",
    "        except:\n",
    "            pass\n",
    "    news_df=pd.DataFrame(list)\n",
    "    return(news_df)"
   ]
  },
  {
   "cell_type": "code",
   "execution_count": 6,
   "metadata": {},
   "outputs": [
    {
     "name": "stderr",
     "output_type": "stream",
     "text": [
<<<<<<< HEAD
      "C:\\Users\\jonat\\Anaconda3\\lib\\site-packages\\dateparser\\date_parser.py:35: PytzUsageWarning: The localize method is no longer necessary, as this time zone supports the fold attribute (PEP 495). For more details on migrating to a PEP 495-compliant implementation, see https://pytz-deprecation-shim.readthedocs.io/en/latest/migration.html\n",
      "  date_obj = stz.localize(date_obj)\n"
=======
      "C:\\Users\\Shawn\\anaconda3\\lib\\site-packages\\dateutil\\parser\\_parser.py:1213: UnknownTimezoneWarning: tzname MST identified but not understood.  Pass `tzinfos` argument in order to correctly return a timezone-aware datetime.  In a future version, this will raise an exception.\n",
      "  warnings.warn(\"tzname {tzname} identified but not understood.  \"\n",
      "C:\\Users\\Shawn\\anaconda3\\lib\\site-packages\\dateutil\\parser\\_parser.py:1213: UnknownTimezoneWarning: tzname PST identified but not understood.  Pass `tzinfos` argument in order to correctly return a timezone-aware datetime.  In a future version, this will raise an exception.\n",
      "  warnings.warn(\"tzname {tzname} identified but not understood.  \"\n"
>>>>>>> 135d4f5b0c98143c3d7dff301ad5fcccc0887556
     ]
    },
    {
     "name": "stdout",
     "output_type": "stream",
     "text": [
<<<<<<< HEAD
      "done: month 1\n"
     ]
    },
    {
     "name": "stderr",
     "output_type": "stream",
     "text": [
      "C:\\Users\\jonat\\Anaconda3\\lib\\site-packages\\dateparser\\date_parser.py:35: PytzUsageWarning: The localize method is no longer necessary, as this time zone supports the fold attribute (PEP 495). For more details on migrating to a PEP 495-compliant implementation, see https://pytz-deprecation-shim.readthedocs.io/en/latest/migration.html\n",
      "  date_obj = stz.localize(date_obj)\n"
     ]
    },
    {
     "name": "stdout",
     "output_type": "stream",
     "text": [
=======
      "done: month 1\n",
>>>>>>> 135d4f5b0c98143c3d7dff301ad5fcccc0887556
      "done: month 2\n"
     ]
    }
   ],
   "source": [
    "# prevent error429 by working with batches (per month)\n",
    "time_period = {1: ['01/01/2021', '01/31/2021'],\n",
    "              2: ['02/01/2021', '02/28/2021'],\n",
    "              3: ['03/01/2021', '03/31/2021'],\n",
    "              4: ['04/01/2021', '04/30/2021'],\n",
    "              5: ['05/01/2021', '05/31/2021'],\n",
    "              6: ['06/01/2021', '06/30/2021'],\n",
    "              7: ['07/01/2021', '07/31/2021'],\n",
    "              8: ['08/01/2021', '08/31/2021'],\n",
    "              9: ['09/01/2021', '09/30/2021'],\n",
    "              10: ['10/01/2021', '10/30/2021'],\n",
    "              11: ['11/01/2021', '11/30/2021'],\n",
    "              12: ['12/01/2021', '12/30/2021']}\n",
    "\n",
    "\n",
    "for month_index in range(1,3): #change the range if from whenever it stopped at\n",
    "    start_date, end_date = time_period[month_index][0], time_period[month_index][1]\n",
    "    google_news = getGoogleNews(toSearch, start_date, end_date)\n",
    "    google_news\n",
    "    google_news.to_csv(f\"{toSearch}_News_google_month{month_index}.csv\")\n",
    "    print(f'done: month {month_index}')"
   ]
  },
  {
   "cell_type": "code",
   "execution_count": null,
   "metadata": {},
   "outputs": [],
   "source": []
  },
  {
   "cell_type": "code",
   "execution_count": null,
   "metadata": {},
   "outputs": [],
   "source": []
  }
 ],
 "metadata": {
  "kernelspec": {
   "display_name": "Python 3",
   "language": "python",
   "name": "python3"
  },
  "language_info": {
   "codemirror_mode": {
    "name": "ipython",
    "version": 3
   },
   "file_extension": ".py",
   "mimetype": "text/x-python",
   "name": "python",
   "nbconvert_exporter": "python",
   "pygments_lexer": "ipython3",
   "version": "3.7.4"
  }
 },
 "nbformat": 4,
 "nbformat_minor": 5
}
