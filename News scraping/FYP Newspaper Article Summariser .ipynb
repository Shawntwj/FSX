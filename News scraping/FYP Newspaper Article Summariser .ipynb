{
 "cells": [
  {
   "cell_type": "markdown",
   "id": "50550223",
   "metadata": {},
   "source": [
    "https://towardsdatascience.com/scrape-and-summarize-news-articles-in-5-lines-of-python-code-175f0e5c7dfc"
   ]
  },
  {
   "cell_type": "code",
   "execution_count": 2,
   "id": "cd830bc7",
   "metadata": {},
   "outputs": [
    {
     "name": "stdout",
     "output_type": "stream",
     "text": [
      "Collecting newspaper3k\n",
      "  Downloading newspaper3k-0.2.8-py3-none-any.whl (211 kB)\n",
      "Requirement already satisfied: nltk>=3.2.1 in c:\\users\\darren tay\\anaconda3\\lib\\site-packages (from newspaper3k) (3.6.1)\n",
      "Requirement already satisfied: beautifulsoup4>=4.4.1 in c:\\users\\darren tay\\anaconda3\\lib\\site-packages (from newspaper3k) (4.9.3)\n",
      "Requirement already satisfied: Pillow>=3.3.0 in c:\\users\\darren tay\\anaconda3\\lib\\site-packages (from newspaper3k) (8.2.0)\n",
      "Requirement already satisfied: lxml>=3.6.0 in c:\\users\\darren tay\\anaconda3\\lib\\site-packages (from newspaper3k) (4.6.3)\n",
      "Collecting jieba3k>=0.35.1\n",
      "  Downloading jieba3k-0.35.1.zip (7.4 MB)\n",
      "Collecting tldextract>=2.0.1\n",
      "  Downloading tldextract-3.1.2-py2.py3-none-any.whl (87 kB)\n",
      "Collecting feedfinder2>=0.0.4\n",
      "  Downloading feedfinder2-0.0.4.tar.gz (3.3 kB)\n",
      "Collecting cssselect>=0.9.2\n",
      "  Downloading cssselect-1.1.0-py2.py3-none-any.whl (16 kB)\n",
      "Requirement already satisfied: python-dateutil>=2.5.3 in c:\\users\\darren tay\\anaconda3\\lib\\site-packages (from newspaper3k) (2.8.1)\n",
      "Requirement already satisfied: PyYAML>=3.11 in c:\\users\\darren tay\\anaconda3\\lib\\site-packages (from newspaper3k) (5.4.1)\n",
      "Collecting tinysegmenter==0.3\n",
      "  Downloading tinysegmenter-0.3.tar.gz (16 kB)\n",
      "Requirement already satisfied: requests>=2.10.0 in c:\\users\\darren tay\\anaconda3\\lib\\site-packages (from newspaper3k) (2.25.1)\n",
      "Collecting feedparser>=5.2.1\n",
      "  Downloading feedparser-6.0.8-py3-none-any.whl (81 kB)\n",
      "Requirement already satisfied: soupsieve>1.2 in c:\\users\\darren tay\\anaconda3\\lib\\site-packages (from beautifulsoup4>=4.4.1->newspaper3k) (2.2.1)\n",
      "Requirement already satisfied: six in c:\\users\\darren tay\\appdata\\roaming\\python\\python38\\site-packages (from feedfinder2>=0.0.4->newspaper3k) (1.13.0)\n",
      "Collecting sgmllib3k\n",
      "  Downloading sgmllib3k-1.0.0.tar.gz (5.8 kB)\n",
      "Requirement already satisfied: click in c:\\users\\darren tay\\anaconda3\\lib\\site-packages (from nltk>=3.2.1->newspaper3k) (7.1.2)\n",
      "Requirement already satisfied: joblib in c:\\users\\darren tay\\anaconda3\\lib\\site-packages (from nltk>=3.2.1->newspaper3k) (1.0.1)\n",
      "Requirement already satisfied: regex in c:\\users\\darren tay\\anaconda3\\lib\\site-packages (from nltk>=3.2.1->newspaper3k) (2021.4.4)\n",
      "Requirement already satisfied: tqdm in c:\\users\\darren tay\\anaconda3\\lib\\site-packages (from nltk>=3.2.1->newspaper3k) (4.59.0)\n",
      "Requirement already satisfied: certifi>=2017.4.17 in c:\\users\\darren tay\\anaconda3\\lib\\site-packages (from requests>=2.10.0->newspaper3k) (2020.12.5)\n",
      "Requirement already satisfied: urllib3<1.27,>=1.21.1 in c:\\users\\darren tay\\anaconda3\\lib\\site-packages (from requests>=2.10.0->newspaper3k) (1.26.4)\n",
      "Requirement already satisfied: idna<3,>=2.5 in c:\\users\\darren tay\\anaconda3\\lib\\site-packages (from requests>=2.10.0->newspaper3k) (2.10)\n",
      "Requirement already satisfied: chardet<5,>=3.0.2 in c:\\users\\darren tay\\anaconda3\\lib\\site-packages (from requests>=2.10.0->newspaper3k) (4.0.0)\n",
      "Collecting requests-file>=1.4\n",
      "  Downloading requests_file-1.5.1-py2.py3-none-any.whl (3.7 kB)\n",
      "Requirement already satisfied: filelock>=3.0.8 in c:\\users\\darren tay\\anaconda3\\lib\\site-packages (from tldextract>=2.0.1->newspaper3k) (3.0.12)\n",
      "Building wheels for collected packages: tinysegmenter, feedfinder2, jieba3k, sgmllib3k\n",
      "  Building wheel for tinysegmenter (setup.py): started\n",
      "  Building wheel for tinysegmenter (setup.py): finished with status 'done'\n",
      "  Created wheel for tinysegmenter: filename=tinysegmenter-0.3-py3-none-any.whl size=13537 sha256=ac92a551c878c23e64a68088a9edaaa4e9fcc536533fc4bb4384c8e8dfca6513\n",
      "  Stored in directory: c:\\users\\darren tay\\appdata\\local\\pip\\cache\\wheels\\99\\74\\83\\8fac1c8d9c648cfabebbbffe97a889f6624817f3aa0bbe6c09\n",
      "  Building wheel for feedfinder2 (setup.py): started\n",
      "  Building wheel for feedfinder2 (setup.py): finished with status 'done'\n",
      "  Created wheel for feedfinder2: filename=feedfinder2-0.0.4-py3-none-any.whl size=3354 sha256=0b64dda0530ee570ab6745f09e29dea38fd86f88ee6be746db9a66d1b88beed9\n",
      "  Stored in directory: c:\\users\\darren tay\\appdata\\local\\pip\\cache\\wheels\\b6\\09\\68\\a9f15498ac02c23dde29f18745bc6a6f574ba4ab41861a3575\n",
      "  Building wheel for jieba3k (setup.py): started\n",
      "  Building wheel for jieba3k (setup.py): finished with status 'done'\n",
      "  Created wheel for jieba3k: filename=jieba3k-0.35.1-py3-none-any.whl size=7398406 sha256=46a69e34a9dc4efd8080128eda71ce2aa99528b446c5a23516f933af4e0b9569\n",
      "  Stored in directory: c:\\users\\darren tay\\appdata\\local\\pip\\cache\\wheels\\1f\\7e\\0c\\54f3b0f5164278677899f2db08f2b07943ce2d024a3c862afb\n",
      "  Building wheel for sgmllib3k (setup.py): started\n",
      "  Building wheel for sgmllib3k (setup.py): finished with status 'done'\n",
      "  Created wheel for sgmllib3k: filename=sgmllib3k-1.0.0-py3-none-any.whl size=6065 sha256=c3582b4b81581fe75291d5779dc6c9e1db83a5f54089b446d128c834480850ed\n",
      "  Stored in directory: c:\\users\\darren tay\\appdata\\local\\pip\\cache\\wheels\\83\\63\\2f\\117884c3b19d46b64d3d61690333aa80c88dc14050e269c546\n",
      "Successfully built tinysegmenter feedfinder2 jieba3k sgmllib3k\n",
      "Installing collected packages: sgmllib3k, requests-file, tldextract, tinysegmenter, jieba3k, feedparser, feedfinder2, cssselect, newspaper3k\n",
      "Successfully installed cssselect-1.1.0 feedfinder2-0.0.4 feedparser-6.0.8 jieba3k-0.35.1 newspaper3k-0.2.8 requests-file-1.5.1 sgmllib3k-1.0.0 tinysegmenter-0.3 tldextract-3.1.2\n"
     ]
    }
   ],
   "source": [
    "!pip install newspaper3k"
   ]
  },
  {
   "cell_type": "code",
   "execution_count": 4,
   "id": "f7fa9f36",
   "metadata": {},
   "outputs": [],
   "source": [
    "from newspaper import Article\n",
    "\n",
    "article = Article('https://www.npr.org/2022/01/06/1070849315/an-effort-in-texas-helps-members-of-the-military-with-food-insecurity-issues')\n",
    "\n",
    "\n",
    "article.download()\n",
    "\n",
    "article.parse()\n",
    "\n",
    "article.nlp()"
   ]
  },
  {
   "cell_type": "code",
   "execution_count": 6,
   "id": "360ad8ed",
   "metadata": {},
   "outputs": [
    {
     "data": {
      "text/plain": [
       "['Paul Flahive']"
      ]
     },
     "execution_count": 6,
     "metadata": {},
     "output_type": "execute_result"
    }
   ],
   "source": [
    "article.authors"
   ]
  },
  {
   "cell_type": "code",
   "execution_count": 7,
   "id": "f5a0f15b",
   "metadata": {},
   "outputs": [
    {
     "data": {
      "text/plain": [
       "['problem',\n",
       " 'members',\n",
       " 'issues',\n",
       " 'help',\n",
       " 'line',\n",
       " 'person',\n",
       " 'npr',\n",
       " 'military',\n",
       " 'effort',\n",
       " 'army',\n",
       " 'insecurity',\n",
       " 'helps',\n",
       " 'texas',\n",
       " 'food']"
      ]
     },
     "execution_count": 7,
     "metadata": {},
     "output_type": "execute_result"
    }
   ],
   "source": [
    "article.keywords"
   ]
  },
  {
   "cell_type": "code",
   "execution_count": 8,
   "id": "74d38cda",
   "metadata": {},
   "outputs": [],
   "source": [
    "article = Article('https://mothership.sg/2021/11/good-samaritans-food-donation-law/')"
   ]
  },
  {
   "cell_type": "code",
   "execution_count": 9,
   "id": "3400e0fc",
   "metadata": {},
   "outputs": [],
   "source": [
    "article.download()\n",
    "\n",
    "article.parse()\n",
    "\n",
    "article.nlp()"
   ]
  },
  {
   "cell_type": "code",
   "execution_count": 10,
   "id": "93653bd2",
   "metadata": {},
   "outputs": [
    {
     "data": {
      "text/plain": [
       "['Ashley Tan']"
      ]
     },
     "execution_count": 10,
     "metadata": {},
     "output_type": "execute_result"
    }
   ],
   "source": [
    "article.authors"
   ]
  },
  {
   "cell_type": "code",
   "execution_count": 11,
   "id": "ee2cebbc",
   "metadata": {},
   "outputs": [
    {
     "data": {
      "text/plain": [
       "['steam',\n",
       " 'gathers',\n",
       " 'fcos',\n",
       " 'surplus',\n",
       " 'protect',\n",
       " 'liability',\n",
       " 'committee',\n",
       " 'cent',\n",
       " 'issues',\n",
       " 'needy',\n",
       " 'bill',\n",
       " 'waste',\n",
       " 'agreed',\n",
       " 'businesses',\n",
       " 'singapore',\n",
       " 'respondents',\n",
       " 'donate',\n",
       " 'food']"
      ]
     },
     "execution_count": 11,
     "metadata": {},
     "output_type": "execute_result"
    }
   ],
   "source": [
    "article.keywords"
   ]
  },
  {
   "cell_type": "code",
   "execution_count": 12,
   "id": "a5ec4f69",
   "metadata": {
    "scrolled": true
   },
   "outputs": [
    {
     "name": "stdout",
     "output_type": "stream",
     "text": [
      "Tackling food waste and food insecurityFor context, there are existing organisations in Singapore that collect and distribute food to the needy.\n",
      "Not only can the legislation help alleviate food insecurity by providing food for the needy, it could also help to reduce food waste in Singapore, which is one of the country's biggest waste streams.\n",
      "Here are some of the key findings:99 per cent of respondents agreed that food waste is a problem in Singapore.\n",
      "50 per cent of respondents agreed that Food Charitable Organisations (FCOs) handling food donations should be required to be accredited.\n",
      "At the moment, the Singapore Food Agency and Ministry of Sustainability and the Environment are also working on a Bill to enhance food safety for food that is sold instead of donated.\n"
     ]
    }
   ],
   "source": [
    "print(article.summary)"
   ]
  },
  {
   "cell_type": "markdown",
   "id": "6a08e0cc",
   "metadata": {},
   "source": [
    "# This article is a good read to create a dashboard of sorts to stream News articles and summarise headlines/ content etc\n",
    "\n",
    "https://towardsdatascience.com/news-summary-app-with-python-2b1993cf64dd"
   ]
  },
  {
   "cell_type": "code",
   "execution_count": 14,
   "id": "099e1140",
   "metadata": {},
   "outputs": [],
   "source": [
    "article = Article('https://moderndiplomacy.eu/2022/01/08/global-food-prices-rose-sharply-during-2021/')"
   ]
  },
  {
   "cell_type": "code",
   "execution_count": 15,
   "id": "cb9e72b3",
   "metadata": {},
   "outputs": [],
   "source": [
    "article.download()\n",
    "\n",
    "article.parse()\n",
    "\n",
    "article.nlp()"
   ]
  },
  {
   "cell_type": "code",
   "execution_count": 17,
   "id": "ec3850c0",
   "metadata": {},
   "outputs": [
    {
     "data": {
      "text/plain": [
       "[]"
      ]
     },
     "execution_count": 17,
     "metadata": {},
     "output_type": "execute_result"
    }
   ],
   "source": [
    "article.authors"
   ]
  },
  {
   "cell_type": "code",
   "execution_count": 18,
   "id": "1f942e8f",
   "metadata": {
    "scrolled": true
   },
   "outputs": [
    {
     "name": "stdout",
     "output_type": "stream",
     "text": [
      "The UN’s benchmark food and commodity prices index rose sharply on average through 2021, compared with the previous year, the Food and Agriculture Organization (FAO) informed on Thursday.\n",
      "The agency’s Food Price Index, which tracks monthly changes in international prices, averaged 125.7 points – a 28.1 per cent increase over 2020.\n",
      "For the year as a whole, the Sugar Price Index rose 29.8 per cent, reaching its highest level since 2016.\n",
      "Meat and dairyThe Meat Price Index was “broadly stable” in December, but rose 12.7 per cent through the year as a whole.\n",
      "Cheese prices declined marginally last month, but for the year overall, the Dairy Price Index averaged 16.9 per cent higher than 2020.\n"
     ]
    }
   ],
   "source": [
    "print(article.summary)"
   ]
  },
  {
   "cell_type": "markdown",
   "id": "e3d023f8",
   "metadata": {},
   "source": [
    "# Singapore Article Summary"
   ]
  },
  {
   "cell_type": "code",
   "execution_count": 19,
   "id": "15aa4b4e",
   "metadata": {},
   "outputs": [],
   "source": [
    "article = Article('https://www.straitstimes.com/singapore/consumer/fish-vegetable-supplies-largely-undampened-by-malaysia-floods-but-prices-remain-uneven')\n",
    "\n",
    "article.download()\n",
    "\n",
    "article.parse()\n",
    "\n",
    "article.nlp()"
   ]
  },
  {
   "cell_type": "code",
   "execution_count": 21,
   "id": "144214cf",
   "metadata": {},
   "outputs": [
    {
     "data": {
      "text/plain": [
       "[]"
      ]
     },
     "execution_count": 21,
     "metadata": {},
     "output_type": "execute_result"
    }
   ],
   "source": [
    "article.authors"
   ]
  },
  {
   "cell_type": "code",
   "execution_count": 24,
   "id": "e3580fe6",
   "metadata": {},
   "outputs": [
    {
     "data": {
      "text/plain": [
       "['kg',\n",
       " 'remain',\n",
       " 'vegetable',\n",
       " 'floods',\n",
       " 'increase',\n",
       " 'vegetables',\n",
       " 'cost',\n",
       " 'stable',\n",
       " 'cent',\n",
       " 'price',\n",
       " 'fish',\n",
       " 'supplies',\n",
       " 'singapore',\n",
       " 'despite',\n",
       " 'malaysia',\n",
       " 'merchants']"
      ]
     },
     "execution_count": 24,
     "metadata": {},
     "output_type": "execute_result"
    }
   ],
   "source": [
    "article.keywords"
   ]
  },
  {
   "cell_type": "code",
   "execution_count": 23,
   "id": "c7eb2f69",
   "metadata": {},
   "outputs": [
    {
     "data": {
      "text/plain": [
       "'SINGAPORE - While floods have ravaged Malaysia, major retailers and industry players in Singapore said the overall supply of fish and vegetables here remains stable.\\nSingapore Fish Merchants\\' General Association said the rain causing floods in Malaysia have deterred fishermen from going out to sea, while Punggol Fish Merchants Association cited the usual year-end monsoon season for the price hike.\\n\"Supply from fish farms, such as seabass, red snapper and golden pomfret, are not affected,\" he added, referring to farms in both Singapore and Malaysia.\\nMr Daniel Pe, who chairs the Punggol Fish Merchants Association, said: \"Nowadays, our sources are quite diverse, our supply won\\'t be affected by a single source.\\nAbout 64 per cent of the 80,434 tonnes of leafy vegetables Singapore imported last year came from Malaysia.'"
      ]
     },
     "execution_count": 23,
     "metadata": {},
     "output_type": "execute_result"
    }
   ],
   "source": [
    "article.summary"
   ]
  },
  {
   "cell_type": "markdown",
   "id": "4e6ce0e5",
   "metadata": {},
   "source": [
    "# News API"
   ]
  },
  {
   "cell_type": "code",
   "execution_count": 44,
   "id": "747759ed",
   "metadata": {},
   "outputs": [],
   "source": [
    "\n",
    "\n",
    "\n",
    "foodnewsheadlinesurl = ('http://newsapi.org/v2/top-headlines?'                        \n",
    "                       'q=food&' #the keyword we are looking for\n",
    "                       'country=sg&' #we chose the country we want\n",
    "                 'category=general&' #we chose the category we want\n",
    "                      'language=en&' #we chose the language we want\n",
    "                'pageSize=20&' #no. of results. Default 20, max 100\n",
    "                     'apiKey=4a548e81fecf4e9a95dbdd21d454451f') # Your Api keys"
   ]
  },
  {
   "cell_type": "code",
   "execution_count": 45,
   "id": "0d1b286a",
   "metadata": {},
   "outputs": [],
   "source": [
    "import requests\n",
    "\n",
    "foodnewsheadlinesurlresponse = requests.get(foodnewsheadlinesurl)\n"
   ]
  },
  {
   "cell_type": "code",
   "execution_count": 46,
   "id": "222548da",
   "metadata": {},
   "outputs": [
    {
     "data": {
      "text/plain": [
       "<Response [200]>"
      ]
     },
     "execution_count": 46,
     "metadata": {},
     "output_type": "execute_result"
    }
   ],
   "source": [
    "foodnewsheadlinesurlresponse"
   ]
  },
  {
   "cell_type": "code",
   "execution_count": 48,
   "id": "d62b3361",
   "metadata": {},
   "outputs": [],
   "source": [
    "foodnewsheadlines=foodnewsheadlinesurlresponse.json()\n"
   ]
  },
  {
   "cell_type": "code",
   "execution_count": 54,
   "id": "36ade5e0",
   "metadata": {},
   "outputs": [],
   "source": [
    "import pandas as pd\n",
    "\n",
    "foodnewsheadlines = foodnewsheadlines['articles']\n",
    "df =  pd.DataFrame(foodnewsheadlines)"
   ]
  },
  {
   "cell_type": "code",
   "execution_count": 55,
   "id": "6f6ebffa",
   "metadata": {
    "scrolled": false
   },
   "outputs": [
    {
     "data": {
      "text/html": [
       "<div>\n",
       "<style scoped>\n",
       "    .dataframe tbody tr th:only-of-type {\n",
       "        vertical-align: middle;\n",
       "    }\n",
       "\n",
       "    .dataframe tbody tr th {\n",
       "        vertical-align: top;\n",
       "    }\n",
       "\n",
       "    .dataframe thead th {\n",
       "        text-align: right;\n",
       "    }\n",
       "</style>\n",
       "<table border=\"1\" class=\"dataframe\">\n",
       "  <thead>\n",
       "    <tr style=\"text-align: right;\">\n",
       "      <th></th>\n",
       "      <th>source</th>\n",
       "      <th>author</th>\n",
       "      <th>title</th>\n",
       "      <th>description</th>\n",
       "      <th>url</th>\n",
       "      <th>urlToImage</th>\n",
       "      <th>publishedAt</th>\n",
       "      <th>content</th>\n",
       "    </tr>\n",
       "  </thead>\n",
       "  <tbody>\n",
       "    <tr>\n",
       "      <th>0</th>\n",
       "      <td>{'id': None, 'name': 'CNA'}</td>\n",
       "      <td>None</td>\n",
       "      <td>COVID-19: Encik Tan outlet failed to keep dine...</td>\n",
       "      <td>SINGAPORE: The parent company of an Encik Tan ...</td>\n",
       "      <td>https://www.channelnewsasia.com/singapore/covi...</td>\n",
       "      <td>https://onecms-res.cloudinary.com/image/upload...</td>\n",
       "      <td>2022-01-11T08:17:40Z</td>\n",
       "      <td>SINGAPORE: The parent company of an Encik Tan ...</td>\n",
       "    </tr>\n",
       "  </tbody>\n",
       "</table>\n",
       "</div>"
      ],
      "text/plain": [
       "                        source author  \\\n",
       "0  {'id': None, 'name': 'CNA'}   None   \n",
       "\n",
       "                                               title  \\\n",
       "0  COVID-19: Encik Tan outlet failed to keep dine...   \n",
       "\n",
       "                                         description  \\\n",
       "0  SINGAPORE: The parent company of an Encik Tan ...   \n",
       "\n",
       "                                                 url  \\\n",
       "0  https://www.channelnewsasia.com/singapore/covi...   \n",
       "\n",
       "                                          urlToImage           publishedAt  \\\n",
       "0  https://onecms-res.cloudinary.com/image/upload...  2022-01-11T08:17:40Z   \n",
       "\n",
       "                                             content  \n",
       "0  SINGAPORE: The parent company of an Encik Tan ...  "
      ]
     },
     "execution_count": 55,
     "metadata": {},
     "output_type": "execute_result"
    }
   ],
   "source": [
    "df.head()"
   ]
  },
  {
   "cell_type": "markdown",
   "id": "5a9206a1",
   "metadata": {},
   "source": [
    "# Testing for Food Supply Related News"
   ]
  },
  {
   "cell_type": "code",
   "execution_count": 97,
   "id": "20035434",
   "metadata": {},
   "outputs": [],
   "source": [
    "import requests\n",
    "import pandas as pd"
   ]
  },
  {
   "cell_type": "code",
   "execution_count": 101,
   "id": "c09bba0c",
   "metadata": {},
   "outputs": [],
   "source": [
    "#we create URL for top category news headlines for country\n",
    "catenewsheadlinesurl = ('http://newsapi.org/v2/top-headlines?'\n",
    "       'q=trump&' #the keyword we are looking for\n",
    "       'country=us&' #we  chose the country we want\n",
    "       'category=general&' #we chose the category we wants\n",
    "       'language=en&'\n",
    "       'pageSize=30&' #this is the number of results to return per page(request).20 is default . max is 100\n",
    "       'apiKey=4a548e81fecf4e9a95dbdd21d454451f') # api keys\n",
    "#we create the request to get the news headlines.\n",
    "catenewsheadlinesurlresponse = requests.get(catenewsheadlinesurl)"
   ]
  },
  {
   "cell_type": "code",
   "execution_count": 102,
   "id": "11d0c241",
   "metadata": {},
   "outputs": [
    {
     "data": {
      "text/plain": [
       "<Response [200]>"
      ]
     },
     "execution_count": 102,
     "metadata": {},
     "output_type": "execute_result"
    }
   ],
   "source": [
    "#test the connection if 200 means connection is ready\n",
    "catenewsheadlinesurlresponse"
   ]
  },
  {
   "cell_type": "code",
   "execution_count": 103,
   "id": "f7996f5b",
   "metadata": {},
   "outputs": [
    {
     "data": {
      "text/plain": [
       "{'status': 'ok',\n",
       " 'totalResults': 2,\n",
       " 'articles': [{'source': {'id': None, 'name': 'The Guardian'},\n",
       "   'author': 'Maya Yang',\n",
       "   'title': 'Voters move to block Trump ally Madison Cawthorn from re-election - The Guardian',\n",
       "   'description': 'North Carolina group files candidacy challenge, citing Republican congressman’s alleged involvement in 6 January attack',\n",
       "   'url': 'https://amp.theguardian.com/us-news/2022/jan/11/madison-cawthorn-trump-republican-north-carolina-voters',\n",
       "   'urlToImage': None,\n",
       "   'publishedAt': '2022-01-11T07:09:00Z',\n",
       "   'content': 'RepublicansNorth Carolina group files candidacy challenge, citing Republican congressmans alleged involvement in 6 January attack\\r\\nTue 11 Jan 2022 02.00 EST\\r\\nA group of North Carolina voters told sta… [+5525 chars]'},\n",
       "  {'source': {'id': 'abc-news', 'name': 'ABC News'},\n",
       "   'author': 'ASHRAF KHALIL  Associated Press',\n",
       "   'title': 'Trump attorneys cite immunity, want Jan. 6 lawsuits tossed - ABC News',\n",
       "   'description': '',\n",
       "   'url': 'https://abcnews.go.com/Politics/wireStory/trump-attorneys-cite-immunity-jan-lawsuits-tossed-82189324',\n",
       "   'urlToImage': 'https://s.abcnews.com/images/Politics/WireAP_51dc395b80204c0394cfe2f37f5cf70c_16x9_992.jpg',\n",
       "   'publishedAt': '2022-01-11T03:14:40Z',\n",
       "   'content': 'WASHINGTON -- Attorneys for former President Donald Trump and his associates argued Monday that incendiary statements by Trump and others last Jan. 6 prior to the Capitol riot were protected speech a… [+4457 chars]'}]}"
      ]
     },
     "execution_count": 103,
     "metadata": {},
     "output_type": "execute_result"
    }
   ],
   "source": [
    "#convert the headlines to json format\n",
    "catenewsheadlines=catenewsheadlinesurlresponse.json()\n",
    "catenewsheadlines"
   ]
  },
  {
   "cell_type": "code",
   "execution_count": 91,
   "id": "392d2469",
   "metadata": {},
   "outputs": [
    {
     "data": {
      "text/plain": [
       "['articles', 'status', 'totalResults']"
      ]
     },
     "execution_count": 91,
     "metadata": {},
     "output_type": "execute_result"
    }
   ],
   "source": [
    "#let sort them according to category\n",
    "sorted(catenewsheadlines.keys())"
   ]
  },
  {
   "cell_type": "code",
   "execution_count": 92,
   "id": "e8b17a4f",
   "metadata": {},
   "outputs": [],
   "source": [
    "#we only wants articles\n",
    "catenewsheadlines = catenewsheadlines['articles']"
   ]
  },
  {
   "cell_type": "code",
   "execution_count": 93,
   "id": "281c2f2d",
   "metadata": {},
   "outputs": [
    {
     "data": {
      "text/html": [
       "<div>\n",
       "<style scoped>\n",
       "    .dataframe tbody tr th:only-of-type {\n",
       "        vertical-align: middle;\n",
       "    }\n",
       "\n",
       "    .dataframe tbody tr th {\n",
       "        vertical-align: top;\n",
       "    }\n",
       "\n",
       "    .dataframe thead th {\n",
       "        text-align: right;\n",
       "    }\n",
       "</style>\n",
       "<table border=\"1\" class=\"dataframe\">\n",
       "  <thead>\n",
       "    <tr style=\"text-align: right;\">\n",
       "      <th></th>\n",
       "      <th>source</th>\n",
       "      <th>author</th>\n",
       "      <th>title</th>\n",
       "      <th>description</th>\n",
       "      <th>url</th>\n",
       "      <th>urlToImage</th>\n",
       "      <th>publishedAt</th>\n",
       "      <th>content</th>\n",
       "    </tr>\n",
       "  </thead>\n",
       "  <tbody>\n",
       "    <tr>\n",
       "      <th>0</th>\n",
       "      <td>{'id': None, 'name': 'CNA'}</td>\n",
       "      <td>None</td>\n",
       "      <td>Who is the world's richest crypto entrepreneur...</td>\n",
       "      <td>Changpeng Zhao is the CEO of Binance, which op...</td>\n",
       "      <td>https://cnaluxury.channelnewsasia.com/people/r...</td>\n",
       "      <td>https://onecms-res.cloudinary.com/image/upload...</td>\n",
       "      <td>2022-01-11T03:30:56Z</td>\n",
       "      <td>Zhaos net worth rivals the wealth amassed by t...</td>\n",
       "    </tr>\n",
       "  </tbody>\n",
       "</table>\n",
       "</div>"
      ],
      "text/plain": [
       "                        source author  \\\n",
       "0  {'id': None, 'name': 'CNA'}   None   \n",
       "\n",
       "                                               title  \\\n",
       "0  Who is the world's richest crypto entrepreneur...   \n",
       "\n",
       "                                         description  \\\n",
       "0  Changpeng Zhao is the CEO of Binance, which op...   \n",
       "\n",
       "                                                 url  \\\n",
       "0  https://cnaluxury.channelnewsasia.com/people/r...   \n",
       "\n",
       "                                          urlToImage           publishedAt  \\\n",
       "0  https://onecms-res.cloudinary.com/image/upload...  2022-01-11T03:30:56Z   \n",
       "\n",
       "                                             content  \n",
       "0  Zhaos net worth rivals the wealth amassed by t...  "
      ]
     },
     "execution_count": 93,
     "metadata": {},
     "output_type": "execute_result"
    }
   ],
   "source": [
    "#convert to dataframe first\n",
    "df2 =  pd.DataFrame(catenewsheadlines)\n",
    "df2.head()"
   ]
  },
  {
   "cell_type": "code",
   "execution_count": null,
   "id": "5cabefe2",
   "metadata": {},
   "outputs": [],
   "source": []
  }
 ],
 "metadata": {
  "kernelspec": {
   "display_name": "Python 3",
   "language": "python",
   "name": "python3"
  },
  "language_info": {
   "codemirror_mode": {
    "name": "ipython",
    "version": 3
   },
   "file_extension": ".py",
   "mimetype": "text/x-python",
   "name": "python",
   "nbconvert_exporter": "python",
   "pygments_lexer": "ipython3",
   "version": "3.8.8"
  }
 },
 "nbformat": 4,
 "nbformat_minor": 5
}
