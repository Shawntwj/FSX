{
 "cells": [
  {
   "cell_type": "markdown",
   "id": "76d84f52",
   "metadata": {},
   "source": [
    "# Required Outputs\n",
    "\n",
    "- Section Name \n",
    "- Publish Time\n",
    "- News title\n",
    "- Author's Name\n",
    "- Author's Title (Not included)\n",
    "- News URL\n",
    "- Related keywords"
   ]
  },
  {
   "cell_type": "markdown",
   "id": "96899cc2",
   "metadata": {},
   "source": [
    "# Import of Libraries "
   ]
  },
  {
   "cell_type": "code",
   "execution_count": 1,
   "id": "b5ef92fc",
   "metadata": {},
   "outputs": [],
   "source": [
    "import selenium\n",
    "\n",
    "from selenium import webdriver\n",
    "from selenium.webdriver.common.keys import Keys\n",
    "from selenium.webdriver.common.by import By\n",
    "from selenium.webdriver.support.ui import WebDriverWait\n",
    "from selenium.webdriver.support import expected_conditions as EC\n",
    "import time\n",
    "import pandas as pd\n",
    "\n",
    "PATH = 'C:\\Program Files (x86)\\chromedriver.exe'"
   ]
  },
  {
   "cell_type": "code",
   "execution_count": 9,
   "id": "ca130e8c",
   "metadata": {
    "scrolled": true
   },
   "outputs": [
    {
     "name": "stderr",
     "output_type": "stream",
     "text": [
      "C:\\Users\\Darren\\AppData\\Local\\Temp/ipykernel_20352/3103459249.py:1: DeprecationWarning: executable_path has been deprecated, please pass in a Service object\n",
      "  driver = webdriver.Chrome(PATH)\n",
      "C:\\Users\\Darren\\AppData\\Local\\Temp/ipykernel_20352/3103459249.py:5: DeprecationWarning: find_element_by_* commands are deprecated. Please use find_element() instead\n",
      "  nav_bar = driver.find_element_by_id('profile-menu-nav')\n",
      "C:\\Users\\Darren\\AppData\\Local\\Temp/ipykernel_20352/3103459249.py:9: DeprecationWarning: find_element_by_* commands are deprecated. Please use find_element() instead\n",
      "  search = driver.find_element_by_link_text('Search')\n"
     ]
    },
    {
     "name": "stdout",
     "output_type": "stream",
     "text": [
      "Sign In\n",
      "My Feed\n",
      "Search\n"
     ]
    },
    {
     "ename": "NoSuchElementException",
     "evalue": "Message: no such element: Unable to locate element: {\"method\":\"link text\",\"selector\":\"Search\"}\n  (Session info: chrome=97.0.4692.99)\nStacktrace:\nBacktrace:\n\tOrdinal0 [0x0028FDC3+2555331]\n\tOrdinal0 [0x002277F1+2127857]\n\tOrdinal0 [0x00122E08+1060360]\n\tOrdinal0 [0x0014E49E+1238174]\n\tOrdinal0 [0x0014E69B+1238683]\n\tOrdinal0 [0x00179252+1413714]\n\tOrdinal0 [0x00167B54+1342292]\n\tOrdinal0 [0x001775FA+1406458]\n\tOrdinal0 [0x00167976+1341814]\n\tOrdinal0 [0x001436B6+1193654]\n\tOrdinal0 [0x00144546+1197382]\n\tGetHandleVerifier [0x00429622+1619522]\n\tGetHandleVerifier [0x004D882C+2336844]\n\tGetHandleVerifier [0x003223E1+541697]\n\tGetHandleVerifier [0x00321443+537699]\n\tOrdinal0 [0x0022D18E+2150798]\n\tOrdinal0 [0x00231518+2168088]\n\tOrdinal0 [0x00231660+2168416]\n\tOrdinal0 [0x0023B330+2208560]\n\tBaseThreadInitThunk [0x75646739+25]\n\tRtlGetFullPathName_UEx [0x778E8AFF+1215]\n\tRtlGetFullPathName_UEx [0x778E8ACD+1165]\n\t(No symbol) [0x00000000]\n",
     "output_type": "error",
     "traceback": [
      "\u001b[1;31m---------------------------------------------------------------------------\u001b[0m",
      "\u001b[1;31mNoSuchElementException\u001b[0m                    Traceback (most recent call last)",
      "\u001b[1;32m~\\AppData\\Local\\Temp/ipykernel_20352/3103459249.py\u001b[0m in \u001b[0;36m<module>\u001b[1;34m\u001b[0m\n\u001b[0;32m      7\u001b[0m \u001b[0mprint\u001b[0m\u001b[1;33m(\u001b[0m\u001b[0mnav_bar\u001b[0m\u001b[1;33m.\u001b[0m\u001b[0mtext\u001b[0m\u001b[1;33m)\u001b[0m\u001b[1;33m\u001b[0m\u001b[1;33m\u001b[0m\u001b[0m\n\u001b[0;32m      8\u001b[0m \u001b[1;33m\u001b[0m\u001b[0m\n\u001b[1;32m----> 9\u001b[1;33m \u001b[0msearch\u001b[0m \u001b[1;33m=\u001b[0m \u001b[0mdriver\u001b[0m\u001b[1;33m.\u001b[0m\u001b[0mfind_element_by_link_text\u001b[0m\u001b[1;33m(\u001b[0m\u001b[1;34m'Search'\u001b[0m\u001b[1;33m)\u001b[0m\u001b[1;33m\u001b[0m\u001b[1;33m\u001b[0m\u001b[0m\n\u001b[0m\u001b[0;32m     10\u001b[0m \u001b[1;33m\u001b[0m\u001b[0m\n\u001b[0;32m     11\u001b[0m \u001b[0msearch\u001b[0m\u001b[1;33m.\u001b[0m\u001b[0mclick\u001b[0m\u001b[1;33m(\u001b[0m\u001b[1;33m)\u001b[0m\u001b[1;33m\u001b[0m\u001b[1;33m\u001b[0m\u001b[0m\n",
      "\u001b[1;32m~\\anaconda3\\lib\\site-packages\\selenium\\webdriver\\remote\\webdriver.py\u001b[0m in \u001b[0;36mfind_element_by_link_text\u001b[1;34m(self, link_text)\u001b[0m\n\u001b[0;32m    566\u001b[0m             \u001b[0mstacklevel\u001b[0m\u001b[1;33m=\u001b[0m\u001b[1;36m2\u001b[0m\u001b[1;33m,\u001b[0m\u001b[1;33m\u001b[0m\u001b[1;33m\u001b[0m\u001b[0m\n\u001b[0;32m    567\u001b[0m         )\n\u001b[1;32m--> 568\u001b[1;33m         \u001b[1;32mreturn\u001b[0m \u001b[0mself\u001b[0m\u001b[1;33m.\u001b[0m\u001b[0mfind_element\u001b[0m\u001b[1;33m(\u001b[0m\u001b[0mby\u001b[0m\u001b[1;33m=\u001b[0m\u001b[0mBy\u001b[0m\u001b[1;33m.\u001b[0m\u001b[0mLINK_TEXT\u001b[0m\u001b[1;33m,\u001b[0m \u001b[0mvalue\u001b[0m\u001b[1;33m=\u001b[0m\u001b[0mlink_text\u001b[0m\u001b[1;33m)\u001b[0m\u001b[1;33m\u001b[0m\u001b[1;33m\u001b[0m\u001b[0m\n\u001b[0m\u001b[0;32m    569\u001b[0m \u001b[1;33m\u001b[0m\u001b[0m\n\u001b[0;32m    570\u001b[0m     \u001b[1;32mdef\u001b[0m \u001b[0mfind_elements_by_link_text\u001b[0m\u001b[1;33m(\u001b[0m\u001b[0mself\u001b[0m\u001b[1;33m,\u001b[0m \u001b[0mtext\u001b[0m\u001b[1;33m)\u001b[0m \u001b[1;33m->\u001b[0m \u001b[0mWebElement\u001b[0m\u001b[1;33m:\u001b[0m\u001b[1;33m\u001b[0m\u001b[1;33m\u001b[0m\u001b[0m\n",
      "\u001b[1;32m~\\anaconda3\\lib\\site-packages\\selenium\\webdriver\\remote\\webdriver.py\u001b[0m in \u001b[0;36mfind_element\u001b[1;34m(self, by, value)\u001b[0m\n\u001b[0;32m   1242\u001b[0m             \u001b[0mvalue\u001b[0m \u001b[1;33m=\u001b[0m \u001b[1;34m'[name=\"%s\"]'\u001b[0m \u001b[1;33m%\u001b[0m \u001b[0mvalue\u001b[0m\u001b[1;33m\u001b[0m\u001b[1;33m\u001b[0m\u001b[0m\n\u001b[0;32m   1243\u001b[0m \u001b[1;33m\u001b[0m\u001b[0m\n\u001b[1;32m-> 1244\u001b[1;33m         return self.execute(Command.FIND_ELEMENT, {\n\u001b[0m\u001b[0;32m   1245\u001b[0m             \u001b[1;34m'using'\u001b[0m\u001b[1;33m:\u001b[0m \u001b[0mby\u001b[0m\u001b[1;33m,\u001b[0m\u001b[1;33m\u001b[0m\u001b[1;33m\u001b[0m\u001b[0m\n\u001b[0;32m   1246\u001b[0m             'value': value})['value']\n",
      "\u001b[1;32m~\\anaconda3\\lib\\site-packages\\selenium\\webdriver\\remote\\webdriver.py\u001b[0m in \u001b[0;36mexecute\u001b[1;34m(self, driver_command, params)\u001b[0m\n\u001b[0;32m    422\u001b[0m         \u001b[0mresponse\u001b[0m \u001b[1;33m=\u001b[0m \u001b[0mself\u001b[0m\u001b[1;33m.\u001b[0m\u001b[0mcommand_executor\u001b[0m\u001b[1;33m.\u001b[0m\u001b[0mexecute\u001b[0m\u001b[1;33m(\u001b[0m\u001b[0mdriver_command\u001b[0m\u001b[1;33m,\u001b[0m \u001b[0mparams\u001b[0m\u001b[1;33m)\u001b[0m\u001b[1;33m\u001b[0m\u001b[1;33m\u001b[0m\u001b[0m\n\u001b[0;32m    423\u001b[0m         \u001b[1;32mif\u001b[0m \u001b[0mresponse\u001b[0m\u001b[1;33m:\u001b[0m\u001b[1;33m\u001b[0m\u001b[1;33m\u001b[0m\u001b[0m\n\u001b[1;32m--> 424\u001b[1;33m             \u001b[0mself\u001b[0m\u001b[1;33m.\u001b[0m\u001b[0merror_handler\u001b[0m\u001b[1;33m.\u001b[0m\u001b[0mcheck_response\u001b[0m\u001b[1;33m(\u001b[0m\u001b[0mresponse\u001b[0m\u001b[1;33m)\u001b[0m\u001b[1;33m\u001b[0m\u001b[1;33m\u001b[0m\u001b[0m\n\u001b[0m\u001b[0;32m    425\u001b[0m             response['value'] = self._unwrap_value(\n\u001b[0;32m    426\u001b[0m                 response.get('value', None))\n",
      "\u001b[1;32m~\\anaconda3\\lib\\site-packages\\selenium\\webdriver\\remote\\errorhandler.py\u001b[0m in \u001b[0;36mcheck_response\u001b[1;34m(self, response)\u001b[0m\n\u001b[0;32m    245\u001b[0m                 \u001b[0malert_text\u001b[0m \u001b[1;33m=\u001b[0m \u001b[0mvalue\u001b[0m\u001b[1;33m[\u001b[0m\u001b[1;34m'alert'\u001b[0m\u001b[1;33m]\u001b[0m\u001b[1;33m.\u001b[0m\u001b[0mget\u001b[0m\u001b[1;33m(\u001b[0m\u001b[1;34m'text'\u001b[0m\u001b[1;33m)\u001b[0m\u001b[1;33m\u001b[0m\u001b[1;33m\u001b[0m\u001b[0m\n\u001b[0;32m    246\u001b[0m             \u001b[1;32mraise\u001b[0m \u001b[0mexception_class\u001b[0m\u001b[1;33m(\u001b[0m\u001b[0mmessage\u001b[0m\u001b[1;33m,\u001b[0m \u001b[0mscreen\u001b[0m\u001b[1;33m,\u001b[0m \u001b[0mstacktrace\u001b[0m\u001b[1;33m,\u001b[0m \u001b[0malert_text\u001b[0m\u001b[1;33m)\u001b[0m  \u001b[1;31m# type: ignore[call-arg]  # mypy is not smart enough here\u001b[0m\u001b[1;33m\u001b[0m\u001b[1;33m\u001b[0m\u001b[0m\n\u001b[1;32m--> 247\u001b[1;33m         \u001b[1;32mraise\u001b[0m \u001b[0mexception_class\u001b[0m\u001b[1;33m(\u001b[0m\u001b[0mmessage\u001b[0m\u001b[1;33m,\u001b[0m \u001b[0mscreen\u001b[0m\u001b[1;33m,\u001b[0m \u001b[0mstacktrace\u001b[0m\u001b[1;33m)\u001b[0m\u001b[1;33m\u001b[0m\u001b[1;33m\u001b[0m\u001b[0m\n\u001b[0m\u001b[0;32m    248\u001b[0m \u001b[1;33m\u001b[0m\u001b[0m\n\u001b[0;32m    249\u001b[0m     \u001b[1;32mdef\u001b[0m \u001b[0m_value_or_default\u001b[0m\u001b[1;33m(\u001b[0m\u001b[0mself\u001b[0m\u001b[1;33m,\u001b[0m \u001b[0mobj\u001b[0m\u001b[1;33m:\u001b[0m \u001b[0mMapping\u001b[0m\u001b[1;33m[\u001b[0m\u001b[0m_KT\u001b[0m\u001b[1;33m,\u001b[0m \u001b[0m_VT\u001b[0m\u001b[1;33m]\u001b[0m\u001b[1;33m,\u001b[0m \u001b[0mkey\u001b[0m\u001b[1;33m:\u001b[0m \u001b[0m_KT\u001b[0m\u001b[1;33m,\u001b[0m \u001b[0mdefault\u001b[0m\u001b[1;33m:\u001b[0m \u001b[0m_VT\u001b[0m\u001b[1;33m)\u001b[0m \u001b[1;33m->\u001b[0m \u001b[0m_VT\u001b[0m\u001b[1;33m:\u001b[0m\u001b[1;33m\u001b[0m\u001b[1;33m\u001b[0m\u001b[0m\n",
      "\u001b[1;31mNoSuchElementException\u001b[0m: Message: no such element: Unable to locate element: {\"method\":\"link text\",\"selector\":\"Search\"}\n  (Session info: chrome=97.0.4692.99)\nStacktrace:\nBacktrace:\n\tOrdinal0 [0x0028FDC3+2555331]\n\tOrdinal0 [0x002277F1+2127857]\n\tOrdinal0 [0x00122E08+1060360]\n\tOrdinal0 [0x0014E49E+1238174]\n\tOrdinal0 [0x0014E69B+1238683]\n\tOrdinal0 [0x00179252+1413714]\n\tOrdinal0 [0x00167B54+1342292]\n\tOrdinal0 [0x001775FA+1406458]\n\tOrdinal0 [0x00167976+1341814]\n\tOrdinal0 [0x001436B6+1193654]\n\tOrdinal0 [0x00144546+1197382]\n\tGetHandleVerifier [0x00429622+1619522]\n\tGetHandleVerifier [0x004D882C+2336844]\n\tGetHandleVerifier [0x003223E1+541697]\n\tGetHandleVerifier [0x00321443+537699]\n\tOrdinal0 [0x0022D18E+2150798]\n\tOrdinal0 [0x00231518+2168088]\n\tOrdinal0 [0x00231660+2168416]\n\tOrdinal0 [0x0023B330+2208560]\n\tBaseThreadInitThunk [0x75646739+25]\n\tRtlGetFullPathName_UEx [0x778E8AFF+1215]\n\tRtlGetFullPathName_UEx [0x778E8ACD+1165]\n\t(No symbol) [0x00000000]\n"
     ]
    }
   ],
   "source": [
    "driver = webdriver.Chrome(PATH)\n",
    "\n",
    "driver.get('https://www.channelnewsasia.com')\n",
    "\n",
    "nav_bar = driver.find_element_by_id('profile-menu-nav')\n",
    "\n",
    "print(nav_bar.text)\n",
    "\n",
    "search = driver.find_element_by_link_text('Search')\n",
    "\n",
    "search.click()\n",
    "\n",
    "print(driver.page_source)"
   ]
  },
  {
   "cell_type": "markdown",
   "id": "fa5c5369",
   "metadata": {},
   "source": [
    "# Defined a function to get the articles"
   ]
  },
  {
   "cell_type": "code",
   "execution_count": 2,
   "id": "8560d2fa",
   "metadata": {},
   "outputs": [
    {
     "name": "stderr",
     "output_type": "stream",
     "text": [
      "C:\\Users\\Darren\\AppData\\Local\\Temp/ipykernel_20352/1557919786.py:3: DeprecationWarning: executable_path has been deprecated, please pass in a Service object\n",
      "  driver = webdriver.Chrome(PATH)\n",
      "C:\\Users\\Darren\\AppData\\Local\\Temp/ipykernel_20352/1557919786.py:7: DeprecationWarning: find_element_by_* commands are deprecated. Please use find_element() instead\n",
      "  link = driver.find_element_by_link_text(x)\n",
      "C:\\Users\\Darren\\AppData\\Local\\Temp/ipykernel_20352/1557919786.py:11: DeprecationWarning: find_element_by_* commands are deprecated. Please use find_element() instead\n",
      "  Singapore_CNA = driver.find_element_by_id(\"block-mc-cna-theme-mainpagecontent\")\n"
     ]
    },
    {
     "name": "stdout",
     "output_type": "stream",
     "text": [
      "['HDB resale prices jump 12.7% in 2021, record annual growth in 11 years', 'Sales of new private homes, resale properties rise last year despite record prices', \"Wild weather? Five things to note about Singapore's rainfall and heat in 2021\", \"Healing the Divide's Iris Koh gets more serious charge of criminal conspiracy to lie to MOH, is in hospital\", \"Assistant of doctor linked to Healing the Divide group gets more serious charge, says he's 'just a middleman'\", 'Singapore’s total employment rises in last quarter of 2021 as labour market continues to improve', 'Man gets jail, fine for filming student changing in NTU hall, rummaging through laundry', 'UK seizes 15 gold bars from Singaporean woman; items linked to money laundering network']\n"
     ]
    }
   ],
   "source": [
    "def get_top_8_news_articles(x):\n",
    "\n",
    "    driver = webdriver.Chrome(PATH)\n",
    "\n",
    "    driver.get('https://www.channelnewsasia.com')\n",
    "\n",
    "    link = driver.find_element_by_link_text(x)\n",
    "\n",
    "    link.click()\n",
    "\n",
    "    Singapore_CNA = driver.find_element_by_id(\"block-mc-cna-theme-mainpagecontent\")\n",
    "\n",
    "    midlist = Singapore_CNA.text.split('\\n')\n",
    "\n",
    "    midlist = midlist [1:]\n",
    "\n",
    "    Singapore_article_links_list = []\n",
    "    counter = 0\n",
    "\n",
    "    for i in range(8):\n",
    "\n",
    "        Singapore_article_links_list.append(midlist[counter])\n",
    "        counter += 2\n",
    "\n",
    "    return(Singapore_article_links_list)\n",
    "\n",
    "\n",
    "print(get_top_8_news_articles('Singapore'))"
   ]
  },
  {
   "cell_type": "markdown",
   "id": "4cf2eb59",
   "metadata": {},
   "source": [
    "# Main script to scrape the articles"
   ]
  },
  {
   "cell_type": "code",
   "execution_count": 3,
   "id": "489873af",
   "metadata": {
    "scrolled": true
   },
   "outputs": [
    {
     "name": "stderr",
     "output_type": "stream",
     "text": [
      "C:\\Users\\Darren\\AppData\\Local\\Temp/ipykernel_25588/1557919786.py:3: DeprecationWarning: executable_path has been deprecated, please pass in a Service object\n",
      "  driver = webdriver.Chrome(PATH)\n",
      "C:\\Users\\Darren\\AppData\\Local\\Temp/ipykernel_25588/1557919786.py:7: DeprecationWarning: find_element_by_* commands are deprecated. Please use find_element() instead\n",
      "  link = driver.find_element_by_link_text(x)\n",
      "C:\\Users\\Darren\\AppData\\Local\\Temp/ipykernel_25588/1557919786.py:11: DeprecationWarning: find_element_by_* commands are deprecated. Please use find_element() instead\n",
      "  Singapore_CNA = driver.find_element_by_id(\"block-mc-cna-theme-mainpagecontent\")\n",
      "C:\\Users\\Darren\\AppData\\Local\\Temp/ipykernel_25588/564631874.py:12: DeprecationWarning: executable_path has been deprecated, please pass in a Service object\n",
      "  driver = webdriver.Chrome(PATH)\n",
      "C:\\Users\\Darren\\AppData\\Local\\Temp/ipykernel_25588/564631874.py:16: DeprecationWarning: find_element_by_* commands are deprecated. Please use find_element() instead\n",
      "  link = driver.find_element_by_link_text(x)\n"
     ]
    },
    {
     "name": "stdout",
     "output_type": "stream",
     "text": [
      "11-year-old brothers found dead near Upper Bukit Timah playground\n"
     ]
    },
    {
     "name": "stderr",
     "output_type": "stream",
     "text": [
      "C:\\Users\\Darren\\AppData\\Local\\Temp/ipykernel_25588/564631874.py:24: DeprecationWarning: find_element_by_* commands are deprecated. Please use find_element() instead\n",
      "  link = driver.find_element_by_link_text(Singapore_links)\n",
      "C:\\Users\\Darren\\AppData\\Local\\Temp/ipykernel_25588/564631874.py:28: DeprecationWarning: find_element_by_* commands are deprecated. Please use find_element() instead\n",
      "  article_content = driver.find_element_by_id('block-mc-cna-theme-mainpagecontent')\n"
     ]
    },
    {
     "name": "stdout",
     "output_type": "stream",
     "text": [
      "Singapore\n",
      "['Cheryl Lin', 'Gaya Chandramohan']\n",
      "22 Jan 2022 02:25PM\n",
      "https://www.channelnewsasia.com/singapore/11-year-old-brothers-dead-upper-bukit-timah-playground-greenridge-crescent-2452761\n",
      "[['death', 'children']]\n",
      "Singapore reports first Omicron-related COVID-19 death\n",
      "Singapore\n",
      "[]\n",
      "22 Jan 2022 02:04PM\n",
      "https://www.channelnewsasia.com/singapore/singapore-reports-first-omicron-related-covid-19-death-2452776\n",
      "[['MOH', 'Omicron', 'death']]\n",
      "IN FOCUS: Missing people in Singapore and their loved ones who haven't stopped searching\n",
      "Singapore\n",
      "['Grace Yeoh']\n",
      "22 Jan 2022 06:00AM\n",
      "https://www.channelnewsasia.com/singapore/focus-missing-people-singapore-and-their-loved-ones-who-havent-stopped-searching-2404111\n",
      "[['crime', 'missing', 'person', 'In', 'Focus']]\n",
      "75km-long first phase of Round Island Route opens\n",
      "Singapore\n",
      "['Vanessa Lim']\n",
      "22 Jan 2022 11:01AM\n",
      "https://www.channelnewsasia.com/singapore/75km-long-first-phase-round-island-route-opens-2452431\n",
      "[['National', 'Parks', 'Board']]\n",
      "14-year-old among 181 investigated over suspected unlicensed moneylending activities\n",
      "Singapore\n",
      "['Natasha Ganesan']\n",
      "22 Jan 2022 08:24PM\n",
      "https://www.channelnewsasia.com/singapore/14-year-old-teenager-investigated-suspected-unlicensed-moneylending-2453056\n",
      "[['SPF', 'Singapore', 'Police', 'Force', 'crime']]\n",
      "Commentary: Plastic bags at shops and supermarkets should be charged per bag rather than per customer\n",
      "Commentary\n",
      "Singapore could see more than 15,000 COVID-19 cases a day as Omicron wave hits: Health ministry\n",
      "Singapore\n",
      "['Play Video']\n",
      "02:40 Min\n",
      "https://www.channelnewsasia.com/singapore/singapore-significant-wave-covid-19-omicron-dominant-variant-gan-kim-yong-2450501\n",
      "[['COVID-19', 'Omicron', 'Gan', 'Kim', 'Yong']]\n",
      "VTL testing regime to be simplified; travellers required to self-test only if they need to leave home: MOH\n",
      "Singapore\n",
      "['Grace Yeoh']\n",
      "21 Jan 2022 04:08PM\n",
      "https://www.channelnewsasia.com/singapore/vtl-art-test-vaccinated-travel-lane-covid-19-recently-recovered-travellers-2450366\n",
      "[['COVID-19', 'VTL', 'Antigen', 'Rapid', 'Test', 'Vaccinated', 'Travel', 'Lane']]\n",
      "Johor sultan agrees to dissolve state assembly, paving the way for polls\n",
      "Asia\n",
      "['Amir Yusof']\n",
      "22 Jan 2022 04:20PM\n",
      "https://www.channelnewsasia.com/asia/johor-elections-sultan-agrees-dissolve-state-assembly-2452751\n",
      "[['Malaysia', 'Johor', 'politics']]\n",
      "Former Malaysia prime minister Mahathir Mohamad in stable condition in hospital\n",
      "Asia\n",
      "[]\n",
      "22 Jan 2022 06:42PM\n",
      "https://www.channelnewsasia.com/asia/malaysia-mahathir-mohamad-readmitted-ijn-national-heart-institute-2452991\n",
      "[['Malaysia', 'Mahathir', 'Mohamad']]\n",
      "Tokyo hits record 11,000 COVID-19 cases, Japan over 50,000 for first time\n",
      "Asia\n",
      "[]\n",
      "22 Jan 2022 04:46PM\n",
      "https://www.channelnewsasia.com/asia/covid-19-japan-tokyo-daily-cases-hit-record-4th-straight-day-omicron-2452881\n",
      "[['COVID-19', 'Tokyo', 'Japan', 'Omicron']]\n",
      "Hong Kong health authorities warn of worsening COVID-19 outbreak\n",
      "Asia\n",
      "[]\n",
      "22 Jan 2022 07:04PM\n",
      "https://www.channelnewsasia.com/asia/covid-19-hong-kong-infections-surge-positive-cases-2452956\n",
      "[['Hong', 'Kong', 'COVID-19']]\n",
      "Malaysian protesters demand resignation of anti-graft chief\n",
      "Asia\n",
      "['(Photo: AFP/Arif Kartono)']\n",
      "22 Jan 2022 08:37PM\n",
      "https://www.channelnewsasia.com/asia/malaysia-kl-protest-azam-baki-anti-graft-chief-macc-2452936\n",
      "[['Malaysia', '1MDB']]\n",
      "China's Beijing to maintain COVID-19 emergency status as Winter Olympics loom\n",
      "Asia\n",
      "[]\n",
      "22 Jan 2022 01:19PM\n",
      "https://www.channelnewsasia.com/asia/chinas-beijing-maintain-covid-19-emergency-status-winter-olympics-loom-2452686\n",
      "[['China', 'COVID-19']]\n",
      "With COVID-19, parental loss and economic hardship bear heavily on Indonesia’s children\n",
      "CNA Insider\n",
      "Fire kills two in high-rise building in Mumbai, 15 injured\n",
      "Asia\n",
      "[]\n",
      "22 Jan 2022 01:07PM\n",
      "https://www.channelnewsasia.com/asia/fire-kills-two-high-rise-building-mumbai-15-injured-2452676\n",
      "[['India', 'fire']]\n",
      "75km-long first phase of Round Island Route opens\n",
      "Singapore\n",
      "The Climate Conversations - S2: Why there's urgency - and financial returns - in greening Singapore's real estate | EP 61\n",
      "The Climate Conversations\n",
      "Traditional fishermen in despair over Peru oil spill\n",
      "Sustainability\n",
      "[]\n",
      "21 Jan 2022 10:11AM\n",
      "https://www.channelnewsasia.com/sustainability/peru-traditional-fishermen-oil-spill-livelihood-tonga-volcano-eruption-2449796\n",
      "[['Peru']]\n",
      "Pristine coral reef unblemished by warming oceans found off Tahiti\n",
      "Sustainability\n",
      "[]\n",
      "20 Jan 2022 12:34PM\n",
      "https://www.channelnewsasia.com/sustainability/coral-reef-rose-shaped-tahiti-ocean-warming-2447231\n",
      "[['ocean', 'climate', 'change', 'global', 'warming']]\n",
      "In Tonga, a volcano-triggered tsunami underscores islands' acute climate risk\n",
      "Sustainability\n",
      "[]\n",
      "20 Jan 2022 10:20AM\n",
      "https://www.channelnewsasia.com/sustainability/tonga-volcano-tsunami-climate-change-warming-sea-level-rise-2446981\n",
      "[['Tonga', 'climate', 'change', 'global', 'warming', 'ocean']]\n",
      "Peru says oil spill caused by Tonga waves is an 'ecological disaster'\n",
      "World\n",
      "UN confirms 2021 among seven hottest years on record\n",
      "World\n",
      "NUS, NTU and SMU reaffirm commitment to climate action, following report highlighting links between fossil fuel industry and universities\n",
      "Singapore\n",
      "{'Section Name': ['Singapore', 'Singapore', 'Singapore', 'Singapore', 'Singapore', 'Singapore', 'Singapore', 'Asia', 'Asia', 'Asia', 'Asia', 'Asia', 'Asia', 'Asia', 'Sustainability', 'Sustainability', 'Sustainability'], 'Publish Time': ['22 Jan 2022 02:25PM', '22 Jan 2022 02:04PM', '22 Jan 2022 06:00AM', '22 Jan 2022 11:01AM', '22 Jan 2022 08:24PM', '02:40 Min', '21 Jan 2022 04:08PM', '22 Jan 2022 04:20PM', '22 Jan 2022 06:42PM', '22 Jan 2022 04:46PM', '22 Jan 2022 07:04PM', '22 Jan 2022 08:37PM', '22 Jan 2022 01:19PM', '22 Jan 2022 01:07PM', '21 Jan 2022 10:11AM', '20 Jan 2022 12:34PM', '20 Jan 2022 10:20AM'], 'News Title': ['11-year-old brothers found dead near Upper Bukit Timah playground', 'Singapore reports first Omicron-related COVID-19 death', \"IN FOCUS: Missing people in Singapore and their loved ones who haven't stopped searching\", '75km-long first phase of Round Island Route opens', '14-year-old among 181 investigated over suspected unlicensed moneylending activities', 'Singapore could see more than 15,000 COVID-19 cases a day as Omicron wave hits: Health ministry', 'VTL testing regime to be simplified; travellers required to self-test only if they need to leave home: MOH', 'Johor sultan agrees to dissolve state assembly, paving the way for polls', 'Former Malaysia prime minister Mahathir Mohamad in stable condition in hospital', 'Tokyo hits record 11,000 COVID-19 cases, Japan over 50,000 for first time', 'Hong Kong health authorities warn of worsening COVID-19 outbreak', 'Malaysian protesters demand resignation of anti-graft chief', \"China's Beijing to maintain COVID-19 emergency status as Winter Olympics loom\", 'Fire kills two in high-rise building in Mumbai, 15 injured', 'Traditional fishermen in despair over Peru oil spill', 'Pristine coral reef unblemished by warming oceans found off Tahiti', \"In Tonga, a volcano-triggered tsunami underscores islands' acute climate risk\"], 'Author(s) name': [['Cheryl Lin', 'Gaya Chandramohan'], [], ['Grace Yeoh'], ['Vanessa Lim'], ['Natasha Ganesan'], ['Play Video'], ['Grace Yeoh'], ['Amir Yusof'], [], [], [], ['(Photo: AFP/Arif Kartono)'], [], [], [], [], []], 'News URL': ['https://www.channelnewsasia.com/singapore/11-year-old-brothers-dead-upper-bukit-timah-playground-greenridge-crescent-2452761', 'https://www.channelnewsasia.com/singapore/singapore-reports-first-omicron-related-covid-19-death-2452776', 'https://www.channelnewsasia.com/singapore/focus-missing-people-singapore-and-their-loved-ones-who-havent-stopped-searching-2404111', 'https://www.channelnewsasia.com/singapore/75km-long-first-phase-round-island-route-opens-2452431', 'https://www.channelnewsasia.com/singapore/14-year-old-teenager-investigated-suspected-unlicensed-moneylending-2453056', 'https://www.channelnewsasia.com/singapore/singapore-significant-wave-covid-19-omicron-dominant-variant-gan-kim-yong-2450501', 'https://www.channelnewsasia.com/singapore/vtl-art-test-vaccinated-travel-lane-covid-19-recently-recovered-travellers-2450366', 'https://www.channelnewsasia.com/asia/johor-elections-sultan-agrees-dissolve-state-assembly-2452751', 'https://www.channelnewsasia.com/asia/malaysia-mahathir-mohamad-readmitted-ijn-national-heart-institute-2452991', 'https://www.channelnewsasia.com/asia/covid-19-japan-tokyo-daily-cases-hit-record-4th-straight-day-omicron-2452881', 'https://www.channelnewsasia.com/asia/covid-19-hong-kong-infections-surge-positive-cases-2452956', 'https://www.channelnewsasia.com/asia/malaysia-kl-protest-azam-baki-anti-graft-chief-macc-2452936', 'https://www.channelnewsasia.com/asia/chinas-beijing-maintain-covid-19-emergency-status-winter-olympics-loom-2452686', 'https://www.channelnewsasia.com/asia/fire-kills-two-high-rise-building-mumbai-15-injured-2452676', 'https://www.channelnewsasia.com/sustainability/peru-traditional-fishermen-oil-spill-livelihood-tonga-volcano-eruption-2449796', 'https://www.channelnewsasia.com/sustainability/coral-reef-rose-shaped-tahiti-ocean-warming-2447231', 'https://www.channelnewsasia.com/sustainability/tonga-volcano-tsunami-climate-change-warming-sea-level-rise-2446981'], 'Related keywords': [[['death', 'children']], [['MOH', 'Omicron', 'death']], [['crime', 'missing', 'person', 'In', 'Focus']], [['National', 'Parks', 'Board']], [['SPF', 'Singapore', 'Police', 'Force', 'crime']], [['COVID-19', 'Omicron', 'Gan', 'Kim', 'Yong']], [['COVID-19', 'VTL', 'Antigen', 'Rapid', 'Test', 'Vaccinated', 'Travel', 'Lane']], [['Malaysia', 'Johor', 'politics']], [['Malaysia', 'Mahathir', 'Mohamad']], [['COVID-19', 'Tokyo', 'Japan', 'Omicron']], [['Hong', 'Kong', 'COVID-19']], [['Malaysia', '1MDB']], [['China', 'COVID-19']], [['India', 'fire']], [['Peru']], [['ocean', 'climate', 'change', 'global', 'warming']], [['Tonga', 'climate', 'change', 'global', 'warming', 'ocean']]]}\n"
     ]
    }
   ],
   "source": [
    "sections = ['Singapore', 'Asia', 'Sustainability']\n",
    "newdict = {'Section Name': [], 'Publish Time': [], 'News Title': [], 'Author(s) name' :[], 'News URL':[], 'Related keywords': []}\n",
    "\n",
    "\n",
    "\n",
    "for t in range(3):\n",
    "    \n",
    "    x = sections[t]\n",
    "    Singapore_article_links_list = get_top_8_news_articles(x)\n",
    "    for i in range(8):\n",
    "\n",
    "        driver = webdriver.Chrome(PATH)\n",
    "\n",
    "        driver.get('https://www.channelnewsasia.com')\n",
    "\n",
    "        link = driver.find_element_by_link_text(x)\n",
    "\n",
    "        link.click()\n",
    "\n",
    "\n",
    "        Singapore_links = Singapore_article_links_list[i]\n",
    "\n",
    "        print(Singapore_links)\n",
    "        link = driver.find_element_by_link_text(Singapore_links)\n",
    "\n",
    "        link.click()\n",
    "\n",
    "        article_content = driver.find_element_by_id('block-mc-cna-theme-mainpagecontent')\n",
    "\n",
    "        article_content_list = article_content.text.split('\\n')\n",
    "\n",
    "\n",
    "\n",
    "        #Section name\n",
    "        section_name = article_content_list[0]\n",
    "        print(section_name)\n",
    "\n",
    "        if section_name != x:\n",
    "            driver.close()\n",
    "            continue\n",
    "\n",
    "        #author(s) name\n",
    "\n",
    "        author_name = []\n",
    "\n",
    "        for i in article_content_list[1:6]:\n",
    "            if (len(i.split(' ')) == 2 or len(i.split(' ')) == 3) and i.split(' ') != 'Play':\n",
    "                author_name.append(i)\n",
    "        print(author_name)\n",
    "\n",
    "        #Get article publish time\n",
    "\n",
    "        publish_time = ''\n",
    "\n",
    "        for i in article_content_list[2:]:\n",
    "            if i[0].isdigit():\n",
    "                publish_time = i\n",
    "                break\n",
    "\n",
    "        print(publish_time)\n",
    "\n",
    "        current_news_url = driver.current_url\n",
    "        \n",
    "        print(current_news_url)\n",
    "        \n",
    "        #Related keywords\n",
    "\n",
    "        index = article_content_list.index('Related Topics')\n",
    "\n",
    "        related_keywords = []\n",
    "\n",
    "        related_keywords.append(article_content_list[index + 1].split(' '))\n",
    "\n",
    "        print(related_keywords)\n",
    "\n",
    "        #adding it all to a dictionary\n",
    "        newdict['Section Name'].append(section_name)\n",
    "        newdict['Publish Time'].append(publish_time)\n",
    "        newdict['News Title'].append(Singapore_links)\n",
    "        newdict['Author(s) name'].append(author_name)\n",
    "        newdict['News URL'].append(driver.current_url)\n",
    "        newdict['Related keywords'].append(related_keywords)\n",
    "\n",
    "        driver.close()\n",
    "    \n",
    "print(newdict)\n",
    "\n",
    "df = pd.DataFrame.from_dict(newdict)\n",
    "\n",
    "df.to_csv('CNA_scrapped_articles.csv')"
   ]
  },
  {
   "cell_type": "markdown",
   "id": "30d81e51",
   "metadata": {},
   "source": [
    "# Tried to import the dataframe to Google Sheets but can't seem to do it"
   ]
  },
  {
   "cell_type": "code",
   "execution_count": 182,
   "id": "f8a4f6ef",
   "metadata": {},
   "outputs": [
    {
     "ename": "ModuleNotFoundError",
     "evalue": "No module named 'pygsheets'",
     "output_type": "error",
     "traceback": [
      "\u001b[1;31m---------------------------------------------------------------------------\u001b[0m",
      "\u001b[1;31mModuleNotFoundError\u001b[0m                       Traceback (most recent call last)",
      "\u001b[1;32m~\\AppData\\Local\\Temp/ipykernel_11592/1105748304.py\u001b[0m in \u001b[0;36m<module>\u001b[1;34m\u001b[0m\n\u001b[1;32m----> 1\u001b[1;33m \u001b[1;32mimport\u001b[0m \u001b[0mpygsheets\u001b[0m\u001b[1;33m\u001b[0m\u001b[1;33m\u001b[0m\u001b[0m\n\u001b[0m\u001b[0;32m      2\u001b[0m \u001b[1;32mdef\u001b[0m \u001b[0mwrite_to_gsheet\u001b[0m\u001b[1;33m(\u001b[0m\u001b[0mservice_file_path\u001b[0m\u001b[1;33m,\u001b[0m \u001b[0mspreadsheet_id\u001b[0m\u001b[1;33m,\u001b[0m \u001b[0msheet_name\u001b[0m\u001b[1;33m,\u001b[0m \u001b[0mdata_df\u001b[0m\u001b[1;33m)\u001b[0m\u001b[1;33m:\u001b[0m\u001b[1;33m\u001b[0m\u001b[1;33m\u001b[0m\u001b[0m\n\u001b[0;32m      3\u001b[0m     \"\"\"\n\u001b[0;32m      4\u001b[0m     \u001b[0mthis\u001b[0m \u001b[0mfunction\u001b[0m \u001b[0mtakes\u001b[0m \u001b[0mdata_df\u001b[0m \u001b[1;32mand\u001b[0m \u001b[0mwrites\u001b[0m \u001b[0mit\u001b[0m \u001b[0munder\u001b[0m \u001b[0mspreadsheet_id\u001b[0m\u001b[1;33m\u001b[0m\u001b[1;33m\u001b[0m\u001b[0m\n\u001b[0;32m      5\u001b[0m     \u001b[1;32mand\u001b[0m \u001b[0msheet_name\u001b[0m \u001b[0musing\u001b[0m \u001b[0myour\u001b[0m \u001b[0mcredentials\u001b[0m \u001b[0munder\u001b[0m \u001b[0mservice_file_path\u001b[0m\u001b[1;33m\u001b[0m\u001b[1;33m\u001b[0m\u001b[0m\n",
      "\u001b[1;31mModuleNotFoundError\u001b[0m: No module named 'pygsheets'"
     ]
    }
   ],
   "source": [
    "import pygsheets\n",
    "def write_to_gsheet(service_file_path, spreadsheet_id, sheet_name, data_df):\n",
    "    \"\"\"\n",
    "    this function takes data_df and writes it under spreadsheet_id\n",
    "    and sheet_name using your credentials under service_file_path\n",
    "    \"\"\"\n",
    "    gc = pygsheets.authorize(service_file=service_file_path)\n",
    "    sh = gc.open_by_key(spreadsheet_id)\n",
    "    try:\n",
    "        sh.add_worksheet(sheet_name)\n",
    "    except:\n",
    "        pass\n",
    "    wks_write = sh.worksheet_by_title(sheet_name)\n",
    "    wks_write.clear('A1',None,'*')\n",
    "    wks_write.set_dataframe(data_df, (1,1), encoding='utf-8', fit=True)\n",
    "    wks_write.frozen_rows = 1"
   ]
  },
  {
   "cell_type": "code",
   "execution_count": 183,
   "id": "9b65d2a4",
   "metadata": {},
   "outputs": [
    {
     "name": "stdout",
     "output_type": "stream",
     "text": [
      "Collecting pygsheets\n",
      "  Downloading pygsheets-2.0.5-py2.py3-none-any.whl (147 kB)\n",
      "Requirement already satisfied: google-auth-oauthlib in c:\\users\\darren\\anaconda3\\lib\\site-packages (from pygsheets) (0.4.6)\n",
      "Collecting google-api-python-client>=1.5.5\n",
      "  Downloading google_api_python_client-2.36.0-py2.py3-none-any.whl (8.0 MB)\n",
      "Collecting uritemplate<5,>=3.0.1\n",
      "  Downloading uritemplate-4.1.1-py2.py3-none-any.whl (10 kB)\n",
      "Requirement already satisfied: google-auth<3.0.0dev,>=1.16.0 in c:\\users\\darren\\anaconda3\\lib\\site-packages (from google-api-python-client>=1.5.5->pygsheets) (2.3.3)\n",
      "Collecting google-api-core<3.0.0dev,>=1.21.0\n",
      "  Downloading google_api_core-2.4.0-py2.py3-none-any.whl (111 kB)\n",
      "Collecting google-auth-httplib2>=0.1.0\n",
      "  Downloading google_auth_httplib2-0.1.0-py2.py3-none-any.whl (9.3 kB)\n",
      "Requirement already satisfied: httplib2<1dev,>=0.15.0 in c:\\users\\darren\\anaconda3\\lib\\site-packages (from google-api-python-client>=1.5.5->pygsheets) (0.20.2)\n",
      "Requirement already satisfied: setuptools>=40.3.0 in c:\\users\\darren\\anaconda3\\lib\\site-packages (from google-api-core<3.0.0dev,>=1.21.0->google-api-python-client>=1.5.5->pygsheets) (52.0.0.post20210125)\n",
      "Collecting protobuf>=3.12.0\n",
      "  Downloading protobuf-3.19.3-cp38-cp38-win_amd64.whl (895 kB)\n",
      "Requirement already satisfied: requests<3.0.0dev,>=2.18.0 in c:\\users\\darren\\anaconda3\\lib\\site-packages (from google-api-core<3.0.0dev,>=1.21.0->google-api-python-client>=1.5.5->pygsheets) (2.25.1)\n",
      "Collecting googleapis-common-protos<2.0dev,>=1.52.0\n",
      "  Downloading googleapis_common_protos-1.54.0-py2.py3-none-any.whl (207 kB)\n",
      "Requirement already satisfied: six>=1.9.0 in c:\\users\\darren\\appdata\\roaming\\python\\python38\\site-packages (from google-auth<3.0.0dev,>=1.16.0->google-api-python-client>=1.5.5->pygsheets) (1.12.0)\n",
      "Requirement already satisfied: pyasn1-modules>=0.2.1 in c:\\users\\darren\\anaconda3\\lib\\site-packages (from google-auth<3.0.0dev,>=1.16.0->google-api-python-client>=1.5.5->pygsheets) (0.2.8)\n",
      "Requirement already satisfied: rsa<5,>=3.1.4 in c:\\users\\darren\\anaconda3\\lib\\site-packages (from google-auth<3.0.0dev,>=1.16.0->google-api-python-client>=1.5.5->pygsheets) (4.8)\n",
      "Requirement already satisfied: cachetools<5.0,>=2.0.0 in c:\\users\\darren\\anaconda3\\lib\\site-packages (from google-auth<3.0.0dev,>=1.16.0->google-api-python-client>=1.5.5->pygsheets) (4.2.4)\n",
      "Requirement already satisfied: pyparsing!=3.0.0,!=3.0.1,!=3.0.2,!=3.0.3,<4,>=2.4.2 in c:\\users\\darren\\anaconda3\\lib\\site-packages (from httplib2<1dev,>=0.15.0->google-api-python-client>=1.5.5->pygsheets) (2.4.7)\n",
      "Requirement already satisfied: pyasn1<0.5.0,>=0.4.6 in c:\\users\\darren\\anaconda3\\lib\\site-packages (from pyasn1-modules>=0.2.1->google-auth<3.0.0dev,>=1.16.0->google-api-python-client>=1.5.5->pygsheets) (0.4.8)\n",
      "Requirement already satisfied: urllib3<1.27,>=1.21.1 in c:\\users\\darren\\anaconda3\\lib\\site-packages (from requests<3.0.0dev,>=2.18.0->google-api-core<3.0.0dev,>=1.21.0->google-api-python-client>=1.5.5->pygsheets) (1.26.4)\n",
      "Requirement already satisfied: chardet<5,>=3.0.2 in c:\\users\\darren\\anaconda3\\lib\\site-packages (from requests<3.0.0dev,>=2.18.0->google-api-core<3.0.0dev,>=1.21.0->google-api-python-client>=1.5.5->pygsheets) (4.0.0)\n",
      "Requirement already satisfied: idna<3,>=2.5 in c:\\users\\darren\\anaconda3\\lib\\site-packages (from requests<3.0.0dev,>=2.18.0->google-api-core<3.0.0dev,>=1.21.0->google-api-python-client>=1.5.5->pygsheets) (2.10)\n",
      "Requirement already satisfied: certifi>=2017.4.17 in c:\\users\\darren\\anaconda3\\lib\\site-packages (from requests<3.0.0dev,>=2.18.0->google-api-core<3.0.0dev,>=1.21.0->google-api-python-client>=1.5.5->pygsheets) (2020.12.5)\n",
      "Requirement already satisfied: requests-oauthlib>=0.7.0 in c:\\users\\darren\\anaconda3\\lib\\site-packages (from google-auth-oauthlib->pygsheets) (1.3.0)\n",
      "Requirement already satisfied: oauthlib>=3.0.0 in c:\\users\\darren\\anaconda3\\lib\\site-packages (from requests-oauthlib>=0.7.0->google-auth-oauthlib->pygsheets) (3.1.1)\n",
      "Installing collected packages: protobuf, googleapis-common-protos, uritemplate, google-auth-httplib2, google-api-core, google-api-python-client, pygsheets\n",
      "Successfully installed google-api-core-2.4.0 google-api-python-client-2.36.0 google-auth-httplib2-0.1.0 googleapis-common-protos-1.54.0 protobuf-3.19.3 pygsheets-2.0.5 uritemplate-4.1.1\n"
     ]
    }
   ],
   "source": [
    "!pip install pygsheets"
   ]
  },
  {
   "cell_type": "code",
   "execution_count": 188,
   "id": "1ac115e5",
   "metadata": {},
   "outputs": [
    {
     "data": {
      "text/html": [
       "<div>\n",
       "<style scoped>\n",
       "    .dataframe tbody tr th:only-of-type {\n",
       "        vertical-align: middle;\n",
       "    }\n",
       "\n",
       "    .dataframe tbody tr th {\n",
       "        vertical-align: top;\n",
       "    }\n",
       "\n",
       "    .dataframe thead th {\n",
       "        text-align: right;\n",
       "    }\n",
       "</style>\n",
       "<table border=\"1\" class=\"dataframe\">\n",
       "  <thead>\n",
       "    <tr style=\"text-align: right;\">\n",
       "      <th></th>\n",
       "    </tr>\n",
       "  </thead>\n",
       "  <tbody>\n",
       "  </tbody>\n",
       "</table>\n",
       "</div>"
      ],
      "text/plain": [
       "Empty DataFrame\n",
       "Columns: []\n",
       "Index: []"
      ]
     },
     "execution_count": 188,
     "metadata": {},
     "output_type": "execute_result"
    }
   ],
   "source": [
    "import gspread as gs\n",
    "\n",
    "gc = gs.service_account(filename='channel-news-asia-scrraping-62aebe63522c.json')\n",
    "\n",
    "sh = gc.open_by_url('https://docs.google.com/spreadsheets/d/1N5gOEObYclBqYC3TkQK-48JQavbqGljaHJeBPPfI_vA/edit#gid=0')\n",
    "\n",
    "ws = sh.worksheet('Sheet1')\n",
    "\n",
    "df = pd.DataFrame(ws.get_all_records())\n",
    "df.head()"
   ]
  }
 ],
 "metadata": {
  "kernelspec": {
   "display_name": "Python 3 (ipykernel)",
   "language": "python",
   "name": "python3"
  },
  "language_info": {
   "codemirror_mode": {
    "name": "ipython",
    "version": 3
   },
   "file_extension": ".py",
   "mimetype": "text/x-python",
   "name": "python",
   "nbconvert_exporter": "python",
   "pygments_lexer": "ipython3",
   "version": "3.8.8"
  }
 },
 "nbformat": 4,
 "nbformat_minor": 5
}
