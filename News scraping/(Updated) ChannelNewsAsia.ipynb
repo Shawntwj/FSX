{
 "cells": [
  {
   "cell_type": "markdown",
   "id": "b7d39856",
   "metadata": {},
   "source": [
    "# Scraping module\n",
    "\n",
    "Scraping of channel news asia articles using selenium that are returned from the search function (keyword - 'food supply')"
   ]
  },
  {
   "cell_type": "markdown",
   "id": "93d35088",
   "metadata": {},
   "source": [
    "### Imports"
   ]
  },
  {
   "cell_type": "code",
   "execution_count": 1,
   "id": "7342230b",
   "metadata": {},
   "outputs": [],
   "source": [
    "from selenium import webdriver\n",
    "from selenium.webdriver.support.ui import WebDriverWait\n",
    "from selenium.webdriver.common.by import By\n",
    "from selenium.webdriver.support import expected_conditions as EC\n",
    "import time\n",
    "\n",
    "from newspaper import Article\n",
    "import pandas as pd"
   ]
  },
  {
   "cell_type": "markdown",
   "id": "83a88586",
   "metadata": {},
   "source": [
    "# Newspaper Article Summariser"
   ]
  },
  {
   "cell_type": "code",
   "execution_count": 2,
   "id": "aeef05ac",
   "metadata": {},
   "outputs": [],
   "source": [
    "def getSummary(url):\n",
    "    article = Article(url)\n",
    "    article.download()\n",
    "    article.parse()\n",
    "    article.nlp()\n",
    "    return article.summary, article.keywords"
   ]
  },
  {
   "cell_type": "markdown",
   "id": "8df5ac52",
   "metadata": {},
   "source": [
    "# ChannelNews Scraper"
   ]
  },
  {
   "cell_type": "code",
   "execution_count": 3,
   "id": "894c0598",
   "metadata": {},
   "outputs": [
    {
     "name": "stderr",
     "output_type": "stream",
     "text": [
      "C:\\Users\\Darren\\AppData\\Local\\Temp/ipykernel_23008/2012415126.py:3: DeprecationWarning: executable_path has been deprecated, please pass in a Service object\n",
      "  driver = webdriver.Chrome(PATH)\n"
     ]
    }
   ],
   "source": [
    "PATH = 'C:\\Program Files (x86)\\chromedriver.exe'\n",
    "\n",
    "driver = webdriver.Chrome(PATH)\n",
    "\n",
    "driver.get('https://www.channelnewsasia.com')"
   ]
  },
  {
   "cell_type": "code",
   "execution_count": null,
   "id": "54551632",
   "metadata": {},
   "outputs": [],
   "source": []
  },
  {
   "cell_type": "code",
   "execution_count": null,
   "id": "2093137f",
   "metadata": {},
   "outputs": [],
   "source": []
  }
 ],
 "metadata": {
  "kernelspec": {
   "display_name": "Python 3 (ipykernel)",
   "language": "python",
   "name": "python3"
  },
  "language_info": {
   "codemirror_mode": {
    "name": "ipython",
    "version": 3
   },
   "file_extension": ".py",
   "mimetype": "text/x-python",
   "name": "python",
   "nbconvert_exporter": "python",
   "pygments_lexer": "ipython3",
   "version": "3.8.8"
  }
 },
 "nbformat": 4,
 "nbformat_minor": 5
}
