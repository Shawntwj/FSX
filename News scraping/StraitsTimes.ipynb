{
 "cells": [
  {
   "cell_type": "markdown",
   "metadata": {},
   "source": [
    "## Scraping module\n",
    "Scraping of straits times news article using selenium that are returned from the search function (keyword - 'food supply')"
   ]
  },
  {
   "cell_type": "markdown",
   "metadata": {},
   "source": [
    "### Imports"
   ]
  },
  {
   "cell_type": "code",
   "execution_count": 3,
   "metadata": {},
   "outputs": [],
   "source": [
    "#!pip install nltk\n",
    "#import nltk\n",
    "#nltk.download('punkt')"
   ]
  },
  {
   "cell_type": "code",
   "execution_count": 4,
   "metadata": {},
   "outputs": [],
   "source": [
    "#!pip install newspaper3k"
   ]
  },
  {
   "cell_type": "code",
   "execution_count": 5,
   "metadata": {},
   "outputs": [],
   "source": [
    "from selenium import webdriver\n",
    "from selenium.webdriver.support.ui import WebDriverWait\n",
    "from selenium.webdriver.common.by import By\n",
    "from selenium.webdriver.support import expected_conditions as EC\n",
    "import time\n",
    "\n",
    "from newspaper import Article\n",
    "import pandas as pd"
   ]
  },
  {
   "cell_type": "markdown",
   "metadata": {},
   "source": [
    "### Newspaper Article Summariser"
   ]
  },
  {
   "cell_type": "code",
   "execution_count": 6,
   "metadata": {
    "scrolled": true
   },
   "outputs": [],
   "source": [
    "def getSummary(url):\n",
    "    article = Article(url)\n",
    "    article.download()\n",
    "    article.parse()\n",
    "    article.nlp()\n",
    "    return article.summary, article.keywords"
   ]
  },
  {
   "cell_type": "markdown",
   "metadata": {},
   "source": [
    "### StraitsTimes Scraper"
   ]
  },
  {
   "cell_type": "code",
   "execution_count": 7,
   "metadata": {},
   "outputs": [
    {
     "name": "stderr",
     "output_type": "stream",
     "text": [
      "C:\\Users\\jonat\\Anaconda3\\lib\\site-packages\\ipykernel_launcher.py:1: DeprecationWarning: executable_path has been deprecated, please pass in a Service object\n",
      "  \"\"\"Entry point for launching an IPython kernel.\n"
     ]
    }
   ],
   "source": [
    "driver = webdriver.Chrome(r\"C:\\Users\\jonat\\chromedriver\\chromedriver.exe\")\n",
    "def getNews():\n",
    "    output = []\n",
    "    \n",
    "    # get news title in a page - need a for loop to get all the pages!\n",
    "    all_news_per_page=WebDriverWait(driver,20).until(EC.visibility_of_all_elements_located((By.CLASS_NAME,\"queryly_item_title\")))\n",
    "    \n",
    "    # get news url (i.e. news source) & news summary & keywords using the summariser module\n",
    "    for i in range(len(all_news_per_page)):\n",
    "        news_details = []\n",
    "        news_details.append(all_news_per_page[i].text)\n",
    "        xpath = f'//*[@id=\"resultdata\"]/div[{i+2}]/a'        \n",
    "        url = all_news_per_page[i].find_element_by_xpath(xpath).get_attribute('href')\n",
    "        news_details.append(url)\n",
    "        summary = getSummary(url)\n",
    "        news_details.append(summary[0])\n",
    "        news_details.append(\", \".join(summary[1]))\n",
    "        output.append(news_details)\n",
    "    return output"
   ]
  },
  {
   "cell_type": "code",
   "execution_count": 13,
   "metadata": {},
   "outputs": [
    {
     "name": "stderr",
     "output_type": "stream",
     "text": [
      "C:\\Users\\jonat\\Anaconda3\\lib\\site-packages\\ipykernel_launcher.py:7: DeprecationWarning: find_elements_by_* commands are deprecated. Please use find_elements() instead\n",
      "  import sys\n",
      "C:\\Users\\jonat\\Anaconda3\\lib\\site-packages\\ipykernel_launcher.py:9: DeprecationWarning: find_elements_by_* commands are deprecated. Please use find_elements() instead\n",
      "  if __name__ == '__main__':\n",
      "C:\\Users\\jonat\\Anaconda3\\lib\\site-packages\\selenium\\webdriver\\remote\\webelement.py:393: UserWarning: find_element_by_* commands are deprecated. Please use find_element() instead\n",
      "  warnings.warn(\"find_element_by_* commands are deprecated. Please use find_element() instead\")\n"
     ]
    },
    {
     "data": {
      "text/html": [
       "<div>\n",
       "<style scoped>\n",
       "    .dataframe tbody tr th:only-of-type {\n",
       "        vertical-align: middle;\n",
       "    }\n",
       "\n",
       "    .dataframe tbody tr th {\n",
       "        vertical-align: top;\n",
       "    }\n",
       "\n",
       "    .dataframe thead th {\n",
       "        text-align: right;\n",
       "    }\n",
       "</style>\n",
       "<table border=\"1\" class=\"dataframe\">\n",
       "  <thead>\n",
       "    <tr style=\"text-align: right;\">\n",
       "      <th></th>\n",
       "      <th>news title</th>\n",
       "      <th>news source(url)</th>\n",
       "      <th>content summary</th>\n",
       "      <th>keywords</th>\n",
       "    </tr>\n",
       "  </thead>\n",
       "  <tbody>\n",
       "    <tr>\n",
       "      <th>0</th>\n",
       "      <td>Start-ups bringing Pakistan's farming into dig...</td>\n",
       "      <td>https://www.straitstimes.com/asia/south-asia/s...</td>\n",
       "      <td>CHAK 26 SP, Pakistan (AFP) - Agriculture entre...</td>\n",
       "      <td>farming, way, project, 26, farmers, mr, told, ...</td>\n",
       "    </tr>\n",
       "    <tr>\n",
       "      <th>1</th>\n",
       "      <td>Worm your way into an insect farm</td>\n",
       "      <td>https://www.straitstimes.com/life/travel/worm-...</td>\n",
       "      <td>SINGAPORE - Having been squeamish about insect...</td>\n",
       "      <td>way, superwormshundreds, farm, worm, yelp, squ...</td>\n",
       "    </tr>\n",
       "    <tr>\n",
       "      <th>2</th>\n",
       "      <td>New high-tech trout farm to boost Singapore's ...</td>\n",
       "      <td>https://www.straitstimes.com/singapore/new-hig...</td>\n",
       "      <td>SINGAPORE - A high-tech farm cultivating trout...</td>\n",
       "      <td>farmed, production, farm, singapore, trout, dr...</td>\n",
       "    </tr>\n",
       "    <tr>\n",
       "      <th>3</th>\n",
       "      <td>China to curb purchases of US farm goods in 20...</td>\n",
       "      <td>https://www.straitstimes.com/business/economy/...</td>\n",
       "      <td>China may continue to limit soya bean and othe...</td>\n",
       "      <td>prices, 2022, solutions, ties, china, risk, pu...</td>\n",
       "    </tr>\n",
       "    <tr>\n",
       "      <th>4</th>\n",
       "      <td>Food supply hit ahead of CNY, Ramadan after fl...</td>\n",
       "      <td>https://www.straitstimes.com/asia/se-asia/food...</td>\n",
       "      <td>\"I had to throw away some 1,200 eggs as they c...</td>\n",
       "      <td>cny, supply, farm, malaysian, floods, told, wi...</td>\n",
       "    </tr>\n",
       "    <tr>\n",
       "      <th>...</th>\n",
       "      <td>...</td>\n",
       "      <td>...</td>\n",
       "      <td>...</td>\n",
       "      <td>...</td>\n",
       "    </tr>\n",
       "    <tr>\n",
       "      <th>95</th>\n",
       "      <td>Eating Air: Discover the farm life in New Zealand</td>\n",
       "      <td>https://www.straitstimes.com/life/eating-air-d...</td>\n",
       "      <td>So my recent Sunday morning virtual trip to a ...</td>\n",
       "      <td>chin, farm, discover, air, wool, screen, named...</td>\n",
       "    </tr>\n",
       "    <tr>\n",
       "      <th>96</th>\n",
       "      <td>Young Indonesians turn to farming, offering ho...</td>\n",
       "      <td>https://www.straitstimes.com/asia/se-asia/youn...</td>\n",
       "      <td>JAKARTA - Some young Indonesians are abandonin...</td>\n",
       "      <td>farming, spot, technology, countrys, indonesia...</td>\n",
       "    </tr>\n",
       "    <tr>\n",
       "      <th>97</th>\n",
       "      <td>Caged animal farming must end in EU, European ...</td>\n",
       "      <td>https://www.straitstimes.com/world/europe/cage...</td>\n",
       "      <td>BRUSSELS (REUTERS) - The European Commission s...</td>\n",
       "      <td>farming, end, european, eu, animals, cages, ci...</td>\n",
       "    </tr>\n",
       "    <tr>\n",
       "      <th>98</th>\n",
       "      <td>'Mad' Israeli quest to revive ancient dates be...</td>\n",
       "      <td>https://www.straitstimes.com/world/middle-east...</td>\n",
       "      <td>'A lot of hassling'Before embarking on her dat...</td>\n",
       "      <td>ancient, israeli, bears, palm, fruit, solowey,...</td>\n",
       "    </tr>\n",
       "    <tr>\n",
       "      <th>99</th>\n",
       "      <td>Sunseap inks deal to build world's largest flo...</td>\n",
       "      <td>https://www.straitstimes.com/business/companie...</td>\n",
       "      <td>SINGAPORE - Energy firm Sunseap Group will bui...</td>\n",
       "      <td>energy, farm, singapore, sunseap, worlds, bata...</td>\n",
       "    </tr>\n",
       "  </tbody>\n",
       "</table>\n",
       "<p>100 rows × 4 columns</p>\n",
       "</div>"
      ],
      "text/plain": [
       "                                           news title  \\\n",
       "0   Start-ups bringing Pakistan's farming into dig...   \n",
       "1                   Worm your way into an insect farm   \n",
       "2   New high-tech trout farm to boost Singapore's ...   \n",
       "3   China to curb purchases of US farm goods in 20...   \n",
       "4   Food supply hit ahead of CNY, Ramadan after fl...   \n",
       "..                                                ...   \n",
       "95  Eating Air: Discover the farm life in New Zealand   \n",
       "96  Young Indonesians turn to farming, offering ho...   \n",
       "97  Caged animal farming must end in EU, European ...   \n",
       "98  'Mad' Israeli quest to revive ancient dates be...   \n",
       "99  Sunseap inks deal to build world's largest flo...   \n",
       "\n",
       "                                     news source(url)  \\\n",
       "0   https://www.straitstimes.com/asia/south-asia/s...   \n",
       "1   https://www.straitstimes.com/life/travel/worm-...   \n",
       "2   https://www.straitstimes.com/singapore/new-hig...   \n",
       "3   https://www.straitstimes.com/business/economy/...   \n",
       "4   https://www.straitstimes.com/asia/se-asia/food...   \n",
       "..                                                ...   \n",
       "95  https://www.straitstimes.com/life/eating-air-d...   \n",
       "96  https://www.straitstimes.com/asia/se-asia/youn...   \n",
       "97  https://www.straitstimes.com/world/europe/cage...   \n",
       "98  https://www.straitstimes.com/world/middle-east...   \n",
       "99  https://www.straitstimes.com/business/companie...   \n",
       "\n",
       "                                      content summary  \\\n",
       "0   CHAK 26 SP, Pakistan (AFP) - Agriculture entre...   \n",
       "1   SINGAPORE - Having been squeamish about insect...   \n",
       "2   SINGAPORE - A high-tech farm cultivating trout...   \n",
       "3   China may continue to limit soya bean and othe...   \n",
       "4   \"I had to throw away some 1,200 eggs as they c...   \n",
       "..                                                ...   \n",
       "95  So my recent Sunday morning virtual trip to a ...   \n",
       "96  JAKARTA - Some young Indonesians are abandonin...   \n",
       "97  BRUSSELS (REUTERS) - The European Commission s...   \n",
       "98  'A lot of hassling'Before embarking on her dat...   \n",
       "99  SINGAPORE - Energy firm Sunseap Group will bui...   \n",
       "\n",
       "                                             keywords  \n",
       "0   farming, way, project, 26, farmers, mr, told, ...  \n",
       "1   way, superwormshundreds, farm, worm, yelp, squ...  \n",
       "2   farmed, production, farm, singapore, trout, dr...  \n",
       "3   prices, 2022, solutions, ties, china, risk, pu...  \n",
       "4   cny, supply, farm, malaysian, floods, told, wi...  \n",
       "..                                                ...  \n",
       "95  chin, farm, discover, air, wool, screen, named...  \n",
       "96  farming, spot, technology, countrys, indonesia...  \n",
       "97  farming, end, european, eu, animals, cages, ci...  \n",
       "98  ancient, israeli, bears, palm, fruit, solowey,...  \n",
       "99  energy, farm, singapore, sunseap, worlds, bata...  \n",
       "\n",
       "[100 rows x 4 columns]"
      ]
     },
     "execution_count": 13,
     "metadata": {},
     "output_type": "execute_result"
    }
   ],
   "source": [
    "def getStraitsTimesNews(searchTerm):\n",
    "    base_url = \"https://www.straitstimes.com/search?searchkey=\" + searchTerm.replace(\" \", \"%20\")\n",
    "    driver.get(base_url)\n",
    "\n",
    "    # close ad (if any)\n",
    "    try:\n",
    "        iframe=driver.find_elements_by_tag_name(\"iframe\")[3]\n",
    "        driver.switch_to.frame(iframe)\n",
    "        driver.find_elements_by_tag_name(\"iframe\")\n",
    "        ad = driver.switch_to.frame(0)\n",
    "        driver.find_element_by_id('pclose-btn').click()\n",
    "        driver.switch_to.default_content()\n",
    "    except:\n",
    "        driver.switch_to.default_content()\n",
    "    \n",
    "    # filter the search result by date by xpath accordingly\n",
    "    # within 24 hours, within one week, within 30 days, within a year, within three years\n",
    "    filter_by_date = WebDriverWait(driver,20).until(EC.visibility_of_all_elements_located((By.XPATH,\"//*[contains(text(), 'within a year')]\")))[0].click()\n",
    "\n",
    "    # get news on page\n",
    "    output = getNews()\n",
    "    \n",
    "    # check for next page\n",
    "    nextpage = True\n",
    "    while (nextpage):  \n",
    "        try:\n",
    "            nextpage = WebDriverWait(driver,20).until(EC.visibility_of_all_elements_located((By.CSS_SELECTOR,'#resultdata > a > h2')))[0]\n",
    "            if (nextpage.text == 'Next Page'):\n",
    "                nextpage.click()\n",
    "#                 print('clicked next')\n",
    "                output.extend(getNews())\n",
    "            else: \n",
    "                nextpage = False\n",
    "        except:\n",
    "#             print(\"no next page!\")\n",
    "            nextpage = False\n",
    "    \n",
    "    \n",
    "    # convert to df and export as csv\n",
    "    df = pd.DataFrame(output, columns=['news title', 'news source(url)', 'content summary', 'keywords'])\n",
    "    df.to_csv(f\"csv_data/{searchTerm}_straitstimes.csv\")\n",
    "    return df\n",
    "\n",
    "getStraitsTimesNews(\"farm\")"
   ]
  },
  {
   "cell_type": "code",
   "execution_count": null,
   "metadata": {},
   "outputs": [],
   "source": []
  }
 ],
 "metadata": {
  "kernelspec": {
   "display_name": "Python 3",
   "language": "python",
   "name": "python3"
  },
  "language_info": {
   "codemirror_mode": {
    "name": "ipython",
    "version": 3
   },
   "file_extension": ".py",
   "mimetype": "text/x-python",
   "name": "python",
   "nbconvert_exporter": "python",
   "pygments_lexer": "ipython3",
   "version": "3.7.4"
  }
 },
 "nbformat": 4,
 "nbformat_minor": 5
}
