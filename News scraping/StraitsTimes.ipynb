{
 "cells": [
  {
   "cell_type": "markdown",
   "id": "124bab15",
   "metadata": {},
   "source": [
    "## Scraping module\n",
    "Scraping of straits times news article using selenium that are returned from the search function (keyword - 'food supply')"
   ]
  },
  {
   "cell_type": "markdown",
   "id": "dcdd196d",
   "metadata": {},
   "source": [
    "### Imports"
   ]
  },
  {
   "cell_type": "code",
   "execution_count": null,
   "id": "ca93f801",
   "metadata": {},
   "outputs": [],
   "source": [
    "#!pip install nltk\n",
    "#import nltk\n",
    "#nltk.download('punkt')"
   ]
  },
  {
   "cell_type": "code",
   "execution_count": null,
   "id": "36c70b1a",
   "metadata": {},
   "outputs": [],
   "source": [
    "#!pip install newspaper3k"
   ]
  },
  {
   "cell_type": "code",
   "execution_count": 1,
   "id": "de9298a7",
   "metadata": {},
   "outputs": [],
   "source": [
    "from selenium import webdriver\n",
    "from selenium.webdriver.support.ui import WebDriverWait\n",
    "from selenium.webdriver.common.by import By\n",
    "from selenium.webdriver.support import expected_conditions as EC\n",
    "import time\n",
    "\n",
    "from newspaper import Article\n",
    "import pandas as pd\n",
    "import datetime"
   ]
  },
  {
   "cell_type": "markdown",
   "id": "97796fe2",
   "metadata": {},
   "source": [
    "### Newspaper Article Summariser"
   ]
  },
  {
   "cell_type": "code",
   "execution_count": 2,
   "id": "5ac9cb9b",
   "metadata": {
    "scrolled": true
   },
   "outputs": [],
   "source": [
    "def getSummary(url):\n",
    "    article = Article(url)\n",
    "    article.download()\n",
    "    article.parse()\n",
    "    article.nlp()\n",
    "    full_text = article.text\n",
    "    location = full_text[0:full_text.find(\"-\")]\n",
    "    return article.summary, article.keywords, article.publish_date, location"
   ]
  },
  {
   "cell_type": "markdown",
   "id": "b1bec0c0",
   "metadata": {},
   "source": [
    "### StraitsTimes Scraper"
   ]
  },
  {
   "cell_type": "code",
   "execution_count": 10,
   "id": "d6029804",
   "metadata": {},
   "outputs": [],
   "source": [
    "# change to ur own directory!\n",
    "driver = webdriver.Chrome(\"C:/Users/User/Desktop/FYP/chromedriver.exe\") \n",
    "\n",
    "def getNews():\n",
    "    output = []\n",
    "    \n",
    "    # get news title in a page - need a for loop to get all the pages!\n",
    "    all_news_per_page=WebDriverWait(driver,20).until(EC.visibility_of_all_elements_located((By.CLASS_NAME,\"queryly_item_title\")))\n",
    "    \n",
    "    # get news url (i.e. news source) & news summary & keywords using the summariser module\n",
    "    for i in range(len(all_news_per_page)):\n",
    "        news_details = []\n",
    "        xpath = f'//*[@id=\"resultdata\"]/div[{i+2}]/a'        \n",
    "        url = all_news_per_page[i].find_element_by_xpath(xpath).get_attribute('href')\n",
    "        summary = getSummary(url)\n",
    "        date = summary[2].strftime('%d/%m/%Y')[3:]\n",
    "        news_details.append(date)\n",
    "        news_details.append(summary[3])\n",
    "        news_details.append(all_news_per_page[i].text)\n",
    "        news_details.append(url)\n",
    "        news_details.append(summary[0])\n",
    "        news_details.append(\", \".join(summary[1]))\n",
    "        output.append(news_details)\n",
    "    return output"
   ]
  },
  {
   "cell_type": "code",
   "execution_count": null,
   "id": "d4b5d343",
   "metadata": {},
   "outputs": [],
   "source": [
    "def getStraitsTimesNews(searchTerm):\n",
    "    base_url = \"https://www.straitstimes.com/search?searchkey=\" + searchTerm.replace(\" \", \"%20\")\n",
    "    driver.get(base_url)\n",
    "\n",
    "    # close ad (if any)\n",
    "    try:\n",
    "        iframe=driver.find_elements_by_tag_name(\"iframe\")[3]\n",
    "        driver.switch_to.frame(iframe)\n",
    "        driver.find_elements_by_tag_name(\"iframe\")\n",
    "        ad = driver.switch_to.frame(0)\n",
    "        driver.find_element_by_id('pclose-btn').click()\n",
    "        driver.switch_to.default_content()\n",
    "    except:\n",
    "        driver.switch_to.default_content()\n",
    "    \n",
    "    # filter the search result by date by xpath accordingly\n",
    "    # within 24 hours, within one week, within 30 days, within a year, within three years\n",
    "    filter_by_date = WebDriverWait(driver,20).until(EC.visibility_of_all_elements_located((By.XPATH,\"//*[contains(text(), 'within one week')]\")))[0].click()\n",
    "\n",
    "    # get news on page\n",
    "    output = getNews()\n",
    "    \n",
    "    # check for next page\n",
    "    nextpage = True\n",
    "    while (nextpage):  \n",
    "        try:\n",
    "            nextpage = WebDriverWait(driver,20).until(EC.visibility_of_all_elements_located((By.CSS_SELECTOR,'#resultdata > a > h2')))[0]\n",
    "            if (nextpage.text == 'Next Page'):\n",
    "                nextpage.click()\n",
    "#                 print('clicked next')\n",
    "                output.extend(getNews())\n",
    "            else: \n",
    "                nextpage = False\n",
    "        except:\n",
    "#             print(\"no next page!\")\n",
    "            nextpage = False\n",
    "    \n",
    "    \n",
    "    # convert to df and export as csv\n",
    "    df = pd.DataFrame(output, columns=['date', 'location','news title', 'news source(url)', 'content summary', 'keywords'])\n",
    "    df.to_csv(f\"csv_data/{searchTerm}_straitstimes.csv\")\n",
    "    return df\n",
    "\n",
    "getStraitsTimesNews(\"food supply\")"
   ]
  },
  {
   "cell_type": "code",
   "execution_count": null,
   "id": "c823baf2",
   "metadata": {},
   "outputs": [],
   "source": []
  }
 ],
 "metadata": {
  "kernelspec": {
   "display_name": "Python 3",
   "language": "python",
   "name": "python3"
  },
  "language_info": {
   "codemirror_mode": {
    "name": "ipython",
    "version": 3
   },
   "file_extension": ".py",
   "mimetype": "text/x-python",
   "name": "python",
   "nbconvert_exporter": "python",
   "pygments_lexer": "ipython3",
   "version": "3.8.8"
  }
 },
 "nbformat": 4,
 "nbformat_minor": 5
}
