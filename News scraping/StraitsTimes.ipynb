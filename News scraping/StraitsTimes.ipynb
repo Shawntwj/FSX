{
 "cells": [
  {
   "cell_type": "markdown",
   "id": "e4c0154c",
   "metadata": {},
   "source": [
    "## Scraping module\n",
    "Scraping of straits times news article using selenium that are returned from the search function (keyword - 'food supply')"
   ]
  },
  {
   "cell_type": "code",
   "execution_count": 1,
   "id": "ce8b241b",
   "metadata": {},
   "outputs": [],
   "source": [
    "import pandas as pd\n",
    "import time\n",
    "\n",
    "from selenium import webdriver\n",
    "from selenium.webdriver.common.action_chains import ActionChains\n",
    "from selenium.webdriver.support.ui import WebDriverWait\n",
    "from selenium.webdriver.common.by import By\n",
    "from selenium.webdriver.support import expected_conditions as EC"
   ]
  },
  {
   "cell_type": "code",
   "execution_count": 15,
   "id": "abc37116",
   "metadata": {
    "scrolled": true
   },
   "outputs": [
    {
     "name": "stdout",
     "output_type": "stream",
     "text": [
      "[\"Global food prices hit 2-decade high, threatening world's poorest\", \"Ukraine tensions can choke supply of energy, food for S'pore and Asia\", \"Defending the Amazon: How indigenous culture protects Colombia's rainforest\", \"Colombia demands removal from 'hunger hotspots' list\", \"A year after Myanmar's coup, families of detainees search for answers\", \"'Too early to say' if world faces sustained inflation: IMF chief Georgieva\", 'Attendance bonus an unacceptable policy', \"A normal supply chain? It's 'unlikely' in 2022\", 'Australia PM Morrison admits Covid-19 missteps as polls show him losing vote']\n"
     ]
    }
   ],
   "source": [
    "driver = webdriver.Chrome('C:/Users/User/Desktop/FYP/chromedriver.exe')\n",
    "search_keyword = \"food supply\"\n",
    "base_url = \"https://www.straitstimes.com/search?searchkey=\" + search_keyword.replace(\" \", \"%20\")\n",
    "driver.get(base_url)\n",
    "\n",
    "# close ad (if any)\n",
    "try:\n",
    "    iframe=driver.find_elements_by_tag_name(\"iframe\")[3]\n",
    "    driver.switch_to.frame(iframe)\n",
    "    driver.find_elements_by_tag_name(\"iframe\")\n",
    "    ad = driver.switch_to.frame(0)\n",
    "    driver.find_element_by_id('pclose-btn').click()\n",
    "    driver.switch_to.default_content()\n",
    "except:\n",
    "    driver.switch_to.default_content()\n",
    "\n",
    "news_titles = []\n",
    "result_data = driver.find_element_by_id(\"resultdata\") \n",
    "# to filter the search result to filter by one week (just for testing purposes!)\n",
    "filter_by_date = driver.find_element_by_xpath('//*[@id=\"faceteddata\"]/div[25]/a').click()\n",
    "all_news=WebDriverWait(driver,20).until(EC.visibility_of_all_elements_located((By.CLASS_NAME,\"queryly_item_title\")))\n",
    "for elem in all_news:\n",
    "    news_titles.append(elem.text)\n",
    "print(news_titles)\n",
    "driver.close()"
   ]
  }
 ],
 "metadata": {
  "kernelspec": {
   "display_name": "Python 3",
   "language": "python",
   "name": "python3"
  },
  "language_info": {
   "codemirror_mode": {
    "name": "ipython",
    "version": 3
   },
   "file_extension": ".py",
   "mimetype": "text/x-python",
   "name": "python",
   "nbconvert_exporter": "python",
   "pygments_lexer": "ipython3",
   "version": "3.8.8"
  }
 },
 "nbformat": 4,
 "nbformat_minor": 5
}
