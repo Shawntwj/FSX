{
 "cells": [
  {
   "cell_type": "markdown",
   "id": "d9a783f4",
   "metadata": {},
   "source": [
    "## Report Generation\n",
    "This notebook serves as continuation of earlier notebooks (i.e. [Article Classifier](./News%20Classifier/FYP%20Article%20Classification%20Codes.ipynb) and [3D Plot Visualization](./3D%20Plotting%20and%20Visualization/3D%20Plot%20Visualization.ipynb))  \n",
    "\n",
    "It takes in the resultant csv from the 3D Plot Visualization, reads one row and generate the report one at a time."
   ]
  },
  {
   "cell_type": "markdown",
   "id": "c6a75121",
   "metadata": {},
   "source": [
    "### Import Necessary Libraries\n",
    "Spacy was used for its Named Entity Recognition (NER) text processing in reporting the content summary.  \n",
    "Requests was used in making HTTP requests to Nominatim in retrieving longitude and latitude data for the countries identified.  \n",
    "Termcolor was used in styling the report generated, aiding our stakeholders in gaining quick insights.  \n",
    "Ipyleaflet was used in generating the interactive map as part of the report generated."
   ]
  },
  {
   "cell_type": "code",
   "execution_count": 1,
   "id": "46fa2827",
   "metadata": {},
   "outputs": [],
   "source": [
    "import pandas as pd\n",
    "import numpy as np\n",
    "import re\n",
    "import copy\n",
    "\n",
    "import spacy\n",
    "from spacy import displacy\n",
    "\n",
    "# !pip3 install requests\n",
    "import requests\n",
    "\n",
    "# !pip install termcolor\n",
    "from termcolor import colored\n",
    "\n",
    "# !pip install ipyleaflet\n",
    "# !jupyter nbextension enable --py --sys-prefix ipyleaflet\n",
    "from ipyleaflet import Map, Marker, AwesomeIcon, CircleMarker, LayerGroup, LegendControl"
   ]
  },
  {
   "cell_type": "markdown",
   "id": "f7dd088c",
   "metadata": {},
   "source": [
    "#### Creating a function to identify the stage of supply chain that is affected by the trigger event\n",
    "The current list of words relating to each stage of the supply chain is with reference to Professor Paul Teng's framework that outlines the food supply chain. This list is non-exhaustive and should be expanded, to improve the robustness of our model, with advices from food supply chain experts."
   ]
  },
  {
   "cell_type": "code",
   "execution_count": 2,
   "id": "557d02d2",
   "metadata": {},
   "outputs": [],
   "source": [
    "def identify_supply_chain(artcl):\n",
    "    supply_chain = {\n",
    "        \"Input Supplier\" : [\"seed\", \"fertiliser\", \"crop protection\", \"animal health\", \"farm machinery\", \"irrigation\"],\n",
    "        \"Grower/Producer\" : [\"farmer\", \"grower\", \"animal raiser\"],\n",
    "        \"Processor\" : [\"packaging products provider\", \"cannery\", \"dressing plant\", \"mill\", \"slaughter house\", \"packing plant\"],\n",
    "        \"Distributor\" : [\"wholesaler\", \"importer\", \"exporter\", \"logistics provider\"],\n",
    "        \"Retailer\" : [\"supermarket\", \"restaurant\", \"convenience store\"]\n",
    "    }\n",
    "    \n",
    "    stage_of_supply_chain = []\n",
    "    \n",
    "    for k,v in supply_chain.items():\n",
    "        for keyword in v:\n",
    "            search_term = \"r'\\b\"+keyword+\"\\b\"\n",
    "            if (re.search(search_term, artcl) is not None):\n",
    "                stage_of_supply_chain.append(k)\n",
    "    unique_stages = np.array(stage_of_supply_chain)\n",
    "    \n",
    "    if len(stage_of_supply_chain) == 0:\n",
    "        return \"N/A\"\n",
    "    else: \n",
    "        return np.unique(unique_stages)"
   ]
  },
  {
   "cell_type": "markdown",
   "id": "97b2fc3a",
   "metadata": {},
   "source": [
    "#### Function to display the interactive map:\n",
    "1. To obtain all of the countries mentioned in the content summary\n",
    "2. For all of these countries, get their longtitude and latitude data\n",
    "3. Instantiate the map object, with markers corresponding to each of the countries"
   ]
  },
  {
   "cell_type": "code",
   "execution_count": 3,
   "id": "dcd0ab7c",
   "metadata": {},
   "outputs": [],
   "source": [
    "def displayMap(doc): # takes in the NER processed text!\n",
    "    # get all countries mentioned\n",
    "    countries = {}\n",
    "    for word in doc.ents:\n",
    "        if word.label_ == \"GPE\" and word.text not in countries:\n",
    "            countries[word.text] = []\n",
    "#     print(countries)\n",
    "    \n",
    "    copy_of_countries = copy.deepcopy(countries)\n",
    "    # get all longitude and latitude of countries mentioned\n",
    "    for country,center in countries.items():\n",
    "        try: \n",
    "            url = f\"http://nominatim.openstreetmap.org/search?country={country}&format=json&polygon=0\"\n",
    "            response = requests.get(url).json()[0]\n",
    "            copy_of_countries[country] = [response['lat'], response['lon']]\n",
    "        except IndexError:\n",
    "            copy_of_countries.pop(country)\n",
    "\n",
    "    # finding the center of all countries - for display sake!\n",
    "    sumLat = 0\n",
    "    sumLon = 0\n",
    "    for geocode in copy_of_countries.values():\n",
    "        sumLat += float(geocode[0])    \n",
    "        sumLon += float(geocode[1])\n",
    "    center = [sumLat/len(countries), sumLon/len(countries)]\n",
    "    \n",
    "    # instantiating an instance of the map\n",
    "    currMap=Map(center=center, zoom=0)\n",
    "    icon1 = AwesomeIcon(\n",
    "        name='exclamation',\n",
    "        marker_color='red',\n",
    "        icon_color='white',\n",
    "        spin=False\n",
    "    )\n",
    "    \n",
    "    layers = [];    \n",
    "    for country, data in copy_of_countries.items():\n",
    "        marker = Marker(icon=icon1, location=data, title=country)\n",
    "        layers.append(marker)\n",
    "    \n",
    "    layer_group = LayerGroup(layers=tuple(layers))\n",
    "    currMap.add_layer(layer_group)\n",
    "\n",
    "    return currMap"
   ]
  },
  {
   "cell_type": "markdown",
   "id": "990dd24d",
   "metadata": {},
   "source": [
    "#### Function to generate report: \n",
    "Ideally, this function takes in one row of the resulting dataframe and retrive the relevant information, to finally generate a report, which includes the visualziation of the interactive map mentioned above. \n",
    "\n",
    "Relevant information includes: Date, Title, Source(URL), Content Summary, Trigger Event, Stages of Supply Chain that was affected, Risk Level"
   ]
  },
  {
   "cell_type": "code",
   "execution_count": 4,
   "id": "f648a695",
   "metadata": {},
   "outputs": [],
   "source": [
    "def report_writer(row):\n",
    "\n",
    "    #assign values into callable instances\n",
    "    date = row['date']\n",
    "    title = row[\"news title\"]\n",
    "    url = row[\"Article Link\"]\n",
    "    trigger_event = row[\"trigger event\"]\n",
    "    \n",
    "    nlp = spacy.load('en_core_web_sm')\n",
    "    current_text = row['content summary']\n",
    "    doc = nlp(current_text)\n",
    "    \n",
    "    scores = [row[\"New Severity Score\"], row[\"New Human Control Score\"], row[\"New Likelihood Score\"]]\n",
    "    average_score = sum(scores)/len(scores)\n",
    "    if average_score < 2:\n",
    "        RAG = (\"Low\", \"green\")\n",
    "    elif average_score >= 2 and average_score <= 3:\n",
    "        RAG = (\"Moderate\", \"yellow\")\n",
    "    elif average_score > 3:\n",
    "        RAG = (\"High\", \"red\")\n",
    "    \n",
    "    \n",
    "    print (f\"***************************START OF REPORT********************************\")\n",
    "    print (\"\\n\")\n",
    "\n",
    "    print (f\"This is an automatically generated report for:\")\n",
    "    print (f\"\\n{colored('News Title: ', attrs=['bold']) + title}'\\n{colored('News Source (URL): ', attrs=['bold']) + url}.\")\n",
    "    print (\"\\n\")\n",
    "    \n",
    "    print(f\"{colored('Trigger Event Identified: ', attrs=['bold']) + trigger_event}\")    \n",
    "    \n",
    "    affected_stages = identify_supply_chain(current_text)\n",
    "    print(f\"{colored('Stage(s) of supply chain likely to be affected: ', attrs=['bold']) + affected_stages}\")\n",
    "    \n",
    "    # color to be returned from the cube - yellow, red, green\n",
    "    risk = colored(RAG[0], RAG[1], attrs=['reverse','bold'])\n",
    "    print(f\"{colored('Risk Level Identified: ', attrs=['bold']) + risk}\")\n",
    "    print(\"\\n\")\n",
    "    \n",
    "    print(f\"{colored('Content Summary with following related entities highlighted in this article that should be reviewed:', attrs=['bold'])}\")\n",
    "    displacy.render(doc, style='ent', jupyter=True)\n",
    "    print (\"\\n\")\n",
    "    \n",
    "    print (f\"***************************END OF REPORT********************************\")    \n",
    "    \n",
    "    return displayMap(doc)\n",
    "\n"
   ]
  },
  {
   "cell_type": "code",
   "execution_count": 5,
   "id": "db86d651",
   "metadata": {},
   "outputs": [
    {
     "name": "stdout",
     "output_type": "stream",
     "text": [
      "***************************START OF REPORT********************************\n",
      "\n",
      "\n",
      "This is an automatically generated report for:\n",
      "\n",
      "\u001b[1mNews Title: \u001b[0mUkraine says grain on ships in blocked Black Sea ports may deteriorate'\n",
      "\u001b[1mNews Source (URL): \u001b[0mhttps://www.channelnewsasia.com/world/ukraine-invasion-russia-ships-grain-black-sea-ports-2628556.\n",
      "\n",
      "\n",
      "\u001b[1mTrigger Event Identified: \u001b[0mMilitary Conflicts\n",
      "\u001b[1mStage(s) of supply chain likely to be affected: \u001b[0mN/A\n",
      "\u001b[1mRisk Level Identified: \u001b[0m\u001b[1m\u001b[7m\u001b[31mHigh\u001b[0m\n",
      "\n",
      "\n",
      "\u001b[1mContent Summary with following related entities highlighted in this article that should be reviewed:\u001b[0m\n"
     ]
    },
    {
     "data": {
      "text/html": [
       "<span class=\"tex2jax_ignore\"><div class=\"entities\" style=\"line-height: 2.5; direction: ltr\">\n",
       "<mark class=\"entity\" style=\"background: #feca74; padding: 0.45em 0.6em; margin: 0 0.25em; line-height: 1; border-radius: 0.35em;\">\n",
       "    Ukraine\n",
       "    <span style=\"font-size: 0.8em; font-weight: bold; line-height: 1; border-radius: 0.35em; vertical-align: middle; margin-left: 0.5rem\">GPE</span>\n",
       "</mark>\n",
       " used to export almost all its grain and oilseeds via seaports and now is forced to find new routes as its ports are blocked.\r",
       "</br>Before the war, \n",
       "<mark class=\"entity\" style=\"background: #feca74; padding: 0.45em 0.6em; margin: 0 0.25em; line-height: 1; border-radius: 0.35em;\">\n",
       "    Ukraine\n",
       "    <span style=\"font-size: 0.8em; font-weight: bold; line-height: 1; border-radius: 0.35em; vertical-align: middle; margin-left: 0.5rem\">GPE</span>\n",
       "</mark>\n",
       " exported \n",
       "<mark class=\"entity\" style=\"background: #e4e7d2; padding: 0.45em 0.6em; margin: 0 0.25em; line-height: 1; border-radius: 0.35em;\">\n",
       "    up to\n",
       "    <span style=\"font-size: 0.8em; font-weight: bold; line-height: 1; border-radius: 0.35em; vertical-align: middle; margin-left: 0.5rem\">CARDINAL</span>\n",
       "</mark>\n",
       " \n",
       "<mark class=\"entity\" style=\"background: #e4e7d2; padding: 0.45em 0.6em; margin: 0 0.25em; line-height: 1; border-radius: 0.35em;\">\n",
       "    6 million tonnes\n",
       "    <span style=\"font-size: 0.8em; font-weight: bold; line-height: 1; border-radius: 0.35em; vertical-align: middle; margin-left: 0.5rem\">QUANTITY</span>\n",
       "</mark>\n",
       " of grain and oilseed a month, while in \n",
       "<mark class=\"entity\" style=\"background: #bfe1d9; padding: 0.45em 0.6em; margin: 0 0.25em; line-height: 1; border-radius: 0.35em;\">\n",
       "    March\n",
       "    <span style=\"font-size: 0.8em; font-weight: bold; line-height: 1; border-radius: 0.35em; vertical-align: middle; margin-left: 0.5rem\">DATE</span>\n",
       "</mark>\n",
       " the exports fell to \n",
       "<mark class=\"entity\" style=\"background: #e4e7d2; padding: 0.45em 0.6em; margin: 0 0.25em; line-height: 1; border-radius: 0.35em;\">\n",
       "    200,000 tonnes\n",
       "    <span style=\"font-size: 0.8em; font-weight: bold; line-height: 1; border-radius: 0.35em; vertical-align: middle; margin-left: 0.5rem\">QUANTITY</span>\n",
       "</mark>\n",
       ", \n",
       "<mark class=\"entity\" style=\"background: #ddd; padding: 0.45em 0.6em; margin: 0 0.25em; line-height: 1; border-radius: 0.35em;\">\n",
       "    Mykola Solskyi\n",
       "    <span style=\"font-size: 0.8em; font-weight: bold; line-height: 1; border-radius: 0.35em; vertical-align: middle; margin-left: 0.5rem\">FAC</span>\n",
       "</mark>\n",
       " told the newspaper \n",
       "<mark class=\"entity\" style=\"background: #7aecec; padding: 0.45em 0.6em; margin: 0 0.25em; line-height: 1; border-radius: 0.35em;\">\n",
       "    Ukrayinska Pravda\n",
       "    <span style=\"font-size: 0.8em; font-weight: bold; line-height: 1; border-radius: 0.35em; vertical-align: middle; margin-left: 0.5rem\">ORG</span>\n",
       "</mark>\n",
       ".\r",
       "</br>There are currently \n",
       "<mark class=\"entity\" style=\"background: #e4e7d2; padding: 0.45em 0.6em; margin: 0 0.25em; line-height: 1; border-radius: 0.35em;\">\n",
       "    57\n",
       "    <span style=\"font-size: 0.8em; font-weight: bold; line-height: 1; border-radius: 0.35em; vertical-align: middle; margin-left: 0.5rem\">CARDINAL</span>\n",
       "</mark>\n",
       " vessels with \n",
       "<mark class=\"entity\" style=\"background: #e4e7d2; padding: 0.45em 0.6em; margin: 0 0.25em; line-height: 1; border-radius: 0.35em;\">\n",
       "    1.25 million tonnes\n",
       "    <span style=\"font-size: 0.8em; font-weight: bold; line-height: 1; border-radius: 0.35em; vertical-align: middle; margin-left: 0.5rem\">QUANTITY</span>\n",
       "</mark>\n",
       " of grain and oilseeds,&quot; \n",
       "<mark class=\"entity\" style=\"background: #feca74; padding: 0.45em 0.6em; margin: 0 0.25em; line-height: 1; border-radius: 0.35em;\">\n",
       "    Solskyi\n",
       "    <span style=\"font-size: 0.8em; font-weight: bold; line-height: 1; border-radius: 0.35em; vertical-align: middle; margin-left: 0.5rem\">GPE</span>\n",
       "</mark>\n",
       " said.\r",
       "</br>They certainly did not plan to keep this grain on the ships for a long time,&quot; he added.\r",
       "</br>He said importers were already spending more and the situation with grain supply from \n",
       "<mark class=\"entity\" style=\"background: #feca74; padding: 0.45em 0.6em; margin: 0 0.25em; line-height: 1; border-radius: 0.35em;\">\n",
       "    Ukraine\n",
       "    <span style=\"font-size: 0.8em; font-weight: bold; line-height: 1; border-radius: 0.35em; vertical-align: middle; margin-left: 0.5rem\">GPE</span>\n",
       "</mark>\n",
       " could push these countries to build greater grain reserves and this would also drive up prices.</div></span>"
      ],
      "text/plain": [
       "<IPython.core.display.HTML object>"
      ]
     },
     "metadata": {},
     "output_type": "display_data"
    },
    {
     "name": "stdout",
     "output_type": "stream",
     "text": [
      "\n",
      "\n",
      "***************************END OF REPORT********************************\n"
     ]
    },
    {
     "data": {
      "application/vnd.jupyter.widget-view+json": {
       "model_id": "ba56a34c873c4dadae4d171b1906aedc",
       "version_major": 2,
       "version_minor": 0
      },
      "text/plain": [
       "Map(center=[24.7435984, 15.63591605], controls=(ZoomControl(options=['position', 'zoom_in_text', 'zoom_in_titl…"
      ]
     },
     "metadata": {},
     "output_type": "display_data"
    }
   ],
   "source": [
    "df = pd.read_csv(\"mid_working_article.csv\", index_col=[0])\n",
    "row = df.loc[0]\n",
    "\n",
    "report_writer(row)"
   ]
  },
  {
   "cell_type": "markdown",
   "id": "5fb43b22",
   "metadata": {},
   "source": [
    "### Additional Notes"
   ]
  },
  {
   "cell_type": "markdown",
   "id": "4a182a5e",
   "metadata": {},
   "source": [
    "For stakeholders who are unsure of what the labels (e.g. GPE, LOC) mean, they can simply run <b>spacy.explain(\\<label>\\)</b> to get the official definition by spaCy. For instance (see below), <b>spacy.explain(\"GPE\")</b> returns \"Countries, cities, states\" suggesting that the entities highlighted by spaCy and labeled as 'GPE' refer to either countries, cities or states."
   ]
  },
  {
   "cell_type": "code",
   "execution_count": 6,
   "id": "9c926c87",
   "metadata": {},
   "outputs": [
    {
     "data": {
      "text/plain": [
       "'Countries, cities, states'"
      ]
     },
     "execution_count": 6,
     "metadata": {},
     "output_type": "execute_result"
    }
   ],
   "source": [
    "spacy.explain(\"GPE\")"
   ]
  },
  {
   "cell_type": "markdown",
   "id": "02afb41c",
   "metadata": {},
   "source": [
    "#### Limitations\n",
    "Currently the interactive map only takes into considerations of countries and not cities and state. This is because cities and state names may not always be unique and our report generator lacks the capability to distinguish that."
   ]
  }
 ],
 "metadata": {
  "kernelspec": {
   "display_name": "Python 3",
   "language": "python",
   "name": "python3"
  },
  "language_info": {
   "codemirror_mode": {
    "name": "ipython",
    "version": 3
   },
   "file_extension": ".py",
   "mimetype": "text/x-python",
   "name": "python",
   "nbconvert_exporter": "python",
   "pygments_lexer": "ipython3",
   "version": "3.8.8"
  }
 },
 "nbformat": 4,
 "nbformat_minor": 5
}
