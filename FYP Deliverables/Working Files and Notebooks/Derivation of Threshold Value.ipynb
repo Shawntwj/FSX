{
 "cells": [
  {
   "cell_type": "markdown",
   "id": "2f1b2495",
   "metadata": {},
   "source": [
    "# Derivation of Threshold Value\n",
    "The threshold value will determine whether or not an event, by means of news listening/scraping, will pose a risk to the downwards supply chain. The methodology in doing so is to:\n",
    "1. Gather large pool of news articles that are not related to the trigger events identified (i.e. Pandemic, Military Conflicts etc.) \n",
    "2. Run these articles through our News Classifier module\n",
    "3. Observe the results and remove any outliers\n",
    "4. Derieve the mean value of the probability scores\n",
    "\n",
    "The mean value of all the probabilty scores will then be the threshold value for our News Classifier to determine if an event should be classified to a trigger event.\n",
    "\n",
    "In this notebook, a total of 4213 non-related news were used to derive the threshold value. More data can be collected subsequently to attain a value that could be more reliable. "
   ]
  },
  {
   "cell_type": "code",
   "execution_count": 46,
   "id": "fea6a7b1",
   "metadata": {},
   "outputs": [
    {
     "name": "stdout",
     "output_type": "stream",
     "text": [
      "The mean value of all probability scores, and therefore the threshold value shall be: 56.95853007488996\n"
     ]
    }
   ],
   "source": [
    "import pandas as pd\n",
    "import glob\n",
    "\n",
    "path = 'Testing Result' # use your path\n",
    "all_files = glob.glob(path + \"/*.csv\")\n",
    "\n",
    "temp = pd.DataFrame()\n",
    "for filename in all_files:\n",
    "    df = pd.read_csv(filename, index_col=None, header=0)\n",
    "    df = df.drop(columns=['Unnamed: 0.1', 'Unnamed: 0'])\n",
    "    df.insert(0, 'filename', filename[15:len(filename)-22])\n",
    "    index = df['probability_score'].idxmax()\n",
    "    temp = pd.concat([temp, df.iloc[[index]]], ignore_index=True)\n",
    "temp = temp.drop([2]) # ignore the food navigator results \n",
    "temp = temp.drop([6]) # ignore the 'singapore' results\n",
    "print(\"The mean value of all probability scores, and therefore the threshold value shall be:\", temp['probability_score'].mean())"
   ]
  }
 ],
 "metadata": {
  "kernelspec": {
   "display_name": "Python 3",
   "language": "python",
   "name": "python3"
  },
  "language_info": {
   "codemirror_mode": {
    "name": "ipython",
    "version": 3
   },
   "file_extension": ".py",
   "mimetype": "text/x-python",
   "name": "python",
   "nbconvert_exporter": "python",
   "pygments_lexer": "ipython3",
   "version": "3.8.8"
  }
 },
 "nbformat": 4,
 "nbformat_minor": 5
}
