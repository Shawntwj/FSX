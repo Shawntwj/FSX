{
 "cells": [
  {
   "cell_type": "markdown",
   "id": "d9a783f4",
   "metadata": {},
   "source": [
    "## Report Generation\n",
    "This notebook serves as continuation of earlier notebooks (i.e. [Article Classifier](./News%20Classifier/FYP%20Article%20Classification%20Codes.ipynb) and [3D Plot Visualization](./3D%20Plotting%20and%20Visualization/3D%20Plot%20Visualization.ipynb))  "
   ]
  },
  {
   "cell_type": "markdown",
   "id": "c6a75121",
   "metadata": {},
   "source": [
    "### Import Necessary Libraries\n",
    "Spacy was used for its Named Entity Recognition (NER) text processing in reporting the content summary.  \n",
    "Requests was used in making HTTP requests to Nominatim in retrieving longitude and latitude data for the countries identified.  \n",
    "Ipyleaflet was used in generating the interactive map as part of the report generated."
   ]
  },
  {
   "cell_type": "code",
   "execution_count": 17,
   "id": "46fa2827",
   "metadata": {},
   "outputs": [],
   "source": [
    "import spacy\n",
    "from spacy import displacy\n",
    "\n",
    "# !pip3 install requests\n",
    "import requests\n",
    "# !pip install ipyleaflet\n",
    "# !jupyter nbextension enable --py --sys-prefix ipyleaflet\n",
    "from ipyleaflet import Map, Marker, AwesomeIcon, CircleMarker, LayerGroup, LegendControl"
   ]
  },
  {
   "cell_type": "markdown",
   "id": "4a182a5e",
   "metadata": {},
   "source": [
    "For stakeholders who are unsure of what the labels (e.g. GPE, LOC) mean, they can simply run <b>spacy.explain(\\<label\\>)</b> to get the official definition by spaCy. For instance (see below), <b>spacy.explain(\"GPE\")</b> returns \"Countries, cities, states\" suggesting that the entities highlighted by spaCy and labeled as 'GPE' refer to either countries, cities or states."
   ]
  },
  {
   "cell_type": "code",
   "execution_count": 25,
   "id": "9c926c87",
   "metadata": {},
   "outputs": [
    {
     "data": {
      "text/plain": [
       "'Countries, cities, states'"
      ]
     },
     "execution_count": 25,
     "metadata": {},
     "output_type": "execute_result"
    }
   ],
   "source": [
    "spacy.explain(\"GPE\")"
   ]
  },
  {
   "cell_type": "markdown",
   "id": "97b2fc3a",
   "metadata": {},
   "source": [
    "#### Function to display the interactive map:\n",
    "1. To obtain all of the countries mentioned in the content summary\n",
    "2. For all of these countries, get their longtitude and latitude data\n",
    "3. Instantiate the map object, with markers corresponding to each of the countries"
   ]
  },
  {
   "cell_type": "code",
   "execution_count": 19,
   "id": "dcd0ab7c",
   "metadata": {},
   "outputs": [],
   "source": [
    "def displayMap(doc): # takes in the NER processed text!\n",
    "    # get all countries mentioned\n",
    "    countries = {}\n",
    "    for word in doc.ents:\n",
    "        if word.label_ == \"GPE\" and word.text not in countries:\n",
    "            countries[word.text] = []\n",
    "#     print(countries)\n",
    "    \n",
    "    # get all longitude and latitude of countries mentioned\n",
    "    for country,center in countries.items():\n",
    "        url = f\"http://nominatim.openstreetmap.org/search?country={country}&format=json&polygon=0\"\n",
    "        response = requests.get(url).json()[0]\n",
    "        countries[country] = [response['lat'], response['lon']]\n",
    "#     print(countries)\n",
    "\n",
    "    # finding the center of all countries - for display sake!\n",
    "    sumLat = 0\n",
    "    sumLon = 0\n",
    "    for geocode in countries.values():\n",
    "        sumLat += float(geocode[0])    \n",
    "        sumLon += float(geocode[1])\n",
    "    center = [sumLat/len(countries), sumLon/len(countries)]\n",
    "    \n",
    "    # instantiating an instance of the map\n",
    "    currMap=Map(center=center, zoom=0)\n",
    "    icon1 = AwesomeIcon(\n",
    "        name='exclamation',\n",
    "        marker_color='red',\n",
    "        icon_color='white',\n",
    "        spin=False\n",
    "    )\n",
    "    \n",
    "    layers = [];    \n",
    "    for country, data in countries.items():\n",
    "        marker = Marker(icon=icon1, location=data, title=country)\n",
    "        layers.append(marker)\n",
    "    \n",
    "    layer_group = LayerGroup(layers=tuple(layers))\n",
    "    currMap.add_layer(layer_group)\n",
    "    currMap\n",
    "\n",
    "    return"
   ]
  },
  {
   "cell_type": "markdown",
   "id": "990dd24d",
   "metadata": {},
   "source": [
    "#### Function to generate report: \n",
    "Ideally, this function takes in one row of the resulting dataframe and retrive the relevant information, to finally generate a report, which includes the visualziation of the interactive map mentioned above. \n",
    "\n",
    "Relevant information includes: Date, Title, Source(URL), Content Summary, Trigger Event, Stages of Supply Chain that was affected, Risk Level"
   ]
  },
  {
   "cell_type": "code",
   "execution_count": 126,
   "id": "f648a695",
   "metadata": {},
   "outputs": [],
   "source": [
    "def report_writer(row):\n",
    "\n",
    "    #assign values into callable instances\n",
    "    date = row['date']\n",
    "    title = row[\"news title\"]\n",
    "    url = row[\"news source(url)\"]\n",
    "    \n",
    "    nlp = spacy.load('en_core_web_sm')\n",
    "    current_text = row['content summary']\n",
    "    doc = nlp(current_text)\n",
    "    \n",
    "    print (f\"***************************START OF REPORT********************************\")\n",
    "    print (\"\\n\")\n",
    "\n",
    "    print (f\"This is an automatically generated report for:\")\n",
    "    print (f\"\\n{colored('News Title: ', attrs=['bold']) + title}'\\n{colored('Dated: ', attrs=['bold']) + date}\\n{colored('News Source (URL): ', attrs=['bold']) + url}.\")\n",
    "    print (\"\\n\")\n",
    "    \n",
    "    print(f\"{colored('Trigger Event Identified: ', attrs=['bold']) + output[1].iloc[0].name} with a probability of {round(output[1].iloc[0].Probability, 2)}%\")    \n",
    "    \n",
    "    print(f\"{colored('Stage(s) of supply chain likely to be affected: ', attrs=['bold']) + output[2]}\")\n",
    "    \n",
    "    # color to be returned from the cube - yellow, red, green\n",
    "    risk = colored('High', 'red', attrs=['reverse','bold'])\n",
    "    print(f\"{colored('Risk Level Identified: ', attrs=['bold']) + risk}\")\n",
    "    print(\"\\n\")\n",
    "    \n",
    "    print(f\"{colored('Content Summary with following related entities highlighted in this article that should be reviewed:', attrs=['bold'])}\")\n",
    "    displacy.render(doc, style='ent', jupyter=True)\n",
    "    print (\"\\n\")\n",
    "    \n",
    "    displayMap(doc)\n",
    "\n",
    "    print (f\"***************************END OF REPORT********************************\")"
   ]
  },
  {
   "cell_type": "code",
   "execution_count": 127,
   "id": "db86d651",
   "metadata": {},
   "outputs": [
    {
     "name": "stdout",
     "output_type": "stream",
     "text": [
      "***************************START OF REPORT********************************\n",
      "\n",
      "\n",
      "This is an automatically generated report for:\n",
      "\n",
      "\u001b[1mNews Title: \u001b[0mUkraine tensions can choke supply of energy, food for S'pore and Asia'\n",
      "\u001b[1mDated: \u001b[0mundated\n",
      "\u001b[1mNews Source (URL): \u001b[0mhttps://www.straitstimes.com/business/companies-markets/ukraine-tensions-can-choke-supply-of-energy-food-for-spore-and-asia.\n",
      "\n",
      "\n",
      "\u001b[1mTrigger Event Identified: \u001b[0mpandemic with a probability of 45.23%\n",
      "\u001b[1mStage(s) of supply chain likely to be affected: \u001b[0mN/A\n",
      "\u001b[1mRisk Level Identified: \u001b[0m\u001b[1m\u001b[7m\u001b[31mHigh\u001b[0m\n",
      "\n",
      "\n",
      "\u001b[1mContent Summary with following related entities highlighted in this article that should be reviewed:\u001b[0m\n"
     ]
    },
    {
     "data": {
      "text/html": [
       "<span class=\"tex2jax_ignore\"><div class=\"entities\" style=\"line-height: 2.5; direction: ltr\">\n",
       "<mark class=\"entity\" style=\"background: #7aecec; padding: 0.45em 0.6em; margin: 0 0.25em; line-height: 1; border-radius: 0.35em;\">\n",
       "    SINGAPORE - Far\n",
       "    <span style=\"font-size: 0.8em; font-weight: bold; line-height: 1; border-radius: 0.35em; vertical-align: middle; margin-left: 0.5rem\">ORG</span>\n",
       "</mark>\n",
       " away from \n",
       "<mark class=\"entity\" style=\"background: #feca74; padding: 0.45em 0.6em; margin: 0 0.25em; line-height: 1; border-radius: 0.35em;\">\n",
       "    Singapore\n",
       "    <span style=\"font-size: 0.8em; font-weight: bold; line-height: 1; border-radius: 0.35em; vertical-align: middle; margin-left: 0.5rem\">GPE</span>\n",
       "</mark>\n",
       ", there is a conflict brewing in eastern \n",
       "<mark class=\"entity\" style=\"background: #ff9561; padding: 0.45em 0.6em; margin: 0 0.25em; line-height: 1; border-radius: 0.35em;\">\n",
       "    Europe\n",
       "    <span style=\"font-size: 0.8em; font-weight: bold; line-height: 1; border-radius: 0.35em; vertical-align: middle; margin-left: 0.5rem\">LOC</span>\n",
       "</mark>\n",
       " that can make a bad situation worse in the global commodities markets and in turn cause problems here.\r",
       "</br>The stand-off between \n",
       "<mark class=\"entity\" style=\"background: #feca74; padding: 0.45em 0.6em; margin: 0 0.25em; line-height: 1; border-radius: 0.35em;\">\n",
       "    Russia\n",
       "    <span style=\"font-size: 0.8em; font-weight: bold; line-height: 1; border-radius: 0.35em; vertical-align: middle; margin-left: 0.5rem\">GPE</span>\n",
       "</mark>\n",
       " and the \n",
       "<mark class=\"entity\" style=\"background: #ff9561; padding: 0.45em 0.6em; margin: 0 0.25em; line-height: 1; border-radius: 0.35em;\">\n",
       "    West\n",
       "    <span style=\"font-size: 0.8em; font-weight: bold; line-height: 1; border-radius: 0.35em; vertical-align: middle; margin-left: 0.5rem\">LOC</span>\n",
       "</mark>\n",
       " over \n",
       "<mark class=\"entity\" style=\"background: #feca74; padding: 0.45em 0.6em; margin: 0 0.25em; line-height: 1; border-radius: 0.35em;\">\n",
       "    Ukraine\n",
       "    <span style=\"font-size: 0.8em; font-weight: bold; line-height: 1; border-radius: 0.35em; vertical-align: middle; margin-left: 0.5rem\">GPE</span>\n",
       "</mark>\n",
       " can add more volatility in energy and food prices, which are already in flux, and further boost inflation in \n",
       "<mark class=\"entity\" style=\"background: #feca74; padding: 0.45em 0.6em; margin: 0 0.25em; line-height: 1; border-radius: 0.35em;\">\n",
       "    Singapore\n",
       "    <span style=\"font-size: 0.8em; font-weight: bold; line-height: 1; border-radius: 0.35em; vertical-align: middle; margin-left: 0.5rem\">GPE</span>\n",
       "</mark>\n",
       " and elsewhere by adding to the supply constraints caused by the pandemic.</div></span>"
      ],
      "text/plain": [
       "<IPython.core.display.HTML object>"
      ]
     },
     "metadata": {},
     "output_type": "display_data"
    },
    {
     "name": "stdout",
     "output_type": "stream",
     "text": [
      "\n",
      "\n",
      "***************************END OF REPORT********************************\n"
     ]
    }
   ],
   "source": [
    "report_writer(row)"
   ]
  }
 ],
 "metadata": {
  "kernelspec": {
   "display_name": "Python 3",
   "language": "python",
   "name": "python3"
  },
  "language_info": {
   "codemirror_mode": {
    "name": "ipython",
    "version": 3
   },
   "file_extension": ".py",
   "mimetype": "text/x-python",
   "name": "python",
   "nbconvert_exporter": "python",
   "pygments_lexer": "ipython3",
   "version": "3.8.8"
  }
 },
 "nbformat": 4,
 "nbformat_minor": 5
}
