{
 "cells": [
  {
   "cell_type": "markdown",
   "id": "11ea7be1",
   "metadata": {},
   "source": [
    "snscrape\n",
    "\n",
    "Ref: https://github.com/JustAnotherArchivist/snscrape"
   ]
  },
  {
   "cell_type": "code",
   "execution_count": null,
   "id": "b5a5c8df",
   "metadata": {},
   "outputs": [],
   "source": [
    "import snscrape.modules.twitter as sntwitter\n",
    "import pandas as pd"
   ]
  },
  {
   "cell_type": "markdown",
   "id": "0fcc978c",
   "metadata": {},
   "source": [
    "Scraping a specific Twitter user’s tweets\n",
    "\n",
    "Let's use this handle: @KimKardashian\n",
    "\n",
    "Using the code, we can scrape 100 tweets from Twitter user @KimKardashian.\n",
    "We then pulled the DateTime, tweet id, text, and username attributes from the tweet objects."
   ]
  },
  {
   "cell_type": "code",
   "execution_count": null,
   "id": "9ab6fbee",
   "metadata": {},
   "outputs": [],
   "source": [
    "# Creating list to append tweet data \n",
    "tweets_list1 = []\n",
    "\n",
    "# Using TwitterSearchScraper to scrape data and append tweets to list\n",
    "handle = 'KimKardashian'\n",
    "\n",
    "# declare a username \n",
    "for i, tweet in enumerate(sntwitter.TwitterSearchScraper('from:' + handle).get_items()): \n",
    "    if i > 10: #number of tweets you want to scrape\n",
    "        break\n",
    "        \n",
    "    #declare the attributes to be returned\n",
    "    tweets_list1.append([tweet.date, tweet.id, tweet.content, tweet.user.username])\n",
    "    \n",
    "# Creating a dataframe from the tweets list above \n",
    "tweets_df1 = pd.DataFrame(tweets_list1, columns=['Datetime', 'Tweet Id', 'Text', 'Username'])"
   ]
  },
  {
   "cell_type": "code",
   "execution_count": null,
   "id": "fa55da47",
   "metadata": {},
   "outputs": [],
   "source": [
    "tweets_df1"
   ]
  },
  {
   "cell_type": "markdown",
   "id": "b5f72838",
   "metadata": {},
   "source": [
    "Scraping tweets from a text search query\n",
    "\n",
    "Using the code below, we are scraping 100 tweets between June 14, 2020, and August 31, 2021,\n",
    "with the keywords 'SSR Bollywood'.\n",
    "\n",
    "I then pulled attributes DateTime, tweet id, text, and username from the tweet objects."
   ]
  },
  {
   "cell_type": "code",
   "execution_count": null,
   "id": "6631aa0e",
   "metadata": {},
   "outputs": [],
   "source": [
    "# Creating list to append tweet data to\n",
    "tweets_list2 = []\n",
    "\n",
    "# search terms\n",
    "search_terms = 'SSR Bollywood'\n",
    "\n",
    "# Using TwitterSearchScraper to scrape data and append tweets to list\n",
    "for i, tweet in enumerate(sntwitter.TwitterSearchScraper(search_terms + ' since:2021-06-14 until:2021-08-31').get_items()):\n",
    "    if i > 100:\n",
    "        break\n",
    "    #declare the attributes to be returned\n",
    "    tweets_list2.append([tweet.date, tweet.id, tweet.content, tweet.user.username])\n",
    "\n",
    "# Creating a dataframe from the tweets list above\n",
    "tweets_df2 = pd.DataFrame(tweets_list2, columns=['Datetime', 'Tweet Id', 'Text', 'Username'])"
   ]
  },
  {
   "cell_type": "code",
   "execution_count": null,
   "id": "b78faf6b",
   "metadata": {},
   "outputs": [],
   "source": []
  },
  {
   "cell_type": "code",
   "execution_count": 3,
   "id": "cd5c46c6",
   "metadata": {},
   "outputs": [
    {
     "name": "stdout",
     "output_type": "stream",
     "text": [
      "1490142895046864896 2022-02-06 09:58:46 +0800 <hmetromy> #ipoh Seorang lelaki maut selepas tercampak ke dalam gaung sejurus motosikal ditunggangnya bertembung dengan sebuah kenderaan pelbagai guna (MPV) dalam kejadian di KM 29 Jalan Keramat Pulai- Cameroon Highlands, di sini, kelmarin.  https://t.co/i29ujHeReA\n",
      "1490142819608150016 2022-02-06 09:58:28 +0800 <hmetromy> #kotakinabalu Seramai 211 kanak-kanak atau mewakili 0.05 peratus daripada jumlah kanak-kanak berumur antara lima hingga 11 tahun sudah menerima suntikan dos pertama vaksin Covid-19 di Sabah.  https://t.co/QaIpKaLeMl\n",
      "1490141775964557317 2022-02-06 09:54:19 +0800 <hmetromy> #yaounde #bolatime Tuan rumah, Cameroon menamatkan kempen Piala Negara-Negara Afrika di tempat ketiga selepas bangkit melakar keputusan seri 3-3 dengan Burkina Faso pada masa sebenar sebelum meraih kemenangan 5-3 menerusi penentuan penalti, hari ini.  https://t.co/FB8i2JA7Rf\n",
      "1490131743764013061 2022-02-06 09:14:27 +0800 <hmetromy> #bangkok Pelancong yang berlepas dari Lapangan Terbang Suvarnabhumi, Thailand tidak dibenarkan membawa lebih 30 pelitup muka perubatan kecuali jika mereka mempunyai sijil dalam bidang itu.  https://t.co/I9zG61RKVW\n",
      "1490131498363932672 2022-02-06 09:13:29 +0800 <hmetromy> #london #bolatime Harry Kane hampir kembali kepada prestasi sebenar apabila meledak dua gol ketika membantu Tottenham Hotspur melangkah ke pusingan kelima Piala FA selepas menewaskan Brighton &amp; Hove Albion 3-1, hari ini.  https://t.co/OiwJRRnNMM\n",
      "1490129016472444929 2022-02-06 09:03:37 +0800 <hmetromy> #washington  Seorang seniman di Amerika Syarikat menjual token non-fungible (NFT) iaitu gambar tempat sampah dengan harga AS$252,000 (kira-kira RM1.05 juta).  https://t.co/LXQI4MfHcB\n",
      "1490128117209387008 2022-02-06 09:00:03 +0800 <hmetromy> #kualalumpur Menurutnya, peminat pokok spesies Monstera, Alocasia, Caladium dan Philodendron pastinya sedia maklum harga pokok berkenaan boleh mencecah nilai puluhan ribu ringgit.   https://t.co/3oXxsbjAvi\n",
      "1490127657094238208 2022-02-06 08:58:13 +0800 <hmetromy> #london  Satu keluarga dari Lincolnshire tertekan selepas mendapati jasad seorang individu dikebumikan di sebelah kubur ayah mereka yang sepatutnya dikhaskan untuk ibu mereka.  https://t.co/iNOThBnDGm\n",
      "1490125666230181895 2022-02-06 08:50:18 +0800 <hmetromy> #lima Presiden Peru, Pedro Castillo menyingkir Perdana Menteri, Hector Valer Pinto selepas baru tiga hari dilantik ke jawatan itu.  https://t.co/fDkl6O4XfF\n",
      "1490123074171244549 2022-02-06 08:40:00 +0800 <hmetromy> #kualalumpur Walaupun harga jagung dan soya adalah di peringkat paling rendah kini, tetapi kelemahan ringgit Malaysia (RM) menyebabkan secara keseluruhan, harga bahan ini di dalam RM meningkat kira-kira antara 15 hingga 30 peratus.  https://t.co/r5ZYEvEn2d\n",
      "1490122721355001858 2022-02-06 08:38:36 +0800 <hmetromy> #manchester #bolatime Manchester City bangkit daripada permulaan hambar dengan Riyad Mahrez meledak dua gol untuk menewaskan Fulham 4-1 pada pusingan keempat Piala FA di Stadium Etihad, hari ini.  https://t.co/mpbl6BB8P2\n",
      "1490119192120795138 2022-02-06 08:24:35 +0800 <hmetromy> #maghribi Selepas lima hari usaha menyelamatkan Rayan Oram, kanak-kanak lelaki berusia lima tahun yang terjauh ke dalam dalam perigi sedalam 32 meter, ia berakhir dengan tragedi apabila dia ditemukan sudah tidak bernyawa.  https://t.co/N1PBmhH0Ux\n",
      "1490118382657617921 2022-02-06 08:21:22 +0800 <hmetromy> #seoul Korea Selatan memperkenalkan pelitup muka baharu yang hanya melitupi hidung pemakainya sehingga menimbulkan sensasi di media sosial barat.  https://t.co/aiYFulUTQy\n",
      "1490115316839755780 2022-02-06 08:09:11 +0800 <hmetromy> #liverpool #bolatime Frank Lampard berkata beliau tidak akan melupakan sambutan yang diterima daripada penyokong Everton selepas menewaskan Brentford 4-1, hari ini untuk melangkah ke pusingan kelima Piala FA.  https://t.co/opTq6A439a\n",
      "1490113021330534400 2022-02-06 08:00:03 +0800 <hmetromy> Peluang menang wallpaper idaman anda!  Jawab Soalan Mudah dari 6 Feb hingga 26 Feb 2022 bagi peluang menyertai Peraduan Cabutan Bertuah Harian Metro. Khas buat Warga Selangor dan KL!  Dapatkan akhbar Harian Metro mulai 6 Feb  untuk maklumat lanjut. (Tertakluk pada Terma &amp; Syarat)  https://t.co/wkgRbD4OkJ\n",
      "1490098014110822402 2022-02-06 07:00:25 +0800 <hmetromy> Metro Ahad 6 Februari 2022. Dapatkan di kedai atau baca edisi e-Paper di  https://t.co/mz5kDQ3uRy  https://t.co/7aB5simxpj\n",
      "1489991960714780672 2022-02-05 23:59:00 +0800 <hmetromy> #wm Kebanyakan mahu lebih fokus untuk mengembangkan kerjaya dan menikmati zaman muda sebelum memiliki cahaya mata.  https://t.co/64JZkUqVq6\n",
      "1489984672171970569 2022-02-05 23:30:03 +0800 <hmetromy> #wm Harga barang keperluan di pasaran yang meningkat ini memberi tekanan kepada masyarakat yang kebanyakannya masih terkesan berikutan terjejas sumber pendapatan akibat pandemik.  https://t.co/sSshh3kwHz\n",
      "1489984195459883009 2022-02-05 23:28:09 +0800 <hmetromy> #bolatime #chelsea Chelsea hampir dimalukan kelab kerdil di pusingan keempat Piala FA apabila perlu bangkit selepas ketinggalan dan menjaringkan gol kemenangan di masa tambahan untuk membenam Plymouth Argyle 2-1 sebentar tadi.  https://t.co/FkOMbZPR5L\n",
      "1489983173794488326 2022-02-05 23:24:05 +0800 <hmetromy> #motogp #sepang Dua pelumba Aprilia Racing, Aleix Espargaro dan Maverick Vinales bagai memberi amaran awal kepada pelumba lain menjelang musim ini apabila masing-masing meraih kedudukan pertama dan kedua pada sesi Ujian Musim Sejuk 2022 di sini, hari ini.  https://t.co/1n1sDBP1Y3\n"
     ]
    }
   ],
   "source": [
    "import pandas as pd\n",
    "import twint\n",
    "import nest_asyncio\n",
    "nest_asyncio.apply()\n",
    "  \n",
    "t = twint.Config()\n",
    "\n",
    "# t.Username = 'POTUS'\n",
    "# t.Search = 'Potato'\n",
    "# t.Geo = \"1.290270,103.851959,15km\"\n",
    "t.Username = \"hmetromy\"\n",
    "\n",
    "t.Since=\"2022-01-01\"\n",
    "# t.Until=\"2021-09-11\"\n",
    "\n",
    "# t.Limit = 10 \n",
    "\n",
    "t.Lang = \"en\"\n",
    "    \n",
    "t.Filter_retweets = True \n",
    "\n",
    "t.Store_csv = True\n",
    "t.Output = \"potato_tweet.csv\"\n",
    "\n",
    "t.Pandas = True\n",
    "\n",
    "t.Custom[\"tweet\"] = [\"tweet\", \"username\", \"date\", \"time\", \"likes_count\"]\n",
    "\n",
    "twint.run.Search(t)"
   ]
  },
  {
   "cell_type": "code",
   "execution_count": null,
   "id": "010e54cf",
   "metadata": {},
   "outputs": [],
   "source": []
  }
 ],
 "metadata": {
  "kernelspec": {
   "display_name": "Python 3 (ipykernel)",
   "language": "python",
   "name": "python3"
  },
  "language_info": {
   "codemirror_mode": {
    "name": "ipython",
    "version": 3
   },
   "file_extension": ".py",
   "mimetype": "text/x-python",
   "name": "python",
   "nbconvert_exporter": "python",
   "pygments_lexer": "ipython3",
   "version": "3.8.8"
  }
 },
 "nbformat": 4,
 "nbformat_minor": 5
}
